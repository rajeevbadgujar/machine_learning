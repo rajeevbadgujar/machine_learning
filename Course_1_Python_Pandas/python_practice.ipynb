{
 "cells": [
  {
   "cell_type": "code",
   "execution_count": 2,
   "id": "de3b5445",
   "metadata": {},
   "outputs": [
    {
     "name": "stdout",
     "output_type": "stream",
     "text": [
      "[76, 54, 18, 9, 7, 6, 1]\n"
     ]
    }
   ],
   "source": [
    "l = [1, 7, 6, 9, 76, 54, 18]\n",
    "l.sort(reverse=True)\n",
    "print(l)"
   ]
  },
  {
   "cell_type": "code",
   "execution_count": 15,
   "id": "55ec7011",
   "metadata": {},
   "outputs": [
    {
     "name": "stdout",
     "output_type": "stream",
     "text": [
      "[76, 54, 18, 9, 7, 6, 1]\n"
     ]
    }
   ],
   "source": [
    "l = [1, 7, 6, 9, 76, 54, 18]\n",
    "size = len(l)\n",
    "for i in range(size):\n",
    "    for j in range(i+1, size):\n",
    "        if l[i] < l[j]:\n",
    "            temp = l[i]\n",
    "            l[i] = l[j]\n",
    "            l[j] = temp\n",
    "print(l)"
   ]
  },
  {
   "cell_type": "code",
   "execution_count": 36,
   "id": "231b60b1",
   "metadata": {},
   "outputs": [
    {
     "ename": "SyntaxError",
     "evalue": "invalid syntax (<ipython-input-36-325a3cdbda76>, line 2)",
     "output_type": "error",
     "traceback": [
      "\u001b[0;36m  File \u001b[0;32m\"<ipython-input-36-325a3cdbda76>\"\u001b[0;36m, line \u001b[0;32m2\u001b[0m\n\u001b[0;31m    ll = [k for i in range(size) for j in range(i+1, size) i if l[i] > l[j]]\u001b[0m\n\u001b[0m                                                           ^\u001b[0m\n\u001b[0;31mSyntaxError\u001b[0m\u001b[0;31m:\u001b[0m invalid syntax\n"
     ]
    }
   ],
   "source": [
    "l = [1, 7, 6, 9, 76, 54, 18]\n",
    "ll = [k for i in range(size) for j in range(i+1, size) i if l[i] > l[j]]\n",
    "print(ll)"
   ]
  }
 ],
 "metadata": {
  "kernelspec": {
   "display_name": "Python 3 (ipykernel)",
   "language": "python",
   "name": "python3"
  },
  "language_info": {
   "codemirror_mode": {
    "name": "ipython",
    "version": 3
   },
   "file_extension": ".py",
   "mimetype": "text/x-python",
   "name": "python",
   "nbconvert_exporter": "python",
   "pygments_lexer": "ipython3",
   "version": "3.8.10"
  }
 },
 "nbformat": 4,
 "nbformat_minor": 5
}
