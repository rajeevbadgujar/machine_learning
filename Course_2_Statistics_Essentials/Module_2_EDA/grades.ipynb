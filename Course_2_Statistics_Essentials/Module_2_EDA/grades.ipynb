{
 "cells": [
  {
   "cell_type": "code",
   "execution_count": 1,
   "id": "b707d3a6",
   "metadata": {},
   "outputs": [],
   "source": [
    "import numpy as np\n",
    "import pandas as pd\n",
    "import seaborn as sns"
   ]
  },
  {
   "cell_type": "code",
   "execution_count": 2,
   "id": "60c3ee05",
   "metadata": {},
   "outputs": [],
   "source": [
    "grades = pd.read_csv('./data/grades.csv')"
   ]
  },
  {
   "cell_type": "code",
   "execution_count": 3,
   "id": "46e652c2",
   "metadata": {},
   "outputs": [
    {
     "data": {
      "text/html": [
       "<div>\n",
       "<style scoped>\n",
       "    .dataframe tbody tr th:only-of-type {\n",
       "        vertical-align: middle;\n",
       "    }\n",
       "\n",
       "    .dataframe tbody tr th {\n",
       "        vertical-align: top;\n",
       "    }\n",
       "\n",
       "    .dataframe thead th {\n",
       "        text-align: right;\n",
       "    }\n",
       "</style>\n",
       "<table border=\"1\" class=\"dataframe\">\n",
       "  <thead>\n",
       "    <tr style=\"text-align: right;\">\n",
       "      <th></th>\n",
       "      <th>submission</th>\n",
       "      <th>submit_time</th>\n",
       "    </tr>\n",
       "  </thead>\n",
       "  <tbody>\n",
       "    <tr>\n",
       "      <th>0</th>\n",
       "      <td>https://ckd.upgrad.com/UpGrad/73ba5189-94fd-44...</td>\n",
       "      <td>01/03/17-20:28:52</td>\n",
       "    </tr>\n",
       "    <tr>\n",
       "      <th>1</th>\n",
       "      <td>https://ckd.upgrad.com/UpGrad/185242ff-7508-4c...</td>\n",
       "      <td>01/03/17-20:18:21</td>\n",
       "    </tr>\n",
       "    <tr>\n",
       "      <th>2</th>\n",
       "      <td>https://ckd.upgrad.com/UpGrad/a353d129-c100-43...</td>\n",
       "      <td>01/03/17-22:37:08</td>\n",
       "    </tr>\n",
       "    <tr>\n",
       "      <th>3</th>\n",
       "      <td>https://ckd.upgrad.com/UpGrad/002fc912-faa1-49...</td>\n",
       "      <td>01/02/17-21:43:19</td>\n",
       "    </tr>\n",
       "    <tr>\n",
       "      <th>4</th>\n",
       "      <td>https://ckd.upgrad.com/UpGrad/25cbc4a4-6d49-4f...</td>\n",
       "      <td>01/03/17-15:27:49</td>\n",
       "    </tr>\n",
       "    <tr>\n",
       "      <th>...</th>\n",
       "      <td>...</td>\n",
       "      <td>...</td>\n",
       "    </tr>\n",
       "    <tr>\n",
       "      <th>193</th>\n",
       "      <td>https://ckd.upgrad.com/UpGrad/ba485323-bba6-4b...</td>\n",
       "      <td>01/03/17-22:43:12</td>\n",
       "    </tr>\n",
       "    <tr>\n",
       "      <th>194</th>\n",
       "      <td>https://ckd.upgrad.com/UpGrad/a65694d0-339b-44...</td>\n",
       "      <td>01/09/17-23:59:34</td>\n",
       "    </tr>\n",
       "    <tr>\n",
       "      <th>195</th>\n",
       "      <td>https://ckd.upgrad.com/UpGrad/c3876ddf-2b2f-4a...</td>\n",
       "      <td>12/19/16-21:44:13</td>\n",
       "    </tr>\n",
       "    <tr>\n",
       "      <th>196</th>\n",
       "      <td>https://ckd.upgrad.com/UpGrad/2b9732ad-0985-4a...</td>\n",
       "      <td>01/09/17-23:23:06</td>\n",
       "    </tr>\n",
       "    <tr>\n",
       "      <th>197</th>\n",
       "      <td>https://ckd.upgrad.com/UpGrad/21da378c-75a4-4a...</td>\n",
       "      <td>01/03/17-22:32:38</td>\n",
       "    </tr>\n",
       "  </tbody>\n",
       "</table>\n",
       "<p>198 rows × 2 columns</p>\n",
       "</div>"
      ],
      "text/plain": [
       "                                            submission        submit_time\n",
       "0    https://ckd.upgrad.com/UpGrad/73ba5189-94fd-44...  01/03/17-20:28:52\n",
       "1    https://ckd.upgrad.com/UpGrad/185242ff-7508-4c...  01/03/17-20:18:21\n",
       "2    https://ckd.upgrad.com/UpGrad/a353d129-c100-43...  01/03/17-22:37:08\n",
       "3    https://ckd.upgrad.com/UpGrad/002fc912-faa1-49...  01/02/17-21:43:19\n",
       "4    https://ckd.upgrad.com/UpGrad/25cbc4a4-6d49-4f...  01/03/17-15:27:49\n",
       "..                                                 ...                ...\n",
       "193  https://ckd.upgrad.com/UpGrad/ba485323-bba6-4b...  01/03/17-22:43:12\n",
       "194  https://ckd.upgrad.com/UpGrad/a65694d0-339b-44...  01/09/17-23:59:34\n",
       "195  https://ckd.upgrad.com/UpGrad/c3876ddf-2b2f-4a...  12/19/16-21:44:13\n",
       "196  https://ckd.upgrad.com/UpGrad/2b9732ad-0985-4a...  01/09/17-23:23:06\n",
       "197  https://ckd.upgrad.com/UpGrad/21da378c-75a4-4a...  01/03/17-22:32:38\n",
       "\n",
       "[198 rows x 2 columns]"
      ]
     },
     "execution_count": 3,
     "metadata": {},
     "output_type": "execute_result"
    }
   ],
   "source": [
    "grades"
   ]
  },
  {
   "cell_type": "code",
   "execution_count": 4,
   "id": "330d0eb4",
   "metadata": {},
   "outputs": [],
   "source": [
    "grades['date_time'] = pd.to_datetime(grades.submit_time)"
   ]
  },
  {
   "cell_type": "code",
   "execution_count": 5,
   "id": "9c4ebb31",
   "metadata": {},
   "outputs": [],
   "source": [
    "grades['day'] = grades.date_time.apply(lambda x: x.day)\n",
    "grades['month'] = grades.date_time.apply(lambda x: x.month)\n",
    "grades['year'] = grades.date_time.apply(lambda x: x.year)\n"
   ]
  },
  {
   "cell_type": "code",
   "execution_count": 6,
   "id": "5a233d9c",
   "metadata": {
    "scrolled": false
   },
   "outputs": [
    {
     "data": {
      "text/html": [
       "<div>\n",
       "<style scoped>\n",
       "    .dataframe tbody tr th:only-of-type {\n",
       "        vertical-align: middle;\n",
       "    }\n",
       "\n",
       "    .dataframe tbody tr th {\n",
       "        vertical-align: top;\n",
       "    }\n",
       "\n",
       "    .dataframe thead th {\n",
       "        text-align: right;\n",
       "    }\n",
       "</style>\n",
       "<table border=\"1\" class=\"dataframe\">\n",
       "  <thead>\n",
       "    <tr style=\"text-align: right;\">\n",
       "      <th></th>\n",
       "      <th>submission</th>\n",
       "      <th>submit_time</th>\n",
       "      <th>date_time</th>\n",
       "      <th>day</th>\n",
       "      <th>month</th>\n",
       "      <th>year</th>\n",
       "    </tr>\n",
       "  </thead>\n",
       "  <tbody>\n",
       "    <tr>\n",
       "      <th>0</th>\n",
       "      <td>https://ckd.upgrad.com/UpGrad/73ba5189-94fd-44...</td>\n",
       "      <td>01/03/17-20:28:52</td>\n",
       "      <td>2017-01-03 20:28:52</td>\n",
       "      <td>3</td>\n",
       "      <td>1</td>\n",
       "      <td>2017</td>\n",
       "    </tr>\n",
       "    <tr>\n",
       "      <th>1</th>\n",
       "      <td>https://ckd.upgrad.com/UpGrad/185242ff-7508-4c...</td>\n",
       "      <td>01/03/17-20:18:21</td>\n",
       "      <td>2017-01-03 20:18:21</td>\n",
       "      <td>3</td>\n",
       "      <td>1</td>\n",
       "      <td>2017</td>\n",
       "    </tr>\n",
       "    <tr>\n",
       "      <th>2</th>\n",
       "      <td>https://ckd.upgrad.com/UpGrad/a353d129-c100-43...</td>\n",
       "      <td>01/03/17-22:37:08</td>\n",
       "      <td>2017-01-03 22:37:08</td>\n",
       "      <td>3</td>\n",
       "      <td>1</td>\n",
       "      <td>2017</td>\n",
       "    </tr>\n",
       "    <tr>\n",
       "      <th>3</th>\n",
       "      <td>https://ckd.upgrad.com/UpGrad/002fc912-faa1-49...</td>\n",
       "      <td>01/02/17-21:43:19</td>\n",
       "      <td>2017-01-02 21:43:19</td>\n",
       "      <td>2</td>\n",
       "      <td>1</td>\n",
       "      <td>2017</td>\n",
       "    </tr>\n",
       "    <tr>\n",
       "      <th>4</th>\n",
       "      <td>https://ckd.upgrad.com/UpGrad/25cbc4a4-6d49-4f...</td>\n",
       "      <td>01/03/17-15:27:49</td>\n",
       "      <td>2017-01-03 15:27:49</td>\n",
       "      <td>3</td>\n",
       "      <td>1</td>\n",
       "      <td>2017</td>\n",
       "    </tr>\n",
       "    <tr>\n",
       "      <th>...</th>\n",
       "      <td>...</td>\n",
       "      <td>...</td>\n",
       "      <td>...</td>\n",
       "      <td>...</td>\n",
       "      <td>...</td>\n",
       "      <td>...</td>\n",
       "    </tr>\n",
       "    <tr>\n",
       "      <th>193</th>\n",
       "      <td>https://ckd.upgrad.com/UpGrad/ba485323-bba6-4b...</td>\n",
       "      <td>01/03/17-22:43:12</td>\n",
       "      <td>2017-01-03 22:43:12</td>\n",
       "      <td>3</td>\n",
       "      <td>1</td>\n",
       "      <td>2017</td>\n",
       "    </tr>\n",
       "    <tr>\n",
       "      <th>194</th>\n",
       "      <td>https://ckd.upgrad.com/UpGrad/a65694d0-339b-44...</td>\n",
       "      <td>01/09/17-23:59:34</td>\n",
       "      <td>2017-01-09 23:59:34</td>\n",
       "      <td>9</td>\n",
       "      <td>1</td>\n",
       "      <td>2017</td>\n",
       "    </tr>\n",
       "    <tr>\n",
       "      <th>195</th>\n",
       "      <td>https://ckd.upgrad.com/UpGrad/c3876ddf-2b2f-4a...</td>\n",
       "      <td>12/19/16-21:44:13</td>\n",
       "      <td>2016-12-19 21:44:13</td>\n",
       "      <td>19</td>\n",
       "      <td>12</td>\n",
       "      <td>2016</td>\n",
       "    </tr>\n",
       "    <tr>\n",
       "      <th>196</th>\n",
       "      <td>https://ckd.upgrad.com/UpGrad/2b9732ad-0985-4a...</td>\n",
       "      <td>01/09/17-23:23:06</td>\n",
       "      <td>2017-01-09 23:23:06</td>\n",
       "      <td>9</td>\n",
       "      <td>1</td>\n",
       "      <td>2017</td>\n",
       "    </tr>\n",
       "    <tr>\n",
       "      <th>197</th>\n",
       "      <td>https://ckd.upgrad.com/UpGrad/21da378c-75a4-4a...</td>\n",
       "      <td>01/03/17-22:32:38</td>\n",
       "      <td>2017-01-03 22:32:38</td>\n",
       "      <td>3</td>\n",
       "      <td>1</td>\n",
       "      <td>2017</td>\n",
       "    </tr>\n",
       "  </tbody>\n",
       "</table>\n",
       "<p>198 rows × 6 columns</p>\n",
       "</div>"
      ],
      "text/plain": [
       "                                            submission        submit_time  \\\n",
       "0    https://ckd.upgrad.com/UpGrad/73ba5189-94fd-44...  01/03/17-20:28:52   \n",
       "1    https://ckd.upgrad.com/UpGrad/185242ff-7508-4c...  01/03/17-20:18:21   \n",
       "2    https://ckd.upgrad.com/UpGrad/a353d129-c100-43...  01/03/17-22:37:08   \n",
       "3    https://ckd.upgrad.com/UpGrad/002fc912-faa1-49...  01/02/17-21:43:19   \n",
       "4    https://ckd.upgrad.com/UpGrad/25cbc4a4-6d49-4f...  01/03/17-15:27:49   \n",
       "..                                                 ...                ...   \n",
       "193  https://ckd.upgrad.com/UpGrad/ba485323-bba6-4b...  01/03/17-22:43:12   \n",
       "194  https://ckd.upgrad.com/UpGrad/a65694d0-339b-44...  01/09/17-23:59:34   \n",
       "195  https://ckd.upgrad.com/UpGrad/c3876ddf-2b2f-4a...  12/19/16-21:44:13   \n",
       "196  https://ckd.upgrad.com/UpGrad/2b9732ad-0985-4a...  01/09/17-23:23:06   \n",
       "197  https://ckd.upgrad.com/UpGrad/21da378c-75a4-4a...  01/03/17-22:32:38   \n",
       "\n",
       "              date_time  day  month  year  \n",
       "0   2017-01-03 20:28:52    3      1  2017  \n",
       "1   2017-01-03 20:18:21    3      1  2017  \n",
       "2   2017-01-03 22:37:08    3      1  2017  \n",
       "3   2017-01-02 21:43:19    2      1  2017  \n",
       "4   2017-01-03 15:27:49    3      1  2017  \n",
       "..                  ...  ...    ...   ...  \n",
       "193 2017-01-03 22:43:12    3      1  2017  \n",
       "194 2017-01-09 23:59:34    9      1  2017  \n",
       "195 2016-12-19 21:44:13   19     12  2016  \n",
       "196 2017-01-09 23:23:06    9      1  2017  \n",
       "197 2017-01-03 22:32:38    3      1  2017  \n",
       "\n",
       "[198 rows x 6 columns]"
      ]
     },
     "execution_count": 6,
     "metadata": {},
     "output_type": "execute_result"
    }
   ],
   "source": [
    "grades"
   ]
  },
  {
   "cell_type": "code",
   "execution_count": 7,
   "id": "caf1ae7e",
   "metadata": {},
   "outputs": [],
   "source": [
    "grades['hour'] = grades.date_time.apply(lambda x: x.hour)\n",
    "grades['minute'] = grades.date_time.apply(lambda x: x.minute)"
   ]
  },
  {
   "cell_type": "code",
   "execution_count": 8,
   "id": "e1a31547",
   "metadata": {
    "scrolled": false
   },
   "outputs": [
    {
     "data": {
      "text/html": [
       "<div>\n",
       "<style scoped>\n",
       "    .dataframe tbody tr th:only-of-type {\n",
       "        vertical-align: middle;\n",
       "    }\n",
       "\n",
       "    .dataframe tbody tr th {\n",
       "        vertical-align: top;\n",
       "    }\n",
       "\n",
       "    .dataframe thead th {\n",
       "        text-align: right;\n",
       "    }\n",
       "</style>\n",
       "<table border=\"1\" class=\"dataframe\">\n",
       "  <thead>\n",
       "    <tr style=\"text-align: right;\">\n",
       "      <th></th>\n",
       "      <th>submission</th>\n",
       "      <th>submit_time</th>\n",
       "      <th>date_time</th>\n",
       "      <th>day</th>\n",
       "      <th>month</th>\n",
       "      <th>year</th>\n",
       "      <th>hour</th>\n",
       "      <th>minute</th>\n",
       "    </tr>\n",
       "  </thead>\n",
       "  <tbody>\n",
       "    <tr>\n",
       "      <th>0</th>\n",
       "      <td>https://ckd.upgrad.com/UpGrad/73ba5189-94fd-44...</td>\n",
       "      <td>01/03/17-20:28:52</td>\n",
       "      <td>2017-01-03 20:28:52</td>\n",
       "      <td>3</td>\n",
       "      <td>1</td>\n",
       "      <td>2017</td>\n",
       "      <td>20</td>\n",
       "      <td>28</td>\n",
       "    </tr>\n",
       "    <tr>\n",
       "      <th>1</th>\n",
       "      <td>https://ckd.upgrad.com/UpGrad/185242ff-7508-4c...</td>\n",
       "      <td>01/03/17-20:18:21</td>\n",
       "      <td>2017-01-03 20:18:21</td>\n",
       "      <td>3</td>\n",
       "      <td>1</td>\n",
       "      <td>2017</td>\n",
       "      <td>20</td>\n",
       "      <td>18</td>\n",
       "    </tr>\n",
       "    <tr>\n",
       "      <th>2</th>\n",
       "      <td>https://ckd.upgrad.com/UpGrad/a353d129-c100-43...</td>\n",
       "      <td>01/03/17-22:37:08</td>\n",
       "      <td>2017-01-03 22:37:08</td>\n",
       "      <td>3</td>\n",
       "      <td>1</td>\n",
       "      <td>2017</td>\n",
       "      <td>22</td>\n",
       "      <td>37</td>\n",
       "    </tr>\n",
       "    <tr>\n",
       "      <th>3</th>\n",
       "      <td>https://ckd.upgrad.com/UpGrad/002fc912-faa1-49...</td>\n",
       "      <td>01/02/17-21:43:19</td>\n",
       "      <td>2017-01-02 21:43:19</td>\n",
       "      <td>2</td>\n",
       "      <td>1</td>\n",
       "      <td>2017</td>\n",
       "      <td>21</td>\n",
       "      <td>43</td>\n",
       "    </tr>\n",
       "    <tr>\n",
       "      <th>4</th>\n",
       "      <td>https://ckd.upgrad.com/UpGrad/25cbc4a4-6d49-4f...</td>\n",
       "      <td>01/03/17-15:27:49</td>\n",
       "      <td>2017-01-03 15:27:49</td>\n",
       "      <td>3</td>\n",
       "      <td>1</td>\n",
       "      <td>2017</td>\n",
       "      <td>15</td>\n",
       "      <td>27</td>\n",
       "    </tr>\n",
       "    <tr>\n",
       "      <th>...</th>\n",
       "      <td>...</td>\n",
       "      <td>...</td>\n",
       "      <td>...</td>\n",
       "      <td>...</td>\n",
       "      <td>...</td>\n",
       "      <td>...</td>\n",
       "      <td>...</td>\n",
       "      <td>...</td>\n",
       "    </tr>\n",
       "    <tr>\n",
       "      <th>193</th>\n",
       "      <td>https://ckd.upgrad.com/UpGrad/ba485323-bba6-4b...</td>\n",
       "      <td>01/03/17-22:43:12</td>\n",
       "      <td>2017-01-03 22:43:12</td>\n",
       "      <td>3</td>\n",
       "      <td>1</td>\n",
       "      <td>2017</td>\n",
       "      <td>22</td>\n",
       "      <td>43</td>\n",
       "    </tr>\n",
       "    <tr>\n",
       "      <th>194</th>\n",
       "      <td>https://ckd.upgrad.com/UpGrad/a65694d0-339b-44...</td>\n",
       "      <td>01/09/17-23:59:34</td>\n",
       "      <td>2017-01-09 23:59:34</td>\n",
       "      <td>9</td>\n",
       "      <td>1</td>\n",
       "      <td>2017</td>\n",
       "      <td>23</td>\n",
       "      <td>59</td>\n",
       "    </tr>\n",
       "    <tr>\n",
       "      <th>195</th>\n",
       "      <td>https://ckd.upgrad.com/UpGrad/c3876ddf-2b2f-4a...</td>\n",
       "      <td>12/19/16-21:44:13</td>\n",
       "      <td>2016-12-19 21:44:13</td>\n",
       "      <td>19</td>\n",
       "      <td>12</td>\n",
       "      <td>2016</td>\n",
       "      <td>21</td>\n",
       "      <td>44</td>\n",
       "    </tr>\n",
       "    <tr>\n",
       "      <th>196</th>\n",
       "      <td>https://ckd.upgrad.com/UpGrad/2b9732ad-0985-4a...</td>\n",
       "      <td>01/09/17-23:23:06</td>\n",
       "      <td>2017-01-09 23:23:06</td>\n",
       "      <td>9</td>\n",
       "      <td>1</td>\n",
       "      <td>2017</td>\n",
       "      <td>23</td>\n",
       "      <td>23</td>\n",
       "    </tr>\n",
       "    <tr>\n",
       "      <th>197</th>\n",
       "      <td>https://ckd.upgrad.com/UpGrad/21da378c-75a4-4a...</td>\n",
       "      <td>01/03/17-22:32:38</td>\n",
       "      <td>2017-01-03 22:32:38</td>\n",
       "      <td>3</td>\n",
       "      <td>1</td>\n",
       "      <td>2017</td>\n",
       "      <td>22</td>\n",
       "      <td>32</td>\n",
       "    </tr>\n",
       "  </tbody>\n",
       "</table>\n",
       "<p>198 rows × 8 columns</p>\n",
       "</div>"
      ],
      "text/plain": [
       "                                            submission        submit_time  \\\n",
       "0    https://ckd.upgrad.com/UpGrad/73ba5189-94fd-44...  01/03/17-20:28:52   \n",
       "1    https://ckd.upgrad.com/UpGrad/185242ff-7508-4c...  01/03/17-20:18:21   \n",
       "2    https://ckd.upgrad.com/UpGrad/a353d129-c100-43...  01/03/17-22:37:08   \n",
       "3    https://ckd.upgrad.com/UpGrad/002fc912-faa1-49...  01/02/17-21:43:19   \n",
       "4    https://ckd.upgrad.com/UpGrad/25cbc4a4-6d49-4f...  01/03/17-15:27:49   \n",
       "..                                                 ...                ...   \n",
       "193  https://ckd.upgrad.com/UpGrad/ba485323-bba6-4b...  01/03/17-22:43:12   \n",
       "194  https://ckd.upgrad.com/UpGrad/a65694d0-339b-44...  01/09/17-23:59:34   \n",
       "195  https://ckd.upgrad.com/UpGrad/c3876ddf-2b2f-4a...  12/19/16-21:44:13   \n",
       "196  https://ckd.upgrad.com/UpGrad/2b9732ad-0985-4a...  01/09/17-23:23:06   \n",
       "197  https://ckd.upgrad.com/UpGrad/21da378c-75a4-4a...  01/03/17-22:32:38   \n",
       "\n",
       "              date_time  day  month  year  hour  minute  \n",
       "0   2017-01-03 20:28:52    3      1  2017    20      28  \n",
       "1   2017-01-03 20:18:21    3      1  2017    20      18  \n",
       "2   2017-01-03 22:37:08    3      1  2017    22      37  \n",
       "3   2017-01-02 21:43:19    2      1  2017    21      43  \n",
       "4   2017-01-03 15:27:49    3      1  2017    15      27  \n",
       "..                  ...  ...    ...   ...   ...     ...  \n",
       "193 2017-01-03 22:43:12    3      1  2017    22      43  \n",
       "194 2017-01-09 23:59:34    9      1  2017    23      59  \n",
       "195 2016-12-19 21:44:13   19     12  2016    21      44  \n",
       "196 2017-01-09 23:23:06    9      1  2017    23      23  \n",
       "197 2017-01-03 22:32:38    3      1  2017    22      32  \n",
       "\n",
       "[198 rows x 8 columns]"
      ]
     },
     "execution_count": 8,
     "metadata": {},
     "output_type": "execute_result"
    }
   ],
   "source": [
    "grades"
   ]
  },
  {
   "cell_type": "code",
   "execution_count": 9,
   "id": "fabd3369",
   "metadata": {
    "scrolled": true
   },
   "outputs": [
    {
     "data": {
      "text/plain": [
       "3     121\n",
       "9      21\n",
       "2      14\n",
       "4      12\n",
       "1       6\n",
       "30      6\n",
       "8       3\n",
       "10      3\n",
       "7       2\n",
       "19      2\n",
       "28      2\n",
       "29      2\n",
       "6       1\n",
       "17      1\n",
       "21      1\n",
       "31      1\n",
       "Name: day, dtype: int64"
      ]
     },
     "execution_count": 9,
     "metadata": {},
     "output_type": "execute_result"
    }
   ],
   "source": [
    "grades.day.value_counts()"
   ]
  },
  {
   "cell_type": "code",
   "execution_count": 20,
   "id": "f007c31d",
   "metadata": {},
   "outputs": [
    {
     "data": {
      "text/plain": [
       "'https://ckd.upgrad.com/UpGrad/73ba5189-94fd-44aa-88d3-6b36aaa69b02/DDA1610095.zip'"
      ]
     },
     "execution_count": 20,
     "metadata": {},
     "output_type": "execute_result"
    }
   ],
   "source": [
    "grades.submission[0]"
   ]
  },
  {
   "cell_type": "code",
   "execution_count": 10,
   "id": "6c16deb1",
   "metadata": {},
   "outputs": [],
   "source": [
    "format_func = lambda x: x[x.rindex('.')+1:]"
   ]
  },
  {
   "cell_type": "code",
   "execution_count": 30,
   "id": "6c06133e",
   "metadata": {},
   "outputs": [
    {
     "data": {
      "text/plain": [
       "'zip'"
      ]
     },
     "execution_count": 30,
     "metadata": {},
     "output_type": "execute_result"
    }
   ],
   "source": [
    "format_func(\"www.abc.com/sub.zip\")"
   ]
  },
  {
   "cell_type": "code",
   "execution_count": 11,
   "id": "c9d17602",
   "metadata": {},
   "outputs": [],
   "source": [
    "grades['format'] = grades.submission.apply(format_func)"
   ]
  },
  {
   "cell_type": "code",
   "execution_count": 12,
   "id": "6d32c997",
   "metadata": {
    "scrolled": true
   },
   "outputs": [
    {
     "data": {
      "text/html": [
       "<div>\n",
       "<style scoped>\n",
       "    .dataframe tbody tr th:only-of-type {\n",
       "        vertical-align: middle;\n",
       "    }\n",
       "\n",
       "    .dataframe tbody tr th {\n",
       "        vertical-align: top;\n",
       "    }\n",
       "\n",
       "    .dataframe thead th {\n",
       "        text-align: right;\n",
       "    }\n",
       "</style>\n",
       "<table border=\"1\" class=\"dataframe\">\n",
       "  <thead>\n",
       "    <tr style=\"text-align: right;\">\n",
       "      <th></th>\n",
       "      <th>submission</th>\n",
       "      <th>submit_time</th>\n",
       "      <th>date_time</th>\n",
       "      <th>day</th>\n",
       "      <th>month</th>\n",
       "      <th>year</th>\n",
       "      <th>hour</th>\n",
       "      <th>minute</th>\n",
       "      <th>format</th>\n",
       "    </tr>\n",
       "  </thead>\n",
       "  <tbody>\n",
       "    <tr>\n",
       "      <th>0</th>\n",
       "      <td>https://ckd.upgrad.com/UpGrad/73ba5189-94fd-44...</td>\n",
       "      <td>01/03/17-20:28:52</td>\n",
       "      <td>2017-01-03 20:28:52</td>\n",
       "      <td>3</td>\n",
       "      <td>1</td>\n",
       "      <td>2017</td>\n",
       "      <td>20</td>\n",
       "      <td>28</td>\n",
       "      <td>zip</td>\n",
       "    </tr>\n",
       "    <tr>\n",
       "      <th>1</th>\n",
       "      <td>https://ckd.upgrad.com/UpGrad/185242ff-7508-4c...</td>\n",
       "      <td>01/03/17-20:18:21</td>\n",
       "      <td>2017-01-03 20:18:21</td>\n",
       "      <td>3</td>\n",
       "      <td>1</td>\n",
       "      <td>2017</td>\n",
       "      <td>20</td>\n",
       "      <td>18</td>\n",
       "      <td>zip</td>\n",
       "    </tr>\n",
       "    <tr>\n",
       "      <th>2</th>\n",
       "      <td>https://ckd.upgrad.com/UpGrad/a353d129-c100-43...</td>\n",
       "      <td>01/03/17-22:37:08</td>\n",
       "      <td>2017-01-03 22:37:08</td>\n",
       "      <td>3</td>\n",
       "      <td>1</td>\n",
       "      <td>2017</td>\n",
       "      <td>22</td>\n",
       "      <td>37</td>\n",
       "      <td>zip</td>\n",
       "    </tr>\n",
       "    <tr>\n",
       "      <th>3</th>\n",
       "      <td>https://ckd.upgrad.com/UpGrad/002fc912-faa1-49...</td>\n",
       "      <td>01/02/17-21:43:19</td>\n",
       "      <td>2017-01-02 21:43:19</td>\n",
       "      <td>2</td>\n",
       "      <td>1</td>\n",
       "      <td>2017</td>\n",
       "      <td>21</td>\n",
       "      <td>43</td>\n",
       "      <td>zip</td>\n",
       "    </tr>\n",
       "    <tr>\n",
       "      <th>4</th>\n",
       "      <td>https://ckd.upgrad.com/UpGrad/25cbc4a4-6d49-4f...</td>\n",
       "      <td>01/03/17-15:27:49</td>\n",
       "      <td>2017-01-03 15:27:49</td>\n",
       "      <td>3</td>\n",
       "      <td>1</td>\n",
       "      <td>2017</td>\n",
       "      <td>15</td>\n",
       "      <td>27</td>\n",
       "      <td>zip</td>\n",
       "    </tr>\n",
       "    <tr>\n",
       "      <th>...</th>\n",
       "      <td>...</td>\n",
       "      <td>...</td>\n",
       "      <td>...</td>\n",
       "      <td>...</td>\n",
       "      <td>...</td>\n",
       "      <td>...</td>\n",
       "      <td>...</td>\n",
       "      <td>...</td>\n",
       "      <td>...</td>\n",
       "    </tr>\n",
       "    <tr>\n",
       "      <th>193</th>\n",
       "      <td>https://ckd.upgrad.com/UpGrad/ba485323-bba6-4b...</td>\n",
       "      <td>01/03/17-22:43:12</td>\n",
       "      <td>2017-01-03 22:43:12</td>\n",
       "      <td>3</td>\n",
       "      <td>1</td>\n",
       "      <td>2017</td>\n",
       "      <td>22</td>\n",
       "      <td>43</td>\n",
       "      <td>zip</td>\n",
       "    </tr>\n",
       "    <tr>\n",
       "      <th>194</th>\n",
       "      <td>https://ckd.upgrad.com/UpGrad/a65694d0-339b-44...</td>\n",
       "      <td>01/09/17-23:59:34</td>\n",
       "      <td>2017-01-09 23:59:34</td>\n",
       "      <td>9</td>\n",
       "      <td>1</td>\n",
       "      <td>2017</td>\n",
       "      <td>23</td>\n",
       "      <td>59</td>\n",
       "      <td>zip</td>\n",
       "    </tr>\n",
       "    <tr>\n",
       "      <th>195</th>\n",
       "      <td>https://ckd.upgrad.com/UpGrad/c3876ddf-2b2f-4a...</td>\n",
       "      <td>12/19/16-21:44:13</td>\n",
       "      <td>2016-12-19 21:44:13</td>\n",
       "      <td>19</td>\n",
       "      <td>12</td>\n",
       "      <td>2016</td>\n",
       "      <td>21</td>\n",
       "      <td>44</td>\n",
       "      <td>zip</td>\n",
       "    </tr>\n",
       "    <tr>\n",
       "      <th>196</th>\n",
       "      <td>https://ckd.upgrad.com/UpGrad/2b9732ad-0985-4a...</td>\n",
       "      <td>01/09/17-23:23:06</td>\n",
       "      <td>2017-01-09 23:23:06</td>\n",
       "      <td>9</td>\n",
       "      <td>1</td>\n",
       "      <td>2017</td>\n",
       "      <td>23</td>\n",
       "      <td>23</td>\n",
       "      <td>R</td>\n",
       "    </tr>\n",
       "    <tr>\n",
       "      <th>197</th>\n",
       "      <td>https://ckd.upgrad.com/UpGrad/21da378c-75a4-4a...</td>\n",
       "      <td>01/03/17-22:32:38</td>\n",
       "      <td>2017-01-03 22:32:38</td>\n",
       "      <td>3</td>\n",
       "      <td>1</td>\n",
       "      <td>2017</td>\n",
       "      <td>22</td>\n",
       "      <td>32</td>\n",
       "      <td>zip</td>\n",
       "    </tr>\n",
       "  </tbody>\n",
       "</table>\n",
       "<p>198 rows × 9 columns</p>\n",
       "</div>"
      ],
      "text/plain": [
       "                                            submission        submit_time  \\\n",
       "0    https://ckd.upgrad.com/UpGrad/73ba5189-94fd-44...  01/03/17-20:28:52   \n",
       "1    https://ckd.upgrad.com/UpGrad/185242ff-7508-4c...  01/03/17-20:18:21   \n",
       "2    https://ckd.upgrad.com/UpGrad/a353d129-c100-43...  01/03/17-22:37:08   \n",
       "3    https://ckd.upgrad.com/UpGrad/002fc912-faa1-49...  01/02/17-21:43:19   \n",
       "4    https://ckd.upgrad.com/UpGrad/25cbc4a4-6d49-4f...  01/03/17-15:27:49   \n",
       "..                                                 ...                ...   \n",
       "193  https://ckd.upgrad.com/UpGrad/ba485323-bba6-4b...  01/03/17-22:43:12   \n",
       "194  https://ckd.upgrad.com/UpGrad/a65694d0-339b-44...  01/09/17-23:59:34   \n",
       "195  https://ckd.upgrad.com/UpGrad/c3876ddf-2b2f-4a...  12/19/16-21:44:13   \n",
       "196  https://ckd.upgrad.com/UpGrad/2b9732ad-0985-4a...  01/09/17-23:23:06   \n",
       "197  https://ckd.upgrad.com/UpGrad/21da378c-75a4-4a...  01/03/17-22:32:38   \n",
       "\n",
       "              date_time  day  month  year  hour  minute format  \n",
       "0   2017-01-03 20:28:52    3      1  2017    20      28    zip  \n",
       "1   2017-01-03 20:18:21    3      1  2017    20      18    zip  \n",
       "2   2017-01-03 22:37:08    3      1  2017    22      37    zip  \n",
       "3   2017-01-02 21:43:19    2      1  2017    21      43    zip  \n",
       "4   2017-01-03 15:27:49    3      1  2017    15      27    zip  \n",
       "..                  ...  ...    ...   ...   ...     ...    ...  \n",
       "193 2017-01-03 22:43:12    3      1  2017    22      43    zip  \n",
       "194 2017-01-09 23:59:34    9      1  2017    23      59    zip  \n",
       "195 2016-12-19 21:44:13   19     12  2016    21      44    zip  \n",
       "196 2017-01-09 23:23:06    9      1  2017    23      23      R  \n",
       "197 2017-01-03 22:32:38    3      1  2017    22      32    zip  \n",
       "\n",
       "[198 rows x 9 columns]"
      ]
     },
     "execution_count": 12,
     "metadata": {},
     "output_type": "execute_result"
    }
   ],
   "source": [
    "grades"
   ]
  },
  {
   "cell_type": "code",
   "execution_count": 14,
   "id": "acc630a1",
   "metadata": {},
   "outputs": [
    {
     "data": {
      "text/plain": [
       "zip    189\n",
       "R        7\n",
       "7z       2\n",
       "Name: format, dtype: int64"
      ]
     },
     "execution_count": 14,
     "metadata": {},
     "output_type": "execute_result"
    }
   ],
   "source": [
    "grades.format.value_counts()"
   ]
  },
  {
   "cell_type": "code",
   "execution_count": 13,
   "id": "5cee866f",
   "metadata": {},
   "outputs": [
    {
     "data": {
      "text/plain": [
       "95.45454545454545"
      ]
     },
     "execution_count": 13,
     "metadata": {},
     "output_type": "execute_result"
    }
   ],
   "source": [
    "(grades[grades.format == 'zip'].format.count()/grades.format.count())*100"
   ]
  },
  {
   "cell_type": "code",
   "execution_count": 15,
   "id": "0d78295e",
   "metadata": {},
   "outputs": [],
   "source": [
    "from datetime import datetime"
   ]
  },
  {
   "cell_type": "code",
   "execution_count": 16,
   "id": "1c9586e1",
   "metadata": {},
   "outputs": [
    {
     "name": "stdout",
     "output_type": "stream",
     "text": [
      "2017-01-03 23:59:59\n"
     ]
    }
   ],
   "source": [
    "d2 = datetime(2017, 1, 3, 23, 59, 59, 0)\n",
    "print(d2)"
   ]
  },
  {
   "cell_type": "code",
   "execution_count": 17,
   "id": "36d74268",
   "metadata": {},
   "outputs": [],
   "source": [
    "grades['late_submission'] = grades.date_time.apply(lambda x: 1 if x>d2 else 0)"
   ]
  },
  {
   "cell_type": "code",
   "execution_count": 18,
   "id": "32eda144",
   "metadata": {},
   "outputs": [
    {
     "data": {
      "text/plain": [
       "44"
      ]
     },
     "execution_count": 18,
     "metadata": {},
     "output_type": "execute_result"
    }
   ],
   "source": [
    "grades.late_submission.sum()"
   ]
  },
  {
   "cell_type": "code",
   "execution_count": 20,
   "id": "6fc14973",
   "metadata": {},
   "outputs": [
    {
     "data": {
      "text/plain": [
       "23    66\n",
       "21    27\n",
       "22    24\n",
       "20    16\n",
       "0     10\n",
       "1      8\n",
       "13     6\n",
       "18     6\n",
       "14     6\n",
       "17     4\n",
       "15     4\n",
       "12     3\n",
       "10     3\n",
       "3      3\n",
       "16     2\n",
       "19     2\n",
       "4      2\n",
       "2      2\n",
       "11     1\n",
       "8      1\n",
       "9      1\n",
       "6      1\n",
       "Name: hour, dtype: int64"
      ]
     },
     "execution_count": 20,
     "metadata": {},
     "output_type": "execute_result"
    }
   ],
   "source": [
    "grades.hour.value_counts()"
   ]
  },
  {
   "cell_type": "code",
   "execution_count": 21,
   "id": "4e17297f",
   "metadata": {},
   "outputs": [
    {
     "data": {
      "text/plain": [
       "<AxesSubplot:xlabel='hour', ylabel='Count'>"
      ]
     },
     "execution_count": 21,
     "metadata": {},
     "output_type": "execute_result"
    },
    {
     "data": {
      "image/png": "[encoded data removed]",
      "text/plain": [
       "<Figure size 432x288 with 1 Axes>"
      ]
     },
     "metadata": {
      "needs_background": "light"
     },
     "output_type": "display_data"
    }
   ],
   "source": [
    "sns.histplot(data=grades, x=grades.hour)"
   ]
  }
 ],
 "metadata": {
  "kernelspec": {
   "display_name": "Python 3",
   "language": "python",
   "name": "python3"
  },
  "language_info": {
   "codemirror_mode": {
    "name": "ipython",
    "version": 3
   },
   "file_extension": ".py",
   "mimetype": "text/x-python",
   "name": "python",
   "nbconvert_exporter": "python",
   "pygments_lexer": "ipython3",
   "version": "3.8.10"
  }
 },
 "nbformat": 4,
 "nbformat_minor": 5
}
