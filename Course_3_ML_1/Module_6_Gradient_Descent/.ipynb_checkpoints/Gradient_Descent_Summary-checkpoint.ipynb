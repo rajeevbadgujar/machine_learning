{
 "cells": [
  {
   "cell_type": "markdown",
   "id": "a5fa82f4",
   "metadata": {},
   "source": [
    "## Cost function\n",
    "The function which learning algorithm is either trying to miniizing or maximizing.\n",
    "\n",
    "## Optimization methods\n",
    "1. Closed Form \n",
    "2. Iterative \n",
    "\n",
    "## Closed Form\n",
    "- Differentiate the cost function wrt all the coefficients\n",
    "- Equate the derrived form with 0\n",
    "- Solve the equation for coefficients\n",
    "- When data points and coefficients are large, its hard to manage the equation\n",
    "\n",
    "## Iterative method\n",
    "There are two types,\n",
    "1. Gradient Descent\n",
    "2. Newton's Gradient Descent\n",
    "\n",
    "### Newton's Gradient Descent\n",
    "- works by taking double derrivative of the cost fucntion\n",
    "\n",
    "### Gradient Descent\n",
    "- Take smaller steps towards the optimal values of coefficients.\n",
    "- The step taken is in the opposite direction of the slope of the line at a value of theta for minimisation problem.\n",
    "- The step taken is in the direction of the slope of the line at a value of theta for maximisation problem.\n",
    "- Differentiate the cost function wrt all the coefficients.\n",
    "- The new coefficients are calculated as, \n",
    "    $\\theta_n = \\theta_o - \\eta\\frac{dJ(\\theta)}{d\\theta_0})$\n",
    "    - $\\eta$ (eta) is the learning rate\n",
    "    - $\\theta_o$ is the old value of theta\n",
    "    - $\\theta_n$ is the new value of theta\n",
    "- The above step is repeated until we reach the optimal value of $\\theta$\n",
    "\n",
    "## Constrained Minimisation\n",
    "The Constrained Minimisation is a process in which we try to optimise the objective function with respect to some variables in presence of the constraint on variables or the function.\n",
    "Constrained Minimisation is used in\n",
    "1. Linear Regression\n",
    "2. Logistic regression\n",
    "\n",
    "\n",
    "## Unconstrained Minimisation\n",
    "The Unconstrained Minimisation is a process in which we try to optimise the objective function with respect to some variables without any constraint on the variables or the function.\n",
    "The Unconstrained Minimisation is used in\n",
    "1. Ridge/Lasso regression\n",
    "2. SVM\n",
    "\n",
    "**Note: Any maximisation problem can be defined in terms of minimisation by changing the sign of the objective function.** "
   ]
  }
 ],
 "metadata": {
  "kernelspec": {
   "display_name": "Python 3",
   "language": "python",
   "name": "python3"
  },
  "language_info": {
   "codemirror_mode": {
    "name": "ipython",
    "version": 3
   },
   "file_extension": ".py",
   "mimetype": "text/x-python",
   "name": "python",
   "nbconvert_exporter": "python",
   "pygments_lexer": "ipython3",
   "version": "3.8.10"
  }
 },
 "nbformat": 4,
 "nbformat_minor": 5
}
