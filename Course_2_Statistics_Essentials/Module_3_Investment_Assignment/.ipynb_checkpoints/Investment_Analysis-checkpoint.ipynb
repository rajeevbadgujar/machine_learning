{
 "cells": [
  {
   "cell_type": "markdown",
   "id": "bf8f1dbd",
   "metadata": {},
   "source": [
    "## Investment Analysis for Spark Funds by Rajeev Badgujar"
   ]
  },
  {
   "cell_type": "markdown",
   "id": "6a1600a5",
   "metadata": {},
   "source": [
    "## Import the required libraries"
   ]
  },
  {
   "cell_type": "code",
   "execution_count": 1,
   "id": "85e80d8f",
   "metadata": {},
   "outputs": [],
   "source": [
    "import numpy as np\n",
    "import pandas as pd\n",
    "import seaborn as sns\n",
    "import matplotlib.pyplot as plt"
   ]
  },
  {
   "cell_type": "markdown",
   "id": "b6385002",
   "metadata": {},
   "source": [
    "## Read the data\n",
    "\n",
    "**companies** - the dataframe containing information of all the startups \\\n",
    "**rounds2** - the dataframe containing the information about each round of investments done in the companies \\\n",
    "**mapping** - maping of sector and the categories \n",
    "\n",
    "There seems to be some differences in the encoding of companies and round2 files. The default encoding (utf-8) used by read_csv method of pandas resulted in character differences in companies and round2 dataframes. After trying \"mac_roman\" and \"Latin-1/iso-8859-1\", the later seems to work better."
   ]
  },
  {
   "cell_type": "code",
   "execution_count": 2,
   "id": "8cddc2ac",
   "metadata": {},
   "outputs": [],
   "source": [
    "companies = pd.read_csv('companies.csv', encoding='iso-8859-1')\n",
    "rounds2 = pd.read_csv('rounds2.csv', encoding='iso-8859-1')\n",
    "mapping = pd.read_csv('mapping.csv', encoding='iso-8859-1')"
   ]
  },
  {
   "cell_type": "markdown",
   "id": "2ad2a214",
   "metadata": {},
   "source": [
    "## Describe the datasets"
   ]
  },
  {
   "cell_type": "code",
   "execution_count": 3,
   "id": "b6459003",
   "metadata": {
    "scrolled": true
   },
   "outputs": [
    {
     "name": "stdout",
     "output_type": "stream",
     "text": [
      "<class 'pandas.core.frame.DataFrame'>\n",
      "RangeIndex: 66368 entries, 0 to 66367\n",
      "Data columns (total 10 columns):\n",
      " #   Column         Non-Null Count  Dtype \n",
      "---  ------         --------------  ----- \n",
      " 0   permalink      66368 non-null  object\n",
      " 1   name           66367 non-null  object\n",
      " 2   homepage_url   61310 non-null  object\n",
      " 3   category_list  63220 non-null  object\n",
      " 4   status         66368 non-null  object\n",
      " 5   country_code   59410 non-null  object\n",
      " 6   state_code     57821 non-null  object\n",
      " 7   region         58338 non-null  object\n",
      " 8   city           58340 non-null  object\n",
      " 9   founded_at     51147 non-null  object\n",
      "dtypes: object(10)\n",
      "memory usage: 5.1+ MB\n"
     ]
    }
   ],
   "source": [
    "companies.info()"
   ]
  },
  {
   "cell_type": "code",
   "execution_count": 4,
   "id": "69da4b00",
   "metadata": {
    "scrolled": true
   },
   "outputs": [
    {
     "data": {
      "text/html": [
       "<div>\n",
       "<style scoped>\n",
       "    .dataframe tbody tr th:only-of-type {\n",
       "        vertical-align: middle;\n",
       "    }\n",
       "\n",
       "    .dataframe tbody tr th {\n",
       "        vertical-align: top;\n",
       "    }\n",
       "\n",
       "    .dataframe thead th {\n",
       "        text-align: right;\n",
       "    }\n",
       "</style>\n",
       "<table border=\"1\" class=\"dataframe\">\n",
       "  <thead>\n",
       "    <tr style=\"text-align: right;\">\n",
       "      <th></th>\n",
       "      <th>permalink</th>\n",
       "      <th>name</th>\n",
       "      <th>homepage_url</th>\n",
       "      <th>category_list</th>\n",
       "      <th>status</th>\n",
       "      <th>country_code</th>\n",
       "      <th>state_code</th>\n",
       "      <th>region</th>\n",
       "      <th>city</th>\n",
       "      <th>founded_at</th>\n",
       "    </tr>\n",
       "  </thead>\n",
       "  <tbody>\n",
       "    <tr>\n",
       "      <th>66363</th>\n",
       "      <td>/Organization/Zznode-Science-And-Technology-Co...</td>\n",
       "      <td>ZZNode Science and Technology</td>\n",
       "      <td>http://www.zznode.com</td>\n",
       "      <td>Enterprise Software</td>\n",
       "      <td>operating</td>\n",
       "      <td>CHN</td>\n",
       "      <td>22</td>\n",
       "      <td>Beijing</td>\n",
       "      <td>Beijing</td>\n",
       "      <td>NaN</td>\n",
       "    </tr>\n",
       "    <tr>\n",
       "      <th>66364</th>\n",
       "      <td>/Organization/Zzzzapp-Com</td>\n",
       "      <td>Zzzzapp Wireless ltd.</td>\n",
       "      <td>http://www.zzzzapp.com</td>\n",
       "      <td>Advertising|Mobile|Web Development|Wireless</td>\n",
       "      <td>operating</td>\n",
       "      <td>HRV</td>\n",
       "      <td>15</td>\n",
       "      <td>Split</td>\n",
       "      <td>Split</td>\n",
       "      <td>13-05-2012</td>\n",
       "    </tr>\n",
       "    <tr>\n",
       "      <th>66365</th>\n",
       "      <td>/Organization/ÃEron</td>\n",
       "      <td>ÃERON</td>\n",
       "      <td>http://www.aeron.hu/</td>\n",
       "      <td>NaN</td>\n",
       "      <td>operating</td>\n",
       "      <td>NaN</td>\n",
       "      <td>NaN</td>\n",
       "      <td>NaN</td>\n",
       "      <td>NaN</td>\n",
       "      <td>01-01-2011</td>\n",
       "    </tr>\n",
       "    <tr>\n",
       "      <th>66366</th>\n",
       "      <td>/Organization/ÃAsys-2</td>\n",
       "      <td>Ãasys</td>\n",
       "      <td>http://www.oasys.io/</td>\n",
       "      <td>Consumer Electronics|Internet of Things|Teleco...</td>\n",
       "      <td>operating</td>\n",
       "      <td>USA</td>\n",
       "      <td>CA</td>\n",
       "      <td>SF Bay Area</td>\n",
       "      <td>San Francisco</td>\n",
       "      <td>01-01-2014</td>\n",
       "    </tr>\n",
       "    <tr>\n",
       "      <th>66367</th>\n",
       "      <td>/Organization/Ä°Novatiff-Reklam-Ve-Tanä±Tä±M-H...</td>\n",
       "      <td>Ä°novatiff Reklam ve TanÄ±tÄ±m Hizmetleri Tic</td>\n",
       "      <td>http://inovatiff.com</td>\n",
       "      <td>Consumer Goods|E-Commerce|Internet</td>\n",
       "      <td>operating</td>\n",
       "      <td>NaN</td>\n",
       "      <td>NaN</td>\n",
       "      <td>NaN</td>\n",
       "      <td>NaN</td>\n",
       "      <td>NaN</td>\n",
       "    </tr>\n",
       "  </tbody>\n",
       "</table>\n",
       "</div>"
      ],
      "text/plain": [
       "                                               permalink  \\\n",
       "66363  /Organization/Zznode-Science-And-Technology-Co...   \n",
       "66364                          /Organization/Zzzzapp-Com   \n",
       "66365                               /Organization/ÃEron   \n",
       "66366                             /Organization/ÃAsys-2   \n",
       "66367  /Organization/Ä°Novatiff-Reklam-Ve-Tanä±Tä±M-H...   \n",
       "\n",
       "                                                name            homepage_url  \\\n",
       "66363                  ZZNode Science and Technology   http://www.zznode.com   \n",
       "66364                          Zzzzapp Wireless ltd.  http://www.zzzzapp.com   \n",
       "66365                                         ÃERON    http://www.aeron.hu/   \n",
       "66366                                         Ãasys    http://www.oasys.io/   \n",
       "66367  Ä°novatiff Reklam ve TanÄ±tÄ±m Hizmetleri Tic    http://inovatiff.com   \n",
       "\n",
       "                                           category_list     status  \\\n",
       "66363                                Enterprise Software  operating   \n",
       "66364        Advertising|Mobile|Web Development|Wireless  operating   \n",
       "66365                                                NaN  operating   \n",
       "66366  Consumer Electronics|Internet of Things|Teleco...  operating   \n",
       "66367                 Consumer Goods|E-Commerce|Internet  operating   \n",
       "\n",
       "      country_code state_code       region           city  founded_at  \n",
       "66363          CHN         22      Beijing        Beijing         NaN  \n",
       "66364          HRV         15        Split          Split  13-05-2012  \n",
       "66365          NaN        NaN          NaN            NaN  01-01-2011  \n",
       "66366          USA         CA  SF Bay Area  San Francisco  01-01-2014  \n",
       "66367          NaN        NaN          NaN            NaN         NaN  "
      ]
     },
     "execution_count": 4,
     "metadata": {},
     "output_type": "execute_result"
    }
   ],
   "source": [
    "companies.tail()"
   ]
  },
  {
   "cell_type": "markdown",
   "id": "0c546dbb",
   "metadata": {},
   "source": [
    "There are some non-ascii characters in the permalink and name columns. We need to remove these non-ascii characteres."
   ]
  },
  {
   "cell_type": "code",
   "execution_count": 5,
   "id": "2dbd634b",
   "metadata": {},
   "outputs": [],
   "source": [
    "companies['permalink'] = companies['permalink'].str.encode('ascii', 'ignore').str.decode('ascii')\n",
    "companies['name'] = companies['name'].str.encode('ascii', 'ignore').str.decode('ascii')"
   ]
  },
  {
   "cell_type": "code",
   "execution_count": 6,
   "id": "39ee21fb",
   "metadata": {
    "scrolled": true
   },
   "outputs": [
    {
     "data": {
      "text/html": [
       "<div>\n",
       "<style scoped>\n",
       "    .dataframe tbody tr th:only-of-type {\n",
       "        vertical-align: middle;\n",
       "    }\n",
       "\n",
       "    .dataframe tbody tr th {\n",
       "        vertical-align: top;\n",
       "    }\n",
       "\n",
       "    .dataframe thead th {\n",
       "        text-align: right;\n",
       "    }\n",
       "</style>\n",
       "<table border=\"1\" class=\"dataframe\">\n",
       "  <thead>\n",
       "    <tr style=\"text-align: right;\">\n",
       "      <th></th>\n",
       "      <th>permalink</th>\n",
       "      <th>name</th>\n",
       "      <th>homepage_url</th>\n",
       "      <th>category_list</th>\n",
       "      <th>status</th>\n",
       "      <th>country_code</th>\n",
       "      <th>state_code</th>\n",
       "      <th>region</th>\n",
       "      <th>city</th>\n",
       "      <th>founded_at</th>\n",
       "    </tr>\n",
       "  </thead>\n",
       "  <tbody>\n",
       "    <tr>\n",
       "      <th>66363</th>\n",
       "      <td>/Organization/Zznode-Science-And-Technology-Co...</td>\n",
       "      <td>ZZNode Science and Technology</td>\n",
       "      <td>http://www.zznode.com</td>\n",
       "      <td>Enterprise Software</td>\n",
       "      <td>operating</td>\n",
       "      <td>CHN</td>\n",
       "      <td>22</td>\n",
       "      <td>Beijing</td>\n",
       "      <td>Beijing</td>\n",
       "      <td>NaN</td>\n",
       "    </tr>\n",
       "    <tr>\n",
       "      <th>66364</th>\n",
       "      <td>/Organization/Zzzzapp-Com</td>\n",
       "      <td>Zzzzapp Wireless ltd.</td>\n",
       "      <td>http://www.zzzzapp.com</td>\n",
       "      <td>Advertising|Mobile|Web Development|Wireless</td>\n",
       "      <td>operating</td>\n",
       "      <td>HRV</td>\n",
       "      <td>15</td>\n",
       "      <td>Split</td>\n",
       "      <td>Split</td>\n",
       "      <td>13-05-2012</td>\n",
       "    </tr>\n",
       "    <tr>\n",
       "      <th>66365</th>\n",
       "      <td>/Organization/Eron</td>\n",
       "      <td>ERON</td>\n",
       "      <td>http://www.aeron.hu/</td>\n",
       "      <td>NaN</td>\n",
       "      <td>operating</td>\n",
       "      <td>NaN</td>\n",
       "      <td>NaN</td>\n",
       "      <td>NaN</td>\n",
       "      <td>NaN</td>\n",
       "      <td>01-01-2011</td>\n",
       "    </tr>\n",
       "    <tr>\n",
       "      <th>66366</th>\n",
       "      <td>/Organization/Asys-2</td>\n",
       "      <td>asys</td>\n",
       "      <td>http://www.oasys.io/</td>\n",
       "      <td>Consumer Electronics|Internet of Things|Teleco...</td>\n",
       "      <td>operating</td>\n",
       "      <td>USA</td>\n",
       "      <td>CA</td>\n",
       "      <td>SF Bay Area</td>\n",
       "      <td>San Francisco</td>\n",
       "      <td>01-01-2014</td>\n",
       "    </tr>\n",
       "    <tr>\n",
       "      <th>66367</th>\n",
       "      <td>/Organization/Novatiff-Reklam-Ve-TanTM-Hizmetl...</td>\n",
       "      <td>novatiff Reklam ve Tantm Hizmetleri Tic</td>\n",
       "      <td>http://inovatiff.com</td>\n",
       "      <td>Consumer Goods|E-Commerce|Internet</td>\n",
       "      <td>operating</td>\n",
       "      <td>NaN</td>\n",
       "      <td>NaN</td>\n",
       "      <td>NaN</td>\n",
       "      <td>NaN</td>\n",
       "      <td>NaN</td>\n",
       "    </tr>\n",
       "  </tbody>\n",
       "</table>\n",
       "</div>"
      ],
      "text/plain": [
       "                                               permalink  \\\n",
       "66363  /Organization/Zznode-Science-And-Technology-Co...   \n",
       "66364                          /Organization/Zzzzapp-Com   \n",
       "66365                                 /Organization/Eron   \n",
       "66366                               /Organization/Asys-2   \n",
       "66367  /Organization/Novatiff-Reklam-Ve-TanTM-Hizmetl...   \n",
       "\n",
       "                                          name            homepage_url  \\\n",
       "66363            ZZNode Science and Technology   http://www.zznode.com   \n",
       "66364                    Zzzzapp Wireless ltd.  http://www.zzzzapp.com   \n",
       "66365                                     ERON    http://www.aeron.hu/   \n",
       "66366                                     asys    http://www.oasys.io/   \n",
       "66367  novatiff Reklam ve Tantm Hizmetleri Tic    http://inovatiff.com   \n",
       "\n",
       "                                           category_list     status  \\\n",
       "66363                                Enterprise Software  operating   \n",
       "66364        Advertising|Mobile|Web Development|Wireless  operating   \n",
       "66365                                                NaN  operating   \n",
       "66366  Consumer Electronics|Internet of Things|Teleco...  operating   \n",
       "66367                 Consumer Goods|E-Commerce|Internet  operating   \n",
       "\n",
       "      country_code state_code       region           city  founded_at  \n",
       "66363          CHN         22      Beijing        Beijing         NaN  \n",
       "66364          HRV         15        Split          Split  13-05-2012  \n",
       "66365          NaN        NaN          NaN            NaN  01-01-2011  \n",
       "66366          USA         CA  SF Bay Area  San Francisco  01-01-2014  \n",
       "66367          NaN        NaN          NaN            NaN         NaN  "
      ]
     },
     "execution_count": 6,
     "metadata": {},
     "output_type": "execute_result"
    }
   ],
   "source": [
    "companies.tail()"
   ]
  },
  {
   "cell_type": "markdown",
   "id": "47154683",
   "metadata": {},
   "source": [
    "The non-ascii characters are removed as we can see the special characters are removed from company name \"Ä°novatiff Reklam ve TanÄ±tÄ±m Hizmetleri Tic\". The cleaned name is **\"novatiff Reklam ve Tantm Hizmetleri Tic\"**"
   ]
  },
  {
   "cell_type": "code",
   "execution_count": 7,
   "id": "00988beb",
   "metadata": {},
   "outputs": [
    {
     "name": "stdout",
     "output_type": "stream",
     "text": [
      "<class 'pandas.core.frame.DataFrame'>\n",
      "RangeIndex: 114949 entries, 0 to 114948\n",
      "Data columns (total 6 columns):\n",
      " #   Column                   Non-Null Count   Dtype  \n",
      "---  ------                   --------------   -----  \n",
      " 0   company_permalink        114949 non-null  object \n",
      " 1   funding_round_permalink  114949 non-null  object \n",
      " 2   funding_round_type       114949 non-null  object \n",
      " 3   funding_round_code       31140 non-null   object \n",
      " 4   funded_at                114949 non-null  object \n",
      " 5   raised_amount_usd        94959 non-null   float64\n",
      "dtypes: float64(1), object(5)\n",
      "memory usage: 5.3+ MB\n"
     ]
    }
   ],
   "source": [
    "rounds2.info()"
   ]
  },
  {
   "cell_type": "code",
   "execution_count": 8,
   "id": "abe3dbf3",
   "metadata": {},
   "outputs": [
    {
     "data": {
      "text/html": [
       "<div>\n",
       "<style scoped>\n",
       "    .dataframe tbody tr th:only-of-type {\n",
       "        vertical-align: middle;\n",
       "    }\n",
       "\n",
       "    .dataframe tbody tr th {\n",
       "        vertical-align: top;\n",
       "    }\n",
       "\n",
       "    .dataframe thead th {\n",
       "        text-align: right;\n",
       "    }\n",
       "</style>\n",
       "<table border=\"1\" class=\"dataframe\">\n",
       "  <thead>\n",
       "    <tr style=\"text-align: right;\">\n",
       "      <th></th>\n",
       "      <th>company_permalink</th>\n",
       "      <th>funding_round_permalink</th>\n",
       "      <th>funding_round_type</th>\n",
       "      <th>funding_round_code</th>\n",
       "      <th>funded_at</th>\n",
       "      <th>raised_amount_usd</th>\n",
       "    </tr>\n",
       "  </thead>\n",
       "  <tbody>\n",
       "    <tr>\n",
       "      <th>114944</th>\n",
       "      <td>/organization/zzzzapp-com</td>\n",
       "      <td>/funding-round/8f6d25b8ee4199e586484d817bceda05</td>\n",
       "      <td>convertible_note</td>\n",
       "      <td>NaN</td>\n",
       "      <td>01-03-2014</td>\n",
       "      <td>41313.0</td>\n",
       "    </tr>\n",
       "    <tr>\n",
       "      <th>114945</th>\n",
       "      <td>/ORGANIZATION/ZZZZAPP-COM</td>\n",
       "      <td>/funding-round/ff1aa06ed5da186c84f101549035d4ae</td>\n",
       "      <td>seed</td>\n",
       "      <td>NaN</td>\n",
       "      <td>01-05-2013</td>\n",
       "      <td>32842.0</td>\n",
       "    </tr>\n",
       "    <tr>\n",
       "      <th>114946</th>\n",
       "      <td>/organization/ãeron</td>\n",
       "      <td>/funding-round/59f4dce44723b794f21ded3daed6e4fe</td>\n",
       "      <td>venture</td>\n",
       "      <td>A</td>\n",
       "      <td>01-08-2014</td>\n",
       "      <td>NaN</td>\n",
       "    </tr>\n",
       "    <tr>\n",
       "      <th>114947</th>\n",
       "      <td>/ORGANIZATION/ÃASYS-2</td>\n",
       "      <td>/funding-round/35f09d0794651719b02bbfd859ba9ff5</td>\n",
       "      <td>seed</td>\n",
       "      <td>NaN</td>\n",
       "      <td>01-01-2015</td>\n",
       "      <td>18192.0</td>\n",
       "    </tr>\n",
       "    <tr>\n",
       "      <th>114948</th>\n",
       "      <td>/organization/ä°novatiff-reklam-ve-tanä±tä±m-h...</td>\n",
       "      <td>/funding-round/af942869878d2cd788ef5189b435ebc4</td>\n",
       "      <td>grant</td>\n",
       "      <td>NaN</td>\n",
       "      <td>01-10-2013</td>\n",
       "      <td>14851.0</td>\n",
       "    </tr>\n",
       "  </tbody>\n",
       "</table>\n",
       "</div>"
      ],
      "text/plain": [
       "                                        company_permalink  \\\n",
       "114944                          /organization/zzzzapp-com   \n",
       "114945                          /ORGANIZATION/ZZZZAPP-COM   \n",
       "114946                               /organization/ãeron   \n",
       "114947                             /ORGANIZATION/ÃASYS-2   \n",
       "114948  /organization/ä°novatiff-reklam-ve-tanä±tä±m-h...   \n",
       "\n",
       "                                funding_round_permalink funding_round_type  \\\n",
       "114944  /funding-round/8f6d25b8ee4199e586484d817bceda05   convertible_note   \n",
       "114945  /funding-round/ff1aa06ed5da186c84f101549035d4ae               seed   \n",
       "114946  /funding-round/59f4dce44723b794f21ded3daed6e4fe            venture   \n",
       "114947  /funding-round/35f09d0794651719b02bbfd859ba9ff5               seed   \n",
       "114948  /funding-round/af942869878d2cd788ef5189b435ebc4              grant   \n",
       "\n",
       "       funding_round_code   funded_at  raised_amount_usd  \n",
       "114944                NaN  01-03-2014            41313.0  \n",
       "114945                NaN  01-05-2013            32842.0  \n",
       "114946                  A  01-08-2014                NaN  \n",
       "114947                NaN  01-01-2015            18192.0  \n",
       "114948                NaN  01-10-2013            14851.0  "
      ]
     },
     "execution_count": 8,
     "metadata": {},
     "output_type": "execute_result"
    }
   ],
   "source": [
    "rounds2.tail()"
   ]
  },
  {
   "cell_type": "markdown",
   "id": "e2c41368",
   "metadata": {},
   "source": [
    "The rounds2 dataframe also contains non-ascii characters in company_permalink column. We will remove these characters."
   ]
  },
  {
   "cell_type": "code",
   "execution_count": 9,
   "id": "c2e6f977",
   "metadata": {},
   "outputs": [],
   "source": [
    "rounds2['company_permalink'] = rounds2['company_permalink'].str.encode('ascii', 'ignore').str.decode('ascii')"
   ]
  },
  {
   "cell_type": "code",
   "execution_count": 10,
   "id": "06a33856",
   "metadata": {},
   "outputs": [
    {
     "data": {
      "text/html": [
       "<div>\n",
       "<style scoped>\n",
       "    .dataframe tbody tr th:only-of-type {\n",
       "        vertical-align: middle;\n",
       "    }\n",
       "\n",
       "    .dataframe tbody tr th {\n",
       "        vertical-align: top;\n",
       "    }\n",
       "\n",
       "    .dataframe thead th {\n",
       "        text-align: right;\n",
       "    }\n",
       "</style>\n",
       "<table border=\"1\" class=\"dataframe\">\n",
       "  <thead>\n",
       "    <tr style=\"text-align: right;\">\n",
       "      <th></th>\n",
       "      <th>company_permalink</th>\n",
       "      <th>funding_round_permalink</th>\n",
       "      <th>funding_round_type</th>\n",
       "      <th>funding_round_code</th>\n",
       "      <th>funded_at</th>\n",
       "      <th>raised_amount_usd</th>\n",
       "    </tr>\n",
       "  </thead>\n",
       "  <tbody>\n",
       "    <tr>\n",
       "      <th>114944</th>\n",
       "      <td>/organization/zzzzapp-com</td>\n",
       "      <td>/funding-round/8f6d25b8ee4199e586484d817bceda05</td>\n",
       "      <td>convertible_note</td>\n",
       "      <td>NaN</td>\n",
       "      <td>01-03-2014</td>\n",
       "      <td>41313.0</td>\n",
       "    </tr>\n",
       "    <tr>\n",
       "      <th>114945</th>\n",
       "      <td>/ORGANIZATION/ZZZZAPP-COM</td>\n",
       "      <td>/funding-round/ff1aa06ed5da186c84f101549035d4ae</td>\n",
       "      <td>seed</td>\n",
       "      <td>NaN</td>\n",
       "      <td>01-05-2013</td>\n",
       "      <td>32842.0</td>\n",
       "    </tr>\n",
       "    <tr>\n",
       "      <th>114946</th>\n",
       "      <td>/organization/eron</td>\n",
       "      <td>/funding-round/59f4dce44723b794f21ded3daed6e4fe</td>\n",
       "      <td>venture</td>\n",
       "      <td>A</td>\n",
       "      <td>01-08-2014</td>\n",
       "      <td>NaN</td>\n",
       "    </tr>\n",
       "    <tr>\n",
       "      <th>114947</th>\n",
       "      <td>/ORGANIZATION/ASYS-2</td>\n",
       "      <td>/funding-round/35f09d0794651719b02bbfd859ba9ff5</td>\n",
       "      <td>seed</td>\n",
       "      <td>NaN</td>\n",
       "      <td>01-01-2015</td>\n",
       "      <td>18192.0</td>\n",
       "    </tr>\n",
       "    <tr>\n",
       "      <th>114948</th>\n",
       "      <td>/organization/novatiff-reklam-ve-tantm-hizmetl...</td>\n",
       "      <td>/funding-round/af942869878d2cd788ef5189b435ebc4</td>\n",
       "      <td>grant</td>\n",
       "      <td>NaN</td>\n",
       "      <td>01-10-2013</td>\n",
       "      <td>14851.0</td>\n",
       "    </tr>\n",
       "  </tbody>\n",
       "</table>\n",
       "</div>"
      ],
      "text/plain": [
       "                                        company_permalink  \\\n",
       "114944                          /organization/zzzzapp-com   \n",
       "114945                          /ORGANIZATION/ZZZZAPP-COM   \n",
       "114946                                 /organization/eron   \n",
       "114947                               /ORGANIZATION/ASYS-2   \n",
       "114948  /organization/novatiff-reklam-ve-tantm-hizmetl...   \n",
       "\n",
       "                                funding_round_permalink funding_round_type  \\\n",
       "114944  /funding-round/8f6d25b8ee4199e586484d817bceda05   convertible_note   \n",
       "114945  /funding-round/ff1aa06ed5da186c84f101549035d4ae               seed   \n",
       "114946  /funding-round/59f4dce44723b794f21ded3daed6e4fe            venture   \n",
       "114947  /funding-round/35f09d0794651719b02bbfd859ba9ff5               seed   \n",
       "114948  /funding-round/af942869878d2cd788ef5189b435ebc4              grant   \n",
       "\n",
       "       funding_round_code   funded_at  raised_amount_usd  \n",
       "114944                NaN  01-03-2014            41313.0  \n",
       "114945                NaN  01-05-2013            32842.0  \n",
       "114946                  A  01-08-2014                NaN  \n",
       "114947                NaN  01-01-2015            18192.0  \n",
       "114948                NaN  01-10-2013            14851.0  "
      ]
     },
     "execution_count": 10,
     "metadata": {},
     "output_type": "execute_result"
    }
   ],
   "source": [
    "rounds2.tail()"
   ]
  },
  {
   "cell_type": "code",
   "execution_count": 11,
   "id": "9aab7633",
   "metadata": {},
   "outputs": [
    {
     "name": "stdout",
     "output_type": "stream",
     "text": [
      "companies dataframe shape - (66368, 10)\n",
      "rounds2 dataframe shape - (114949, 6)\n"
     ]
    }
   ],
   "source": [
    "print('companies dataframe shape -',companies.shape)\n",
    "print('rounds2 dataframe shape -', rounds2.shape)"
   ]
  },
  {
   "cell_type": "markdown",
   "id": "f14fd031",
   "metadata": {},
   "source": [
    "## Checkpoint 1: Data Cleaning 1\n",
    "We will now check each column in both the dataframes for null/NaN values.\n",
    "### companies \n",
    "The dataframe has maximum number of null values in column **founded_at** followed by **state_code, region, city, country_code, homepage_url and category_list.**"
   ]
  },
  {
   "cell_type": "code",
   "execution_count": 12,
   "id": "9a449be5",
   "metadata": {},
   "outputs": [
    {
     "data": {
      "text/plain": [
       "permalink            0\n",
       "name                 1\n",
       "homepage_url      5058\n",
       "category_list     3148\n",
       "status               0\n",
       "country_code      6958\n",
       "state_code        8547\n",
       "region            8030\n",
       "city              8028\n",
       "founded_at       15221\n",
       "dtype: int64"
      ]
     },
     "execution_count": 12,
     "metadata": {},
     "output_type": "execute_result"
    }
   ],
   "source": [
    "companies.isnull().sum(axis=0)"
   ]
  },
  {
   "cell_type": "markdown",
   "id": "de24bcff",
   "metadata": {},
   "source": [
    "Lets calculate the percentage of null values for each column companies dataframe"
   ]
  },
  {
   "cell_type": "code",
   "execution_count": 13,
   "id": "4045d317",
   "metadata": {},
   "outputs": [
    {
     "data": {
      "text/plain": [
       "permalink         0.000000\n",
       "name              0.001507\n",
       "homepage_url      7.621143\n",
       "category_list     4.743250\n",
       "status            0.000000\n",
       "country_code     10.483968\n",
       "state_code       12.878194\n",
       "region           12.099204\n",
       "city             12.096191\n",
       "founded_at       22.934245\n",
       "dtype: float64"
      ]
     },
     "execution_count": 13,
     "metadata": {},
     "output_type": "execute_result"
    }
   ],
   "source": [
    "100*companies.isnull().sum()/len(companies.index)"
   ]
  },
  {
   "cell_type": "markdown",
   "id": "eb69b668",
   "metadata": {},
   "source": [
    "From the columns with high null values - **country_code** and **category_list** are important for our analysis. We can drop other columns after merging the two datasets to keep the original companies and rounds2 data in tact.\n",
    "\n",
    "### rounds2\n",
    "Now lets calculate the same for rounds2 dataset."
   ]
  },
  {
   "cell_type": "code",
   "execution_count": 14,
   "id": "d8dc1835",
   "metadata": {
    "scrolled": true
   },
   "outputs": [
    {
     "data": {
      "text/plain": [
       "company_permalink           0.000000\n",
       "funding_round_permalink     0.000000\n",
       "funding_round_type          0.000000\n",
       "funding_round_code         72.909725\n",
       "funded_at                   0.000000\n",
       "raised_amount_usd          17.390321\n",
       "dtype: float64"
      ]
     },
     "execution_count": 14,
     "metadata": {},
     "output_type": "execute_result"
    }
   ],
   "source": [
    "100*rounds2.isnull().sum(axis=0)/len(rounds2.index)"
   ]
  },
  {
   "cell_type": "markdown",
   "id": "34191714",
   "metadata": {},
   "source": [
    "In rounds2 dataset two cloumns - **funding_round_code** and **raised_amount_usd** have high percentage of null values. Out of these two columns only **raised_amount_usd** is important for our analysis so we can **drop funding_round_code** column. \n",
    "We can tackle null values **raised_amount_usd** column in one of the following two ways \n",
    "1. remove all rows with null values\n",
    "2. populate the null with median for respective funding type\n",
    "\n",
    "We will take this decision after merging the frames."
   ]
  },
  {
   "cell_type": "markdown",
   "id": "78627351",
   "metadata": {},
   "source": [
    "The **permalink** column in companies dataframe and **company_permalink** in rounds2 dataframe have **case discrepancy**. We will convert everything in lower case. Also **rename the company_permalink to permalink** because later the merge is performed on this column."
   ]
  },
  {
   "cell_type": "code",
   "execution_count": 15,
   "id": "5be6508e",
   "metadata": {},
   "outputs": [],
   "source": [
    "rounds2.rename(columns={'company_permalink':'permalink'}, inplace=True)"
   ]
  },
  {
   "cell_type": "code",
   "execution_count": 16,
   "id": "66930a60",
   "metadata": {},
   "outputs": [],
   "source": [
    "companies['permalink'] = companies['permalink'].str.lower()\n",
    "rounds2['permalink'] = rounds2['permalink'].str.lower()"
   ]
  },
  {
   "cell_type": "code",
   "execution_count": 17,
   "id": "a698451a",
   "metadata": {},
   "outputs": [
    {
     "data": {
      "text/plain": [
       "count                      66368\n",
       "unique                     66368\n",
       "top       /organization/doctible\n",
       "freq                           1\n",
       "Name: permalink, dtype: object"
      ]
     },
     "execution_count": 17,
     "metadata": {},
     "output_type": "execute_result"
    }
   ],
   "source": [
    "companies.permalink.describe()"
   ]
  },
  {
   "cell_type": "code",
   "execution_count": 18,
   "id": "1d19754c",
   "metadata": {},
   "outputs": [
    {
     "data": {
      "text/plain": [
       "count                       114949\n",
       "unique                       66368\n",
       "top       /organization/solarflare\n",
       "freq                            19\n",
       "Name: permalink, dtype: object"
      ]
     },
     "execution_count": 18,
     "metadata": {},
     "output_type": "execute_result"
    }
   ],
   "source": [
    "rounds2.permalink.describe()"
   ]
  },
  {
   "cell_type": "markdown",
   "id": "c95de6ed",
   "metadata": {},
   "source": [
    "We can take set difference between the columns of two dataframes to figure out the companies which are present in rounds2 dataframe but not in companies."
   ]
  },
  {
   "cell_type": "code",
   "execution_count": 19,
   "id": "c2e11ab6",
   "metadata": {
    "scrolled": true
   },
   "outputs": [
    {
     "data": {
      "text/plain": [
       "0"
      ]
     },
     "execution_count": 19,
     "metadata": {},
     "output_type": "execute_result"
    }
   ],
   "source": [
    "len(set(rounds2.permalink) - set(companies.permalink))"
   ]
  },
  {
   "cell_type": "markdown",
   "id": "4c1f5ec9",
   "metadata": {},
   "source": [
    "Create index on permalink columns of companies and round2 dataframes."
   ]
  },
  {
   "cell_type": "code",
   "execution_count": 20,
   "id": "65b08e48",
   "metadata": {},
   "outputs": [],
   "source": [
    "companies.set_index('permalink', inplace=True)\n",
    "rounds2.set_index('permalink', inplace=True)"
   ]
  },
  {
   "cell_type": "markdown",
   "id": "63cab55d",
   "metadata": {},
   "source": [
    "All the companies in rounds2 dataset are present in companies dataset."
   ]
  },
  {
   "cell_type": "code",
   "execution_count": 21,
   "id": "c1620989",
   "metadata": {},
   "outputs": [],
   "source": [
    "master_frame = rounds2.merge(companies, how='left', on='permalink')"
   ]
  },
  {
   "cell_type": "code",
   "execution_count": 22,
   "id": "523017bb",
   "metadata": {},
   "outputs": [
    {
     "data": {
      "text/html": [
       "<div>\n",
       "<style scoped>\n",
       "    .dataframe tbody tr th:only-of-type {\n",
       "        vertical-align: middle;\n",
       "    }\n",
       "\n",
       "    .dataframe tbody tr th {\n",
       "        vertical-align: top;\n",
       "    }\n",
       "\n",
       "    .dataframe thead th {\n",
       "        text-align: right;\n",
       "    }\n",
       "</style>\n",
       "<table border=\"1\" class=\"dataframe\">\n",
       "  <thead>\n",
       "    <tr style=\"text-align: right;\">\n",
       "      <th></th>\n",
       "      <th>funding_round_permalink</th>\n",
       "      <th>funding_round_type</th>\n",
       "      <th>funding_round_code</th>\n",
       "      <th>funded_at</th>\n",
       "      <th>raised_amount_usd</th>\n",
       "      <th>name</th>\n",
       "      <th>homepage_url</th>\n",
       "      <th>category_list</th>\n",
       "      <th>status</th>\n",
       "      <th>country_code</th>\n",
       "      <th>state_code</th>\n",
       "      <th>region</th>\n",
       "      <th>city</th>\n",
       "      <th>founded_at</th>\n",
       "    </tr>\n",
       "    <tr>\n",
       "      <th>permalink</th>\n",
       "      <th></th>\n",
       "      <th></th>\n",
       "      <th></th>\n",
       "      <th></th>\n",
       "      <th></th>\n",
       "      <th></th>\n",
       "      <th></th>\n",
       "      <th></th>\n",
       "      <th></th>\n",
       "      <th></th>\n",
       "      <th></th>\n",
       "      <th></th>\n",
       "      <th></th>\n",
       "      <th></th>\n",
       "    </tr>\n",
       "  </thead>\n",
       "  <tbody>\n",
       "    <tr>\n",
       "      <th>/organization/-fame</th>\n",
       "      <td>/funding-round/9a01d05418af9f794eebff7ace91f638</td>\n",
       "      <td>venture</td>\n",
       "      <td>B</td>\n",
       "      <td>05-01-2015</td>\n",
       "      <td>10000000.0</td>\n",
       "      <td>#fame</td>\n",
       "      <td>http://livfame.com</td>\n",
       "      <td>Media</td>\n",
       "      <td>operating</td>\n",
       "      <td>IND</td>\n",
       "      <td>16</td>\n",
       "      <td>Mumbai</td>\n",
       "      <td>Mumbai</td>\n",
       "      <td>NaN</td>\n",
       "    </tr>\n",
       "    <tr>\n",
       "      <th>/organization/-qounter</th>\n",
       "      <td>/funding-round/22dacff496eb7acb2b901dec1dfe5633</td>\n",
       "      <td>venture</td>\n",
       "      <td>A</td>\n",
       "      <td>14-10-2014</td>\n",
       "      <td>NaN</td>\n",
       "      <td>:Qounter</td>\n",
       "      <td>http://www.qounter.com</td>\n",
       "      <td>Application Platforms|Real Time|Social Network...</td>\n",
       "      <td>operating</td>\n",
       "      <td>USA</td>\n",
       "      <td>DE</td>\n",
       "      <td>DE - Other</td>\n",
       "      <td>Delaware City</td>\n",
       "      <td>04-09-2014</td>\n",
       "    </tr>\n",
       "    <tr>\n",
       "      <th>/organization/-qounter</th>\n",
       "      <td>/funding-round/b44fbb94153f6cdef13083530bb48030</td>\n",
       "      <td>seed</td>\n",
       "      <td>NaN</td>\n",
       "      <td>01-03-2014</td>\n",
       "      <td>700000.0</td>\n",
       "      <td>:Qounter</td>\n",
       "      <td>http://www.qounter.com</td>\n",
       "      <td>Application Platforms|Real Time|Social Network...</td>\n",
       "      <td>operating</td>\n",
       "      <td>USA</td>\n",
       "      <td>DE</td>\n",
       "      <td>DE - Other</td>\n",
       "      <td>Delaware City</td>\n",
       "      <td>04-09-2014</td>\n",
       "    </tr>\n",
       "    <tr>\n",
       "      <th>/organization/-the-one-of-them-inc-</th>\n",
       "      <td>/funding-round/650b8f704416801069bb178a1418776b</td>\n",
       "      <td>venture</td>\n",
       "      <td>B</td>\n",
       "      <td>30-01-2014</td>\n",
       "      <td>3406878.0</td>\n",
       "      <td>(THE) ONE of THEM,Inc.</td>\n",
       "      <td>http://oneofthem.jp</td>\n",
       "      <td>Apps|Games|Mobile</td>\n",
       "      <td>operating</td>\n",
       "      <td>NaN</td>\n",
       "      <td>NaN</td>\n",
       "      <td>NaN</td>\n",
       "      <td>NaN</td>\n",
       "      <td>NaN</td>\n",
       "    </tr>\n",
       "    <tr>\n",
       "      <th>/organization/0-6-com</th>\n",
       "      <td>/funding-round/5727accaeaa57461bd22a9bdd945382d</td>\n",
       "      <td>venture</td>\n",
       "      <td>A</td>\n",
       "      <td>19-03-2008</td>\n",
       "      <td>2000000.0</td>\n",
       "      <td>0-6.com</td>\n",
       "      <td>http://www.0-6.com</td>\n",
       "      <td>Curated Web</td>\n",
       "      <td>operating</td>\n",
       "      <td>CHN</td>\n",
       "      <td>22</td>\n",
       "      <td>Beijing</td>\n",
       "      <td>Beijing</td>\n",
       "      <td>01-01-2007</td>\n",
       "    </tr>\n",
       "  </tbody>\n",
       "</table>\n",
       "</div>"
      ],
      "text/plain": [
       "                                                             funding_round_permalink  \\\n",
       "permalink                                                                              \n",
       "/organization/-fame                  /funding-round/9a01d05418af9f794eebff7ace91f638   \n",
       "/organization/-qounter               /funding-round/22dacff496eb7acb2b901dec1dfe5633   \n",
       "/organization/-qounter               /funding-round/b44fbb94153f6cdef13083530bb48030   \n",
       "/organization/-the-one-of-them-inc-  /funding-round/650b8f704416801069bb178a1418776b   \n",
       "/organization/0-6-com                /funding-round/5727accaeaa57461bd22a9bdd945382d   \n",
       "\n",
       "                                    funding_round_type funding_round_code  \\\n",
       "permalink                                                                   \n",
       "/organization/-fame                            venture                  B   \n",
       "/organization/-qounter                         venture                  A   \n",
       "/organization/-qounter                            seed                NaN   \n",
       "/organization/-the-one-of-them-inc-            venture                  B   \n",
       "/organization/0-6-com                          venture                  A   \n",
       "\n",
       "                                      funded_at  raised_amount_usd  \\\n",
       "permalink                                                            \n",
       "/organization/-fame                  05-01-2015         10000000.0   \n",
       "/organization/-qounter               14-10-2014                NaN   \n",
       "/organization/-qounter               01-03-2014           700000.0   \n",
       "/organization/-the-one-of-them-inc-  30-01-2014          3406878.0   \n",
       "/organization/0-6-com                19-03-2008          2000000.0   \n",
       "\n",
       "                                                       name  \\\n",
       "permalink                                                     \n",
       "/organization/-fame                                   #fame   \n",
       "/organization/-qounter                             :Qounter   \n",
       "/organization/-qounter                             :Qounter   \n",
       "/organization/-the-one-of-them-inc-  (THE) ONE of THEM,Inc.   \n",
       "/organization/0-6-com                               0-6.com   \n",
       "\n",
       "                                               homepage_url  \\\n",
       "permalink                                                     \n",
       "/organization/-fame                      http://livfame.com   \n",
       "/organization/-qounter               http://www.qounter.com   \n",
       "/organization/-qounter               http://www.qounter.com   \n",
       "/organization/-the-one-of-them-inc-     http://oneofthem.jp   \n",
       "/organization/0-6-com                    http://www.0-6.com   \n",
       "\n",
       "                                                                         category_list  \\\n",
       "permalink                                                                                \n",
       "/organization/-fame                                                              Media   \n",
       "/organization/-qounter               Application Platforms|Real Time|Social Network...   \n",
       "/organization/-qounter               Application Platforms|Real Time|Social Network...   \n",
       "/organization/-the-one-of-them-inc-                                  Apps|Games|Mobile   \n",
       "/organization/0-6-com                                                      Curated Web   \n",
       "\n",
       "                                        status country_code state_code  \\\n",
       "permalink                                                                \n",
       "/organization/-fame                  operating          IND         16   \n",
       "/organization/-qounter               operating          USA         DE   \n",
       "/organization/-qounter               operating          USA         DE   \n",
       "/organization/-the-one-of-them-inc-  operating          NaN        NaN   \n",
       "/organization/0-6-com                operating          CHN         22   \n",
       "\n",
       "                                         region           city  founded_at  \n",
       "permalink                                                                   \n",
       "/organization/-fame                      Mumbai         Mumbai         NaN  \n",
       "/organization/-qounter               DE - Other  Delaware City  04-09-2014  \n",
       "/organization/-qounter               DE - Other  Delaware City  04-09-2014  \n",
       "/organization/-the-one-of-them-inc-         NaN            NaN         NaN  \n",
       "/organization/0-6-com                   Beijing        Beijing  01-01-2007  "
      ]
     },
     "execution_count": 22,
     "metadata": {},
     "output_type": "execute_result"
    }
   ],
   "source": [
    "master_frame.head()"
   ]
  },
  {
   "cell_type": "code",
   "execution_count": 23,
   "id": "3efe428d",
   "metadata": {},
   "outputs": [
    {
     "name": "stdout",
     "output_type": "stream",
     "text": [
      "master_frame shape - (114949, 14)\n"
     ]
    }
   ],
   "source": [
    "print('master_frame shape -', master_frame.shape)"
   ]
  },
  {
   "cell_type": "markdown",
   "id": "34085616",
   "metadata": {},
   "source": [
    "### Drop the columns with null values\n",
    "As discssed earlier lets drop the columns\n",
    "- homepage_url\n",
    "- state_code\n",
    "- region\n",
    "- city\n",
    "- founded_at\n",
    "- funding_round_code"
   ]
  },
  {
   "cell_type": "code",
   "execution_count": 24,
   "id": "550ade9b",
   "metadata": {},
   "outputs": [],
   "source": [
    "master_frame = master_frame.drop(['homepage_url', 'state_code', 'region', 'city', 'founded_at', 'funding_round_code'], \n",
    "                                 axis=1)"
   ]
  },
  {
   "cell_type": "code",
   "execution_count": 25,
   "id": "ed36e0ad",
   "metadata": {},
   "outputs": [
    {
     "data": {
      "text/plain": [
       "funding_round_permalink        0\n",
       "funding_round_type             0\n",
       "funded_at                      0\n",
       "raised_amount_usd          19990\n",
       "name                           1\n",
       "category_list               3410\n",
       "status                         0\n",
       "country_code                8678\n",
       "dtype: int64"
      ]
     },
     "execution_count": 25,
     "metadata": {},
     "output_type": "execute_result"
    }
   ],
   "source": [
    "master_frame.isnull().sum()"
   ]
  },
  {
   "cell_type": "code",
   "execution_count": 26,
   "id": "62f012c5",
   "metadata": {},
   "outputs": [
    {
     "data": {
      "text/plain": [
       "funding_round_permalink     0.000000\n",
       "funding_round_type          0.000000\n",
       "funded_at                   0.000000\n",
       "raised_amount_usd          17.390321\n",
       "name                        0.000870\n",
       "category_list               2.966533\n",
       "status                      0.000000\n",
       "country_code                7.549435\n",
       "dtype: float64"
      ]
     },
     "execution_count": 26,
     "metadata": {},
     "output_type": "execute_result"
    }
   ],
   "source": [
    "100*master_frame.isnull().sum()/len(master_frame.index)"
   ]
  },
  {
   "cell_type": "markdown",
   "id": "c2475ed8",
   "metadata": {},
   "source": [
    "### Drop rows with null data\n",
    "\n",
    "Now lets revisit the **raised_amount_usd** column, this column has ~20k rows with null value. Another important column for our analysis is **country_code** which has about ~8.6k null records. Lets discuss about **country_code** first. "
   ]
  },
  {
   "cell_type": "code",
   "execution_count": 27,
   "id": "b1d28d5e",
   "metadata": {},
   "outputs": [
    {
     "data": {
      "text/plain": [
       "count     106271\n",
       "unique       137\n",
       "top          USA\n",
       "freq       72308\n",
       "Name: country_code, dtype: object"
      ]
     },
     "execution_count": 27,
     "metadata": {},
     "output_type": "execute_result"
    }
   ],
   "source": [
    "master_frame.country_code.describe()"
   ]
  },
  {
   "cell_type": "markdown",
   "id": "7a1dc2b5",
   "metadata": {},
   "source": [
    "USA is the highest occuring country and there are 137 unique contry codes. Now lets calculate the percentage to understand the distribution properly."
   ]
  },
  {
   "cell_type": "code",
   "execution_count": 28,
   "id": "d604aafd",
   "metadata": {
    "scrolled": true
   },
   "outputs": [
    {
     "data": {
      "text/plain": [
       "USA    62.904418\n",
       "GBR     5.190128\n",
       "CAN     2.709897\n",
       "CHN     2.342778\n",
       "IND     1.942601\n",
       "         ...    \n",
       "JEY     0.000870\n",
       "BRN     0.000870\n",
       "BLM     0.000870\n",
       "SYC     0.000870\n",
       "QAT     0.000870\n",
       "Name: country_code, Length: 137, dtype: float64"
      ]
     },
     "execution_count": 28,
     "metadata": {},
     "output_type": "execute_result"
    }
   ],
   "source": [
    "100*master_frame.country_code.value_counts()/len(master_frame.index)"
   ]
  },
  {
   "cell_type": "code",
   "execution_count": 29,
   "id": "1e8112d0",
   "metadata": {},
   "outputs": [
    {
     "data": {
      "text/plain": [
       "8678"
      ]
     },
     "execution_count": 29,
     "metadata": {},
     "output_type": "execute_result"
    }
   ],
   "source": [
    "master_frame.country_code.isnull().sum()"
   ]
  },
  {
   "cell_type": "markdown",
   "id": "96836dee",
   "metadata": {},
   "source": [
    "We can populate null values with country code USA as about **~63%** of the data has USA as country_code. However with such high number of records for USA, adding **8.6k** will not add significant value to our analysis. So we can remove the rows with null country codes.\n",
    "\n",
    "As 8.6k records we are removing anyways, this will remove some records with **raised_amount_usd** as null. This represents **~16%** of the data, so we can remove the records with null raised_amount_usd values. Also we are interested in top sectors which is least likely to be affected by removing the rows with raised_amount_usd null value. Lets start by removing the rows with country_code as null.\n",
    "\n",
    "**Note: We discuss this in detail at the end of the notebook**"
   ]
  },
  {
   "cell_type": "code",
   "execution_count": 30,
   "id": "c28855e7",
   "metadata": {},
   "outputs": [],
   "source": [
    "master_frame = master_frame[~master_frame.country_code.isna()]"
   ]
  },
  {
   "cell_type": "code",
   "execution_count": 31,
   "id": "891b9d77",
   "metadata": {},
   "outputs": [
    {
     "data": {
      "text/plain": [
       "funding_round_permalink     0.000000\n",
       "funding_round_type          0.000000\n",
       "funded_at                   0.000000\n",
       "raised_amount_usd          16.150220\n",
       "name                        0.000941\n",
       "category_list               1.636382\n",
       "status                      0.000000\n",
       "country_code                0.000000\n",
       "dtype: float64"
      ]
     },
     "execution_count": 31,
     "metadata": {},
     "output_type": "execute_result"
    }
   ],
   "source": [
    "100*master_frame.isnull().sum()/len(master_frame.index)"
   ]
  },
  {
   "cell_type": "code",
   "execution_count": 32,
   "id": "358f0a74",
   "metadata": {},
   "outputs": [],
   "source": [
    "master_frame = master_frame[~master_frame.raised_amount_usd.isnull()]"
   ]
  },
  {
   "cell_type": "code",
   "execution_count": 33,
   "id": "443fec24",
   "metadata": {},
   "outputs": [
    {
     "data": {
      "text/plain": [
       "funding_round_permalink    0.000000\n",
       "funding_round_type         0.000000\n",
       "funded_at                  0.000000\n",
       "raised_amount_usd          0.000000\n",
       "name                       0.001122\n",
       "category_list              0.649773\n",
       "status                     0.000000\n",
       "country_code               0.000000\n",
       "dtype: float64"
      ]
     },
     "execution_count": 33,
     "metadata": {},
     "output_type": "execute_result"
    }
   ],
   "source": [
    "100*master_frame.isnull().sum()/len(master_frame.index)"
   ]
  },
  {
   "cell_type": "code",
   "execution_count": 34,
   "id": "189eb849",
   "metadata": {},
   "outputs": [
    {
     "name": "stdout",
     "output_type": "stream",
     "text": [
      "master_frame shape after removing rows with null raised_funding_usd - (89108, 8)\n"
     ]
    }
   ],
   "source": [
    "print('master_frame shape after removing rows with null raised_funding_usd -', master_frame.shape)"
   ]
  },
  {
   "cell_type": "markdown",
   "id": "a8e40de4",
   "metadata": {},
   "source": [
    "Now lets analyse the country_code as its important column for our analysis."
   ]
  },
  {
   "cell_type": "markdown",
   "id": "0c31f053",
   "metadata": {},
   "source": [
    "We can drop the records with category_list as null as its just 0.65% of total data. There are also very small number of records with name as null but we can live with it. "
   ]
  },
  {
   "cell_type": "code",
   "execution_count": 35,
   "id": "446642a9",
   "metadata": {},
   "outputs": [],
   "source": [
    "master_frame = master_frame[~master_frame.category_list.isnull()]"
   ]
  },
  {
   "cell_type": "code",
   "execution_count": 36,
   "id": "4c07350b",
   "metadata": {
    "scrolled": true
   },
   "outputs": [
    {
     "data": {
      "text/plain": [
       "funding_round_permalink    0.00000\n",
       "funding_round_type         0.00000\n",
       "funded_at                  0.00000\n",
       "raised_amount_usd          0.00000\n",
       "name                       0.00113\n",
       "category_list              0.00000\n",
       "status                     0.00000\n",
       "country_code               0.00000\n",
       "dtype: float64"
      ]
     },
     "execution_count": 36,
     "metadata": {},
     "output_type": "execute_result"
    }
   ],
   "source": [
    "100*master_frame.isnull().sum()/len(master_frame.index)"
   ]
  },
  {
   "cell_type": "code",
   "execution_count": 37,
   "id": "fa0c2f69",
   "metadata": {
    "scrolled": true
   },
   "outputs": [],
   "source": [
    "master_frame.reset_index(inplace=True)"
   ]
  },
  {
   "cell_type": "code",
   "execution_count": 38,
   "id": "3c3542d7",
   "metadata": {},
   "outputs": [
    {
     "data": {
      "text/plain": [
       "(88529, 9)"
      ]
     },
     "execution_count": 38,
     "metadata": {},
     "output_type": "execute_result"
    }
   ],
   "source": [
    "master_frame.shape"
   ]
  },
  {
   "cell_type": "markdown",
   "id": "ab237b22",
   "metadata": {},
   "source": [
    "## End of Checkpoint 1: Data Cleaning 1"
   ]
  },
  {
   "cell_type": "markdown",
   "id": "adc35fbf",
   "metadata": {},
   "source": [
    "------------------------------------------------------------"
   ]
  },
  {
   "cell_type": "markdown",
   "id": "40cbab72",
   "metadata": {},
   "source": [
    "## Checkpoint 2: Funding Type Analysis"
   ]
  },
  {
   "cell_type": "markdown",
   "id": "e68bb15c",
   "metadata": {},
   "source": [
    "Now lets focus on the funding type analysis. The Spark Funds wants to \n",
    "- choose one of the 4 investment types \n",
    "  - venture\n",
    "  - angel\n",
    "  - seed\n",
    "  - private equity\n",
    "- invest between 5 to 15 million USD per investment round\n",
    "\n",
    "Lets start by describing the raised_amount_usd column"
   ]
  },
  {
   "cell_type": "code",
   "execution_count": 39,
   "id": "861e3b2a",
   "metadata": {},
   "outputs": [
    {
     "data": {
      "text/plain": [
       "count    8.852900e+04\n",
       "mean     1.047385e+07\n",
       "std      1.118118e+08\n",
       "min      0.000000e+00\n",
       "25%      3.705180e+05\n",
       "50%      1.800000e+06\n",
       "75%      7.100000e+06\n",
       "max      2.127194e+10\n",
       "Name: raised_amount_usd, dtype: float64"
      ]
     },
     "execution_count": 39,
     "metadata": {},
     "output_type": "execute_result"
    }
   ],
   "source": [
    "master_frame.raised_amount_usd.describe()"
   ]
  },
  {
   "cell_type": "markdown",
   "id": "2410bad1",
   "metadata": {},
   "source": [
    "There is huge difference between the min and max values. The mean is at about ~10.4 million which is more than the 75th quartile which is at about ~7.1 million.\n",
    "Lets try to focus on the data pertaining to the four types of investment types and compare the mean, median numbers."
   ]
  },
  {
   "cell_type": "code",
   "execution_count": 40,
   "id": "29b818fb",
   "metadata": {},
   "outputs": [],
   "source": [
    "master_frame = master_frame[(master_frame['funding_round_type'] == 'angel') |\n",
    "                            (master_frame['funding_round_type'] == 'venture') |\n",
    "                            (master_frame['funding_round_type'] == 'seed') |\n",
    "                            (master_frame['funding_round_type'] == 'private_equity')]"
   ]
  },
  {
   "cell_type": "code",
   "execution_count": 41,
   "id": "a5b58bf3",
   "metadata": {},
   "outputs": [
    {
     "data": {
      "text/plain": [
       "venture           47809\n",
       "seed              21095\n",
       "angel              4400\n",
       "private_equity     1820\n",
       "Name: funding_round_type, dtype: int64"
      ]
     },
     "execution_count": 41,
     "metadata": {},
     "output_type": "execute_result"
    }
   ],
   "source": [
    "master_frame.funding_round_type.value_counts()"
   ]
  },
  {
   "cell_type": "code",
   "execution_count": 42,
   "id": "251e1290",
   "metadata": {},
   "outputs": [
    {
     "data": {
      "text/plain": [
       "count    7.512400e+04\n",
       "mean     9.519475e+06\n",
       "std      7.792778e+07\n",
       "min      0.000000e+00\n",
       "25%      4.705852e+05\n",
       "50%      2.000000e+06\n",
       "75%      8.000000e+06\n",
       "max      1.760000e+10\n",
       "Name: raised_amount_usd, dtype: float64"
      ]
     },
     "execution_count": 42,
     "metadata": {},
     "output_type": "execute_result"
    }
   ],
   "source": [
    "master_frame.raised_amount_usd.describe()"
   ]
  },
  {
   "cell_type": "markdown",
   "id": "e118a2ad",
   "metadata": {},
   "source": [
    "Lets plot a boxplot for each investment types to get an idea of the spread of the data."
   ]
  },
  {
   "cell_type": "code",
   "execution_count": 43,
   "id": "8378fdab",
   "metadata": {},
   "outputs": [
    {
     "data": {
      "image/png": "[encoded data removed]",
      "text/plain": [
       "<Figure size 432x288 with 1 Axes>"
      ]
     },
     "metadata": {
      "needs_background": "light"
     },
     "output_type": "display_data"
    }
   ],
   "source": [
    "sns.boxplot(y=master_frame['raised_amount_usd'], x=master_frame['funding_round_type'])\n",
    "plt.ylabel('Total funding (USD)')\n",
    "plt.xlabel('Funding Type')\n",
    "plt.yscale('log')\n",
    "plt.show()"
   ]
  },
  {
   "cell_type": "markdown",
   "id": "7c248b3c",
   "metadata": {},
   "source": [
    "There are quite a few outliers for each type investment type. The mean for each type is more than the 75th quartile. Lets create a pivote table of funding type and the mean and median amount invested. "
   ]
  },
  {
   "cell_type": "code",
   "execution_count": 44,
   "id": "bfec6934",
   "metadata": {
    "scrolled": true
   },
   "outputs": [
    {
     "data": {
      "text/html": [
       "<div>\n",
       "<style scoped>\n",
       "    .dataframe tbody tr th:only-of-type {\n",
       "        vertical-align: middle;\n",
       "    }\n",
       "\n",
       "    .dataframe tbody tr th {\n",
       "        vertical-align: top;\n",
       "    }\n",
       "\n",
       "    .dataframe thead tr th {\n",
       "        text-align: left;\n",
       "    }\n",
       "</style>\n",
       "<table border=\"1\" class=\"dataframe\">\n",
       "  <thead>\n",
       "    <tr>\n",
       "      <th></th>\n",
       "      <th colspan=\"4\" halign=\"left\">median</th>\n",
       "      <th colspan=\"4\" halign=\"left\">mean</th>\n",
       "    </tr>\n",
       "    <tr>\n",
       "      <th>funding_round_type</th>\n",
       "      <th>angel</th>\n",
       "      <th>private_equity</th>\n",
       "      <th>seed</th>\n",
       "      <th>venture</th>\n",
       "      <th>angel</th>\n",
       "      <th>private_equity</th>\n",
       "      <th>seed</th>\n",
       "      <th>venture</th>\n",
       "    </tr>\n",
       "  </thead>\n",
       "  <tbody>\n",
       "    <tr>\n",
       "      <th>raised_amount_usd</th>\n",
       "      <td>414906.0</td>\n",
       "      <td>20000000.0</td>\n",
       "      <td>300000.0</td>\n",
       "      <td>5000000.0</td>\n",
       "      <td>971573.891136</td>\n",
       "      <td>7.393849e+07</td>\n",
       "      <td>747793.682484</td>\n",
       "      <td>1.172422e+07</td>\n",
       "    </tr>\n",
       "  </tbody>\n",
       "</table>\n",
       "</div>"
      ],
      "text/plain": [
       "                      median                                      \\\n",
       "funding_round_type     angel private_equity      seed    venture   \n",
       "raised_amount_usd   414906.0     20000000.0  300000.0  5000000.0   \n",
       "\n",
       "                             mean                                              \n",
       "funding_round_type          angel private_equity           seed       venture  \n",
       "raised_amount_usd   971573.891136   7.393849e+07  747793.682484  1.172422e+07  "
      ]
     },
     "execution_count": 44,
     "metadata": {},
     "output_type": "execute_result"
    }
   ],
   "source": [
    "pd.pivot_table(data=master_frame, columns='funding_round_type', values='raised_amount_usd', aggfunc=[np.median, np.mean])"
   ]
  },
  {
   "cell_type": "markdown",
   "id": "505de79d",
   "metadata": {},
   "source": [
    "As we can see that there is big difference between mean and median for each type of funding and from the boxplot we can see that there are outliers for each funding type we should consider median as representative value for funding types. "
   ]
  },
  {
   "cell_type": "markdown",
   "id": "5a437afc",
   "metadata": {},
   "source": [
    "From the boxplot \n",
    "- the median of venture funding is 5 million and the mean is ~11.7 million. Both these numbers are within the targeted investment amount of Spark Funds.\n",
    "- the median of seed funding is 300000 and the mean is ~747793. Both these numbers are way below the desired investment amount of Spark Funds\n",
    "- the median of angel funding is 414906 and the mean is ~971573. Again both these numbers are less than the Spark Funds targeted investment amount\n",
    "- the median of private equity is 20 million and the mean is ~73.93 million. Both these amounts are more than the Spark Funds investment targets\n",
    "\n",
    "**The venture investment type should be considered by Spark Funds.**"
   ]
  },
  {
   "cell_type": "markdown",
   "id": "568b8bc6",
   "metadata": {},
   "source": [
    "## End of Checkpoint 2: Funding Type Analysis"
   ]
  },
  {
   "cell_type": "markdown",
   "id": "3acc2a10",
   "metadata": {},
   "source": [
    "------------------------------------------------------------------------------------"
   ]
  },
  {
   "cell_type": "markdown",
   "id": "95937f64",
   "metadata": {},
   "source": [
    "## Checkpoint 3: Country Analysis"
   ]
  },
  {
   "cell_type": "markdown",
   "id": "1765eca7",
   "metadata": {},
   "source": [
    "Spark Funds wants to invest in \n",
    "- countries with highest funding received in venture type\n",
    "- English speaking countries"
   ]
  },
  {
   "cell_type": "markdown",
   "id": "489b7482",
   "metadata": {},
   "source": [
    "Now that we have established vensture as preferred investment type, lets filter master_frame to only contain venture type data."
   ]
  },
  {
   "cell_type": "code",
   "execution_count": 45,
   "id": "876781ba",
   "metadata": {
    "scrolled": true
   },
   "outputs": [
    {
     "data": {
      "text/html": [
       "<div>\n",
       "<style scoped>\n",
       "    .dataframe tbody tr th:only-of-type {\n",
       "        vertical-align: middle;\n",
       "    }\n",
       "\n",
       "    .dataframe tbody tr th {\n",
       "        vertical-align: top;\n",
       "    }\n",
       "\n",
       "    .dataframe thead th {\n",
       "        text-align: right;\n",
       "    }\n",
       "</style>\n",
       "<table border=\"1\" class=\"dataframe\">\n",
       "  <thead>\n",
       "    <tr style=\"text-align: right;\">\n",
       "      <th></th>\n",
       "      <th>raised_amount_usd</th>\n",
       "    </tr>\n",
       "    <tr>\n",
       "      <th>country_code</th>\n",
       "      <th></th>\n",
       "    </tr>\n",
       "  </thead>\n",
       "  <tbody>\n",
       "    <tr>\n",
       "      <th>USA</th>\n",
       "      <td>4.200680e+11</td>\n",
       "    </tr>\n",
       "    <tr>\n",
       "      <th>CHN</th>\n",
       "      <td>3.933892e+10</td>\n",
       "    </tr>\n",
       "    <tr>\n",
       "      <th>GBR</th>\n",
       "      <td>2.007281e+10</td>\n",
       "    </tr>\n",
       "    <tr>\n",
       "      <th>IND</th>\n",
       "      <td>1.426151e+10</td>\n",
       "    </tr>\n",
       "    <tr>\n",
       "      <th>CAN</th>\n",
       "      <td>9.482218e+09</td>\n",
       "    </tr>\n",
       "    <tr>\n",
       "      <th>FRA</th>\n",
       "      <td>7.226851e+09</td>\n",
       "    </tr>\n",
       "    <tr>\n",
       "      <th>ISR</th>\n",
       "      <td>6.854350e+09</td>\n",
       "    </tr>\n",
       "    <tr>\n",
       "      <th>DEU</th>\n",
       "      <td>6.306922e+09</td>\n",
       "    </tr>\n",
       "    <tr>\n",
       "      <th>JPN</th>\n",
       "      <td>3.167647e+09</td>\n",
       "    </tr>\n",
       "  </tbody>\n",
       "</table>\n",
       "</div>"
      ],
      "text/plain": [
       "              raised_amount_usd\n",
       "country_code                   \n",
       "USA                4.200680e+11\n",
       "CHN                3.933892e+10\n",
       "GBR                2.007281e+10\n",
       "IND                1.426151e+10\n",
       "CAN                9.482218e+09\n",
       "FRA                7.226851e+09\n",
       "ISR                6.854350e+09\n",
       "DEU                6.306922e+09\n",
       "JPN                3.167647e+09"
      ]
     },
     "execution_count": 45,
     "metadata": {},
     "output_type": "execute_result"
    }
   ],
   "source": [
    "top9 = master_frame[master_frame.funding_round_type == 'venture'].pivot_table(index='country_code', values='raised_amount_usd', aggfunc=np.sum)\n",
    "top9 = top9.sort_values(by='raised_amount_usd', ascending=False).iloc[:9, ]\n",
    "top9"
   ]
  },
  {
   "cell_type": "markdown",
   "id": "09880ea3",
   "metadata": {},
   "source": [
    "In terms of total funding amount USA tops the list with ~420 billion USD followed by China with ~39 billion USD and Great Britain with ~20 billion. \\\n",
    "But as China is not English speaking country, Spark Funds should consder below top 3 investment friendly countries for venture funding \n",
    "1. **USA : ~420 billion USD**\n",
    "2. **Great Britan : ~20 billion USD**\n",
    "3. **India : ~14.2 billion USD**"
   ]
  },
  {
   "cell_type": "markdown",
   "id": "40b6bedb",
   "metadata": {},
   "source": [
    "Lets filter master_frame with data for top three countries."
   ]
  },
  {
   "cell_type": "markdown",
   "id": "7b2cebff",
   "metadata": {},
   "source": [
    "## End of Checkpoint 3: Country Analysis"
   ]
  },
  {
   "cell_type": "markdown",
   "id": "1ed16b38",
   "metadata": {},
   "source": [
    "------------------------------------------------------------------------------------------------------------"
   ]
  },
  {
   "cell_type": "markdown",
   "id": "0c82aa24",
   "metadata": {},
   "source": [
    "## Checkpoint 4: Sector Analysis 1"
   ]
  },
  {
   "cell_type": "markdown",
   "id": "30cd0c79",
   "metadata": {},
   "source": [
    "As the category_list can contain multiple categories separated by '|', we need to extract primary primary sector from category list."
   ]
  },
  {
   "cell_type": "code",
   "execution_count": 46,
   "id": "1d0952d8",
   "metadata": {},
   "outputs": [],
   "source": [
    "master_frame['category_list'] = master_frame.category_list.apply(lambda x: x.split('|')[0])"
   ]
  },
  {
   "cell_type": "markdown",
   "id": "2df776d4",
   "metadata": {},
   "source": [
    "Lets analyse the mapping data for null values."
   ]
  },
  {
   "cell_type": "code",
   "execution_count": 47,
   "id": "f28fae27",
   "metadata": {
    "scrolled": true
   },
   "outputs": [
    {
     "data": {
      "text/plain": [
       "1"
      ]
     },
     "execution_count": 47,
     "metadata": {},
     "output_type": "execute_result"
    }
   ],
   "source": [
    "mapping.category_list.isna().sum()"
   ]
  },
  {
   "cell_type": "code",
   "execution_count": 48,
   "id": "7ff7c515",
   "metadata": {},
   "outputs": [
    {
     "data": {
      "text/plain": [
       "0"
      ]
     },
     "execution_count": 48,
     "metadata": {},
     "output_type": "execute_result"
    }
   ],
   "source": [
    "master_frame.category_list.isna().sum()"
   ]
  },
  {
   "cell_type": "markdown",
   "id": "4d69ec7d",
   "metadata": {},
   "source": [
    "The category list in mapping data contains one NaN value bur the master frame does not contain any NaN for primary sector so we will drop the row from mapping with NaN category."
   ]
  },
  {
   "cell_type": "code",
   "execution_count": 49,
   "id": "499291a4",
   "metadata": {},
   "outputs": [],
   "source": [
    "mapping = mapping[~mapping.category_list.isna()]"
   ]
  },
  {
   "cell_type": "code",
   "execution_count": 50,
   "id": "2fcfa282",
   "metadata": {},
   "outputs": [
    {
     "data": {
      "text/plain": [
       "0"
      ]
     },
     "execution_count": 50,
     "metadata": {},
     "output_type": "execute_result"
    }
   ],
   "source": [
    "mapping.category_list.isna().sum()"
   ]
  },
  {
   "cell_type": "code",
   "execution_count": 51,
   "id": "6cc9cb81",
   "metadata": {},
   "outputs": [
    {
     "data": {
      "text/plain": [
       "count                        687\n",
       "unique                       687\n",
       "top       Call Center Automation\n",
       "freq                           1\n",
       "Name: category_list, dtype: object"
      ]
     },
     "execution_count": 51,
     "metadata": {},
     "output_type": "execute_result"
    }
   ],
   "source": [
    "mapping.category_list.describe()"
   ]
  },
  {
   "cell_type": "markdown",
   "id": "de4ecf91",
   "metadata": {},
   "source": [
    "The category_list has all unique values so lets set index on category_list"
   ]
  },
  {
   "cell_type": "code",
   "execution_count": 52,
   "id": "42b88732",
   "metadata": {
    "scrolled": false
   },
   "outputs": [
    {
     "data": {
      "text/plain": [
       "{'0notechnology',\n",
       " '0tural Language Processing',\n",
       " '0tural Resources',\n",
       " '0vigation',\n",
       " 'A0lytics',\n",
       " 'Alter0tive Medicine',\n",
       " 'Big Data A0lytics',\n",
       " 'Business A0lytics',\n",
       " 'Can0bis',\n",
       " 'Career Ma0gement',\n",
       " 'Chi0 Internet',\n",
       " 'Cloud Ma0gement',\n",
       " 'Contact Ma0gement',\n",
       " 'Digital Rights Ma0gement',\n",
       " 'Digital Sig0ge',\n",
       " 'Document Ma0gement',\n",
       " 'Educatio0l Games',\n",
       " 'Energy Ma0gement',\n",
       " 'Energy Storage',\n",
       " 'Event Ma0gement',\n",
       " 'Fi0nce',\n",
       " 'Fi0nce Technology',\n",
       " 'Fi0ncial Exchanges',\n",
       " 'Fi0ncial Services',\n",
       " 'Film Distribution',\n",
       " 'Fleet Ma0gement',\n",
       " 'Flowers',\n",
       " 'Fmcg',\n",
       " 'Gover0nce',\n",
       " 'IT Ma0gement',\n",
       " 'Identity Ma0gement',\n",
       " 'Innovation Ma0gement',\n",
       " 'Intellectual Asset Ma0gement',\n",
       " 'Investment Ma0gement',\n",
       " 'Jour0lism',\n",
       " 'Knowledge Ma0gement',\n",
       " 'Lead Ma0gement',\n",
       " 'Lotteries',\n",
       " 'Low Bid Auctions',\n",
       " 'Medical Professio0ls',\n",
       " 'Mobile A0lytics',\n",
       " 'Multi-level Marketing',\n",
       " 'Performance Marketing',\n",
       " 'Perso0l Branding',\n",
       " 'Perso0l Data',\n",
       " 'Perso0l Fi0nce',\n",
       " 'Perso0l Health',\n",
       " 'Perso0lization',\n",
       " 'Pervasive Computing',\n",
       " 'Plumbers',\n",
       " 'Predictive A0lytics',\n",
       " 'Professio0l Networking',\n",
       " 'Professio0l Services',\n",
       " 'Project Ma0gement',\n",
       " 'Promotio0l',\n",
       " 'Property Ma0gement',\n",
       " 'Renewable Tech',\n",
       " 'Risk Ma0gement',\n",
       " 'Smart Grid',\n",
       " 'Social Business',\n",
       " 'Social Media Ma0gement',\n",
       " 'Social Recruiting',\n",
       " 'Supply Chain Ma0gement',\n",
       " 'Task Ma0gement',\n",
       " 'Taxis',\n",
       " 'Veteri0ry',\n",
       " 'Virtual Workforces',\n",
       " 'Waste Ma0gement',\n",
       " 'Women'}"
      ]
     },
     "execution_count": 52,
     "metadata": {},
     "output_type": "execute_result"
    }
   ],
   "source": [
    "set(mapping.category_list).difference(master_frame.category_list)"
   ]
  },
  {
   "cell_type": "markdown",
   "id": "91440edf",
   "metadata": {},
   "source": [
    "It looks like the mapping dataframe has Na/na in category_list replaced with 0. Lets correct this. "
   ]
  },
  {
   "cell_type": "code",
   "execution_count": 53,
   "id": "c0b3dbb8",
   "metadata": {},
   "outputs": [],
   "source": [
    "def replace_0_with_n(x):\n",
    "    if x[0] == '0':\n",
    "        x = x.replace('0', 'Na')\n",
    "    elif x.find('.0') == -1:\n",
    "        x = x.replace('0', 'na')\n",
    "    return x"
   ]
  },
  {
   "cell_type": "code",
   "execution_count": 54,
   "id": "6fef3b18",
   "metadata": {
    "scrolled": true
   },
   "outputs": [],
   "source": [
    "mapping['category_list'] = mapping.category_list.replace({'0':'na', '2.na' :'2.0'}, regex=True)"
   ]
  },
  {
   "cell_type": "markdown",
   "id": "b8d2a8b8",
   "metadata": {},
   "source": [
    "The mapping dataframe has category as row and main sector as columns. The category to sector relationship is denited with an integer value of 1 in sector column. The format of mapping dataframe is difficult to work with so we will add an extra column in the mapping dataframe with name of the sector. \\\n",
    "Use melt() function of pandas to unpivot the sector column."
   ]
  },
  {
   "cell_type": "code",
   "execution_count": 55,
   "id": "f7ffb1d9",
   "metadata": {},
   "outputs": [
    {
     "data": {
      "text/html": [
       "<div>\n",
       "<style scoped>\n",
       "    .dataframe tbody tr th:only-of-type {\n",
       "        vertical-align: middle;\n",
       "    }\n",
       "\n",
       "    .dataframe tbody tr th {\n",
       "        vertical-align: top;\n",
       "    }\n",
       "\n",
       "    .dataframe thead th {\n",
       "        text-align: right;\n",
       "    }\n",
       "</style>\n",
       "<table border=\"1\" class=\"dataframe\">\n",
       "  <thead>\n",
       "    <tr style=\"text-align: right;\">\n",
       "      <th></th>\n",
       "      <th>category_list</th>\n",
       "      <th>sector</th>\n",
       "    </tr>\n",
       "  </thead>\n",
       "  <tbody>\n",
       "    <tr>\n",
       "      <th>0</th>\n",
       "      <td>3D</td>\n",
       "      <td>Manufacturing</td>\n",
       "    </tr>\n",
       "    <tr>\n",
       "      <th>1</th>\n",
       "      <td>3D Printing</td>\n",
       "      <td>Manufacturing</td>\n",
       "    </tr>\n",
       "    <tr>\n",
       "      <th>2</th>\n",
       "      <td>3D Technology</td>\n",
       "      <td>Manufacturing</td>\n",
       "    </tr>\n",
       "    <tr>\n",
       "      <th>6</th>\n",
       "      <td>Advanced Materials</td>\n",
       "      <td>Manufacturing</td>\n",
       "    </tr>\n",
       "    <tr>\n",
       "      <th>14</th>\n",
       "      <td>Agriculture</td>\n",
       "      <td>Manufacturing</td>\n",
       "    </tr>\n",
       "  </tbody>\n",
       "</table>\n",
       "</div>"
      ],
      "text/plain": [
       "         category_list         sector\n",
       "0                   3D  Manufacturing\n",
       "1          3D Printing  Manufacturing\n",
       "2        3D Technology  Manufacturing\n",
       "6   Advanced Materials  Manufacturing\n",
       "14         Agriculture  Manufacturing"
      ]
     },
     "execution_count": 55,
     "metadata": {},
     "output_type": "execute_result"
    }
   ],
   "source": [
    "mapping = pd.melt(mapping, id_vars =['category_list'], value_vars =['Manufacturing','Automotive & Sports',\n",
    "                                                              'Cleantech / Semiconductors','Entertainment',\n",
    "                                                             'Health','News, Search and Messaging','Others',\n",
    "                                                             'Social, Finance, Analytics, Advertising']) \n",
    "mapping = mapping[~(mapping.value == 0)]\n",
    "mapping = mapping.drop('value', axis = 1)\n",
    "mapping = mapping.rename(columns = {\"variable\":\"sector\"})\n",
    "mapping.head()"
   ]
  },
  {
   "cell_type": "code",
   "execution_count": 56,
   "id": "c982967d",
   "metadata": {},
   "outputs": [],
   "source": [
    "master_frame = master_frame.merge(mapping, how='left', on='category_list')"
   ]
  },
  {
   "cell_type": "code",
   "execution_count": 57,
   "id": "cb04f18f",
   "metadata": {},
   "outputs": [
    {
     "data": {
      "text/html": [
       "<div>\n",
       "<style scoped>\n",
       "    .dataframe tbody tr th:only-of-type {\n",
       "        vertical-align: middle;\n",
       "    }\n",
       "\n",
       "    .dataframe tbody tr th {\n",
       "        vertical-align: top;\n",
       "    }\n",
       "\n",
       "    .dataframe thead th {\n",
       "        text-align: right;\n",
       "    }\n",
       "</style>\n",
       "<table border=\"1\" class=\"dataframe\">\n",
       "  <thead>\n",
       "    <tr style=\"text-align: right;\">\n",
       "      <th></th>\n",
       "      <th>permalink</th>\n",
       "      <th>funding_round_permalink</th>\n",
       "      <th>funding_round_type</th>\n",
       "      <th>funded_at</th>\n",
       "      <th>raised_amount_usd</th>\n",
       "      <th>name</th>\n",
       "      <th>category_list</th>\n",
       "      <th>status</th>\n",
       "      <th>country_code</th>\n",
       "      <th>sector</th>\n",
       "    </tr>\n",
       "  </thead>\n",
       "  <tbody>\n",
       "    <tr>\n",
       "      <th>0</th>\n",
       "      <td>/organization/-fame</td>\n",
       "      <td>/funding-round/9a01d05418af9f794eebff7ace91f638</td>\n",
       "      <td>venture</td>\n",
       "      <td>05-01-2015</td>\n",
       "      <td>10000000.0</td>\n",
       "      <td>#fame</td>\n",
       "      <td>Media</td>\n",
       "      <td>operating</td>\n",
       "      <td>IND</td>\n",
       "      <td>Entertainment</td>\n",
       "    </tr>\n",
       "    <tr>\n",
       "      <th>1</th>\n",
       "      <td>/organization/-qounter</td>\n",
       "      <td>/funding-round/b44fbb94153f6cdef13083530bb48030</td>\n",
       "      <td>seed</td>\n",
       "      <td>01-03-2014</td>\n",
       "      <td>700000.0</td>\n",
       "      <td>:Qounter</td>\n",
       "      <td>Application Platforms</td>\n",
       "      <td>operating</td>\n",
       "      <td>USA</td>\n",
       "      <td>News, Search and Messaging</td>\n",
       "    </tr>\n",
       "    <tr>\n",
       "      <th>2</th>\n",
       "      <td>/organization/0-6-com</td>\n",
       "      <td>/funding-round/5727accaeaa57461bd22a9bdd945382d</td>\n",
       "      <td>venture</td>\n",
       "      <td>19-03-2008</td>\n",
       "      <td>2000000.0</td>\n",
       "      <td>0-6.com</td>\n",
       "      <td>Curated Web</td>\n",
       "      <td>operating</td>\n",
       "      <td>CHN</td>\n",
       "      <td>News, Search and Messaging</td>\n",
       "    </tr>\n",
       "    <tr>\n",
       "      <th>3</th>\n",
       "      <td>/organization/0ndine-biomedical-inc</td>\n",
       "      <td>/funding-round/2b9d3ac293d5cdccbecff5c8cb0f327d</td>\n",
       "      <td>seed</td>\n",
       "      <td>11-09-2009</td>\n",
       "      <td>43360.0</td>\n",
       "      <td>Ondine Biomedical Inc.</td>\n",
       "      <td>Biotechnology</td>\n",
       "      <td>operating</td>\n",
       "      <td>CAN</td>\n",
       "      <td>Cleantech / Semiconductors</td>\n",
       "    </tr>\n",
       "    <tr>\n",
       "      <th>4</th>\n",
       "      <td>/organization/0ndine-biomedical-inc</td>\n",
       "      <td>/funding-round/954b9499724b946ad8c396a57a5f3b72</td>\n",
       "      <td>venture</td>\n",
       "      <td>21-12-2009</td>\n",
       "      <td>719491.0</td>\n",
       "      <td>Ondine Biomedical Inc.</td>\n",
       "      <td>Biotechnology</td>\n",
       "      <td>operating</td>\n",
       "      <td>CAN</td>\n",
       "      <td>Cleantech / Semiconductors</td>\n",
       "    </tr>\n",
       "  </tbody>\n",
       "</table>\n",
       "</div>"
      ],
      "text/plain": [
       "                             permalink  \\\n",
       "0                  /organization/-fame   \n",
       "1               /organization/-qounter   \n",
       "2                /organization/0-6-com   \n",
       "3  /organization/0ndine-biomedical-inc   \n",
       "4  /organization/0ndine-biomedical-inc   \n",
       "\n",
       "                           funding_round_permalink funding_round_type  \\\n",
       "0  /funding-round/9a01d05418af9f794eebff7ace91f638            venture   \n",
       "1  /funding-round/b44fbb94153f6cdef13083530bb48030               seed   \n",
       "2  /funding-round/5727accaeaa57461bd22a9bdd945382d            venture   \n",
       "3  /funding-round/2b9d3ac293d5cdccbecff5c8cb0f327d               seed   \n",
       "4  /funding-round/954b9499724b946ad8c396a57a5f3b72            venture   \n",
       "\n",
       "    funded_at  raised_amount_usd                    name  \\\n",
       "0  05-01-2015         10000000.0                   #fame   \n",
       "1  01-03-2014           700000.0                :Qounter   \n",
       "2  19-03-2008          2000000.0                 0-6.com   \n",
       "3  11-09-2009            43360.0  Ondine Biomedical Inc.   \n",
       "4  21-12-2009           719491.0  Ondine Biomedical Inc.   \n",
       "\n",
       "           category_list     status country_code                      sector  \n",
       "0                  Media  operating          IND               Entertainment  \n",
       "1  Application Platforms  operating          USA  News, Search and Messaging  \n",
       "2            Curated Web  operating          CHN  News, Search and Messaging  \n",
       "3          Biotechnology  operating          CAN  Cleantech / Semiconductors  \n",
       "4          Biotechnology  operating          CAN  Cleantech / Semiconductors  "
      ]
     },
     "execution_count": 57,
     "metadata": {},
     "output_type": "execute_result"
    }
   ],
   "source": [
    "master_frame.head()"
   ]
  },
  {
   "cell_type": "code",
   "execution_count": 58,
   "id": "405f52f7",
   "metadata": {},
   "outputs": [
    {
     "data": {
      "text/plain": [
       "count        687\n",
       "unique         8\n",
       "top       Others\n",
       "freq         195\n",
       "Name: sector, dtype: object"
      ]
     },
     "execution_count": 58,
     "metadata": {},
     "output_type": "execute_result"
    }
   ],
   "source": [
    "mapping.sector.describe()"
   ]
  },
  {
   "cell_type": "code",
   "execution_count": 59,
   "id": "29c9babf",
   "metadata": {},
   "outputs": [
    {
     "data": {
      "text/plain": [
       "count             75124\n",
       "unique              695\n",
       "top       Biotechnology\n",
       "freq               7630\n",
       "Name: category_list, dtype: object"
      ]
     },
     "execution_count": 59,
     "metadata": {},
     "output_type": "execute_result"
    }
   ],
   "source": [
    "master_frame.category_list.describe()"
   ]
  },
  {
   "cell_type": "markdown",
   "id": "c9b4c72b",
   "metadata": {},
   "source": [
    "The master_frame contains 695 unique values of primary sector whereas mapping contains 687 categories. So lets figure put what is missing."
   ]
  },
  {
   "cell_type": "code",
   "execution_count": 60,
   "id": "b50f61f8",
   "metadata": {},
   "outputs": [
    {
     "data": {
      "text/plain": [
       "array(['Nanotechnology', 'Cause Marketing', 'English-Speaking',\n",
       "       'Navigation', 'Toys', 'Generation Y-Z', 'Enterprise Hardware',\n",
       "       'Social Media Advertising', 'Natural Gas Uses',\n",
       "       'Natural Language Processing', 'Internet Technology', 'Nightlife',\n",
       "       'Enterprise 2.0', 'Adaptive Equipment', 'Skill Gaming', 'Racing',\n",
       "       'Specialty Retail', 'Registrars', 'Internet TV',\n",
       "       'Biotechnology and Semiconductor', 'Vacation Rentals',\n",
       "       'Rapidly Expanding', 'Kinect', 'Product Search',\n",
       "       'Natural Resources', 'GreenTech', 'Retirement',\n",
       "       'Subscription Businesses', 'Sponsorship',\n",
       "       'Deep Information Technology', 'Golf Equipment'], dtype=object)"
      ]
     },
     "execution_count": 60,
     "metadata": {},
     "output_type": "execute_result"
    }
   ],
   "source": [
    "master_frame[master_frame.sector.isnull()].category_list.unique()"
   ]
  },
  {
   "cell_type": "markdown",
   "id": "f42c6217",
   "metadata": {},
   "source": [
    "It looks like the mapping dataframe has Na/na in category_list replaced with 0. Lets correct this. "
   ]
  },
  {
   "cell_type": "code",
   "execution_count": 61,
   "id": "ebb794e2",
   "metadata": {},
   "outputs": [
    {
     "data": {
      "text/plain": [
       "265"
      ]
     },
     "execution_count": 61,
     "metadata": {},
     "output_type": "execute_result"
    }
   ],
   "source": [
    "len(master_frame[master_frame.sector.isnull()])"
   ]
  },
  {
   "cell_type": "markdown",
   "id": "54811616",
   "metadata": {},
   "source": [
    "Below method replaces 0 with either Na or na based on index position of 0."
   ]
  },
  {
   "cell_type": "code",
   "execution_count": 62,
   "id": "bc258f39",
   "metadata": {
    "scrolled": true
   },
   "outputs": [
    {
     "name": "stdout",
     "output_type": "stream",
     "text": [
      "The difference in category_list between mapping and master_frame is  23\n"
     ]
    }
   ],
   "source": [
    "diff = set(mapping.category_list).difference(master_frame.category_list)\n",
    "print('The difference in category_list between mapping and master_frame is ', len(diff))"
   ]
  },
  {
   "cell_type": "code",
   "execution_count": 63,
   "id": "70fd006f",
   "metadata": {},
   "outputs": [
    {
     "name": "stdout",
     "output_type": "stream",
     "text": [
      "{'Sponsorship', 'Generation Y-Z', 'Golf Equipment', 'Natural Language Processing', 'Adaptive Equipment', 'Cause Marketing', 'Kinect', 'Enterprise Hardware', 'Registrars', 'Internet TV', 'Subscription Businesses', 'GreenTech', 'Natural Resources', 'Nightlife', 'Social Media Advertising', 'Skill Gaming', 'Retirement', 'Rapidly Expanding', 'Toys', 'Biotechnology and Semiconductor', 'Specialty Retail', 'English-Speaking', 'Navigation', 'Natural Gas Uses', 'Internet Technology', 'Enterprise 2.0', 'Nanotechnology', 'Deep Information Technology', 'Racing', 'Vacation Rentals', 'Product Search'}\n",
      "The difference in category_list between master_frame and mapping is  31\n"
     ]
    }
   ],
   "source": [
    "diff = set(master_frame.category_list).difference(set(mapping.category_list))\n",
    "print(diff)\n",
    "print('The difference in category_list between master_frame and mapping is ', len(diff))"
   ]
  },
  {
   "cell_type": "code",
   "execution_count": 64,
   "id": "e8e2fede",
   "metadata": {
    "scrolled": true
   },
   "outputs": [
    {
     "data": {
      "text/plain": [
       "permalink                    0\n",
       "funding_round_permalink      0\n",
       "funding_round_type           0\n",
       "funded_at                    0\n",
       "raised_amount_usd            0\n",
       "name                         1\n",
       "category_list                0\n",
       "status                       0\n",
       "country_code                 0\n",
       "sector                     265\n",
       "dtype: int64"
      ]
     },
     "execution_count": 64,
     "metadata": {},
     "output_type": "execute_result"
    }
   ],
   "source": [
    "master_frame.isnull().sum()"
   ]
  },
  {
   "cell_type": "markdown",
   "id": "f13630a7",
   "metadata": {},
   "source": [
    "Drop all the rows with null sector value"
   ]
  },
  {
   "cell_type": "code",
   "execution_count": 65,
   "id": "9a1c3d64",
   "metadata": {},
   "outputs": [],
   "source": [
    "master_frame = master_frame[~(master_frame.sector.isnull())]"
   ]
  },
  {
   "cell_type": "code",
   "execution_count": 66,
   "id": "5250086c",
   "metadata": {},
   "outputs": [
    {
     "data": {
      "text/plain": [
       "(74859, 10)"
      ]
     },
     "execution_count": 66,
     "metadata": {},
     "output_type": "execute_result"
    }
   ],
   "source": [
    "master_frame.shape"
   ]
  },
  {
   "cell_type": "markdown",
   "id": "0c4b73c0",
   "metadata": {},
   "source": [
    "## End of Checkpoint 4: Sector Analysis 1"
   ]
  },
  {
   "cell_type": "markdown",
   "id": "da96921e",
   "metadata": {},
   "source": [
    "-------------------------------------------------------------------------------------------------------------"
   ]
  },
  {
   "cell_type": "markdown",
   "id": "6032a9be",
   "metadata": {},
   "source": [
    "## Checkpoint 5: Sector Analysis 2"
   ]
  },
  {
   "cell_type": "markdown",
   "id": "22661ccf",
   "metadata": {},
   "source": [
    "We are interested in venture type funding in the range of 5 to 15 million for top 3 investment friendly countries i.e USA, Great Britain and India. So lets first filter the data based on investment type venture and raised amount range of 5 million to 15 million."
   ]
  },
  {
   "cell_type": "code",
   "execution_count": 67,
   "id": "ed5b41b8",
   "metadata": {},
   "outputs": [],
   "source": [
    "venture_funding_5to15_million = master_frame[(master_frame.funding_round_type == 'venture') \n",
    "                                             & (master_frame.raised_amount_usd >= 5000000) \n",
    "                                             & (master_frame.raised_amount_usd <= 15000000)]"
   ]
  },
  {
   "cell_type": "code",
   "execution_count": 68,
   "id": "26c8f203",
   "metadata": {},
   "outputs": [
    {
     "data": {
      "text/plain": [
       "count    1.570800e+04\n",
       "mean     8.891583e+06\n",
       "std      3.057626e+06\n",
       "min      5.000000e+06\n",
       "25%      6.000000e+06\n",
       "50%      8.297500e+06\n",
       "75%      1.100000e+07\n",
       "max      1.500000e+07\n",
       "Name: raised_amount_usd, dtype: float64"
      ]
     },
     "execution_count": 68,
     "metadata": {},
     "output_type": "execute_result"
    }
   ],
   "source": [
    "venture_funding_5to15_million.raised_amount_usd.describe()"
   ]
  },
  {
   "cell_type": "code",
   "execution_count": 69,
   "id": "140d274d",
   "metadata": {},
   "outputs": [],
   "source": [
    "USA = venture_funding_5to15_million[venture_funding_5to15_million.country_code == 'USA']"
   ]
  },
  {
   "cell_type": "code",
   "execution_count": 70,
   "id": "13a34941",
   "metadata": {},
   "outputs": [
    {
     "data": {
      "text/plain": [
       "12012"
      ]
     },
     "execution_count": 70,
     "metadata": {},
     "output_type": "execute_result"
    }
   ],
   "source": [
    "USA.raised_amount_usd.count()"
   ]
  },
  {
   "cell_type": "code",
   "execution_count": 71,
   "id": "a6d16216",
   "metadata": {},
   "outputs": [
    {
     "data": {
      "text/plain": [
       "107318294664.0"
      ]
     },
     "execution_count": 71,
     "metadata": {},
     "output_type": "execute_result"
    }
   ],
   "source": [
    "USA.raised_amount_usd.sum()"
   ]
  },
  {
   "cell_type": "markdown",
   "id": "77440542",
   "metadata": {},
   "source": [
    "USA has seen **12012** investments and total sum of money raised is USD 55283488267 i.e. **~107.31 billion USD.**"
   ]
  },
  {
   "cell_type": "code",
   "execution_count": 72,
   "id": "8d44aa72",
   "metadata": {},
   "outputs": [],
   "source": [
    "GBR = venture_funding_5to15_million[venture_funding_5to15_million.country_code == 'GBR']"
   ]
  },
  {
   "cell_type": "code",
   "execution_count": 73,
   "id": "22d869a0",
   "metadata": {},
   "outputs": [
    {
     "data": {
      "text/plain": [
       "619"
      ]
     },
     "execution_count": 73,
     "metadata": {},
     "output_type": "execute_result"
    }
   ],
   "source": [
    "GBR.raised_amount_usd.count()"
   ]
  },
  {
   "cell_type": "code",
   "execution_count": 74,
   "id": "77eb9d68",
   "metadata": {},
   "outputs": [
    {
     "data": {
      "text/plain": [
       "5365228300.0"
      ]
     },
     "execution_count": 74,
     "metadata": {},
     "output_type": "execute_result"
    }
   ],
   "source": [
    "GBR.raised_amount_usd.sum()"
   ]
  },
  {
   "cell_type": "markdown",
   "id": "439b324f",
   "metadata": {},
   "source": [
    "Great Britain has received **619** number of investments and total money raised is USD 3019748480 i.e. **~5.36 billion.**"
   ]
  },
  {
   "cell_type": "code",
   "execution_count": 75,
   "id": "7d9e291f",
   "metadata": {},
   "outputs": [],
   "source": [
    "IND = venture_funding_5to15_million[venture_funding_5to15_million.country_code == 'IND']"
   ]
  },
  {
   "cell_type": "code",
   "execution_count": 76,
   "id": "ae728856",
   "metadata": {},
   "outputs": [
    {
     "data": {
      "text/plain": [
       "328"
      ]
     },
     "execution_count": 76,
     "metadata": {},
     "output_type": "execute_result"
    }
   ],
   "source": [
    "IND.raised_amount_usd.count()"
   ]
  },
  {
   "cell_type": "code",
   "execution_count": 77,
   "id": "b74a99c7",
   "metadata": {},
   "outputs": [
    {
     "data": {
      "text/plain": [
       "2949543602.0"
      ]
     },
     "execution_count": 77,
     "metadata": {},
     "output_type": "execute_result"
    }
   ],
   "source": [
    "IND.raised_amount_usd.sum()"
   ]
  },
  {
   "cell_type": "markdown",
   "id": "3ef4ebae",
   "metadata": {},
   "source": [
    "India has seen **328** number of investments and total money raised is USD 10254898437 i.e. **~2.94 billion.**"
   ]
  },
  {
   "cell_type": "markdown",
   "id": "7c3a073b",
   "metadata": {},
   "source": [
    "According to the sum of money raised and the number of investments, the ranking of investment friendly countries are \n",
    "- **USA ranks first** with **~107.31 billion USD** funding in **12012** investments \n",
    "- **Great Britain ranks second** with **~5.36 billion USD** funding in **619** investments \n",
    "- **India ranks third** with **~2.94 billion USD** funding in **328** investments "
   ]
  },
  {
   "cell_type": "markdown",
   "id": "aa9c6842",
   "metadata": {},
   "source": [
    "### Top 3 Sector Analysis"
   ]
  },
  {
   "cell_type": "markdown",
   "id": "aee3997c",
   "metadata": {},
   "source": [
    "#### Top 3 Sectors for each investment friendly country"
   ]
  },
  {
   "cell_type": "code",
   "execution_count": 78,
   "id": "a1a40b3b",
   "metadata": {
    "scrolled": true
   },
   "outputs": [
    {
     "data": {
      "text/plain": [
       "sector\n",
       "Others                                     2950\n",
       "Social, Finance, Analytics, Advertising    2714\n",
       "Cleantech / Semiconductors                 2300\n",
       "News, Search and Messaging                 1582\n",
       "Health                                      909\n",
       "Manufacturing                               799\n",
       "Entertainment                               591\n",
       "Automotive & Sports                         167\n",
       "Name: raised_amount_usd, dtype: int64"
      ]
     },
     "execution_count": 78,
     "metadata": {},
     "output_type": "execute_result"
    }
   ],
   "source": [
    "usa_sector_group_by = USA.groupby(by='sector')\n",
    "\n",
    "usa_sector_group_by.raised_amount_usd.count().sort_values(ascending=False)"
   ]
  },
  {
   "cell_type": "code",
   "execution_count": 79,
   "id": "552623ca",
   "metadata": {
    "scrolled": true
   },
   "outputs": [
    {
     "data": {
      "text/plain": [
       "sector\n",
       "Others                                     147\n",
       "Social, Finance, Analytics, Advertising    133\n",
       "Cleantech / Semiconductors                 128\n",
       "News, Search and Messaging                  73\n",
       "Entertainment                               56\n",
       "Manufacturing                               42\n",
       "Health                                      24\n",
       "Automotive & Sports                         16\n",
       "Name: raised_amount_usd, dtype: int64"
      ]
     },
     "execution_count": 79,
     "metadata": {},
     "output_type": "execute_result"
    }
   ],
   "source": [
    "gbr_sector_group_by = GBR.groupby(by='sector')\n",
    "\n",
    "gbr_sector_group_by.raised_amount_usd.count().sort_values(ascending=False)"
   ]
  },
  {
   "cell_type": "code",
   "execution_count": 80,
   "id": "aca8e34c",
   "metadata": {},
   "outputs": [
    {
     "data": {
      "text/plain": [
       "sector\n",
       "Others                                     110\n",
       "Social, Finance, Analytics, Advertising     60\n",
       "News, Search and Messaging                  52\n",
       "Entertainment                               33\n",
       "Manufacturing                               21\n",
       "Cleantech / Semiconductors                  20\n",
       "Health                                      19\n",
       "Automotive & Sports                         13\n",
       "Name: raised_amount_usd, dtype: int64"
      ]
     },
     "execution_count": 80,
     "metadata": {},
     "output_type": "execute_result"
    }
   ],
   "source": [
    "ind_sector_group_by = IND.groupby(by='sector')\n",
    "\n",
    "ind_sector_group_by.raised_amount_usd.count().sort_values(ascending=False)"
   ]
  },
  {
   "cell_type": "markdown",
   "id": "47fc652a",
   "metadata": {},
   "source": [
    "For all the top countries, one of the top sector is 'Others'. This seems like a catch all sector category and thus  does not help make definite decisions. Lets analyse the different categories that fall under this sector to understand it better."
   ]
  },
  {
   "cell_type": "code",
   "execution_count": 81,
   "id": "98e365e8",
   "metadata": {},
   "outputs": [
    {
     "data": {
      "text/plain": [
       "sector\n",
       "Automotive & Sports                         22\n",
       "Cleantech / Semiconductors                  53\n",
       "Entertainment                               89\n",
       "Health                                      63\n",
       "Manufacturing                               40\n",
       "News, Search and Messaging                  72\n",
       "Others                                     195\n",
       "Social, Finance, Analytics, Advertising    153\n",
       "Name: category_list, dtype: int64"
      ]
     },
     "execution_count": 81,
     "metadata": {},
     "output_type": "execute_result"
    }
   ],
   "source": [
    "mapping.groupby('sector').category_list.count()"
   ]
  },
  {
   "cell_type": "code",
   "execution_count": 82,
   "id": "6e1f7fb1",
   "metadata": {
    "scrolled": false
   },
   "outputs": [
    {
     "name": "stdout",
     "output_type": "stream",
     "text": [
      "{'Product Design', 'Field Support Services', 'Open Source', 'Rental Housing', 'Product Development Services', 'Governance', 'Governments', 'Emerging Markets', 'Hospitality', 'Subscription Service', 'Language Learning', 'Employment', 'Watch', 'iPad', 'IT and Cybersecurity', 'Micro-Enterprises', 'Physical Security', 'ICT', 'User Experience Design', 'University Students', 'Office Space', 'Identity', 'Landscaping', 'Productivity Software', 'Small and Medium Businesses', 'Simulation', 'Systems', 'Human Resources', 'Low Bid Auctions', 'Intelligent Systems', 'Human Resource Automation', 'Homeland Security', 'Indians', 'Legal', 'Linux', 'Optimization', 'Staffing Firms', 'Document Management', 'Outsourcing', 'Mobile Security', 'Utilities', 'Web Tools', 'Wholesale', 'Local Based Services', 'Smart Grid', 'Alumni', 'Licensing', 'iPhone', 'Local Businesses', 'Vending and Concessions', 'Enterprise Security', 'All Students', 'Intellectual Property', 'SaaS', 'Surveys', 'Law Enforcement', 'Home Owners', 'M2M', 'Flowers', 'Religion', 'Software', 'Private School', 'Translation', 'Angels', 'Ediscovery', 'Web Hosting', 'Women', 'Freelancers', 'SNS', 'iOS', 'Trading', 'Guides', 'Online Education', 'Real Time', 'Nonprofits', 'Fleet Management', 'IT Management', 'Families', 'DIY', 'Gift Exchange', 'Security', 'Mobility', 'Plumbers', 'K-12 Education', 'Enterprises', 'Logistics Company', 'Postal and Courier Services', 'E-Commerce', 'Enterprise Software', 'Distribution', 'High School Students', 'RFID', 'Enterprise Application', 'Professional Services', 'Oil', 'Services', 'Personalization', 'Entrepreneur', 'Parenting', 'Privacy', 'Sensors', 'Project Management', 'Point of Sale', 'Skill Assessment', 'Distributors', 'Government Innovation', 'Task Management', 'Reputation', 'Location Based Services', 'Young Adults', 'Enterprise 2.na', 'Networking', 'Parking', 'E-Commerce Platforms', 'Pervasive Computing', 'High Tech', 'Printing', 'Opinions', 'Match-Making', 'Interest Graph', 'Supply Chain Management', 'General Public Worldwide', 'Network Security', 'Oil and Gas', 'Politics', 'Indoor Positioning', 'QR Codes', 'Recreation', 'Service Providers', 'Engineering Firms', 'Tracking', 'Gay & Lesbian', 'Oil & Gas', 'Human Computer Interaction', 'All Markets', 'File Sharing', 'Non Profit', 'Productivity', 'Mass Customization', 'Robotics', 'Web Development', 'Usability', 'Local', 'User Interface', 'Collectibles', 'Gift Registries', 'Marketplaces', 'Universities', 'Loyalty Programs', 'Flash Sales', 'Service Industries', 'Technology', 'Fruit', 'Intellectual Asset Management', 'Non-Tech', 'Startups', 'Procurement', 'Geospatial', 'Portals', 'Shared Services', 'Telecommunications', 'Training', 'Algorithms', 'Advice', 'Shipping', 'Humanitarian', 'Tea', 'Gift Card', 'Lead Generation', 'Personal Data', 'Realtors', 'Synchronization', 'Textiles', 'Lead Management', 'Enterprise Resource Planning', 'Homeless Shelter', 'EdTech', 'Knowledge Management', 'Taxis', 'Real Estate', 'Sales Automation', 'High Schools', 'Online Identity', 'Polling', 'EDA Tools', 'Logistics', 'Life Sciences', 'Local Commerce', 'IaaS', 'Education', 'Home Renovation', 'Presentations', 'Kids', 'College Campuses', 'Flash Storage'}\n"
     ]
    }
   ],
   "source": [
    "print(set(mapping[mapping.sector == 'Others'].category_list.to_list()))"
   ]
  },
  {
   "cell_type": "markdown",
   "id": "6d66ee15",
   "metadata": {},
   "source": [
    "The Other sector contains 195 sub sectors or categories. It looks like this is a catch all category added which makes it uncertain about the type of companies one would invest. "
   ]
  },
  {
   "cell_type": "code",
   "execution_count": 83,
   "id": "c8f44272",
   "metadata": {
    "scrolled": false
   },
   "outputs": [
    {
     "data": {
      "text/plain": [
       "Software               1319\n",
       "Enterprise Software     733\n",
       "E-Commerce              514\n",
       "Security                250\n",
       "Web Hosting             200\n",
       "Education               108\n",
       "EdTech                   70\n",
       "Hospitality              57\n",
       "Technology               53\n",
       "Real Estate              43\n",
       "Name: category_list, dtype: int64"
      ]
     },
     "execution_count": 83,
     "metadata": {},
     "output_type": "execute_result"
    }
   ],
   "source": [
    "venture_funding_5to15_million[venture_funding_5to15_million.sector == 'Others'].category_list.value_counts().head(10)"
   ]
  },
  {
   "cell_type": "markdown",
   "id": "c09a46ff",
   "metadata": {},
   "source": [
    "These are top 10 primary sectors under Others category. These are very diverse categories put into a single sector. The real estate, education, e-commerce, hospitality are all very different sectors. Therefore the sector Others does not help in our analysis and also we are not very confident about the decision involving Others sector given its generic nature. So we will ignore the Others sector and pick next top sector instead.\n",
    "\n",
    "Below are the top three sectors for each country after skipping sector Others : "
   ]
  },
  {
   "cell_type": "markdown",
   "id": "b72e4c62",
   "metadata": {},
   "source": [
    "Top 3 sectors in USA\n",
    "1. **Social, Finance, Analytics, Advertising  -   2714 investments**\n",
    "2. **Cleantech / Semiconductors               -   2300 investments**\n",
    "3. **News, Search and Messaging               -   1582 investments**"
   ]
  },
  {
   "cell_type": "markdown",
   "id": "502dbbc2",
   "metadata": {},
   "source": [
    "Top 3 sectors in Britain \n",
    "1. **Social, Finance, Analytics, Advertising  -  133 investments**\n",
    "2. **Cleantech / Semiconductors               -  128 investments**\n",
    "3. **News, Search and Messaging               -   73 investments**"
   ]
  },
  {
   "cell_type": "markdown",
   "id": "2cf51105",
   "metadata": {},
   "source": [
    "Top 3 sectors in India\n",
    "1. **Social, Finance, Analytics, Advertising  -   60 investments**\n",
    "2. **News, Search and Messaging               -   52 investments**\n",
    "3. **Entertainment                            -   33 investments**"
   ]
  },
  {
   "cell_type": "markdown",
   "id": "0c980179",
   "metadata": {},
   "source": [
    "#### Top companies for top two sectors for each country\n",
    "\n",
    "For USA top sector is **Social, Finance, Analytics, Advertising** followed by **Cleantech / Semiconductors**. Lets count the values of names for each top two sectors in USA data."
   ]
  },
  {
   "cell_type": "code",
   "execution_count": 84,
   "id": "a5b938a7",
   "metadata": {
    "scrolled": true
   },
   "outputs": [
    {
     "data": {
      "text/plain": [
       "name\n",
       "SST Inc. (Formerly ShotSpotter)    67933006.0\n",
       "Demandbase                         63000000.0\n",
       "Intacct                            61800000.0\n",
       "NetBase Solutions                  60600000.0\n",
       "Lotame                             59700000.0\n",
       "Name: raised_amount_usd, dtype: float64"
      ]
     },
     "execution_count": 84,
     "metadata": {},
     "output_type": "execute_result"
    }
   ],
   "source": [
    "USA[(USA.sector == 'Social, Finance, Analytics, Advertising')].groupby('name').raised_amount_usd.sum().sort_values(\n",
    "    ascending=False).head()"
   ]
  },
  {
   "cell_type": "code",
   "execution_count": 85,
   "id": "414e8f11",
   "metadata": {},
   "outputs": [
    {
     "data": {
      "text/plain": [
       "name\n",
       "Biodesix         75300000.0\n",
       "Tigo Energy      68739496.0\n",
       "ForSight Labs    61300001.0\n",
       "Rheonix          56124758.0\n",
       "SCIenergy        55375423.0\n",
       "Name: raised_amount_usd, dtype: float64"
      ]
     },
     "execution_count": 85,
     "metadata": {},
     "output_type": "execute_result"
    }
   ],
   "source": [
    "USA[(USA.sector == 'Cleantech / Semiconductors')].groupby('name').raised_amount_usd.sum().sort_values(ascending=False).head()"
   ]
  },
  {
   "cell_type": "markdown",
   "id": "392c3811",
   "metadata": {},
   "source": [
    "For Great Britain top sector is **Social, Finance, Analytics, Advertising** followed by **Cleantech / Semiconductors**. Lets count the values of names for each top two sectors in Great Britain data."
   ]
  },
  {
   "cell_type": "code",
   "execution_count": 86,
   "id": "6943baa5",
   "metadata": {
    "scrolled": true
   },
   "outputs": [
    {
     "data": {
      "text/plain": [
       "name\n",
       "Celltick Technologies    37500000.0\n",
       "myThings                 34000000.0\n",
       "Zopa                     32900000.0\n",
       "VisualDNA                28550000.0\n",
       "MarketInvoice            25553007.0\n",
       "Name: raised_amount_usd, dtype: float64"
      ]
     },
     "execution_count": 86,
     "metadata": {},
     "output_type": "execute_result"
    }
   ],
   "source": [
    "GBR[GBR.sector == 'Social, Finance, Analytics, Advertising'].groupby('name').raised_amount_usd.sum().sort_values(\n",
    "    ascending=False).head()"
   ]
  },
  {
   "cell_type": "code",
   "execution_count": 87,
   "id": "b2252daf",
   "metadata": {
    "scrolled": false
   },
   "outputs": [
    {
     "data": {
      "text/plain": [
       "name\n",
       "EUSA Pharma                     35600000.0\n",
       "Horizon Discovery               31353719.0\n",
       "F-star Biotechnology Limited    29132906.0\n",
       "Elixent                         25000000.0\n",
       "Takeda Cambridge                22340000.0\n",
       "Name: raised_amount_usd, dtype: float64"
      ]
     },
     "execution_count": 87,
     "metadata": {},
     "output_type": "execute_result"
    }
   ],
   "source": [
    "GBR[GBR.sector == 'Cleantech / Semiconductors'].groupby('name').raised_amount_usd.sum().sort_values(ascending=False).head()"
   ]
  },
  {
   "cell_type": "markdown",
   "id": "490c6249",
   "metadata": {},
   "source": [
    "The company name ESUA Pharma seems a bit odd for the Cleantech / Semiconductors sector. Lets cross verify from mapping data the category and sector it belongs to."
   ]
  },
  {
   "cell_type": "code",
   "execution_count": 88,
   "id": "80896848",
   "metadata": {
    "scrolled": false
   },
   "outputs": [
    {
     "data": {
      "text/html": [
       "<div>\n",
       "<style scoped>\n",
       "    .dataframe tbody tr th:only-of-type {\n",
       "        vertical-align: middle;\n",
       "    }\n",
       "\n",
       "    .dataframe tbody tr th {\n",
       "        vertical-align: top;\n",
       "    }\n",
       "\n",
       "    .dataframe thead th {\n",
       "        text-align: right;\n",
       "    }\n",
       "</style>\n",
       "<table border=\"1\" class=\"dataframe\">\n",
       "  <thead>\n",
       "    <tr style=\"text-align: right;\">\n",
       "      <th></th>\n",
       "      <th>permalink</th>\n",
       "      <th>funding_round_permalink</th>\n",
       "      <th>funding_round_type</th>\n",
       "      <th>funded_at</th>\n",
       "      <th>raised_amount_usd</th>\n",
       "      <th>name</th>\n",
       "      <th>category_list</th>\n",
       "      <th>status</th>\n",
       "      <th>country_code</th>\n",
       "      <th>sector</th>\n",
       "    </tr>\n",
       "  </thead>\n",
       "  <tbody>\n",
       "    <tr>\n",
       "      <th>21838</th>\n",
       "      <td>/organization/eusa-pharma</td>\n",
       "      <td>/funding-round/09af5eff34608eac27040925565f57e6</td>\n",
       "      <td>venture</td>\n",
       "      <td>19-07-2005</td>\n",
       "      <td>13970000.0</td>\n",
       "      <td>EUSA Pharma</td>\n",
       "      <td>Biotechnology</td>\n",
       "      <td>acquired</td>\n",
       "      <td>GBR</td>\n",
       "      <td>Cleantech / Semiconductors</td>\n",
       "    </tr>\n",
       "    <tr>\n",
       "      <th>21839</th>\n",
       "      <td>/organization/eusa-pharma</td>\n",
       "      <td>/funding-round/1a680e99bceab2d32fc6dc4c9406010a</td>\n",
       "      <td>venture</td>\n",
       "      <td>28-06-2007</td>\n",
       "      <td>9100000.0</td>\n",
       "      <td>EUSA Pharma</td>\n",
       "      <td>Biotechnology</td>\n",
       "      <td>acquired</td>\n",
       "      <td>GBR</td>\n",
       "      <td>Cleantech / Semiconductors</td>\n",
       "    </tr>\n",
       "    <tr>\n",
       "      <th>21841</th>\n",
       "      <td>/organization/eusa-pharma</td>\n",
       "      <td>/funding-round/f2a769a1468c2d4a8585e8abf31ef2ed</td>\n",
       "      <td>venture</td>\n",
       "      <td>13-12-2005</td>\n",
       "      <td>12530000.0</td>\n",
       "      <td>EUSA Pharma</td>\n",
       "      <td>Biotechnology</td>\n",
       "      <td>acquired</td>\n",
       "      <td>GBR</td>\n",
       "      <td>Cleantech / Semiconductors</td>\n",
       "    </tr>\n",
       "  </tbody>\n",
       "</table>\n",
       "</div>"
      ],
      "text/plain": [
       "                       permalink  \\\n",
       "21838  /organization/eusa-pharma   \n",
       "21839  /organization/eusa-pharma   \n",
       "21841  /organization/eusa-pharma   \n",
       "\n",
       "                               funding_round_permalink funding_round_type  \\\n",
       "21838  /funding-round/09af5eff34608eac27040925565f57e6            venture   \n",
       "21839  /funding-round/1a680e99bceab2d32fc6dc4c9406010a            venture   \n",
       "21841  /funding-round/f2a769a1468c2d4a8585e8abf31ef2ed            venture   \n",
       "\n",
       "        funded_at  raised_amount_usd         name  category_list    status  \\\n",
       "21838  19-07-2005         13970000.0  EUSA Pharma  Biotechnology  acquired   \n",
       "21839  28-06-2007          9100000.0  EUSA Pharma  Biotechnology  acquired   \n",
       "21841  13-12-2005         12530000.0  EUSA Pharma  Biotechnology  acquired   \n",
       "\n",
       "      country_code                      sector  \n",
       "21838          GBR  Cleantech / Semiconductors  \n",
       "21839          GBR  Cleantech / Semiconductors  \n",
       "21841          GBR  Cleantech / Semiconductors  "
      ]
     },
     "execution_count": 88,
     "metadata": {},
     "output_type": "execute_result"
    }
   ],
   "source": [
    "GBR[GBR.name == 'EUSA Pharma']"
   ]
  },
  {
   "cell_type": "code",
   "execution_count": 89,
   "id": "b86ae359",
   "metadata": {},
   "outputs": [
    {
     "data": {
      "text/html": [
       "<div>\n",
       "<style scoped>\n",
       "    .dataframe tbody tr th:only-of-type {\n",
       "        vertical-align: middle;\n",
       "    }\n",
       "\n",
       "    .dataframe tbody tr th {\n",
       "        vertical-align: top;\n",
       "    }\n",
       "\n",
       "    .dataframe thead th {\n",
       "        text-align: right;\n",
       "    }\n",
       "</style>\n",
       "<table border=\"1\" class=\"dataframe\">\n",
       "  <thead>\n",
       "    <tr style=\"text-align: right;\">\n",
       "      <th></th>\n",
       "      <th>category_list</th>\n",
       "      <th>sector</th>\n",
       "    </tr>\n",
       "  </thead>\n",
       "  <tbody>\n",
       "    <tr>\n",
       "      <th>1439</th>\n",
       "      <td>Biotechnology</td>\n",
       "      <td>Cleantech / Semiconductors</td>\n",
       "    </tr>\n",
       "  </tbody>\n",
       "</table>\n",
       "</div>"
      ],
      "text/plain": [
       "      category_list                      sector\n",
       "1439  Biotechnology  Cleantech / Semiconductors"
      ]
     },
     "execution_count": 89,
     "metadata": {},
     "output_type": "execute_result"
    }
   ],
   "source": [
    "mapping[mapping.category_list == 'Biotechnology']"
   ]
  },
  {
   "cell_type": "markdown",
   "id": "6ba1b904",
   "metadata": {},
   "source": [
    "The category Biotechnology is indeed falls under Cleantech and Semiconductors sector, so we are good here. \\\n",
    "Lets move to the next category for Great Britain."
   ]
  },
  {
   "cell_type": "markdown",
   "id": "bcc915c8",
   "metadata": {},
   "source": [
    "For India top sector is **Social, Finance, Analytics, Advertising** followed by **News, Search and Messaging**. Lets count the values of names for each top two sectors in India data."
   ]
  },
  {
   "cell_type": "code",
   "execution_count": 90,
   "id": "34ede074",
   "metadata": {
    "scrolled": true
   },
   "outputs": [
    {
     "data": {
      "text/plain": [
       "name\n",
       "Manthan Systems               50700000.0\n",
       "Komli Media                   28000000.0\n",
       "ShopClues.com                 25000000.0\n",
       "inTarvo                       21900000.0\n",
       "Grameen Financial Services    21556050.0\n",
       "Name: raised_amount_usd, dtype: float64"
      ]
     },
     "execution_count": 90,
     "metadata": {},
     "output_type": "execute_result"
    }
   ],
   "source": [
    "IND[IND.sector == 'Social, Finance, Analytics, Advertising'].groupby('name').raised_amount_usd.sum().sort_values(\n",
    "    ascending=False).head()"
   ]
  },
  {
   "cell_type": "code",
   "execution_count": 91,
   "id": "389c1ce8",
   "metadata": {
    "scrolled": false
   },
   "outputs": [
    {
     "data": {
      "text/plain": [
       "name\n",
       "GupShup        33000000.0\n",
       "IMImobile      23000000.0\n",
       "SMS GupShup    22000000.0\n",
       "hike           21000000.0\n",
       "Roadrunnr      21000000.0\n",
       "Name: raised_amount_usd, dtype: float64"
      ]
     },
     "execution_count": 91,
     "metadata": {},
     "output_type": "execute_result"
    }
   ],
   "source": [
    "IND[IND.sector == 'News, Search and Messaging'].groupby('name').raised_amount_usd.sum().sort_values(ascending=False).head()"
   ]
  },
  {
   "cell_type": "markdown",
   "id": "9a38dc28",
   "metadata": {},
   "source": [
    "## End of Checkpoint 5: Sector Analysis 2"
   ]
  },
  {
   "cell_type": "markdown",
   "id": "16b8cb09",
   "metadata": {},
   "source": [
    "---------------------------------------------------------------------------------------------------------------"
   ]
  },
  {
   "cell_type": "markdown",
   "id": "5232eef1",
   "metadata": {},
   "source": [
    "## Checkpoint 6: Plots"
   ]
  },
  {
   "cell_type": "markdown",
   "id": "b9b408a5",
   "metadata": {},
   "source": [
    "### Plot showing the representative amount of investment in each funding type"
   ]
  },
  {
   "cell_type": "code",
   "execution_count": 92,
   "id": "606f2f0b",
   "metadata": {},
   "outputs": [
    {
     "data": {
      "image/png": "[encoded data removed]",
      "text/plain": [
       "<Figure size 432x288 with 1 Axes>"
      ]
     },
     "metadata": {},
     "output_type": "display_data"
    }
   ],
   "source": [
    "sns.set_style(\"whitegrid\")\n",
    "sns.boxplot(y=master_frame['raised_amount_usd'], x=master_frame['funding_round_type'])\n",
    "plt.ylabel('Total funding (USD)')\n",
    "plt.xlabel('Funding Type')\n",
    "plt.yscale('log')\n",
    "plt.show()"
   ]
  },
  {
   "cell_type": "markdown",
   "id": "b71eaf18",
   "metadata": {},
   "source": [
    "### Plot showing the top 9 countries against the total amount of investments of funding type venture"
   ]
  },
  {
   "cell_type": "code",
   "execution_count": 93,
   "id": "60c1defc",
   "metadata": {},
   "outputs": [],
   "source": [
    "groupby_country = master_frame[master_frame.funding_round_type == 'venture'].groupby(by='country_code')\n",
    "top9_country_codes = groupby_country.raised_amount_usd.sum().sort_values(ascending=False).head(9).index\n",
    "\n",
    "top9_country_codes = [tuple(i) for i in top9_country_codes.values]\n",
    "top9 = master_frame[master_frame['country_code'].apply(tuple).isin(top9_country_codes)]\n",
    "top9 = top9[top9.funding_round_type == 'venture']\n",
    "\n",
    "top9['preferrred_country'] = top9.country_code.isin(['USA', 'GBR', 'IND']).apply(lambda x: 'Yes' if x else 'No')"
   ]
  },
  {
   "cell_type": "code",
   "execution_count": 94,
   "id": "1328e2e3",
   "metadata": {
    "scrolled": true
   },
   "outputs": [
    {
     "data": {
      "image/png": "[encoded data removed]",
      "text/plain": [
       "<Figure size 432x288 with 1 Axes>"
      ]
     },
     "metadata": {},
     "output_type": "display_data"
    }
   ],
   "source": [
    "sns.set_style(\"whitegrid\")\n",
    "sns.barplot(data=top9, x=top9.country_code, y=top9.raised_amount_usd, estimator=np.sum, hue='preferrred_country')\n",
    "plt.ylabel('Total funding (USD)')\n",
    "plt.xlabel('')\n",
    "plt.ylim(10000000, 1000000000000)\n",
    "plt.yscale('log')\n",
    "plt.show()"
   ]
  },
  {
   "cell_type": "code",
   "execution_count": 96,
   "id": "934bf5d7",
   "metadata": {
    "scrolled": false
   },
   "outputs": [
    {
     "data": {
      "image/png": "[encoded data removed]",
      "text/plain": [
       "<Figure size 1152x1152 with 1 Axes>"
      ]
     },
     "metadata": {},
     "output_type": "display_data"
    },
    {
     "data": {
      "image/png": "[encoded data removed]",
      "text/plain": [
       "<Figure size 1152x1152 with 1 Axes>"
      ]
     },
     "metadata": {},
     "output_type": "display_data"
    }
   ],
   "source": [
    "sns.set_style(\"whitegrid\")\n",
    "plt.figure(figsize=(16, 16))\n",
    "plt.subplot(2, 1, 1)\n",
    "top3_countries = USA.append(GBR).append(IND)\n",
    "sector_to_raised_money = sns.barplot(data=top3_countries[top3_countries.sector != 'Others'], \n",
    "                                     x='sector', y='raised_amount_usd', hue='country_code', estimator=np.sum)\n",
    "sector_to_raised_money.set_xticklabels(sector_to_raised_money.get_xticklabels(), rotation=30)\n",
    "plt.ylabel('Funding raised (USD)')\n",
    "plt.xlabel('')\n",
    "plt.title(\"Sectorwise total funding rasied\")\n",
    "plt.show()\n",
    "\n",
    "plt.figure(figsize=(16, 16))\n",
    "plt.subplot(2, 1, 2)\n",
    "sector_to_num_investment = sns.countplot(data=top3_countries[top3_countries.sector != 'Others'],\n",
    "                                        x='sector', hue='country_code')\n",
    "sector_to_num_investment.set_xticklabels(sector_to_num_investment.get_xticklabels(), rotation=30)\n",
    "plt.ylabel('Number of investments')\n",
    "plt.xlabel('')\n",
    "plt.title(\"Sectorwise number of investments\")\n",
    "plt.show()"
   ]
  },
  {
   "cell_type": "markdown",
   "id": "d3a5bcf0",
   "metadata": {},
   "source": [
    "## End of Checkpoint 6: Plots"
   ]
  },
  {
   "cell_type": "markdown",
   "id": "e5720442",
   "metadata": {},
   "source": [
    "-----------------------------------------------------------------------------------------------------------------"
   ]
  },
  {
   "cell_type": "markdown",
   "id": "528ead40",
   "metadata": {},
   "source": [
    "In datacleaning section I reasoned that we can drop the rows with raised_funding_usd value null as it is not significant number. There I also mentioned that isnead of removing rows we can populate it with the median for respective funding type. \n",
    "\n",
    "In this section lets try to validate our initial assumption of dropping the rows by keeping those rows and populating it with median values. We will refer this as ApporachMedian and the original approach as ApproachDropNull."
   ]
  },
  {
   "cell_type": "markdown",
   "id": "aaff6df5",
   "metadata": {},
   "source": [
    "As we already have companies, rounds2, mapping, master_frame, top9, USA, GBR, IND dataframes, lets not use them and here we will create separate dataframes by appending 1 at the end."
   ]
  },
  {
   "cell_type": "code",
   "execution_count": 119,
   "id": "5b4cccc2",
   "metadata": {},
   "outputs": [],
   "source": [
    "#Read data\n",
    "companies1 = pd.read_csv('companies.csv', encoding='iso-8859-1')\n",
    "rounds21 = pd.read_csv('rounds2.csv', encoding='iso-8859-1')\n",
    "mapping1 = pd.read_csv('mapping.csv', encoding='iso-8859-1')\n",
    "#Remove non-ascii\n",
    "companies1['permalink'] = companies1['permalink'].str.encode('ascii', 'ignore').str.decode('ascii')\n",
    "companies1['name'] = companies1['name'].str.encode('ascii', 'ignore').str.decode('ascii')\n",
    "rounds21['company_permalink'] = rounds21['company_permalink'].str.encode('ascii', 'ignore').str.decode('ascii')\n",
    "#Rename company_permalink\n",
    "rounds21.rename(columns={'company_permalink':'permalink'}, inplace=True)\n",
    "#Convert permalink to lowercase\n",
    "companies1['permalink'] = companies1['permalink'].str.lower()\n",
    "rounds21['permalink'] = rounds21['permalink'].str.lower()\n",
    "#Set index on permalink\n",
    "companies1.set_index('permalink', inplace=True)\n",
    "rounds21.set_index('permalink', inplace=True)\n",
    "#Merge companies1 and rounds21 as master_frame1\n",
    "master_frame1 = rounds21.merge(companies1, how='left', on='permalink')\n",
    "#Drop unused columns\n",
    "master_frame1 = master_frame1.drop(['homepage_url', 'state_code', 'region', 'city', 'founded_at', 'funding_round_code'], \n",
    "                                   axis=1)\n",
    "#Populate raised_amount_usd for seed type with its median\n",
    "master_frame1['raised_amount_usd'] = master_frame1.apply(\n",
    "    lambda row: 275000 if ((np.isnan(row['raised_amount_usd'])) & (row['funding_round_type'] == 'seed')) \n",
    "                       else row['raised_amount_usd'], axis=1)\n",
    "#Populate raised_amount_usd for venture type with its median\n",
    "master_frame1['raised_amount_usd'] = master_frame1.apply(\n",
    "    lambda row: 5000000 if ((np.isnan(row['raised_amount_usd'])) & (row['funding_round_type'] == 'venture')) \n",
    "                       else row['raised_amount_usd'], axis=1)\n",
    "#Populate raised_amount_usd for private_equity type with its median\n",
    "master_frame1['raised_amount_usd'] = master_frame1.apply(\n",
    "    lambda row: 20000000 if ((np.isnan(row['raised_amount_usd'])) & (row['funding_round_type'] == 'private_equity')) \n",
    "                       else row['raised_amount_usd'], axis=1)\n",
    "#Populate raised_amount_usd for angel type with its median\n",
    "master_frame1['raised_amount_usd'] = master_frame1.apply(\n",
    "    lambda row: 400000 if ((np.isnan(row['raised_amount_usd'])) & (row['funding_round_type'] == 'angel')) \n",
    "                       else row['raised_amount_usd'], axis=1)\n",
    "#Drop rows with null values \n",
    "master_frame1 = master_frame1[~master_frame1.raised_amount_usd.isnull()]\n",
    "master_frame1 = master_frame1[~master_frame1.country_code.isna()]\n",
    "master_frame1 = master_frame1[~master_frame1.category_list.isnull()]\n",
    "\n",
    "master_frame1.reset_index(inplace=True)\n",
    "#Filter master_frame1 for 4 investment types\n",
    "master_frame1 = master_frame1[(master_frame1['funding_round_type'] == 'seed') |\n",
    "                              (master_frame1['funding_round_type'] == 'venture') |\n",
    "                              (master_frame1['funding_round_type'] == 'private_equity') |\n",
    "                              (master_frame1['funding_round_type'] == 'angel')]"
   ]
  },
  {
   "cell_type": "code",
   "execution_count": 120,
   "id": "c4fd2f7f",
   "metadata": {},
   "outputs": [
    {
     "data": {
      "text/html": [
       "<div>\n",
       "<style scoped>\n",
       "    .dataframe tbody tr th:only-of-type {\n",
       "        vertical-align: middle;\n",
       "    }\n",
       "\n",
       "    .dataframe tbody tr th {\n",
       "        vertical-align: top;\n",
       "    }\n",
       "\n",
       "    .dataframe thead tr th {\n",
       "        text-align: left;\n",
       "    }\n",
       "</style>\n",
       "<table border=\"1\" class=\"dataframe\">\n",
       "  <thead>\n",
       "    <tr>\n",
       "      <th></th>\n",
       "      <th colspan=\"4\" halign=\"left\">median</th>\n",
       "      <th colspan=\"4\" halign=\"left\">mean</th>\n",
       "    </tr>\n",
       "    <tr>\n",
       "      <th>funding_round_type</th>\n",
       "      <th>angel</th>\n",
       "      <th>private_equity</th>\n",
       "      <th>seed</th>\n",
       "      <th>venture</th>\n",
       "      <th>angel</th>\n",
       "      <th>private_equity</th>\n",
       "      <th>seed</th>\n",
       "      <th>venture</th>\n",
       "    </tr>\n",
       "  </thead>\n",
       "  <tbody>\n",
       "    <tr>\n",
       "      <th>raised_amount_usd</th>\n",
       "      <td>400000.0</td>\n",
       "      <td>20000000.0</td>\n",
       "      <td>275000.0</td>\n",
       "      <td>5000000.0</td>\n",
       "      <td>864265.29832</td>\n",
       "      <td>6.777034e+07</td>\n",
       "      <td>652244.221651</td>\n",
       "      <td>1.117942e+07</td>\n",
       "    </tr>\n",
       "  </tbody>\n",
       "</table>\n",
       "</div>"
      ],
      "text/plain": [
       "                      median                                      \\\n",
       "funding_round_type     angel private_equity      seed    venture   \n",
       "raised_amount_usd   400000.0     20000000.0  275000.0  5000000.0   \n",
       "\n",
       "                            mean                                              \n",
       "funding_round_type         angel private_equity           seed       venture  \n",
       "raised_amount_usd   864265.29832   6.777034e+07  652244.221651  1.117942e+07  "
      ]
     },
     "execution_count": 120,
     "metadata": {},
     "output_type": "execute_result"
    }
   ],
   "source": [
    "pd.pivot_table(data=master_frame1, columns='funding_round_type', values='raised_amount_usd', aggfunc=[np.median, np.mean])"
   ]
  },
  {
   "cell_type": "markdown",
   "id": "0203d590",
   "metadata": {},
   "source": [
    "Here we can see the mean values for each investment type is reduced as compared to ApproachDropNull."
   ]
  },
  {
   "cell_type": "code",
   "execution_count": 121,
   "id": "93af9806",
   "metadata": {
    "scrolled": false
   },
   "outputs": [
    {
     "data": {
      "text/plain": [
       "country_code\n",
       "USA    4.305230e+11\n",
       "CHN    4.185392e+10\n",
       "GBR    2.119281e+10\n",
       "IND    1.508651e+10\n",
       "CAN    9.907218e+09\n",
       "FRA    7.521851e+09\n",
       "ISR    7.409350e+09\n",
       "DEU    7.401922e+09\n",
       "JPN    3.362647e+09\n",
       "Name: raised_amount_usd, dtype: float64"
      ]
     },
     "execution_count": 121,
     "metadata": {},
     "output_type": "execute_result"
    }
   ],
   "source": [
    "top91 = master_frame1[master_frame1['country_code'].apply(tuple).isin(top9_country_codes)]\n",
    "top91 = top91[top91.funding_round_type == 'venture']\n",
    "\n",
    "top91.groupby('country_code').raised_amount_usd.sum().sort_values(ascending=False)"
   ]
  },
  {
   "cell_type": "markdown",
   "id": "87c0b0f8",
   "metadata": {},
   "source": [
    "| Country | ApproachMedian | ApproachDropNull |\n",
    "|---------|:--------------:|------------------|\n",
    "| USA     | ~430 billion   |  ~420 billion    |\n",
    "| GBR     | ~21.19 billion |  ~20 billion     |\n",
    "| IND     | ~15 billion    |  ~14.2 billion   |\n",
    "\n",
    "As it can be seen, the cumulative investment values are a bit higher for ApproachMedian."
   ]
  },
  {
   "cell_type": "code",
   "execution_count": 122,
   "id": "7c71220c",
   "metadata": {},
   "outputs": [],
   "source": [
    "master_frame1['category_list'] = master_frame1.category_list.apply(lambda x: x.split('|')[0])\n",
    "master_frame1 = master_frame1.merge(mapping, how='left', on='category_list')"
   ]
  },
  {
   "cell_type": "code",
   "execution_count": 123,
   "id": "be515ff9",
   "metadata": {},
   "outputs": [],
   "source": [
    "venture_funding_5to15_million1 = master_frame1[(master_frame1.funding_round_type == 'venture') \n",
    "                                             & (master_frame1.raised_amount_usd >= 5000000) \n",
    "                                             & (master_frame1.raised_amount_usd <= 15000000)]\n",
    "USA1 = venture_funding_5to15_million1[venture_funding_5to15_million1.country_code == 'USA']\n",
    "GBR1 = venture_funding_5to15_million1[venture_funding_5to15_million1.country_code == 'GBR']\n",
    "IND1 = venture_funding_5to15_million1[venture_funding_5to15_million1.country_code == 'IND']"
   ]
  },
  {
   "cell_type": "code",
   "execution_count": 124,
   "id": "89e64689",
   "metadata": {},
   "outputs": [
    {
     "name": "stdout",
     "output_type": "stream",
     "text": [
      "14155\n",
      "118221584223.0\n"
     ]
    }
   ],
   "source": [
    "print(USA1.raised_amount_usd.count())\n",
    "print(USA1.raised_amount_usd.sum())"
   ]
  },
  {
   "cell_type": "code",
   "execution_count": 125,
   "id": "fd957d12",
   "metadata": {},
   "outputs": [
    {
     "name": "stdout",
     "output_type": "stream",
     "text": [
      "845\n",
      "6499078691.0\n"
     ]
    }
   ],
   "source": [
    "print(GBR1.raised_amount_usd.count())\n",
    "print(GBR1.raised_amount_usd.sum())"
   ]
  },
  {
   "cell_type": "code",
   "execution_count": 126,
   "id": "ed184cec",
   "metadata": {},
   "outputs": [
    {
     "name": "stdout",
     "output_type": "stream",
     "text": [
      "493\n",
      "3774543602.0\n"
     ]
    }
   ],
   "source": [
    "print(IND1.raised_amount_usd.count())\n",
    "print(IND1.raised_amount_usd.sum())"
   ]
  },
  {
   "cell_type": "markdown",
   "id": "e9c0ada5",
   "metadata": {},
   "source": [
    "In terms of number of investments and total investment amount we can see that the numbers are pushed northward. Though this will not the outcome of analysis much, it will surely affect the granual company level analysis if we were to do that. "
   ]
  },
  {
   "cell_type": "code",
   "execution_count": 127,
   "id": "a2ba8d84",
   "metadata": {},
   "outputs": [
    {
     "data": {
      "text/plain": [
       "sector\n",
       "Others                                     3403\n",
       "Social, Finance, Analytics, Advertising    3290\n",
       "Cleantech / Semiconductors                 2564\n",
       "News, Search and Messaging                 1844\n",
       "Health                                     1053\n",
       "Manufacturing                               989\n",
       "Entertainment                               724\n",
       "Automotive & Sports                         228\n",
       "Name: raised_amount_usd, dtype: int64"
      ]
     },
     "execution_count": 127,
     "metadata": {},
     "output_type": "execute_result"
    }
   ],
   "source": [
    "usa_sector_group_by1 = USA1.groupby(by='sector')\n",
    "\n",
    "usa_sector_group_by1.raised_amount_usd.count().sort_values(ascending=False)"
   ]
  },
  {
   "cell_type": "code",
   "execution_count": 128,
   "id": "9c4648fd",
   "metadata": {},
   "outputs": [
    {
     "data": {
      "text/plain": [
       "sector\n",
       "Others                                     211\n",
       "Social, Finance, Analytics, Advertising    193\n",
       "Cleantech / Semiconductors                 151\n",
       "News, Search and Messaging                  97\n",
       "Entertainment                               80\n",
       "Manufacturing                               52\n",
       "Health                                      32\n",
       "Automotive & Sports                         26\n",
       "Name: raised_amount_usd, dtype: int64"
      ]
     },
     "execution_count": 128,
     "metadata": {},
     "output_type": "execute_result"
    }
   ],
   "source": [
    "gbr_sector_group_by1 = GBR1.groupby(by='sector')\n",
    "\n",
    "gbr_sector_group_by1.raised_amount_usd.count().sort_values(ascending=False)"
   ]
  },
  {
   "cell_type": "code",
   "execution_count": 129,
   "id": "3e478d41",
   "metadata": {
    "scrolled": true
   },
   "outputs": [
    {
     "data": {
      "text/plain": [
       "sector\n",
       "Others                                     158\n",
       "Social, Finance, Analytics, Advertising    106\n",
       "News, Search and Messaging                  76\n",
       "Entertainment                               47\n",
       "Health                                      33\n",
       "Manufacturing                               30\n",
       "Cleantech / Semiconductors                  29\n",
       "Automotive & Sports                         14\n",
       "Name: raised_amount_usd, dtype: int64"
      ]
     },
     "execution_count": 129,
     "metadata": {},
     "output_type": "execute_result"
    }
   ],
   "source": [
    "ind_sector_group_by1 = IND1.groupby(by='sector')\n",
    "\n",
    "ind_sector_group_by1.raised_amount_usd.count().sort_values(ascending=False)"
   ]
  },
  {
   "cell_type": "markdown",
   "id": "07ef0c84",
   "metadata": {},
   "source": [
    "| Country | ApproachMedian                          | ApproachDropNull                       |\n",
    "|---------|:---------------------------------------:|----------------------------------------|\n",
    "| USA     | Cleantech / Semiconductors              |  Cleantech / Semiconductors            |\n",
    "| USA     |     Health                              |       Health                           |\n",
    "| USA     | News, Search and Messaging              |   News, Search and Messaging           |\n",
    "| GBR     | Cleantech / Semiconductors              |  Cleantech / Semiconductors            |\n",
    "| GBR     | News, Search and Messaging              |  News, Search and Messaging            |\n",
    "| GBR     | Entertainment                           |  Entertainment                         |\n",
    "| IND     | News, Search and Messaging              |   News, Search and Messaging           |\n",
    "| IND     | Social, Finance, Analytics, Advertising | Social, Finance, Analytics, Advertising|\n",
    "| IND     | Entertainment                           |  Entertainment                         |\n",
    "\n",
    "There is no impact on the top sector selection using either of the approach."
   ]
  },
  {
   "cell_type": "code",
   "execution_count": 130,
   "id": "5980624f",
   "metadata": {},
   "outputs": [
    {
     "data": {
      "text/plain": [
       "name\n",
       "SST Inc. (Formerly ShotSpotter)    67933006.0\n",
       "Intacct                            66800000.0\n",
       "Demandbase                         63000000.0\n",
       "Powerhouse Dynamics                61300000.0\n",
       "Lithium Technologies               61000000.0\n",
       "Name: raised_amount_usd, dtype: float64"
      ]
     },
     "execution_count": 130,
     "metadata": {},
     "output_type": "execute_result"
    }
   ],
   "source": [
    "USA1[(USA1.sector == 'Social, Finance, Analytics, Advertising')].groupby('name').raised_amount_usd.sum().sort_values(ascending=False).head()"
   ]
  },
  {
   "cell_type": "code",
   "execution_count": 131,
   "id": "c16adb49",
   "metadata": {
    "scrolled": true
   },
   "outputs": [
    {
     "data": {
      "text/plain": [
       "name\n",
       "Quellan          82000000.0\n",
       "Biodesix         75300000.0\n",
       "Tigo Energy      68739496.0\n",
       "ForSight Labs    61300001.0\n",
       "Rheonix          56124758.0\n",
       "Name: raised_amount_usd, dtype: float64"
      ]
     },
     "execution_count": 131,
     "metadata": {},
     "output_type": "execute_result"
    }
   ],
   "source": [
    "USA1[(USA1.sector == 'Cleantech / Semiconductors')].groupby('name').raised_amount_usd.sum().sort_values(ascending=False).head()"
   ]
  },
  {
   "cell_type": "code",
   "execution_count": 132,
   "id": "2147c323",
   "metadata": {},
   "outputs": [
    {
     "data": {
      "text/plain": [
       "name\n",
       "Zopa                     37900000.0\n",
       "Celltick Technologies    37500000.0\n",
       "myThings                 34000000.0\n",
       "SumUp                    29293649.0\n",
       "VisualDNA                28550000.0\n",
       "Name: raised_amount_usd, dtype: float64"
      ]
     },
     "execution_count": 132,
     "metadata": {},
     "output_type": "execute_result"
    }
   ],
   "source": [
    "GBR1[GBR1.sector == 'Social, Finance, Analytics, Advertising'].groupby('name').raised_amount_usd.sum().sort_values(ascending=False).head()"
   ]
  },
  {
   "cell_type": "code",
   "execution_count": 133,
   "id": "e58e59d2",
   "metadata": {},
   "outputs": [
    {
     "data": {
      "text/plain": [
       "name\n",
       "EUSA Pharma                     35600000.0\n",
       "Horizon Discovery               31353719.0\n",
       "F-star Biotechnology Limited    29132906.0\n",
       "Elixent                         25000000.0\n",
       "Takeda Cambridge                22340000.0\n",
       "Name: raised_amount_usd, dtype: float64"
      ]
     },
     "execution_count": 133,
     "metadata": {},
     "output_type": "execute_result"
    }
   ],
   "source": [
    "GBR1[GBR1.sector == 'Cleantech / Semiconductors'].groupby('name').raised_amount_usd.sum().sort_values(ascending=False).head()"
   ]
  },
  {
   "cell_type": "code",
   "execution_count": 134,
   "id": "d7720c52",
   "metadata": {
    "scrolled": true
   },
   "outputs": [
    {
     "data": {
      "text/plain": [
       "name\n",
       "Manthan Systems               50700000.0\n",
       "Komli Media                   28000000.0\n",
       "ShopClues.com                 25000000.0\n",
       "inTarvo                       21900000.0\n",
       "Grameen Financial Services    21556050.0\n",
       "Name: raised_amount_usd, dtype: float64"
      ]
     },
     "execution_count": 134,
     "metadata": {},
     "output_type": "execute_result"
    }
   ],
   "source": [
    "IND1[IND1.sector == 'Social, Finance, Analytics, Advertising'].groupby('name').raised_amount_usd.sum().sort_values(\n",
    "    ascending=False).head()"
   ]
  },
  {
   "cell_type": "code",
   "execution_count": 135,
   "id": "fbe96a68",
   "metadata": {},
   "outputs": [
    {
     "data": {
      "text/plain": [
       "name\n",
       "GupShup        33000000.0\n",
       "Roadrunnr      26000000.0\n",
       "IMImobile      23000000.0\n",
       "SMS GupShup    22000000.0\n",
       "hike           21000000.0\n",
       "Name: raised_amount_usd, dtype: float64"
      ]
     },
     "execution_count": 135,
     "metadata": {},
     "output_type": "execute_result"
    }
   ],
   "source": [
    "IND1[IND1.sector == 'News, Search and Messaging'].groupby('name').raised_amount_usd.sum().sort_values(ascending=False).head()"
   ]
  },
  {
   "cell_type": "markdown",
   "id": "b4c9e0fd",
   "metadata": {},
   "source": [
    "| Country | ApproachMedian                           | ApproachDropNull                           |\n",
    "|---------|:----------------------------------------:|--------------------------------------------|\n",
    "| USA     | Quellan (82000000 USD)                   |  Tigo Energy (68739496 USD)                |\n",
    "| USA     | EndoGastric Solutions (67896724 USD)     |  EndoGastric Solutions (67896724 USD)      |\n",
    "| GBR     | EUSA Pharma (35600000 USD)               |  EUSA Pharma (35600000 USD)                |\n",
    "| GBR     | mySupermarket (43400000 USD)             |  Ubiquisys (37000000 USD)                  |\n",
    "| IND     | GupShup (33000000 USD)                   |  GupShup (33000000 USD)                    |\n",
    "| IND     | Grameen Financial Services (21556050 USD)|  Grameen Financial Services (21556050 USD) |\n",
    "\n",
    "We can see that some of the top companies by number of investment change between both the approaches. The output of both the approaches differ by two companies in top 6."
   ]
  },
  {
   "cell_type": "markdown",
   "id": "995ae10c",
   "metadata": {},
   "source": [
    "#### Why this happened?\n",
    "Each row in data corresponds to one company and when we remove rows we are purging data for some or all the data for companies. However as the number of rows we purged were not significant, we still got correct sector and country analysis. \n",
    "\n",
    "To conclude we can choose to remove rows or use fillna based on the granularity of the business use case. Here we were interested in sectors so its safe to purge the data but had it been the analysis at company level, we would have kept the data by filling na with median or any other appropriate rule."
   ]
  },
  {
   "cell_type": "markdown",
   "id": "15756f4a",
   "metadata": {},
   "source": [
    "## End of the notebook"
   ]
  }
 ],
 "metadata": {
  "kernelspec": {
   "display_name": "Python 3",
   "language": "python",
   "name": "python3"
  },
  "language_info": {
   "codemirror_mode": {
    "name": "ipython",
    "version": 3
   },
   "file_extension": ".py",
   "mimetype": "text/x-python",
   "name": "python",
   "nbconvert_exporter": "python",
   "pygments_lexer": "ipython3",
   "version": "3.8.5"
  }
 },
 "nbformat": 4,
 "nbformat_minor": 5
}
