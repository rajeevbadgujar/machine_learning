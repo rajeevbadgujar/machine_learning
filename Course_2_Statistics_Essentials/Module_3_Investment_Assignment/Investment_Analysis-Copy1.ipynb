{
 "cells": [
  {
   "cell_type": "markdown",
   "id": "6a1600a5",
   "metadata": {},
   "source": [
    "## Import the required libraries"
   ]
  },
  {
   "cell_type": "code",
   "execution_count": 1,
   "id": "85e80d8f",
   "metadata": {},
   "outputs": [],
   "source": [
    "import numpy as np\n",
    "import pandas as pd\n",
    "import seaborn as sns\n",
    "import matplotlib.pyplot as plt"
   ]
  },
  {
   "cell_type": "markdown",
   "id": "b6385002",
   "metadata": {},
   "source": [
    "## Read the data\n",
    "\n",
    "**companies** - the dataframe containing information of the startups \\\n",
    "**rounds2** - the dataframe containing the information about each round of investments done in the companies \\\n",
    "**mapping** - maping of industry and the categories \\\n",
    "\n",
    "There seems to be difference in the encoding of companies and round2 files. The default encoding used by read_csv method of pandas resulted in character differences in companies and round2 dataframes. After trying \"mac_roman\" and \"Latin-1/iso-8859-1\", the later seems to work better."
   ]
  },
  {
   "cell_type": "code",
   "execution_count": 2,
   "id": "8cddc2ac",
   "metadata": {},
   "outputs": [],
   "source": [
    "companies = pd.read_csv('companies.csv', encoding='iso-8859-1')\n",
    "rounds2 = pd.read_csv('rounds2.csv', encoding='iso-8859-1')\n",
    "mapping = pd.read_csv('mapping.csv', encoding='iso-8859-1')"
   ]
  },
  {
   "cell_type": "markdown",
   "id": "2ad2a214",
   "metadata": {},
   "source": [
    "## Describe the datasets"
   ]
  },
  {
   "cell_type": "code",
   "execution_count": 3,
   "id": "b6459003",
   "metadata": {
    "scrolled": true
   },
   "outputs": [
    {
     "name": "stdout",
     "output_type": "stream",
     "text": [
      "<class 'pandas.core.frame.DataFrame'>\n",
      "RangeIndex: 66368 entries, 0 to 66367\n",
      "Data columns (total 10 columns):\n",
      " #   Column         Non-Null Count  Dtype \n",
      "---  ------         --------------  ----- \n",
      " 0   permalink      66368 non-null  object\n",
      " 1   name           66367 non-null  object\n",
      " 2   homepage_url   61310 non-null  object\n",
      " 3   category_list  63220 non-null  object\n",
      " 4   status         66368 non-null  object\n",
      " 5   country_code   59410 non-null  object\n",
      " 6   state_code     57821 non-null  object\n",
      " 7   region         58338 non-null  object\n",
      " 8   city           58340 non-null  object\n",
      " 9   founded_at     51147 non-null  object\n",
      "dtypes: object(10)\n",
      "memory usage: 5.1+ MB\n"
     ]
    }
   ],
   "source": [
    "companies.info()"
   ]
  },
  {
   "cell_type": "code",
   "execution_count": 4,
   "id": "00988beb",
   "metadata": {
    "scrolled": true
   },
   "outputs": [
    {
     "name": "stdout",
     "output_type": "stream",
     "text": [
      "<class 'pandas.core.frame.DataFrame'>\n",
      "RangeIndex: 114949 entries, 0 to 114948\n",
      "Data columns (total 6 columns):\n",
      " #   Column                   Non-Null Count   Dtype  \n",
      "---  ------                   --------------   -----  \n",
      " 0   company_permalink        114949 non-null  object \n",
      " 1   funding_round_permalink  114949 non-null  object \n",
      " 2   funding_round_type       114949 non-null  object \n",
      " 3   funding_round_code       31140 non-null   object \n",
      " 4   funded_at                114949 non-null  object \n",
      " 5   raised_amount_usd        94959 non-null   float64\n",
      "dtypes: float64(1), object(5)\n",
      "memory usage: 5.3+ MB\n"
     ]
    }
   ],
   "source": [
    "rounds2.info()"
   ]
  },
  {
   "cell_type": "code",
   "execution_count": 5,
   "id": "9aab7633",
   "metadata": {},
   "outputs": [
    {
     "name": "stdout",
     "output_type": "stream",
     "text": [
      "companies dataframe shape - (66368, 10)\n",
      "rounds2 dataframe shape - (114949, 6)\n"
     ]
    }
   ],
   "source": [
    "print('companies dataframe shape -',companies.shape)\n",
    "print('rounds2 dataframe shape -', rounds2.shape)"
   ]
  },
  {
   "cell_type": "code",
   "execution_count": 6,
   "id": "0596962f",
   "metadata": {},
   "outputs": [],
   "source": [
    "companies['permalink'] = companies['permalink'].str.encode('ascii', 'ignore').str.decode('ascii')\n",
    "companies['name'] = companies['name'].str.encode('ascii', 'ignore').str.decode('ascii')\n",
    "rounds2['company_permalink'] = rounds2['company_permalink'].str.encode('ascii', 'ignore').str.decode('ascii')"
   ]
  },
  {
   "cell_type": "markdown",
   "id": "f14fd031",
   "metadata": {},
   "source": [
    "## Checkpoint 1: Data Cleaning 1\n",
    "Check for null, missing values in each dataframe.\n",
    "### companies \n",
    "The dataframe has maximum number of null values in column founded_at followed by state_code, region, city, country_code, homepage_url and category_list."
   ]
  },
  {
   "cell_type": "code",
   "execution_count": 7,
   "id": "9a449be5",
   "metadata": {},
   "outputs": [
    {
     "data": {
      "text/plain": [
       "permalink            0\n",
       "name                 1\n",
       "homepage_url      5058\n",
       "category_list     3148\n",
       "status               0\n",
       "country_code      6958\n",
       "state_code        8547\n",
       "region            8030\n",
       "city              8028\n",
       "founded_at       15221\n",
       "dtype: int64"
      ]
     },
     "execution_count": 7,
     "metadata": {},
     "output_type": "execute_result"
    }
   ],
   "source": [
    "companies.isnull().sum(axis=0)"
   ]
  },
  {
   "cell_type": "markdown",
   "id": "de24bcff",
   "metadata": {},
   "source": [
    "Lets calculate the percentage of null values in companies dataframe"
   ]
  },
  {
   "cell_type": "code",
   "execution_count": 8,
   "id": "4045d317",
   "metadata": {
    "scrolled": true
   },
   "outputs": [
    {
     "data": {
      "text/plain": [
       "permalink         0.000000\n",
       "name              0.001507\n",
       "homepage_url      7.621143\n",
       "category_list     4.743250\n",
       "status            0.000000\n",
       "country_code     10.483968\n",
       "state_code       12.878194\n",
       "region           12.099204\n",
       "city             12.096191\n",
       "founded_at       22.934245\n",
       "dtype: float64"
      ]
     },
     "execution_count": 8,
     "metadata": {},
     "output_type": "execute_result"
    }
   ],
   "source": [
    "100*companies.isnull().sum()/len(companies.index)"
   ]
  },
  {
   "cell_type": "markdown",
   "id": "eb69b668",
   "metadata": {},
   "source": [
    "From the columns with high null values country_code and category_list are important for our analysis. We can drop after merging the two datasets. We will drop after merging the datasets because we want to keep the original data in tact. \\\n",
    "### rounds2\n",
    "Now lets calculate the same for rounds2 dataset."
   ]
  },
  {
   "cell_type": "code",
   "execution_count": 10,
   "id": "d8dc1835",
   "metadata": {},
   "outputs": [
    {
     "data": {
      "text/plain": [
       "company_permalink           0.000000\n",
       "funding_round_permalink     0.000000\n",
       "funding_round_type          0.000000\n",
       "funding_round_code         72.909725\n",
       "funded_at                   0.000000\n",
       "raised_amount_usd          17.390321\n",
       "dtype: float64"
      ]
     },
     "execution_count": 10,
     "metadata": {},
     "output_type": "execute_result"
    }
   ],
   "source": [
    "100*rounds2.isnull().sum(axis=0)/len(rounds2.index)"
   ]
  },
  {
   "cell_type": "markdown",
   "id": "34191714",
   "metadata": {},
   "source": [
    "In rounds2 dataset two cloumns - funding_round_code and raised_amount_usd have high percentage of null values. Out of these two columns only raised_amount_usd is important for our analysis so we can drop funding_round_code column. We can tackle null values in raised_amount_usd in two ways \n",
    "1. remove the rows with null value\n",
    "2. fill the null with median value for the funding type\n",
    "\n",
    "We will do this after merging the datasets."
   ]
  },
  {
   "cell_type": "markdown",
   "id": "78627351",
   "metadata": {},
   "source": [
    "The permalink column in companies dataframe and company_permalink in rounds2 dataframe have case discripency. We will convert everything in lower case. Also rename the company_permalink to permalink because later the merge is performed on this column."
   ]
  },
  {
   "cell_type": "code",
   "execution_count": 11,
   "id": "5be6508e",
   "metadata": {},
   "outputs": [],
   "source": [
    "rounds2.rename(columns={'company_permalink':'permalink'}, inplace=True)"
   ]
  },
  {
   "cell_type": "code",
   "execution_count": 12,
   "id": "66930a60",
   "metadata": {},
   "outputs": [],
   "source": [
    "to_lower_case = lambda x: x.lower()\n",
    "\n",
    "companies['permalink'] = companies.permalink.apply(to_lower_case)\n",
    "rounds2['permalink'] = rounds2.permalink.apply(to_lower_case)"
   ]
  },
  {
   "cell_type": "code",
   "execution_count": 13,
   "id": "a698451a",
   "metadata": {},
   "outputs": [
    {
     "data": {
      "text/plain": [
       "count                     66368\n",
       "unique                    66368\n",
       "top       /organization/wide-io\n",
       "freq                          1\n",
       "Name: permalink, dtype: object"
      ]
     },
     "execution_count": 13,
     "metadata": {},
     "output_type": "execute_result"
    }
   ],
   "source": [
    "companies.permalink.describe()"
   ]
  },
  {
   "cell_type": "code",
   "execution_count": 14,
   "id": "1d19754c",
   "metadata": {},
   "outputs": [
    {
     "data": {
      "text/plain": [
       "count                       114949\n",
       "unique                       66368\n",
       "top       /organization/solarflare\n",
       "freq                            19\n",
       "Name: permalink, dtype: object"
      ]
     },
     "execution_count": 14,
     "metadata": {},
     "output_type": "execute_result"
    }
   ],
   "source": [
    "rounds2.permalink.describe()"
   ]
  },
  {
   "cell_type": "markdown",
   "id": "4c1f5ec9",
   "metadata": {},
   "source": [
    "Create index on permalink columns of companies and round2 dataframes."
   ]
  },
  {
   "cell_type": "code",
   "execution_count": 15,
   "id": "65b08e48",
   "metadata": {},
   "outputs": [],
   "source": [
    "companies.set_index('permalink', inplace=True)\n",
    "rounds2.set_index('permalink', inplace=True)"
   ]
  },
  {
   "cell_type": "markdown",
   "id": "c95de6ed",
   "metadata": {},
   "source": [
    "We can take set difference between the columns of two dataframes to figure out the companies which are present in rounds2 dataframe but not in companies."
   ]
  },
  {
   "cell_type": "code",
   "execution_count": 16,
   "id": "c2e11ab6",
   "metadata": {
    "scrolled": true
   },
   "outputs": [
    {
     "data": {
      "text/plain": [
       "0"
      ]
     },
     "execution_count": 16,
     "metadata": {},
     "output_type": "execute_result"
    }
   ],
   "source": [
    "len(set(rounds2.index) - set(companies.index))"
   ]
  },
  {
   "cell_type": "markdown",
   "id": "63cab55d",
   "metadata": {},
   "source": [
    "So there are 7 companies in rounds2 dataframe which are not present in companies dataframe."
   ]
  },
  {
   "cell_type": "code",
   "execution_count": 17,
   "id": "c1620989",
   "metadata": {},
   "outputs": [],
   "source": [
    "master_frame = pd.merge(companies, rounds2, how='inner', on='permalink')"
   ]
  },
  {
   "cell_type": "code",
   "execution_count": 18,
   "id": "3efe428d",
   "metadata": {},
   "outputs": [
    {
     "name": "stdout",
     "output_type": "stream",
     "text": [
      "master_frame shape - (114949, 14)\n"
     ]
    }
   ],
   "source": [
    "print('master_frame shape -', master_frame.shape)"
   ]
  },
  {
   "cell_type": "markdown",
   "id": "34085616",
   "metadata": {},
   "source": [
    "### Drop the columns with null values\n",
    "As discssed earlier lets drop the columns\n",
    "- homepage_url\n",
    "- state_code\n",
    "- region\n",
    "- city\n",
    "- founded_at\n",
    "- funding_round_code"
   ]
  },
  {
   "cell_type": "code",
   "execution_count": 19,
   "id": "550ade9b",
   "metadata": {},
   "outputs": [],
   "source": [
    "master_frame = master_frame.drop(['homepage_url', 'state_code', 'region', 'city', 'founded_at', 'funding_round_code'], axis=1)"
   ]
  },
  {
   "cell_type": "code",
   "execution_count": 20,
   "id": "c19a40ca",
   "metadata": {},
   "outputs": [
    {
     "data": {
      "text/plain": [
       "name                           1\n",
       "category_list               3410\n",
       "status                         0\n",
       "country_code                8678\n",
       "funding_round_permalink        0\n",
       "funding_round_type             0\n",
       "funded_at                      0\n",
       "raised_amount_usd          19990\n",
       "dtype: int64"
      ]
     },
     "execution_count": 20,
     "metadata": {},
     "output_type": "execute_result"
    }
   ],
   "source": [
    "master_frame.isnull().sum()"
   ]
  },
  {
   "cell_type": "code",
   "execution_count": 21,
   "id": "62f012c5",
   "metadata": {},
   "outputs": [
    {
     "data": {
      "text/plain": [
       "name                        0.000870\n",
       "category_list               2.966533\n",
       "status                      0.000000\n",
       "country_code                7.549435\n",
       "funding_round_permalink     0.000000\n",
       "funding_round_type          0.000000\n",
       "funded_at                   0.000000\n",
       "raised_amount_usd          17.390321\n",
       "dtype: float64"
      ]
     },
     "execution_count": 21,
     "metadata": {},
     "output_type": "execute_result"
    }
   ],
   "source": [
    "100*master_frame.isnull().sum()/len(master_frame.index)"
   ]
  },
  {
   "cell_type": "markdown",
   "id": "c2475ed8",
   "metadata": {},
   "source": [
    "### Drop rows with null data\n",
    "Now lets remove the rows containing raised_funding_usd as null. "
   ]
  },
  {
   "cell_type": "code",
   "execution_count": 22,
   "id": "fb8b5815",
   "metadata": {},
   "outputs": [
    {
     "data": {
      "text/html": [
       "<div>\n",
       "<style scoped>\n",
       "    .dataframe tbody tr th:only-of-type {\n",
       "        vertical-align: middle;\n",
       "    }\n",
       "\n",
       "    .dataframe tbody tr th {\n",
       "        vertical-align: top;\n",
       "    }\n",
       "\n",
       "    .dataframe thead th {\n",
       "        text-align: right;\n",
       "    }\n",
       "</style>\n",
       "<table border=\"1\" class=\"dataframe\">\n",
       "  <thead>\n",
       "    <tr style=\"text-align: right;\">\n",
       "      <th></th>\n",
       "      <th>name</th>\n",
       "      <th>category_list</th>\n",
       "      <th>status</th>\n",
       "      <th>country_code</th>\n",
       "      <th>funding_round_permalink</th>\n",
       "      <th>funding_round_type</th>\n",
       "      <th>funded_at</th>\n",
       "      <th>raised_amount_usd</th>\n",
       "    </tr>\n",
       "    <tr>\n",
       "      <th>permalink</th>\n",
       "      <th></th>\n",
       "      <th></th>\n",
       "      <th></th>\n",
       "      <th></th>\n",
       "      <th></th>\n",
       "      <th></th>\n",
       "      <th></th>\n",
       "      <th></th>\n",
       "    </tr>\n",
       "  </thead>\n",
       "  <tbody>\n",
       "    <tr>\n",
       "      <th>/organization/-qounter</th>\n",
       "      <td>:Qounter</td>\n",
       "      <td>Application Platforms|Real Time|Social Network...</td>\n",
       "      <td>operating</td>\n",
       "      <td>USA</td>\n",
       "      <td>/funding-round/22dacff496eb7acb2b901dec1dfe5633</td>\n",
       "      <td>venture</td>\n",
       "      <td>14-10-2014</td>\n",
       "      <td>NaN</td>\n",
       "    </tr>\n",
       "    <tr>\n",
       "      <th>/organization/004-technologies</th>\n",
       "      <td>004 Technologies</td>\n",
       "      <td>Software</td>\n",
       "      <td>operating</td>\n",
       "      <td>USA</td>\n",
       "      <td>/funding-round/1278dd4e6a37fa4b7d7e06c21b3c1830</td>\n",
       "      <td>venture</td>\n",
       "      <td>24-07-2014</td>\n",
       "      <td>NaN</td>\n",
       "    </tr>\n",
       "    <tr>\n",
       "      <th>/organization/1</th>\n",
       "      <td>One Inc.</td>\n",
       "      <td>Mobile</td>\n",
       "      <td>operating</td>\n",
       "      <td>USA</td>\n",
       "      <td>/funding-round/5de6d8828aef7d925d97918d15727670</td>\n",
       "      <td>undisclosed</td>\n",
       "      <td>05-02-2013</td>\n",
       "      <td>NaN</td>\n",
       "    </tr>\n",
       "    <tr>\n",
       "      <th>/organization/1-4-all</th>\n",
       "      <td>1-4 All</td>\n",
       "      <td>Entertainment|Games|Software</td>\n",
       "      <td>operating</td>\n",
       "      <td>USA</td>\n",
       "      <td>/funding-round/e97a192e13ea0ee3c4f71136b4f3ec16</td>\n",
       "      <td>equity_crowdfunding</td>\n",
       "      <td>21-04-2013</td>\n",
       "      <td>NaN</td>\n",
       "    </tr>\n",
       "    <tr>\n",
       "      <th>/organization/1-618-technology</th>\n",
       "      <td>1.618 Technology</td>\n",
       "      <td>Networking|Real Estate|Web Hosting</td>\n",
       "      <td>operating</td>\n",
       "      <td>USA</td>\n",
       "      <td>/funding-round/83b8f4c7d37ecef5e001a5e953bf461a</td>\n",
       "      <td>equity_crowdfunding</td>\n",
       "      <td>22-01-2014</td>\n",
       "      <td>NaN</td>\n",
       "    </tr>\n",
       "    <tr>\n",
       "      <th>...</th>\n",
       "      <td>...</td>\n",
       "      <td>...</td>\n",
       "      <td>...</td>\n",
       "      <td>...</td>\n",
       "      <td>...</td>\n",
       "      <td>...</td>\n",
       "      <td>...</td>\n",
       "      <td>...</td>\n",
       "    </tr>\n",
       "    <tr>\n",
       "      <th>/organization/zymr-inc-</th>\n",
       "      <td>Zymr, Inc.</td>\n",
       "      <td>Android|Apps|Cloud Computing|Cloud Infrastruct...</td>\n",
       "      <td>operating</td>\n",
       "      <td>USA</td>\n",
       "      <td>/funding-round/9048d1a80edeae803ed1790c9f473eec</td>\n",
       "      <td>angel</td>\n",
       "      <td>12-12-2012</td>\n",
       "      <td>NaN</td>\n",
       "    </tr>\n",
       "    <tr>\n",
       "      <th>/organization/zynergy-projects-services</th>\n",
       "      <td>Zynergy Projects &amp; Services</td>\n",
       "      <td>Clean Technology</td>\n",
       "      <td>operating</td>\n",
       "      <td>IND</td>\n",
       "      <td>/funding-round/3d7dbd2d92220d93e2b5455f914a0918</td>\n",
       "      <td>venture</td>\n",
       "      <td>19-08-2015</td>\n",
       "      <td>NaN</td>\n",
       "    </tr>\n",
       "    <tr>\n",
       "      <th>/organization/zynga</th>\n",
       "      <td>Zynga</td>\n",
       "      <td>Facebook Applications|Games|Networking|Technology</td>\n",
       "      <td>ipo</td>\n",
       "      <td>USA</td>\n",
       "      <td>/funding-round/d27f10a20b15b4ef3d9961d54eabf6b1</td>\n",
       "      <td>angel</td>\n",
       "      <td>01-01-2007</td>\n",
       "      <td>NaN</td>\n",
       "    </tr>\n",
       "    <tr>\n",
       "      <th>/organization/zypsee</th>\n",
       "      <td>Whisk (formerly Zypsee)</td>\n",
       "      <td>Public Transportation</td>\n",
       "      <td>operating</td>\n",
       "      <td>USA</td>\n",
       "      <td>/funding-round/c67e22c5448435adaf5a2d101e449dde</td>\n",
       "      <td>seed</td>\n",
       "      <td>26-07-2013</td>\n",
       "      <td>NaN</td>\n",
       "    </tr>\n",
       "    <tr>\n",
       "      <th>/organization/eron</th>\n",
       "      <td>ERON</td>\n",
       "      <td>NaN</td>\n",
       "      <td>operating</td>\n",
       "      <td>NaN</td>\n",
       "      <td>/funding-round/59f4dce44723b794f21ded3daed6e4fe</td>\n",
       "      <td>venture</td>\n",
       "      <td>01-08-2014</td>\n",
       "      <td>NaN</td>\n",
       "    </tr>\n",
       "  </tbody>\n",
       "</table>\n",
       "<p>19990 rows × 8 columns</p>\n",
       "</div>"
      ],
      "text/plain": [
       "                                                                name  \\\n",
       "permalink                                                              \n",
       "/organization/-qounter                                      :Qounter   \n",
       "/organization/004-technologies                      004 Technologies   \n",
       "/organization/1                                             One Inc.   \n",
       "/organization/1-4-all                                        1-4 All   \n",
       "/organization/1-618-technology                      1.618 Technology   \n",
       "...                                                              ...   \n",
       "/organization/zymr-inc-                                   Zymr, Inc.   \n",
       "/organization/zynergy-projects-services  Zynergy Projects & Services   \n",
       "/organization/zynga                                            Zynga   \n",
       "/organization/zypsee                         Whisk (formerly Zypsee)   \n",
       "/organization/eron                                              ERON   \n",
       "\n",
       "                                                                             category_list  \\\n",
       "permalink                                                                                    \n",
       "/organization/-qounter                   Application Platforms|Real Time|Social Network...   \n",
       "/organization/004-technologies                                                    Software   \n",
       "/organization/1                                                                     Mobile   \n",
       "/organization/1-4-all                                         Entertainment|Games|Software   \n",
       "/organization/1-618-technology                          Networking|Real Estate|Web Hosting   \n",
       "...                                                                                    ...   \n",
       "/organization/zymr-inc-                  Android|Apps|Cloud Computing|Cloud Infrastruct...   \n",
       "/organization/zynergy-projects-services                                   Clean Technology   \n",
       "/organization/zynga                      Facebook Applications|Games|Networking|Technology   \n",
       "/organization/zypsee                                                 Public Transportation   \n",
       "/organization/eron                                                                     NaN   \n",
       "\n",
       "                                            status country_code  \\\n",
       "permalink                                                         \n",
       "/organization/-qounter                   operating          USA   \n",
       "/organization/004-technologies           operating          USA   \n",
       "/organization/1                          operating          USA   \n",
       "/organization/1-4-all                    operating          USA   \n",
       "/organization/1-618-technology           operating          USA   \n",
       "...                                            ...          ...   \n",
       "/organization/zymr-inc-                  operating          USA   \n",
       "/organization/zynergy-projects-services  operating          IND   \n",
       "/organization/zynga                            ipo          USA   \n",
       "/organization/zypsee                     operating          USA   \n",
       "/organization/eron                       operating          NaN   \n",
       "\n",
       "                                                                 funding_round_permalink  \\\n",
       "permalink                                                                                  \n",
       "/organization/-qounter                   /funding-round/22dacff496eb7acb2b901dec1dfe5633   \n",
       "/organization/004-technologies           /funding-round/1278dd4e6a37fa4b7d7e06c21b3c1830   \n",
       "/organization/1                          /funding-round/5de6d8828aef7d925d97918d15727670   \n",
       "/organization/1-4-all                    /funding-round/e97a192e13ea0ee3c4f71136b4f3ec16   \n",
       "/organization/1-618-technology           /funding-round/83b8f4c7d37ecef5e001a5e953bf461a   \n",
       "...                                                                                  ...   \n",
       "/organization/zymr-inc-                  /funding-round/9048d1a80edeae803ed1790c9f473eec   \n",
       "/organization/zynergy-projects-services  /funding-round/3d7dbd2d92220d93e2b5455f914a0918   \n",
       "/organization/zynga                      /funding-round/d27f10a20b15b4ef3d9961d54eabf6b1   \n",
       "/organization/zypsee                     /funding-round/c67e22c5448435adaf5a2d101e449dde   \n",
       "/organization/eron                       /funding-round/59f4dce44723b794f21ded3daed6e4fe   \n",
       "\n",
       "                                          funding_round_type   funded_at  \\\n",
       "permalink                                                                  \n",
       "/organization/-qounter                               venture  14-10-2014   \n",
       "/organization/004-technologies                       venture  24-07-2014   \n",
       "/organization/1                                  undisclosed  05-02-2013   \n",
       "/organization/1-4-all                    equity_crowdfunding  21-04-2013   \n",
       "/organization/1-618-technology           equity_crowdfunding  22-01-2014   \n",
       "...                                                      ...         ...   \n",
       "/organization/zymr-inc-                                angel  12-12-2012   \n",
       "/organization/zynergy-projects-services              venture  19-08-2015   \n",
       "/organization/zynga                                    angel  01-01-2007   \n",
       "/organization/zypsee                                    seed  26-07-2013   \n",
       "/organization/eron                                   venture  01-08-2014   \n",
       "\n",
       "                                         raised_amount_usd  \n",
       "permalink                                                   \n",
       "/organization/-qounter                                 NaN  \n",
       "/organization/004-technologies                         NaN  \n",
       "/organization/1                                        NaN  \n",
       "/organization/1-4-all                                  NaN  \n",
       "/organization/1-618-technology                         NaN  \n",
       "...                                                    ...  \n",
       "/organization/zymr-inc-                                NaN  \n",
       "/organization/zynergy-projects-services                NaN  \n",
       "/organization/zynga                                    NaN  \n",
       "/organization/zypsee                                   NaN  \n",
       "/organization/eron                                     NaN  \n",
       "\n",
       "[19990 rows x 8 columns]"
      ]
     },
     "execution_count": 22,
     "metadata": {},
     "output_type": "execute_result"
    }
   ],
   "source": [
    "master_frame[master_frame.raised_amount_usd.isnull()]"
   ]
  },
  {
   "cell_type": "code",
   "execution_count": 23,
   "id": "358f0a74",
   "metadata": {
    "scrolled": true
   },
   "outputs": [
    {
     "data": {
      "text/html": [
       "<div>\n",
       "<style scoped>\n",
       "    .dataframe tbody tr th:only-of-type {\n",
       "        vertical-align: middle;\n",
       "    }\n",
       "\n",
       "    .dataframe tbody tr th {\n",
       "        vertical-align: top;\n",
       "    }\n",
       "\n",
       "    .dataframe thead th {\n",
       "        text-align: right;\n",
       "    }\n",
       "</style>\n",
       "<table border=\"1\" class=\"dataframe\">\n",
       "  <thead>\n",
       "    <tr style=\"text-align: right;\">\n",
       "      <th></th>\n",
       "      <th>count</th>\n",
       "      <th>mean</th>\n",
       "      <th>std</th>\n",
       "      <th>min</th>\n",
       "      <th>25%</th>\n",
       "      <th>50%</th>\n",
       "      <th>75%</th>\n",
       "      <th>max</th>\n",
       "    </tr>\n",
       "    <tr>\n",
       "      <th>funding_round_type</th>\n",
       "      <th></th>\n",
       "      <th></th>\n",
       "      <th></th>\n",
       "      <th></th>\n",
       "      <th></th>\n",
       "      <th></th>\n",
       "      <th></th>\n",
       "      <th></th>\n",
       "    </tr>\n",
       "  </thead>\n",
       "  <tbody>\n",
       "    <tr>\n",
       "      <th>angel</th>\n",
       "      <td>4860.0</td>\n",
       "      <td>9.586945e+05</td>\n",
       "      <td>7.404397e+06</td>\n",
       "      <td>0.0</td>\n",
       "      <td>150000.00</td>\n",
       "      <td>400000.0</td>\n",
       "      <td>1000000.0</td>\n",
       "      <td>4.945120e+08</td>\n",
       "    </tr>\n",
       "    <tr>\n",
       "      <th>convertible_note</th>\n",
       "      <td>1447.0</td>\n",
       "      <td>1.453439e+06</td>\n",
       "      <td>8.043846e+06</td>\n",
       "      <td>0.0</td>\n",
       "      <td>78847.50</td>\n",
       "      <td>272000.0</td>\n",
       "      <td>1000000.0</td>\n",
       "      <td>1.850483e+08</td>\n",
       "    </tr>\n",
       "    <tr>\n",
       "      <th>debt_financing</th>\n",
       "      <td>6682.0</td>\n",
       "      <td>1.704353e+07</td>\n",
       "      <td>2.803204e+08</td>\n",
       "      <td>0.0</td>\n",
       "      <td>330484.25</td>\n",
       "      <td>1100000.0</td>\n",
       "      <td>4000000.0</td>\n",
       "      <td>2.127194e+10</td>\n",
       "    </tr>\n",
       "    <tr>\n",
       "      <th>equity_crowdfunding</th>\n",
       "      <td>1228.0</td>\n",
       "      <td>5.383682e+05</td>\n",
       "      <td>1.719329e+06</td>\n",
       "      <td>0.0</td>\n",
       "      <td>7000.00</td>\n",
       "      <td>100000.0</td>\n",
       "      <td>395901.0</td>\n",
       "      <td>2.740000e+07</td>\n",
       "    </tr>\n",
       "    <tr>\n",
       "      <th>grant</th>\n",
       "      <td>2124.0</td>\n",
       "      <td>4.300576e+06</td>\n",
       "      <td>2.558742e+07</td>\n",
       "      <td>0.0</td>\n",
       "      <td>50000.00</td>\n",
       "      <td>201684.0</td>\n",
       "      <td>1700000.0</td>\n",
       "      <td>7.500000e+08</td>\n",
       "    </tr>\n",
       "    <tr>\n",
       "      <th>non_equity_assistance</th>\n",
       "      <td>73.0</td>\n",
       "      <td>4.112031e+05</td>\n",
       "      <td>1.771747e+06</td>\n",
       "      <td>0.0</td>\n",
       "      <td>25000.00</td>\n",
       "      <td>60000.0</td>\n",
       "      <td>125000.0</td>\n",
       "      <td>1.500000e+07</td>\n",
       "    </tr>\n",
       "    <tr>\n",
       "      <th>post_ipo_debt</th>\n",
       "      <td>152.0</td>\n",
       "      <td>1.687046e+08</td>\n",
       "      <td>6.024738e+08</td>\n",
       "      <td>70000.0</td>\n",
       "      <td>4000000.00</td>\n",
       "      <td>19950000.0</td>\n",
       "      <td>60000000.0</td>\n",
       "      <td>5.800000e+09</td>\n",
       "    </tr>\n",
       "    <tr>\n",
       "      <th>post_ipo_equity</th>\n",
       "      <td>628.0</td>\n",
       "      <td>8.218249e+07</td>\n",
       "      <td>4.691889e+08</td>\n",
       "      <td>77.0</td>\n",
       "      <td>3764794.00</td>\n",
       "      <td>12262852.5</td>\n",
       "      <td>40000000.0</td>\n",
       "      <td>1.066494e+10</td>\n",
       "    </tr>\n",
       "    <tr>\n",
       "      <th>private_equity</th>\n",
       "      <td>1936.0</td>\n",
       "      <td>7.330859e+07</td>\n",
       "      <td>1.981135e+08</td>\n",
       "      <td>0.0</td>\n",
       "      <td>5000000.00</td>\n",
       "      <td>20000000.0</td>\n",
       "      <td>75000000.0</td>\n",
       "      <td>4.745460e+09</td>\n",
       "    </tr>\n",
       "    <tr>\n",
       "      <th>product_crowdfunding</th>\n",
       "      <td>386.0</td>\n",
       "      <td>1.363131e+06</td>\n",
       "      <td>4.698380e+06</td>\n",
       "      <td>0.0</td>\n",
       "      <td>40241.75</td>\n",
       "      <td>183915.0</td>\n",
       "      <td>735000.0</td>\n",
       "      <td>5.200000e+07</td>\n",
       "    </tr>\n",
       "    <tr>\n",
       "      <th>secondary_market</th>\n",
       "      <td>30.0</td>\n",
       "      <td>7.964963e+07</td>\n",
       "      <td>1.401038e+08</td>\n",
       "      <td>2323.0</td>\n",
       "      <td>5025000.00</td>\n",
       "      <td>32600000.0</td>\n",
       "      <td>84475000.0</td>\n",
       "      <td>6.806116e+08</td>\n",
       "    </tr>\n",
       "    <tr>\n",
       "      <th>seed</th>\n",
       "      <td>23603.0</td>\n",
       "      <td>7.198180e+05</td>\n",
       "      <td>2.221733e+06</td>\n",
       "      <td>0.0</td>\n",
       "      <td>55000.00</td>\n",
       "      <td>275000.0</td>\n",
       "      <td>1000000.0</td>\n",
       "      <td>2.000000e+08</td>\n",
       "    </tr>\n",
       "    <tr>\n",
       "      <th>undisclosed</th>\n",
       "      <td>1582.0</td>\n",
       "      <td>1.924237e+07</td>\n",
       "      <td>1.993238e+08</td>\n",
       "      <td>0.0</td>\n",
       "      <td>220000.00</td>\n",
       "      <td>1018680.0</td>\n",
       "      <td>4848804.0</td>\n",
       "      <td>5.000000e+09</td>\n",
       "    </tr>\n",
       "    <tr>\n",
       "      <th>venture</th>\n",
       "      <td>50228.0</td>\n",
       "      <td>1.174895e+07</td>\n",
       "      <td>8.635207e+07</td>\n",
       "      <td>0.0</td>\n",
       "      <td>1600901.75</td>\n",
       "      <td>5000000.0</td>\n",
       "      <td>12000000.0</td>\n",
       "      <td>1.760000e+10</td>\n",
       "    </tr>\n",
       "  </tbody>\n",
       "</table>\n",
       "</div>"
      ],
      "text/plain": [
       "                         count          mean           std      min  \\\n",
       "funding_round_type                                                    \n",
       "angel                   4860.0  9.586945e+05  7.404397e+06      0.0   \n",
       "convertible_note        1447.0  1.453439e+06  8.043846e+06      0.0   \n",
       "debt_financing          6682.0  1.704353e+07  2.803204e+08      0.0   \n",
       "equity_crowdfunding     1228.0  5.383682e+05  1.719329e+06      0.0   \n",
       "grant                   2124.0  4.300576e+06  2.558742e+07      0.0   \n",
       "non_equity_assistance     73.0  4.112031e+05  1.771747e+06      0.0   \n",
       "post_ipo_debt            152.0  1.687046e+08  6.024738e+08  70000.0   \n",
       "post_ipo_equity          628.0  8.218249e+07  4.691889e+08     77.0   \n",
       "private_equity          1936.0  7.330859e+07  1.981135e+08      0.0   \n",
       "product_crowdfunding     386.0  1.363131e+06  4.698380e+06      0.0   \n",
       "secondary_market          30.0  7.964963e+07  1.401038e+08   2323.0   \n",
       "seed                   23603.0  7.198180e+05  2.221733e+06      0.0   \n",
       "undisclosed             1582.0  1.924237e+07  1.993238e+08      0.0   \n",
       "venture                50228.0  1.174895e+07  8.635207e+07      0.0   \n",
       "\n",
       "                              25%         50%         75%           max  \n",
       "funding_round_type                                                       \n",
       "angel                   150000.00    400000.0   1000000.0  4.945120e+08  \n",
       "convertible_note         78847.50    272000.0   1000000.0  1.850483e+08  \n",
       "debt_financing          330484.25   1100000.0   4000000.0  2.127194e+10  \n",
       "equity_crowdfunding       7000.00    100000.0    395901.0  2.740000e+07  \n",
       "grant                    50000.00    201684.0   1700000.0  7.500000e+08  \n",
       "non_equity_assistance    25000.00     60000.0    125000.0  1.500000e+07  \n",
       "post_ipo_debt          4000000.00  19950000.0  60000000.0  5.800000e+09  \n",
       "post_ipo_equity        3764794.00  12262852.5  40000000.0  1.066494e+10  \n",
       "private_equity         5000000.00  20000000.0  75000000.0  4.745460e+09  \n",
       "product_crowdfunding     40241.75    183915.0    735000.0  5.200000e+07  \n",
       "secondary_market       5025000.00  32600000.0  84475000.0  6.806116e+08  \n",
       "seed                     55000.00    275000.0   1000000.0  2.000000e+08  \n",
       "undisclosed             220000.00   1018680.0   4848804.0  5.000000e+09  \n",
       "venture                1600901.75   5000000.0  12000000.0  1.760000e+10  "
      ]
     },
     "execution_count": 23,
     "metadata": {},
     "output_type": "execute_result"
    }
   ],
   "source": [
    "master_frame.groupby('funding_round_type').raised_amount_usd.describe()"
   ]
  },
  {
   "cell_type": "code",
   "execution_count": 24,
   "id": "df4a0b6a",
   "metadata": {},
   "outputs": [],
   "source": [
    "master_frame['raised_amount_usd'] = master_frame.apply(\n",
    "    lambda row: 275000 if ((np.isnan(row['raised_amount_usd'])) & (row['funding_round_type'] == 'seed')) else row['raised_amount_usd'], axis=1)"
   ]
  },
  {
   "cell_type": "code",
   "execution_count": 25,
   "id": "e0d85fa9",
   "metadata": {},
   "outputs": [],
   "source": [
    "master_frame['raised_amount_usd'] = master_frame.apply(\n",
    "    lambda row: 5000000 if ((np.isnan(row['raised_amount_usd'])) & (row['funding_round_type'] == 'venture')) else row['raised_amount_usd'], axis=1)"
   ]
  },
  {
   "cell_type": "code",
   "execution_count": 26,
   "id": "d8854c0b",
   "metadata": {},
   "outputs": [],
   "source": [
    "master_frame['raised_amount_usd'] = master_frame.apply(\n",
    "    lambda row: 20000000 if ((np.isnan(row['raised_amount_usd'])) & (row['funding_round_type'] == 'private_equity')) else row['raised_amount_usd'], axis=1)"
   ]
  },
  {
   "cell_type": "code",
   "execution_count": 27,
   "id": "e20e30f6",
   "metadata": {},
   "outputs": [],
   "source": [
    "master_frame['raised_amount_usd'] = master_frame.apply(\n",
    "    lambda row: 400000 if ((np.isnan(row['raised_amount_usd'])) & (row['funding_round_type'] == 'angel')) else row['raised_amount_usd'], axis=1)"
   ]
  },
  {
   "cell_type": "code",
   "execution_count": 28,
   "id": "9282cba3",
   "metadata": {},
   "outputs": [],
   "source": [
    "master_frame = master_frame[~master_frame.raised_amount_usd.isnull()]"
   ]
  },
  {
   "cell_type": "code",
   "execution_count": 29,
   "id": "443fec24",
   "metadata": {},
   "outputs": [
    {
     "data": {
      "text/plain": [
       "name                       0.000920\n",
       "category_list              2.470362\n",
       "status                     0.000000\n",
       "country_code               7.496620\n",
       "funding_round_permalink    0.000000\n",
       "funding_round_type         0.000000\n",
       "funded_at                  0.000000\n",
       "raised_amount_usd          0.000000\n",
       "dtype: float64"
      ]
     },
     "execution_count": 29,
     "metadata": {},
     "output_type": "execute_result"
    }
   ],
   "source": [
    "100*master_frame.isnull().sum()/len(master_frame.index)"
   ]
  },
  {
   "cell_type": "code",
   "execution_count": 30,
   "id": "189eb849",
   "metadata": {},
   "outputs": [
    {
     "name": "stdout",
     "output_type": "stream",
     "text": [
      "master_frame shape after removing rows with null raised_funding_usd - (108729, 8)\n"
     ]
    }
   ],
   "source": [
    "print('master_frame shape after removing rows with null raised_funding_usd -', master_frame.shape)"
   ]
  },
  {
   "cell_type": "markdown",
   "id": "a8e40de4",
   "metadata": {},
   "source": [
    "Now lets analyse the country_code as its important column for our analysis."
   ]
  },
  {
   "cell_type": "code",
   "execution_count": 31,
   "id": "b1d28d5e",
   "metadata": {},
   "outputs": [
    {
     "data": {
      "text/plain": [
       "count     100578\n",
       "unique       137\n",
       "top          USA\n",
       "freq       68318\n",
       "Name: country_code, dtype: object"
      ]
     },
     "execution_count": 31,
     "metadata": {},
     "output_type": "execute_result"
    }
   ],
   "source": [
    "master_frame.country_code.describe()"
   ]
  },
  {
   "cell_type": "markdown",
   "id": "7a1dc2b5",
   "metadata": {},
   "source": [
    "USA is the highest occuring country and there are 134 unique contry codes. Now lets calculate the percentage to understand the distribution properly."
   ]
  },
  {
   "cell_type": "code",
   "execution_count": 32,
   "id": "d604aafd",
   "metadata": {},
   "outputs": [
    {
     "data": {
      "text/plain": [
       "USA    62.833283\n",
       "GBR     5.235954\n",
       "CAN     2.641430\n",
       "CHN     2.348959\n",
       "IND     1.966357\n",
       "         ...    \n",
       "JEY     0.000920\n",
       "TGO     0.000920\n",
       "MNE     0.000920\n",
       "DMA     0.000920\n",
       "GRD     0.000920\n",
       "Name: country_code, Length: 137, dtype: float64"
      ]
     },
     "execution_count": 32,
     "metadata": {},
     "output_type": "execute_result"
    }
   ],
   "source": [
    "100*master_frame.country_code.value_counts()/len(master_frame.index)"
   ]
  },
  {
   "cell_type": "code",
   "execution_count": 33,
   "id": "1e8112d0",
   "metadata": {},
   "outputs": [
    {
     "data": {
      "text/plain": [
       "8151"
      ]
     },
     "execution_count": 33,
     "metadata": {},
     "output_type": "execute_result"
    }
   ],
   "source": [
    "master_frame.country_code.isnull().sum()"
   ]
  },
  {
   "cell_type": "markdown",
   "id": "baf2c2e0",
   "metadata": {},
   "source": [
    "One thing we can do is to check if city column is available for records with country_code as null and use it to infer the country code. However as we have already dropped city column and the number of rows with country_code as null is about 6% of total data, we can drop the rows."
   ]
  },
  {
   "cell_type": "code",
   "execution_count": 34,
   "id": "c28855e7",
   "metadata": {},
   "outputs": [],
   "source": [
    "master_frame = master_frame[~master_frame.country_code.isna()]"
   ]
  },
  {
   "cell_type": "code",
   "execution_count": 35,
   "id": "891b9d77",
   "metadata": {},
   "outputs": [
    {
     "data": {
      "text/plain": [
       "name                       0.000994\n",
       "category_list              1.231880\n",
       "status                     0.000000\n",
       "country_code               0.000000\n",
       "funding_round_permalink    0.000000\n",
       "funding_round_type         0.000000\n",
       "funded_at                  0.000000\n",
       "raised_amount_usd          0.000000\n",
       "dtype: float64"
      ]
     },
     "execution_count": 35,
     "metadata": {},
     "output_type": "execute_result"
    }
   ],
   "source": [
    "100*master_frame.isnull().sum()/len(master_frame.index)"
   ]
  },
  {
   "cell_type": "markdown",
   "id": "0c31f053",
   "metadata": {},
   "source": [
    "We can drop the records with category_list as null as its just 0.65% of total data. There are also very small number of records with name as null but we can live with it. "
   ]
  },
  {
   "cell_type": "code",
   "execution_count": 36,
   "id": "446642a9",
   "metadata": {},
   "outputs": [],
   "source": [
    "master_frame = master_frame[~master_frame.category_list.isnull()]"
   ]
  },
  {
   "cell_type": "code",
   "execution_count": 37,
   "id": "4c07350b",
   "metadata": {
    "scrolled": true
   },
   "outputs": [
    {
     "data": {
      "text/plain": [
       "name                       0.001007\n",
       "category_list              0.000000\n",
       "status                     0.000000\n",
       "country_code               0.000000\n",
       "funding_round_permalink    0.000000\n",
       "funding_round_type         0.000000\n",
       "funded_at                  0.000000\n",
       "raised_amount_usd          0.000000\n",
       "dtype: float64"
      ]
     },
     "execution_count": 37,
     "metadata": {},
     "output_type": "execute_result"
    }
   ],
   "source": [
    "100*master_frame.isnull().sum()/len(master_frame.index)"
   ]
  },
  {
   "cell_type": "code",
   "execution_count": 38,
   "id": "fa0c2f69",
   "metadata": {
    "scrolled": true
   },
   "outputs": [],
   "source": [
    "master_frame.reset_index(inplace=True)"
   ]
  },
  {
   "cell_type": "code",
   "execution_count": 39,
   "id": "3c3542d7",
   "metadata": {},
   "outputs": [
    {
     "data": {
      "text/plain": [
       "(99339, 9)"
      ]
     },
     "execution_count": 39,
     "metadata": {},
     "output_type": "execute_result"
    }
   ],
   "source": [
    "master_frame.shape"
   ]
  },
  {
   "cell_type": "markdown",
   "id": "ab237b22",
   "metadata": {},
   "source": [
    "**End of Checkpoint 1: Data Cleaning 1**"
   ]
  },
  {
   "cell_type": "markdown",
   "id": "adc35fbf",
   "metadata": {},
   "source": [
    "------------------------------------------------------------"
   ]
  },
  {
   "cell_type": "markdown",
   "id": "40cbab72",
   "metadata": {},
   "source": [
    "## Checkpoint 2: Funding Type Analysis"
   ]
  },
  {
   "cell_type": "markdown",
   "id": "e68bb15c",
   "metadata": {},
   "source": [
    "Now lets focus on the funding type analysis. The Spark Funds wants to \n",
    "- choose one of the 4 investment types \n",
    "  - venture\n",
    "  - angel\n",
    "  - seed\n",
    "  - private equity\n",
    "- invest between 5 to 15 million USD per investment round\n",
    "\n",
    "Lets start by describing the raised_amount_usd column"
   ]
  },
  {
   "cell_type": "code",
   "execution_count": 40,
   "id": "861e3b2a",
   "metadata": {},
   "outputs": [
    {
     "data": {
      "text/plain": [
       "count    9.933900e+04\n",
       "mean     9.612444e+06\n",
       "std      1.055879e+08\n",
       "min      0.000000e+00\n",
       "25%      2.755325e+05\n",
       "50%      1.650000e+06\n",
       "75%      6.000000e+06\n",
       "max      2.127194e+10\n",
       "Name: raised_amount_usd, dtype: float64"
      ]
     },
     "execution_count": 40,
     "metadata": {},
     "output_type": "execute_result"
    }
   ],
   "source": [
    "master_frame.raised_amount_usd.describe()"
   ]
  },
  {
   "cell_type": "markdown",
   "id": "2410bad1",
   "metadata": {},
   "source": [
    "There is huge difference between the min and max values. The mean is at about ~10 million which is more than the 75th quartile which is at about ~7 million.\n",
    "Lets try to focus on the data pertaining to the four types of investment types and compare the mean, median numbers."
   ]
  },
  {
   "cell_type": "code",
   "execution_count": 41,
   "id": "29b818fb",
   "metadata": {},
   "outputs": [],
   "source": [
    "inv_types = [tuple(i) for i in ['angel', 'venture', 'seed', 'private_equity']]\n",
    "master_frame = master_frame[master_frame['funding_round_type'].apply(tuple).isin(inv_types)]"
   ]
  },
  {
   "cell_type": "code",
   "execution_count": 42,
   "id": "a5b58bf3",
   "metadata": {},
   "outputs": [
    {
     "data": {
      "text/plain": [
       "venture           52024\n",
       "seed              26438\n",
       "angel              5417\n",
       "private_equity     2055\n",
       "Name: funding_round_type, dtype: int64"
      ]
     },
     "execution_count": 42,
     "metadata": {},
     "output_type": "execute_result"
    }
   ],
   "source": [
    "master_frame.funding_round_type.value_counts()"
   ]
  },
  {
   "cell_type": "code",
   "execution_count": 43,
   "id": "251e1290",
   "metadata": {},
   "outputs": [
    {
     "data": {
      "text/plain": [
       "count    8.593400e+04\n",
       "mean     8.643752e+06\n",
       "std      7.290849e+07\n",
       "min      0.000000e+00\n",
       "25%      3.153850e+05\n",
       "50%      2.000000e+06\n",
       "75%      6.588200e+06\n",
       "max      1.760000e+10\n",
       "Name: raised_amount_usd, dtype: float64"
      ]
     },
     "execution_count": 43,
     "metadata": {},
     "output_type": "execute_result"
    }
   ],
   "source": [
    "master_frame.raised_amount_usd.describe()"
   ]
  },
  {
   "cell_type": "code",
   "execution_count": 44,
   "id": "8378fdab",
   "metadata": {},
   "outputs": [
    {
     "data": {
      "image/png": "[encoded data removed]",
      "text/plain": [
       "<Figure size 432x288 with 1 Axes>"
      ]
     },
     "metadata": {
      "needs_background": "light"
     },
     "output_type": "display_data"
    }
   ],
   "source": [
    "sns.boxplot(y=master_frame['raised_amount_usd'], x=master_frame['funding_round_type'])\n",
    "plt.yscale('log')\n",
    "plt.show()"
   ]
  },
  {
   "cell_type": "markdown",
   "id": "7c248b3c",
   "metadata": {},
   "source": [
    "Create a pivote table of funding type and the median amount invested. We choose median amount to ignore the outliers."
   ]
  },
  {
   "cell_type": "code",
   "execution_count": 45,
   "id": "bfec6934",
   "metadata": {
    "scrolled": true
   },
   "outputs": [
    {
     "data": {
      "text/html": [
       "<div>\n",
       "<style scoped>\n",
       "    .dataframe tbody tr th:only-of-type {\n",
       "        vertical-align: middle;\n",
       "    }\n",
       "\n",
       "    .dataframe tbody tr th {\n",
       "        vertical-align: top;\n",
       "    }\n",
       "\n",
       "    .dataframe thead tr th {\n",
       "        text-align: left;\n",
       "    }\n",
       "</style>\n",
       "<table border=\"1\" class=\"dataframe\">\n",
       "  <thead>\n",
       "    <tr>\n",
       "      <th></th>\n",
       "      <th colspan=\"4\" halign=\"left\">median</th>\n",
       "      <th colspan=\"4\" halign=\"left\">mean</th>\n",
       "    </tr>\n",
       "    <tr>\n",
       "      <th>funding_round_type</th>\n",
       "      <th>angel</th>\n",
       "      <th>private_equity</th>\n",
       "      <th>seed</th>\n",
       "      <th>venture</th>\n",
       "      <th>angel</th>\n",
       "      <th>private_equity</th>\n",
       "      <th>seed</th>\n",
       "      <th>venture</th>\n",
       "    </tr>\n",
       "  </thead>\n",
       "  <tbody>\n",
       "    <tr>\n",
       "      <th>raised_amount_usd</th>\n",
       "      <td>400000.0</td>\n",
       "      <td>20000000.0</td>\n",
       "      <td>275000.0</td>\n",
       "      <td>5000000.0</td>\n",
       "      <td>864265.29832</td>\n",
       "      <td>6.777034e+07</td>\n",
       "      <td>652244.221651</td>\n",
       "      <td>1.117942e+07</td>\n",
       "    </tr>\n",
       "  </tbody>\n",
       "</table>\n",
       "</div>"
      ],
      "text/plain": [
       "                      median                                      \\\n",
       "funding_round_type     angel private_equity      seed    venture   \n",
       "raised_amount_usd   400000.0     20000000.0  275000.0  5000000.0   \n",
       "\n",
       "                            mean                                              \n",
       "funding_round_type         angel private_equity           seed       venture  \n",
       "raised_amount_usd   864265.29832   6.777034e+07  652244.221651  1.117942e+07  "
      ]
     },
     "execution_count": 45,
     "metadata": {},
     "output_type": "execute_result"
    }
   ],
   "source": [
    "pd.pivot_table(data=master_frame, columns='funding_round_type', values='raised_amount_usd', aggfunc=[np.median, np.mean])"
   ]
  },
  {
   "cell_type": "markdown",
   "id": "505de79d",
   "metadata": {},
   "source": [
    "As we can see that there is big difference between mean and median for each type of funding and from the boxplot we can see that there are outliers for each funding type we should consider median as representative value for funding types. "
   ]
  },
  {
   "cell_type": "markdown",
   "id": "5a437afc",
   "metadata": {},
   "source": [
    "From the boxplot \n",
    "- the median of venture funding is 5 million and the mean is ~11.7 million. Both these numbers are within the targeted investment amount of Spark Funds.\n",
    "- the median of seed funding is 300000 and the mean is ~747793. Both these numbers are way below the desired investment amount of Spark Funds\n",
    "- the median of angel funding is 414906 and the mean is ~971573. Again both these numbers are less than the Spark Funds targeted investment amount\n",
    "- the median of private equity is 20 million and the mean is ~73.93 million. Both these amounts are more than the Spark Funds investment targets\n",
    "\n",
    "**The venture investment type should be considered by Spark Funds.**"
   ]
  },
  {
   "cell_type": "markdown",
   "id": "568b8bc6",
   "metadata": {},
   "source": [
    "## End of Checkpoint 2: Funding Type Analysis"
   ]
  },
  {
   "cell_type": "markdown",
   "id": "3acc2a10",
   "metadata": {},
   "source": [
    "------------------------------------------------------------------------------------"
   ]
  },
  {
   "cell_type": "markdown",
   "id": "95937f64",
   "metadata": {},
   "source": [
    "## Checkpoint 3: Country Analysis"
   ]
  },
  {
   "cell_type": "markdown",
   "id": "1765eca7",
   "metadata": {},
   "source": [
    "Spark Funds wants to invest in \n",
    "- countries with highest funding received in venture type\n",
    "- English speaking countries"
   ]
  },
  {
   "cell_type": "markdown",
   "id": "741e98cc",
   "metadata": {},
   "source": [
    "Lets group the data for venture type investment by country. Aggregating the funding values across all these countries and sorting it in descending order will give us top9 counties. "
   ]
  },
  {
   "cell_type": "code",
   "execution_count": 46,
   "id": "876781ba",
   "metadata": {},
   "outputs": [],
   "source": [
    "groupby_country = master_frame[master_frame.funding_round_type == 'venture'].groupby(by='country_code')"
   ]
  },
  {
   "cell_type": "markdown",
   "id": "09383c91",
   "metadata": {},
   "source": [
    "Lets capture the top9 country codes in a variable which we will use later to filter the data."
   ]
  },
  {
   "cell_type": "code",
   "execution_count": 47,
   "id": "eaf37234",
   "metadata": {},
   "outputs": [],
   "source": [
    "top9_country_codes = groupby_country.raised_amount_usd.sum().sort_values(ascending=False).head(9).index"
   ]
  },
  {
   "cell_type": "markdown",
   "id": "a4627a05",
   "metadata": {},
   "source": [
    "Filter the data using top9 country codes. "
   ]
  },
  {
   "cell_type": "code",
   "execution_count": 48,
   "id": "b2a64a62",
   "metadata": {},
   "outputs": [],
   "source": [
    "top9_country_codes = [tuple(i) for i in top9_country_codes.values]\n",
    "top9 = master_frame[master_frame['country_code'].apply(tuple).isin(top9_country_codes)]"
   ]
  },
  {
   "cell_type": "markdown",
   "id": "2d2a7b9d",
   "metadata": {},
   "source": [
    "As we are interested in venture investment type data, filter it by funding_round_type"
   ]
  },
  {
   "cell_type": "code",
   "execution_count": 49,
   "id": "83e0fc0b",
   "metadata": {},
   "outputs": [],
   "source": [
    "top9 = top9[top9.funding_round_type == 'venture']"
   ]
  },
  {
   "cell_type": "code",
   "execution_count": 50,
   "id": "364897be",
   "metadata": {},
   "outputs": [
    {
     "data": {
      "text/plain": [
       "USA    38034\n",
       "GBR     2265\n",
       "CHN     2051\n",
       "CAN     1331\n",
       "IND      984\n",
       "FRA      971\n",
       "ISR      897\n",
       "DEU      773\n",
       "JPN      308\n",
       "Name: country_code, dtype: int64"
      ]
     },
     "execution_count": 50,
     "metadata": {},
     "output_type": "execute_result"
    }
   ],
   "source": [
    "top9.country_code.value_counts()"
   ]
  },
  {
   "cell_type": "markdown",
   "id": "3b146d74",
   "metadata": {},
   "source": [
    "The USA tops with 35943 funding rounds followed by Great Britain with 2041 and China with 1548 number of funding deals. \\\n",
    "Now lets aggregate the funding raised grouped by country. "
   ]
  },
  {
   "cell_type": "code",
   "execution_count": 51,
   "id": "f13cd954",
   "metadata": {},
   "outputs": [
    {
     "data": {
      "text/plain": [
       "country_code\n",
       "USA    4.305230e+11\n",
       "CHN    4.185392e+10\n",
       "GBR    2.119281e+10\n",
       "IND    1.508651e+10\n",
       "CAN    9.907218e+09\n",
       "FRA    7.521851e+09\n",
       "ISR    7.409350e+09\n",
       "DEU    7.401922e+09\n",
       "JPN    3.362647e+09\n",
       "Name: raised_amount_usd, dtype: float64"
      ]
     },
     "execution_count": 51,
     "metadata": {},
     "output_type": "execute_result"
    }
   ],
   "source": [
    "top9.groupby('country_code').raised_amount_usd.sum().sort_values(ascending=False)"
   ]
  },
  {
   "cell_type": "markdown",
   "id": "09880ea3",
   "metadata": {},
   "source": [
    "In terms of total funding amount also USA tops the list with ~420 billion USD followed by China with ~39 billion USD and Great Britain with ~20 billion. \\\n",
    "But as China is not English speaking country, Spark Funds should consder below top 3 investment friendly countries for venture funding \n",
    "1. **USA : ~420 billion USD**\n",
    "2. **Great Britan : ~39 billion USD**\n",
    "3. **India : ~20 billion USD**"
   ]
  },
  {
   "cell_type": "markdown",
   "id": "7b2cebff",
   "metadata": {},
   "source": [
    "## End of Checkpoint 3: Country Analysis"
   ]
  },
  {
   "cell_type": "markdown",
   "id": "1ed16b38",
   "metadata": {},
   "source": [
    "------------------------------------------------------------------------------------------------------------"
   ]
  },
  {
   "cell_type": "markdown",
   "id": "0c82aa24",
   "metadata": {},
   "source": [
    "## Checkpoint 4: Sector Analysis 1"
   ]
  },
  {
   "cell_type": "markdown",
   "id": "30cd0c79",
   "metadata": {},
   "source": [
    "Extract primary sector from category list."
   ]
  },
  {
   "cell_type": "code",
   "execution_count": 52,
   "id": "1d0952d8",
   "metadata": {
    "scrolled": true
   },
   "outputs": [],
   "source": [
    "master_frame['primary_sector'] = master_frame.category_list.apply(lambda x: str(x).split('|')[0])"
   ]
  },
  {
   "cell_type": "markdown",
   "id": "2df776d4",
   "metadata": {},
   "source": [
    "Lets analyse the mapping data."
   ]
  },
  {
   "cell_type": "code",
   "execution_count": 53,
   "id": "f28fae27",
   "metadata": {
    "scrolled": true
   },
   "outputs": [
    {
     "data": {
      "text/plain": [
       "1"
      ]
     },
     "execution_count": 53,
     "metadata": {},
     "output_type": "execute_result"
    }
   ],
   "source": [
    "mapping.category_list.isnull().sum()"
   ]
  },
  {
   "cell_type": "code",
   "execution_count": 54,
   "id": "7ff7c515",
   "metadata": {},
   "outputs": [
    {
     "data": {
      "text/plain": [
       "0"
      ]
     },
     "execution_count": 54,
     "metadata": {},
     "output_type": "execute_result"
    }
   ],
   "source": [
    "master_frame.primary_sector.isnull().sum()"
   ]
  },
  {
   "cell_type": "markdown",
   "id": "4d69ec7d",
   "metadata": {},
   "source": [
    "The category list in mapping data contains one NaN value bur the master frame does not contain any NaN for primary sector so we will drop the row from mapping with NaN category."
   ]
  },
  {
   "cell_type": "code",
   "execution_count": 55,
   "id": "499291a4",
   "metadata": {},
   "outputs": [],
   "source": [
    "mapping = mapping[~mapping.category_list.isna()]"
   ]
  },
  {
   "cell_type": "code",
   "execution_count": 56,
   "id": "2fcfa282",
   "metadata": {},
   "outputs": [
    {
     "data": {
      "text/plain": [
       "0"
      ]
     },
     "execution_count": 56,
     "metadata": {},
     "output_type": "execute_result"
    }
   ],
   "source": [
    "mapping.category_list.isna().sum()"
   ]
  },
  {
   "cell_type": "code",
   "execution_count": 57,
   "id": "6cc9cb81",
   "metadata": {},
   "outputs": [
    {
     "data": {
      "text/plain": [
       "count          687\n",
       "unique         687\n",
       "top       Concerts\n",
       "freq             1\n",
       "Name: category_list, dtype: object"
      ]
     },
     "execution_count": 57,
     "metadata": {},
     "output_type": "execute_result"
    }
   ],
   "source": [
    "mapping.category_list.describe()"
   ]
  },
  {
   "cell_type": "markdown",
   "id": "de4ecf91",
   "metadata": {},
   "source": [
    "The category_list has all unique values so lets set index on category_list"
   ]
  },
  {
   "cell_type": "code",
   "execution_count": 58,
   "id": "42b88732",
   "metadata": {},
   "outputs": [],
   "source": [
    "mapping.set_index('category_list', inplace=True)"
   ]
  },
  {
   "cell_type": "markdown",
   "id": "b8d2a8b8",
   "metadata": {},
   "source": [
    "The mapping dataframe contians has category as row and main sector as columns. The category to sector relationship is denited with an integer value of 1 in sector column. The format of mapping dataframe is difficult to work with so we will add an extra column in the mapping dataframe with name of the sector. \\\n",
    "First iterate the rows and capture the main sector a category belongs to. Then we will convert this to a dataframe and join with mapping dataframe."
   ]
  },
  {
   "cell_type": "code",
   "execution_count": 59,
   "id": "f7ffb1d9",
   "metadata": {},
   "outputs": [],
   "source": [
    "sector_list = {}\n",
    "for index, row in mapping.iterrows():\n",
    "    sector_list[index] = row.idxmax()"
   ]
  },
  {
   "cell_type": "code",
   "execution_count": 60,
   "id": "c0ad33ab",
   "metadata": {},
   "outputs": [],
   "source": [
    "sector_list = pd.DataFrame.from_dict(sector_list, orient='index', columns=['sector'])"
   ]
  },
  {
   "cell_type": "code",
   "execution_count": 61,
   "id": "405f52f7",
   "metadata": {},
   "outputs": [],
   "source": [
    "mapping = mapping.join(sector_list)"
   ]
  },
  {
   "cell_type": "code",
   "execution_count": 62,
   "id": "29c9babf",
   "metadata": {},
   "outputs": [
    {
     "data": {
      "text/plain": [
       "count             85934\n",
       "unique              709\n",
       "top       Biotechnology\n",
       "freq               7943\n",
       "Name: primary_sector, dtype: object"
      ]
     },
     "execution_count": 62,
     "metadata": {},
     "output_type": "execute_result"
    }
   ],
   "source": [
    "master_frame.primary_sector.describe()"
   ]
  },
  {
   "cell_type": "markdown",
   "id": "c9b4c72b",
   "metadata": {},
   "source": [
    "The master_frame contains 695 unique values of primary_sector whereas mapping contains 687 categories. So lets figure put what is missing."
   ]
  },
  {
   "cell_type": "code",
   "execution_count": 63,
   "id": "b50f61f8",
   "metadata": {},
   "outputs": [
    {
     "data": {
      "text/plain": [
       "{'0notechnology',\n",
       " '0tural Language Processing',\n",
       " '0tural Resources',\n",
       " '0vigation',\n",
       " 'A0lytics',\n",
       " 'Alter0tive Medicine',\n",
       " 'Big Data A0lytics',\n",
       " 'Business A0lytics',\n",
       " 'Can0bis',\n",
       " 'Career Ma0gement',\n",
       " 'Chi0 Internet',\n",
       " 'Cloud Ma0gement',\n",
       " 'Contact Ma0gement',\n",
       " 'Digital Rights Ma0gement',\n",
       " 'Digital Sig0ge',\n",
       " 'Document Ma0gement',\n",
       " 'Educatio0l Games',\n",
       " 'Energy Ma0gement',\n",
       " 'Energy Storage',\n",
       " 'Event Ma0gement',\n",
       " 'Fi0nce',\n",
       " 'Fi0nce Technology',\n",
       " 'Fi0ncial Exchanges',\n",
       " 'Fi0ncial Services',\n",
       " 'Fleet Ma0gement',\n",
       " 'Fmcg',\n",
       " 'Gover0nce',\n",
       " 'IT Ma0gement',\n",
       " 'Identity Ma0gement',\n",
       " 'Innovation Ma0gement',\n",
       " 'Intellectual Asset Ma0gement',\n",
       " 'Investment Ma0gement',\n",
       " 'Jour0lism',\n",
       " 'Knowledge Ma0gement',\n",
       " 'Lead Ma0gement',\n",
       " 'Low Bid Auctions',\n",
       " 'Medical Professio0ls',\n",
       " 'Mobile A0lytics',\n",
       " 'Perso0l Branding',\n",
       " 'Perso0l Data',\n",
       " 'Perso0l Fi0nce',\n",
       " 'Perso0l Health',\n",
       " 'Perso0lization',\n",
       " 'Predictive A0lytics',\n",
       " 'Professio0l Networking',\n",
       " 'Professio0l Services',\n",
       " 'Project Ma0gement',\n",
       " 'Promotio0l',\n",
       " 'Property Ma0gement',\n",
       " 'Renewable Tech',\n",
       " 'Risk Ma0gement',\n",
       " 'Smart Grid',\n",
       " 'Social Media Ma0gement',\n",
       " 'Supply Chain Ma0gement',\n",
       " 'Task Ma0gement',\n",
       " 'Veteri0ry',\n",
       " 'Waste Ma0gement',\n",
       " 'Women'}"
      ]
     },
     "execution_count": 63,
     "metadata": {},
     "output_type": "execute_result"
    }
   ],
   "source": [
    "set(mapping.index).difference(master_frame.primary_sector)"
   ]
  },
  {
   "cell_type": "code",
   "execution_count": 64,
   "id": "a1412eaf",
   "metadata": {},
   "outputs": [
    {
     "data": {
      "text/plain": [
       "{'Adaptive Equipment',\n",
       " 'Alternative Medicine',\n",
       " 'Analytics',\n",
       " 'Big Data Analytics',\n",
       " 'Biotechnology and Semiconductor',\n",
       " 'Business Analytics',\n",
       " 'Cannabis',\n",
       " 'Career Management',\n",
       " 'Cause Marketing',\n",
       " 'China Internet',\n",
       " 'Cloud Management',\n",
       " 'Contact Management',\n",
       " 'Deep Information Technology',\n",
       " 'Digital Rights Management',\n",
       " 'Digital Signage',\n",
       " 'Document Management',\n",
       " 'Educational Games',\n",
       " 'Energy Management',\n",
       " 'English-Speaking',\n",
       " 'Enterprise Hardware',\n",
       " 'Event Management',\n",
       " 'Experience Design',\n",
       " 'Finance',\n",
       " 'Finance Technology',\n",
       " 'Financial Exchanges',\n",
       " 'Financial Services',\n",
       " 'Fleet Management',\n",
       " 'Generation Y-Z',\n",
       " 'Golf Equipment',\n",
       " 'Governance',\n",
       " 'GreenTech',\n",
       " 'IT Management',\n",
       " 'Identity Management',\n",
       " 'Infrastructure Builders',\n",
       " 'Innovation Management',\n",
       " 'Intellectual Asset Management',\n",
       " 'Internet TV',\n",
       " 'Internet Technology',\n",
       " 'Investment Management',\n",
       " 'Journalism',\n",
       " 'Kinect',\n",
       " 'Knowledge Management',\n",
       " 'Lead Management',\n",
       " 'Medical Professionals',\n",
       " 'Mobile Analytics',\n",
       " 'Nanotechnology',\n",
       " 'Natural Gas Uses',\n",
       " 'Natural Language Processing',\n",
       " 'Natural Resources',\n",
       " 'Navigation',\n",
       " 'Nightlife',\n",
       " 'Personal Branding',\n",
       " 'Personal Data',\n",
       " 'Personal Finance',\n",
       " 'Personal Health',\n",
       " 'Personalization',\n",
       " 'Predictive Analytics',\n",
       " 'Product Search',\n",
       " 'Professional Networking',\n",
       " 'Professional Services',\n",
       " 'Project Management',\n",
       " 'Promotional',\n",
       " 'Property Management',\n",
       " 'Racing',\n",
       " 'Rapidly Expanding',\n",
       " 'Registrars',\n",
       " 'Retirement',\n",
       " 'Risk Management',\n",
       " 'Skill Gaming',\n",
       " 'Social Media Advertising',\n",
       " 'Social Media Management',\n",
       " 'Specialty Retail',\n",
       " 'Sponsorship',\n",
       " 'Subscription Businesses',\n",
       " 'Supply Chain Management',\n",
       " 'Task Management',\n",
       " 'Toys',\n",
       " 'Tutoring',\n",
       " 'Vacation Rentals',\n",
       " 'Waste Management'}"
      ]
     },
     "execution_count": 64,
     "metadata": {},
     "output_type": "execute_result"
    }
   ],
   "source": [
    "set(master_frame.primary_sector).difference(set(mapping.index))"
   ]
  },
  {
   "cell_type": "markdown",
   "id": "f42c6217",
   "metadata": {},
   "source": [
    "It looks like the mapping dataframe has Na/na in category_list replaced with 0. Lets correct this. "
   ]
  },
  {
   "cell_type": "code",
   "execution_count": 65,
   "id": "ebb794e2",
   "metadata": {},
   "outputs": [],
   "source": [
    "mapping.reset_index(inplace=True)"
   ]
  },
  {
   "cell_type": "markdown",
   "id": "54811616",
   "metadata": {},
   "source": [
    "Below method replaces 0 with either Na or na based on index position of 0."
   ]
  },
  {
   "cell_type": "code",
   "execution_count": 66,
   "id": "c0b3dbb8",
   "metadata": {},
   "outputs": [],
   "source": [
    "def replace_0_with_n(x):\n",
    "    if x[0] == '0':\n",
    "        x = x.replace('0', 'Na')\n",
    "    elif x.find('.0') == -1:\n",
    "        x = x.replace('0', 'na')\n",
    "    return x"
   ]
  },
  {
   "cell_type": "code",
   "execution_count": 67,
   "id": "6fef3b18",
   "metadata": {
    "scrolled": true
   },
   "outputs": [],
   "source": [
    "mapping['category_list'] = mapping.category_list.apply(replace_0_with_n)"
   ]
  },
  {
   "cell_type": "code",
   "execution_count": 68,
   "id": "bc258f39",
   "metadata": {
    "scrolled": true
   },
   "outputs": [
    {
     "data": {
      "text/plain": [
       "{'Energy Storage',\n",
       " 'Fmcg',\n",
       " 'Low Bid Auctions',\n",
       " 'Renewable Tech',\n",
       " 'Smart Grid',\n",
       " 'Veterinary',\n",
       " 'Women'}"
      ]
     },
     "execution_count": 68,
     "metadata": {},
     "output_type": "execute_result"
    }
   ],
   "source": [
    "set(mapping.category_list).difference(master_frame.primary_sector)"
   ]
  },
  {
   "cell_type": "code",
   "execution_count": 69,
   "id": "70fd006f",
   "metadata": {},
   "outputs": [
    {
     "data": {
      "text/plain": [
       "{'Adaptive Equipment',\n",
       " 'Biotechnology and Semiconductor',\n",
       " 'Cause Marketing',\n",
       " 'Deep Information Technology',\n",
       " 'English-Speaking',\n",
       " 'Enterprise Hardware',\n",
       " 'Experience Design',\n",
       " 'Generation Y-Z',\n",
       " 'Golf Equipment',\n",
       " 'GreenTech',\n",
       " 'Infrastructure Builders',\n",
       " 'Internet TV',\n",
       " 'Internet Technology',\n",
       " 'Kinect',\n",
       " 'Natural Gas Uses',\n",
       " 'Nightlife',\n",
       " 'Product Search',\n",
       " 'Racing',\n",
       " 'Rapidly Expanding',\n",
       " 'Registrars',\n",
       " 'Retirement',\n",
       " 'Skill Gaming',\n",
       " 'Social Media Advertising',\n",
       " 'Specialty Retail',\n",
       " 'Sponsorship',\n",
       " 'Subscription Businesses',\n",
       " 'Toys',\n",
       " 'Tutoring',\n",
       " 'Vacation Rentals'}"
      ]
     },
     "execution_count": 69,
     "metadata": {},
     "output_type": "execute_result"
    }
   ],
   "source": [
    "set(master_frame.primary_sector).difference(set(mapping.category_list))"
   ]
  },
  {
   "cell_type": "code",
   "execution_count": 70,
   "id": "f1249f3e",
   "metadata": {},
   "outputs": [
    {
     "data": {
      "text/plain": [
       "permalink                  0\n",
       "name                       1\n",
       "category_list              0\n",
       "status                     0\n",
       "country_code               0\n",
       "funding_round_permalink    0\n",
       "funding_round_type         0\n",
       "funded_at                  0\n",
       "raised_amount_usd          0\n",
       "primary_sector             0\n",
       "dtype: int64"
      ]
     },
     "execution_count": 70,
     "metadata": {},
     "output_type": "execute_result"
    }
   ],
   "source": [
    "master_frame.isnull().sum()"
   ]
  },
  {
   "cell_type": "code",
   "execution_count": 71,
   "id": "8b22eea3",
   "metadata": {},
   "outputs": [],
   "source": [
    "master_frame = master_frame.merge(mapping[['category_list', 'sector']], how='inner', on='category_list')"
   ]
  },
  {
   "cell_type": "code",
   "execution_count": 72,
   "id": "e8e2fede",
   "metadata": {},
   "outputs": [
    {
     "data": {
      "text/html": [
       "<div>\n",
       "<style scoped>\n",
       "    .dataframe tbody tr th:only-of-type {\n",
       "        vertical-align: middle;\n",
       "    }\n",
       "\n",
       "    .dataframe tbody tr th {\n",
       "        vertical-align: top;\n",
       "    }\n",
       "\n",
       "    .dataframe thead th {\n",
       "        text-align: right;\n",
       "    }\n",
       "</style>\n",
       "<table border=\"1\" class=\"dataframe\">\n",
       "  <thead>\n",
       "    <tr style=\"text-align: right;\">\n",
       "      <th></th>\n",
       "      <th>permalink</th>\n",
       "      <th>name</th>\n",
       "      <th>category_list</th>\n",
       "      <th>status</th>\n",
       "      <th>country_code</th>\n",
       "      <th>funding_round_permalink</th>\n",
       "      <th>funding_round_type</th>\n",
       "      <th>funded_at</th>\n",
       "      <th>raised_amount_usd</th>\n",
       "      <th>primary_sector</th>\n",
       "      <th>sector</th>\n",
       "    </tr>\n",
       "  </thead>\n",
       "  <tbody>\n",
       "    <tr>\n",
       "      <th>0</th>\n",
       "      <td>/organization/-fame</td>\n",
       "      <td>#fame</td>\n",
       "      <td>Media</td>\n",
       "      <td>operating</td>\n",
       "      <td>IND</td>\n",
       "      <td>/funding-round/9a01d05418af9f794eebff7ace91f638</td>\n",
       "      <td>venture</td>\n",
       "      <td>05-01-2015</td>\n",
       "      <td>10000000.0</td>\n",
       "      <td>Media</td>\n",
       "      <td>Entertainment</td>\n",
       "    </tr>\n",
       "    <tr>\n",
       "      <th>1</th>\n",
       "      <td>/organization/all-def-digital</td>\n",
       "      <td>All Def Digital</td>\n",
       "      <td>Media</td>\n",
       "      <td>operating</td>\n",
       "      <td>USA</td>\n",
       "      <td>/funding-round/452a2342fe720285c3b92e9bd927d9ba</td>\n",
       "      <td>venture</td>\n",
       "      <td>06-08-2014</td>\n",
       "      <td>5000000.0</td>\n",
       "      <td>Media</td>\n",
       "      <td>Entertainment</td>\n",
       "    </tr>\n",
       "    <tr>\n",
       "      <th>2</th>\n",
       "      <td>/organization/anthill-magazine</td>\n",
       "      <td>Anthill Magazine</td>\n",
       "      <td>Media</td>\n",
       "      <td>operating</td>\n",
       "      <td>AUS</td>\n",
       "      <td>/funding-round/52128cd405b88f36a85d6cded8359f1c</td>\n",
       "      <td>seed</td>\n",
       "      <td>09-04-2015</td>\n",
       "      <td>600000.0</td>\n",
       "      <td>Media</td>\n",
       "      <td>Entertainment</td>\n",
       "    </tr>\n",
       "    <tr>\n",
       "      <th>3</th>\n",
       "      <td>/organization/basel-switzerland</td>\n",
       "      <td>The Speedel Group</td>\n",
       "      <td>Media</td>\n",
       "      <td>closed</td>\n",
       "      <td>CHE</td>\n",
       "      <td>/funding-round/ae3c2e82851d1fd6f4ba59ee6d3f0eb2</td>\n",
       "      <td>venture</td>\n",
       "      <td>07-01-2002</td>\n",
       "      <td>13439178.0</td>\n",
       "      <td>Media</td>\n",
       "      <td>Entertainment</td>\n",
       "    </tr>\n",
       "    <tr>\n",
       "      <th>4</th>\n",
       "      <td>/organization/basel-switzerland</td>\n",
       "      <td>The Speedel Group</td>\n",
       "      <td>Media</td>\n",
       "      <td>closed</td>\n",
       "      <td>CHE</td>\n",
       "      <td>/funding-round/b6403185d64ae92299ad625c9d99b05d</td>\n",
       "      <td>venture</td>\n",
       "      <td>05-08-2005</td>\n",
       "      <td>55464142.0</td>\n",
       "      <td>Media</td>\n",
       "      <td>Entertainment</td>\n",
       "    </tr>\n",
       "  </tbody>\n",
       "</table>\n",
       "</div>"
      ],
      "text/plain": [
       "                         permalink               name category_list  \\\n",
       "0              /organization/-fame              #fame         Media   \n",
       "1    /organization/all-def-digital    All Def Digital         Media   \n",
       "2   /organization/anthill-magazine   Anthill Magazine         Media   \n",
       "3  /organization/basel-switzerland  The Speedel Group         Media   \n",
       "4  /organization/basel-switzerland  The Speedel Group         Media   \n",
       "\n",
       "      status country_code                          funding_round_permalink  \\\n",
       "0  operating          IND  /funding-round/9a01d05418af9f794eebff7ace91f638   \n",
       "1  operating          USA  /funding-round/452a2342fe720285c3b92e9bd927d9ba   \n",
       "2  operating          AUS  /funding-round/52128cd405b88f36a85d6cded8359f1c   \n",
       "3     closed          CHE  /funding-round/ae3c2e82851d1fd6f4ba59ee6d3f0eb2   \n",
       "4     closed          CHE  /funding-round/b6403185d64ae92299ad625c9d99b05d   \n",
       "\n",
       "  funding_round_type   funded_at  raised_amount_usd primary_sector  \\\n",
       "0            venture  05-01-2015         10000000.0          Media   \n",
       "1            venture  06-08-2014          5000000.0          Media   \n",
       "2               seed  09-04-2015           600000.0          Media   \n",
       "3            venture  07-01-2002         13439178.0          Media   \n",
       "4            venture  05-08-2005         55464142.0          Media   \n",
       "\n",
       "          sector  \n",
       "0  Entertainment  \n",
       "1  Entertainment  \n",
       "2  Entertainment  \n",
       "3  Entertainment  \n",
       "4  Entertainment  "
      ]
     },
     "execution_count": 72,
     "metadata": {},
     "output_type": "execute_result"
    }
   ],
   "source": [
    "master_frame.head()"
   ]
  },
  {
   "cell_type": "markdown",
   "id": "0c4b73c0",
   "metadata": {},
   "source": [
    "## End of Checkpoint 4: Sector Analysis 1"
   ]
  },
  {
   "cell_type": "markdown",
   "id": "da96921e",
   "metadata": {},
   "source": [
    "-------------------------------------------------------------------------------------------------------------"
   ]
  },
  {
   "cell_type": "markdown",
   "id": "6032a9be",
   "metadata": {},
   "source": [
    "## Checkpoint 5: Sector Analysis 2"
   ]
  },
  {
   "cell_type": "markdown",
   "id": "22661ccf",
   "metadata": {},
   "source": [
    "We are interested in venture type funding in the range of 5 to 15 million for top 3 investment friendly countries i.e USA, Great Britain and India. So lets first filter the data based on investment type venture and raised amount range of 5 million to 15 million."
   ]
  },
  {
   "cell_type": "code",
   "execution_count": 73,
   "id": "ed5b41b8",
   "metadata": {},
   "outputs": [],
   "source": [
    "venture_funding_5to15_million = master_frame[(master_frame.funding_round_type == 'venture') \n",
    "                                             & (master_frame.raised_amount_usd >= 5000000) \n",
    "                                             & (master_frame.raised_amount_usd <= 15000000)]"
   ]
  },
  {
   "cell_type": "code",
   "execution_count": 74,
   "id": "140d274d",
   "metadata": {},
   "outputs": [],
   "source": [
    "USA = venture_funding_5to15_million[venture_funding_5to15_million.country_code == 'USA']"
   ]
  },
  {
   "cell_type": "code",
   "execution_count": 75,
   "id": "13a34941",
   "metadata": {},
   "outputs": [
    {
     "data": {
      "text/plain": [
       "count    7.108000e+03\n",
       "mean     8.430429e+06\n",
       "std      3.138401e+06\n",
       "min      5.000000e+06\n",
       "25%      5.450000e+06\n",
       "50%      7.999999e+06\n",
       "75%      1.050000e+07\n",
       "max      1.500000e+07\n",
       "Name: raised_amount_usd, dtype: float64"
      ]
     },
     "execution_count": 75,
     "metadata": {},
     "output_type": "execute_result"
    }
   ],
   "source": [
    "USA.raised_amount_usd.describe()"
   ]
  },
  {
   "cell_type": "code",
   "execution_count": 76,
   "id": "a6d16216",
   "metadata": {},
   "outputs": [
    {
     "data": {
      "text/plain": [
       "59923488267.0"
      ]
     },
     "execution_count": 76,
     "metadata": {},
     "output_type": "execute_result"
    }
   ],
   "source": [
    "USA.raised_amount_usd.sum()"
   ]
  },
  {
   "cell_type": "markdown",
   "id": "77440542",
   "metadata": {},
   "source": [
    "USA has seen **6180** investments and total sum of money raised is USD 55283488267 i.e. **~55.28 billion USD.**"
   ]
  },
  {
   "cell_type": "code",
   "execution_count": 77,
   "id": "8d44aa72",
   "metadata": {},
   "outputs": [],
   "source": [
    "GBR = venture_funding_5to15_million[venture_funding_5to15_million.country_code == 'GBR']"
   ]
  },
  {
   "cell_type": "code",
   "execution_count": 78,
   "id": "22d869a0",
   "metadata": {},
   "outputs": [
    {
     "data": {
      "text/plain": [
       "count    4.380000e+02\n",
       "mean     7.978878e+06\n",
       "std      2.902863e+06\n",
       "min      5.000000e+06\n",
       "25%      5.101147e+06\n",
       "50%      7.195480e+06\n",
       "75%      1.000000e+07\n",
       "max      1.500000e+07\n",
       "Name: raised_amount_usd, dtype: float64"
      ]
     },
     "execution_count": 78,
     "metadata": {},
     "output_type": "execute_result"
    }
   ],
   "source": [
    "GBR.raised_amount_usd.describe()"
   ]
  },
  {
   "cell_type": "code",
   "execution_count": 79,
   "id": "77eb9d68",
   "metadata": {},
   "outputs": [
    {
     "data": {
      "text/plain": [
       "3494748480.0"
      ]
     },
     "execution_count": 79,
     "metadata": {},
     "output_type": "execute_result"
    }
   ],
   "source": [
    "GBR.raised_amount_usd.sum()"
   ]
  },
  {
   "cell_type": "markdown",
   "id": "439b324f",
   "metadata": {},
   "source": [
    "Great Britain has received **343** number of investments and total money raised is USD 3019748480 i.e. **~3.01 billion.**"
   ]
  },
  {
   "cell_type": "code",
   "execution_count": 99,
   "id": "7d9e291f",
   "metadata": {},
   "outputs": [],
   "source": [
    "IND = venture_funding_5to15_million[venture_funding_5to15_million.country_code == 'IND']"
   ]
  },
  {
   "cell_type": "code",
   "execution_count": 100,
   "id": "ae728856",
   "metadata": {},
   "outputs": [
    {
     "data": {
      "text/plain": [
       "count    2.730000e+02\n",
       "mean     7.563606e+06\n",
       "std      3.096315e+06\n",
       "min      5.000000e+06\n",
       "25%      5.000000e+06\n",
       "50%      6.000000e+06\n",
       "75%      1.000000e+07\n",
       "max      1.500000e+07\n",
       "Name: raised_amount_usd, dtype: float64"
      ]
     },
     "execution_count": 100,
     "metadata": {},
     "output_type": "execute_result"
    }
   ],
   "source": [
    "IND.raised_amount_usd.describe()"
   ]
  },
  {
   "cell_type": "code",
   "execution_count": 82,
   "id": "b74a99c7",
   "metadata": {},
   "outputs": [
    {
     "data": {
      "text/plain": [
       "10777023437.0"
      ]
     },
     "execution_count": 82,
     "metadata": {},
     "output_type": "execute_result"
    }
   ],
   "source": [
    "IND.raised_amount_usd.sum()"
   ]
  },
  {
   "cell_type": "markdown",
   "id": "7c3a073b",
   "metadata": {},
   "source": [
    "India has seen **771** number of investments and total money raised is USD 10254898437 i.e. **~10.25 billion.**\n",
    "\n",
    "According to the sum of money raised and the number of investments, the ranking of investment friendly countries changes as follows \n",
    "- **USA ranks first** with **~55.28 billion USD** funding in **6180** investments \n",
    "- **India ranks second** with **~10.25 billion USD** funding in **771** investments \n",
    "- **Great Britain ranks third** with **~3.01 billion USD** funding in **343** investments "
   ]
  },
  {
   "cell_type": "markdown",
   "id": "aa9c6842",
   "metadata": {},
   "source": [
    "### Top 3 Sector Analysis"
   ]
  },
  {
   "cell_type": "markdown",
   "id": "aee3997c",
   "metadata": {},
   "source": [
    "#### Top 3 Sectors for each investment friendly country"
   ]
  },
  {
   "cell_type": "code",
   "execution_count": 83,
   "id": "a1a40b3b",
   "metadata": {
    "scrolled": true
   },
   "outputs": [
    {
     "data": {
      "text/plain": [
       "sector\n",
       "Others                                     2364\n",
       "Cleantech / Semiconductors                 1967\n",
       "Health                                      679\n",
       "News, Search and Messaging                  655\n",
       "Social, Finance, Analytics, Advertising     642\n",
       "Manufacturing                               493\n",
       "Entertainment                               254\n",
       "Automotive & Sports                          54\n",
       "Name: raised_amount_usd, dtype: int64"
      ]
     },
     "execution_count": 83,
     "metadata": {},
     "output_type": "execute_result"
    }
   ],
   "source": [
    "usa_sector_group_by = USA.groupby(by='sector')\n",
    "\n",
    "usa_sector_group_by.raised_amount_usd.count().sort_values(ascending=False)"
   ]
  },
  {
   "cell_type": "markdown",
   "id": "b72e4c62",
   "metadata": {},
   "source": [
    "Top 3 sectors in USA\n",
    "1. **Others : 2071 investments**\n",
    "2. **Cleantech / Semiconductors : 1779 investments**\n",
    "3. **Health : 601 investments**"
   ]
  },
  {
   "cell_type": "code",
   "execution_count": 84,
   "id": "aca8e34c",
   "metadata": {},
   "outputs": [
    {
     "data": {
      "text/plain": [
       "sector\n",
       "Others                                     395\n",
       "News, Search and Messaging                 169\n",
       "Social, Finance, Analytics, Advertising    152\n",
       "Entertainment                               98\n",
       "Health                                      61\n",
       "Cleantech / Semiconductors                  60\n",
       "Manufacturing                               53\n",
       "Automotive & Sports                         22\n",
       "Name: raised_amount_usd, dtype: int64"
      ]
     },
     "execution_count": 84,
     "metadata": {},
     "output_type": "execute_result"
    }
   ],
   "source": [
    "ind_sector_group_by = IND.groupby(by='sector')\n",
    "\n",
    "ind_sector_group_by.raised_amount_usd.count().sort_values(ascending=False)"
   ]
  },
  {
   "cell_type": "markdown",
   "id": "2cf51105",
   "metadata": {},
   "source": [
    "Top 3 sectors in India\n",
    "1. **Others : 299 investments**\n",
    "2. **News, Search and Messaging : 141 investments**\n",
    "3. **Social, Finance, Analytics, Advertising : 104 investments**"
   ]
  },
  {
   "cell_type": "code",
   "execution_count": 85,
   "id": "552623ca",
   "metadata": {
    "scrolled": true
   },
   "outputs": [
    {
     "data": {
      "text/plain": [
       "sector\n",
       "Others                                     143\n",
       "Cleantech / Semiconductors                 122\n",
       "News, Search and Messaging                  44\n",
       "Entertainment                               42\n",
       "Social, Finance, Analytics, Advertising     35\n",
       "Manufacturing                               30\n",
       "Health                                      18\n",
       "Automotive & Sports                          4\n",
       "Name: raised_amount_usd, dtype: int64"
      ]
     },
     "execution_count": 85,
     "metadata": {},
     "output_type": "execute_result"
    }
   ],
   "source": [
    "gbr_sector_group_by = GBR.groupby(by='sector')\n",
    "\n",
    "gbr_sector_group_by.raised_amount_usd.count().sort_values(ascending=False)"
   ]
  },
  {
   "cell_type": "markdown",
   "id": "502dbbc2",
   "metadata": {},
   "source": [
    "Top 3 sectors in Britain \n",
    "1. **Cleantech / Semiconductors : 108 investments**\n",
    "2. **Others : 106 investments**\n",
    "3. **News, Search and Messaging : 31 investments**"
   ]
  },
  {
   "cell_type": "markdown",
   "id": "0c980179",
   "metadata": {},
   "source": [
    "#### Top companies for top two sectors for each country\n",
    "\n",
    "For USA top sector is **Others** followed by **Cleantech / Semiconductors**. Lets count the values of names for each top two sectors in USA data."
   ]
  },
  {
   "cell_type": "code",
   "execution_count": 86,
   "id": "914b3149",
   "metadata": {},
   "outputs": [
    {
     "data": {
      "text/plain": [
       "Quellan                  15\n",
       "Tigo Energy               8\n",
       "Starboard Resources       8\n",
       "ForSight Labs             7\n",
       "Cambrios Technologies     6\n",
       "Name: name, dtype: int64"
      ]
     },
     "execution_count": 86,
     "metadata": {},
     "output_type": "execute_result"
    }
   ],
   "source": [
    "USA[(USA.sector == 'Cleantech / Semiconductors')].name.value_counts().head(5)"
   ]
  },
  {
   "cell_type": "code",
   "execution_count": 87,
   "id": "a5b938a7",
   "metadata": {},
   "outputs": [
    {
     "data": {
      "text/plain": [
       "EndoGastric Solutions    7\n",
       "Neograft Technologies    4\n",
       "Bi02 Medical             4\n",
       "MedShape                 4\n",
       "BridgePoint Medical      4\n",
       "Name: name, dtype: int64"
      ]
     },
     "execution_count": 87,
     "metadata": {},
     "output_type": "execute_result"
    }
   ],
   "source": [
    "USA[(USA.sector == 'Health')].name.value_counts().head(5)"
   ]
  },
  {
   "cell_type": "markdown",
   "id": "bcc915c8",
   "metadata": {},
   "source": [
    "For India top sector is **Others** followed by **News, Search and Messaging**. Lets count the values of names for each top two sectors in India data."
   ]
  },
  {
   "cell_type": "code",
   "execution_count": 88,
   "id": "389c1ce8",
   "metadata": {
    "scrolled": false
   },
   "outputs": [
    {
     "data": {
      "text/plain": [
       "Quikr                  6\n",
       "Roadrunnr              3\n",
       "Nazara Technologies    3\n",
       "GupShup                3\n",
       "IndiaHomes             3\n",
       "Name: name, dtype: int64"
      ]
     },
     "execution_count": 88,
     "metadata": {},
     "output_type": "execute_result"
    }
   ],
   "source": [
    "IND[IND.sector == 'News, Search and Messaging'].name.value_counts().head(5)"
   ]
  },
  {
   "cell_type": "code",
   "execution_count": 98,
   "id": "34ede074",
   "metadata": {
    "scrolled": true
   },
   "outputs": [
    {
     "data": {
      "text/plain": [
       "Parallocity               3\n",
       "Faircent                  3\n",
       "Proof-of-Performance      3\n",
       "Mswipe Technologies       3\n",
       "Utkarsh Micro Finance     3\n",
       "LYCOS Internet Limited    3\n",
       "Amagi Media Labs          2\n",
       "Name: name, dtype: int64"
      ]
     },
     "execution_count": 98,
     "metadata": {},
     "output_type": "execute_result"
    }
   ],
   "source": [
    "IND[IND.sector == 'Social, Finance, Analytics, Advertising'].name.value_counts().head(7)"
   ]
  },
  {
   "cell_type": "markdown",
   "id": "392c3811",
   "metadata": {},
   "source": [
    "For Great Britain top sector is **Cleantech / Semiconductors** followed by **Others**. Lets count the values of names for each top two sectors in Great Britain data."
   ]
  },
  {
   "cell_type": "code",
   "execution_count": 90,
   "id": "6943baa5",
   "metadata": {
    "scrolled": true
   },
   "outputs": [
    {
     "data": {
      "text/plain": [
       "EUSA Pharma                     3\n",
       "Aquapharm Biodiscovery          2\n",
       "MicroEmissive Displays Group    2\n",
       "Crescendo Biologics             2\n",
       "Oxitec                          2\n",
       "                               ..\n",
       "UK Coal                         1\n",
       "Diurnal                         1\n",
       "QuantuMDx Group                 1\n",
       "quietrevolution                 1\n",
       "Flowline                        1\n",
       "Name: name, Length: 104, dtype: int64"
      ]
     },
     "execution_count": 90,
     "metadata": {},
     "output_type": "execute_result"
    }
   ],
   "source": [
    "GBR[GBR.sector == 'Cleantech / Semiconductors'].name.value_counts()"
   ]
  },
  {
   "cell_type": "markdown",
   "id": "490c6249",
   "metadata": {},
   "source": [
    "The company name ESUA Pharma seems to be not fitting in the Cleantech / Semiconductors sector. Lets cross verify from mapping data the category and sector it belongs to."
   ]
  },
  {
   "cell_type": "code",
   "execution_count": 91,
   "id": "80896848",
   "metadata": {
    "scrolled": true
   },
   "outputs": [
    {
     "data": {
      "text/html": [
       "<div>\n",
       "<style scoped>\n",
       "    .dataframe tbody tr th:only-of-type {\n",
       "        vertical-align: middle;\n",
       "    }\n",
       "\n",
       "    .dataframe tbody tr th {\n",
       "        vertical-align: top;\n",
       "    }\n",
       "\n",
       "    .dataframe thead th {\n",
       "        text-align: right;\n",
       "    }\n",
       "</style>\n",
       "<table border=\"1\" class=\"dataframe\">\n",
       "  <thead>\n",
       "    <tr style=\"text-align: right;\">\n",
       "      <th></th>\n",
       "      <th>permalink</th>\n",
       "      <th>name</th>\n",
       "      <th>category_list</th>\n",
       "      <th>status</th>\n",
       "      <th>country_code</th>\n",
       "      <th>funding_round_permalink</th>\n",
       "      <th>funding_round_type</th>\n",
       "      <th>funded_at</th>\n",
       "      <th>raised_amount_usd</th>\n",
       "      <th>primary_sector</th>\n",
       "      <th>sector</th>\n",
       "    </tr>\n",
       "  </thead>\n",
       "  <tbody>\n",
       "    <tr>\n",
       "      <th>8958</th>\n",
       "      <td>/organization/eusa-pharma</td>\n",
       "      <td>EUSA Pharma</td>\n",
       "      <td>Biotechnology</td>\n",
       "      <td>acquired</td>\n",
       "      <td>GBR</td>\n",
       "      <td>/funding-round/09af5eff34608eac27040925565f57e6</td>\n",
       "      <td>venture</td>\n",
       "      <td>19-07-2005</td>\n",
       "      <td>13970000.0</td>\n",
       "      <td>Biotechnology</td>\n",
       "      <td>Cleantech / Semiconductors</td>\n",
       "    </tr>\n",
       "    <tr>\n",
       "      <th>8959</th>\n",
       "      <td>/organization/eusa-pharma</td>\n",
       "      <td>EUSA Pharma</td>\n",
       "      <td>Biotechnology</td>\n",
       "      <td>acquired</td>\n",
       "      <td>GBR</td>\n",
       "      <td>/funding-round/1a680e99bceab2d32fc6dc4c9406010a</td>\n",
       "      <td>venture</td>\n",
       "      <td>28-06-2007</td>\n",
       "      <td>9100000.0</td>\n",
       "      <td>Biotechnology</td>\n",
       "      <td>Cleantech / Semiconductors</td>\n",
       "    </tr>\n",
       "    <tr>\n",
       "      <th>8961</th>\n",
       "      <td>/organization/eusa-pharma</td>\n",
       "      <td>EUSA Pharma</td>\n",
       "      <td>Biotechnology</td>\n",
       "      <td>acquired</td>\n",
       "      <td>GBR</td>\n",
       "      <td>/funding-round/f2a769a1468c2d4a8585e8abf31ef2ed</td>\n",
       "      <td>venture</td>\n",
       "      <td>13-12-2005</td>\n",
       "      <td>12530000.0</td>\n",
       "      <td>Biotechnology</td>\n",
       "      <td>Cleantech / Semiconductors</td>\n",
       "    </tr>\n",
       "  </tbody>\n",
       "</table>\n",
       "</div>"
      ],
      "text/plain": [
       "                      permalink         name  category_list    status  \\\n",
       "8958  /organization/eusa-pharma  EUSA Pharma  Biotechnology  acquired   \n",
       "8959  /organization/eusa-pharma  EUSA Pharma  Biotechnology  acquired   \n",
       "8961  /organization/eusa-pharma  EUSA Pharma  Biotechnology  acquired   \n",
       "\n",
       "     country_code                          funding_round_permalink  \\\n",
       "8958          GBR  /funding-round/09af5eff34608eac27040925565f57e6   \n",
       "8959          GBR  /funding-round/1a680e99bceab2d32fc6dc4c9406010a   \n",
       "8961          GBR  /funding-round/f2a769a1468c2d4a8585e8abf31ef2ed   \n",
       "\n",
       "     funding_round_type   funded_at  raised_amount_usd primary_sector  \\\n",
       "8958            venture  19-07-2005         13970000.0  Biotechnology   \n",
       "8959            venture  28-06-2007          9100000.0  Biotechnology   \n",
       "8961            venture  13-12-2005         12530000.0  Biotechnology   \n",
       "\n",
       "                          sector  \n",
       "8958  Cleantech / Semiconductors  \n",
       "8959  Cleantech / Semiconductors  \n",
       "8961  Cleantech / Semiconductors  "
      ]
     },
     "execution_count": 91,
     "metadata": {},
     "output_type": "execute_result"
    }
   ],
   "source": [
    "GBR[GBR.name == 'EUSA Pharma']"
   ]
  },
  {
   "cell_type": "code",
   "execution_count": 92,
   "id": "b86ae359",
   "metadata": {},
   "outputs": [
    {
     "data": {
      "text/html": [
       "<div>\n",
       "<style scoped>\n",
       "    .dataframe tbody tr th:only-of-type {\n",
       "        vertical-align: middle;\n",
       "    }\n",
       "\n",
       "    .dataframe tbody tr th {\n",
       "        vertical-align: top;\n",
       "    }\n",
       "\n",
       "    .dataframe thead th {\n",
       "        text-align: right;\n",
       "    }\n",
       "</style>\n",
       "<table border=\"1\" class=\"dataframe\">\n",
       "  <thead>\n",
       "    <tr style=\"text-align: right;\">\n",
       "      <th></th>\n",
       "      <th>category_list</th>\n",
       "      <th>Automotive &amp; Sports</th>\n",
       "      <th>Blanks</th>\n",
       "      <th>Cleantech / Semiconductors</th>\n",
       "      <th>Entertainment</th>\n",
       "      <th>Health</th>\n",
       "      <th>Manufacturing</th>\n",
       "      <th>News, Search and Messaging</th>\n",
       "      <th>Others</th>\n",
       "      <th>Social, Finance, Analytics, Advertising</th>\n",
       "      <th>sector</th>\n",
       "    </tr>\n",
       "  </thead>\n",
       "  <tbody>\n",
       "    <tr>\n",
       "      <th>65</th>\n",
       "      <td>Biotechnology</td>\n",
       "      <td>0</td>\n",
       "      <td>0</td>\n",
       "      <td>1</td>\n",
       "      <td>0</td>\n",
       "      <td>0</td>\n",
       "      <td>0</td>\n",
       "      <td>0</td>\n",
       "      <td>0</td>\n",
       "      <td>0</td>\n",
       "      <td>Cleantech / Semiconductors</td>\n",
       "    </tr>\n",
       "  </tbody>\n",
       "</table>\n",
       "</div>"
      ],
      "text/plain": [
       "    category_list  Automotive & Sports  Blanks  Cleantech / Semiconductors  \\\n",
       "65  Biotechnology                    0       0                           1   \n",
       "\n",
       "    Entertainment  Health  Manufacturing  News, Search and Messaging  Others  \\\n",
       "65              0       0              0                           0       0   \n",
       "\n",
       "    Social, Finance, Analytics, Advertising                      sector  \n",
       "65                                        0  Cleantech / Semiconductors  "
      ]
     },
     "execution_count": 92,
     "metadata": {},
     "output_type": "execute_result"
    }
   ],
   "source": [
    "mapping[mapping.category_list == 'Biotechnology']"
   ]
  },
  {
   "cell_type": "markdown",
   "id": "6ba1b904",
   "metadata": {},
   "source": [
    "The category Biotechnology is indeed falls under Cleantech and Semiconductors sector, so we are good here. \\\n",
    "Lets move to the next category for Great Britain."
   ]
  },
  {
   "cell_type": "code",
   "execution_count": 93,
   "id": "b2252daf",
   "metadata": {
    "scrolled": true
   },
   "outputs": [
    {
     "data": {
      "text/plain": [
       "mySupermarket    7\n",
       "Ubiquisys        4\n",
       "brylle           3\n",
       "Zinwave          2\n",
       "Red-M Group      2\n",
       "Name: name, dtype: int64"
      ]
     },
     "execution_count": 93,
     "metadata": {},
     "output_type": "execute_result"
    }
   ],
   "source": [
    "GBR[GBR.sector == 'News, Search and Messaging'].name.value_counts().head(5)"
   ]
  },
  {
   "cell_type": "markdown",
   "id": "9a38dc28",
   "metadata": {},
   "source": [
    "## End of Checkpoint 5: Sector Analysis 2"
   ]
  },
  {
   "cell_type": "markdown",
   "id": "16b8cb09",
   "metadata": {},
   "source": [
    "---------------------------------------------------------------------------------------------------------------"
   ]
  },
  {
   "cell_type": "markdown",
   "id": "5232eef1",
   "metadata": {},
   "source": [
    "## Checkpoint 6: Plots"
   ]
  },
  {
   "cell_type": "markdown",
   "id": "b9b408a5",
   "metadata": {},
   "source": [
    "### Plot showing the representative amount of investment in each funding type"
   ]
  },
  {
   "cell_type": "code",
   "execution_count": 94,
   "id": "606f2f0b",
   "metadata": {},
   "outputs": [
    {
     "data": {
      "image/png": "[encoded data removed]",
      "text/plain": [
       "<Figure size 432x288 with 1 Axes>"
      ]
     },
     "metadata": {},
     "output_type": "display_data"
    }
   ],
   "source": [
    "sns.set_style(\"whitegrid\")\n",
    "sns.boxplot(y=master_frame['raised_amount_usd'], x=master_frame['funding_round_type'])\n",
    "plt.yscale('log')\n",
    "plt.show()"
   ]
  },
  {
   "cell_type": "markdown",
   "id": "b71eaf18",
   "metadata": {},
   "source": [
    "### Plot showing the top 9 countries against the total amount of investments of funding type venture"
   ]
  },
  {
   "cell_type": "code",
   "execution_count": 95,
   "id": "6f7d4013",
   "metadata": {},
   "outputs": [],
   "source": [
    "top9['preferrred_country'] = top9.country_code.isin(['USA', 'GBR', 'IND'])"
   ]
  },
  {
   "cell_type": "code",
   "execution_count": 96,
   "id": "1328e2e3",
   "metadata": {
    "scrolled": true
   },
   "outputs": [
    {
     "data": {
      "image/png": "[encoded data removed]",
      "text/plain": [
       "<Figure size 432x288 with 1 Axes>"
      ]
     },
     "metadata": {},
     "output_type": "display_data"
    }
   ],
   "source": [
    "sns.barplot(data=top9, x=top9.country_code, y=top9.raised_amount_usd, estimator=np.sum, hue='preferrred_country')\n",
    "plt.ylim(10000000, 1000000000000)\n",
    "plt.yscale('log')\n",
    "plt.show()"
   ]
  },
  {
   "cell_type": "code",
   "execution_count": 97,
   "id": "456dc4e5",
   "metadata": {
    "scrolled": false
   },
   "outputs": [
    {
     "data": {
      "text/plain": [
       "country_code\n",
       "USA    4.305230e+11\n",
       "CHN    4.185392e+10\n",
       "GBR    2.119281e+10\n",
       "IND    1.508651e+10\n",
       "CAN    9.907218e+09\n",
       "FRA    7.521851e+09\n",
       "ISR    7.409350e+09\n",
       "DEU    7.401922e+09\n",
       "JPN    3.362647e+09\n",
       "Name: raised_amount_usd, dtype: float64"
      ]
     },
     "execution_count": 97,
     "metadata": {},
     "output_type": "execute_result"
    }
   ],
   "source": [
    "top9.groupby('country_code').raised_amount_usd.sum().sort_values(ascending=False)"
   ]
  },
  {
   "cell_type": "markdown",
   "id": "4fa6af3f",
   "metadata": {},
   "source": [
    " "
   ]
  }
 ],
 "metadata": {
  "kernelspec": {
   "display_name": "Python 3",
   "language": "python",
   "name": "python3"
  },
  "language_info": {
   "codemirror_mode": {
    "name": "ipython",
    "version": 3
   },
   "file_extension": ".py",
   "mimetype": "text/x-python",
   "name": "python",
   "nbconvert_exporter": "python",
   "pygments_lexer": "ipython3",
   "version": "3.8.5"
  }
 },
 "nbformat": 4,
 "nbformat_minor": 5
}
