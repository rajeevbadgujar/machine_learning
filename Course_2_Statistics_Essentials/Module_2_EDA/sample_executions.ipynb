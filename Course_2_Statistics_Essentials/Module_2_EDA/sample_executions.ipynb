{
 "cells": [
  {
   "cell_type": "code",
   "execution_count": 1,
   "id": "64464e25",
   "metadata": {
    "scrolled": true
   },
   "outputs": [],
   "source": [
    "import pandas as pd\n",
    "rating = pd.read_csv('https://query.data.world/s/EX0EpmqwfA2UYGz1Xtd_zi4R0dQpog')"
   ]
  },
  {
   "cell_type": "code",
   "execution_count": 2,
   "id": "7041c100",
   "metadata": {},
   "outputs": [],
   "source": [
    "rating.set_index('userID', inplace=True)"
   ]
  },
  {
   "cell_type": "code",
   "execution_count": 3,
   "id": "8b75f273",
   "metadata": {
    "scrolled": false
   },
   "outputs": [
    {
     "name": "stdout",
     "output_type": "stream",
     "text": [
      "        placeID  rating  food_rating  service_rating\n",
      "userID                                              \n",
      "U1077    135085       2            2               2\n",
      "U1077    135038       2            2               1\n",
      "U1077    132825       2            2               2\n",
      "U1077    135060       1            2               2\n",
      "U1068    135104       1            1               2\n",
      "...         ...     ...          ...             ...\n",
      "U1043    132630       1            1               1\n",
      "U1011    132715       1            1               0\n",
      "U1068    132733       1            1               0\n",
      "U1068    132594       1            1               1\n",
      "U1068    132660       0            0               0\n",
      "\n",
      "[1254 rows x 4 columns]\n",
      "     userID  placeID  rating  food_rating  service_rating\n",
      "0     U1001   132825       2            2               1\n",
      "1     U1001   132830       1            1               1\n",
      "2     U1001   135025       2            2               2\n",
      "3     U1001   135033       1            1               1\n",
      "4     U1001   135039       1            1               1\n",
      "...     ...      ...     ...          ...             ...\n",
      "1144  U1137   135075       2            2               2\n",
      "1145  U1137   135085       2            1               2\n",
      "1146  U1138   132921       2            2               1\n",
      "1147  U1138   132922       2            2               2\n",
      "1148  U1138   132925       1            2               1\n",
      "\n",
      "[1149 rows x 5 columns]\n"
     ]
    }
   ],
   "source": [
    "rating_1 = rating\n",
    "print(rating_1)\n",
    "userid_roupby = rating_1.groupby(['userID','placeID'])\n",
    "new_df = pd.DataFrame(userid_roupby.aggregate(\n",
    "    {'rating':'sum', 'food_rating':'sum', 'service_rating':'sum'}).reset_index(['userID', 'placeID']))\n",
    "\n",
    "print(new_df)\n"
   ]
  },
  {
   "cell_type": "code",
   "execution_count": 4,
   "id": "980d1be8",
   "metadata": {},
   "outputs": [
    {
     "name": "stdout",
     "output_type": "stream",
     "text": [
      "     userID  placeID  rating  food_rating  service_rating\n",
      "0     U1001   132825       2            2               1\n",
      "1     U1001   132830       1            1               1\n",
      "2     U1001   135025       2            2               2\n",
      "3     U1001   135033       1            1               1\n",
      "4     U1001   135039       1            1               1\n",
      "...     ...      ...     ...          ...             ...\n",
      "1144  U1137   135075       2            2               2\n",
      "1145  U1137   135085       2            1               2\n",
      "1146  U1138   132921       2            2               1\n",
      "1147  U1138   132922       2            2               2\n",
      "1148  U1138   132925       1            2               1\n",
      "\n",
      "[1149 rows x 5 columns]\n"
     ]
    }
   ],
   "source": [
    "print(new_df)"
   ]
  }
 ],
 "metadata": {
  "kernelspec": {
   "display_name": "Python 3",
   "language": "python",
   "name": "python3"
  },
  "language_info": {
   "codemirror_mode": {
    "name": "ipython",
    "version": 3
   },
   "file_extension": ".py",
   "mimetype": "text/x-python",
   "name": "python",
   "nbconvert_exporter": "python",
   "pygments_lexer": "ipython3",
   "version": "3.8.10"
  }
 },
 "nbformat": 4,
 "nbformat_minor": 5
}
