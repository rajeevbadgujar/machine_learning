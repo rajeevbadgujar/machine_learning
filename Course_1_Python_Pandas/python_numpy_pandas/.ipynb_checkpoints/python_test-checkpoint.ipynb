{
 "cells": [
  {
   "cell_type": "code",
   "execution_count": 2,
   "id": "7fd50de6",
   "metadata": {},
   "outputs": [],
   "source": [
    "a = ['Rajeev', 'Veena', 'Ira']"
   ]
  },
  {
   "cell_type": "code",
   "execution_count": 10,
   "id": "5eb02dc1",
   "metadata": {},
   "outputs": [
    {
     "data": {
      "text/plain": [
       "['Badgujar', 'Veena', 'Ira']"
      ]
     },
     "execution_count": 10,
     "metadata": {},
     "output_type": "execute_result"
    }
   ],
   "source": [
    "b = a[:]\n",
    "a"
   ]
  },
  {
   "cell_type": "code",
   "execution_count": 11,
   "id": "f6cdccdb",
   "metadata": {},
   "outputs": [
    {
     "name": "stdout",
     "output_type": "stream",
     "text": [
      "140422685842880\n",
      "140422685326208\n"
     ]
    }
   ],
   "source": [
    "print(id(a))\n",
    "print(id(b))"
   ]
  },
  {
   "cell_type": "code",
   "execution_count": 7,
   "id": "165849a9",
   "metadata": {},
   "outputs": [],
   "source": [
    "a[0] = 'Badgujar'"
   ]
  },
  {
   "cell_type": "code",
   "execution_count": 8,
   "id": "fbf793b5",
   "metadata": {},
   "outputs": [
    {
     "name": "stdout",
     "output_type": "stream",
     "text": [
      "['Badgujar', 'Veena', 'Ira']\n"
     ]
    }
   ],
   "source": [
    "print(b)"
   ]
  },
  {
   "cell_type": "code",
   "execution_count": 9,
   "id": "9ae034e1",
   "metadata": {},
   "outputs": [
    {
     "name": "stdout",
     "output_type": "stream",
     "text": [
      "['Badgujar', 'Veena', 'Ira']\n"
     ]
    }
   ],
   "source": [
    "print(a)"
   ]
  },
  {
   "cell_type": "code",
   "execution_count": 16,
   "id": "aaa75ba6",
   "metadata": {},
   "outputs": [
    {
     "name": "stdout",
     "output_type": "stream",
     "text": [
      "1\n",
      "0\n",
      "Python\n",
      "Python\n",
      "['SAS', 'R', 'PYTHON']\n",
      "[]\n"
     ]
    }
   ],
   "source": [
    "a = 3\n",
    "b = 10\n",
    "\n",
    "print (b % a)\n",
    "\n",
    "print (a // b)\n",
    "\n",
    "input_str = \"I love Python programming\"\n",
    "\n",
    "print(input_str[7:13])\n",
    "print(input_str[-18:-12])\n",
    "\n",
    "input_list=['SAS', 'R', 'PYTHON', 'SPSS'] \n",
    "# Write code to remove 'SPSS'\n",
    "input_list.remove('SPSS')b\n",
    "# Write code to append 'SPARK'\n",
    "input_list.append('SPARK')\n",
    "print(input_list[0:3])\n",
    "\n",
    "\n",
    "input_list =  [['SAS','R'],['Tableau','SQL'],['Python','Java']]\n",
    "\n",
    "input_list[2][0]\n",
    "b\n",
    "\n",
    "word = ['1','2','3','4']\n",
    "\n",
    "word[ : ] = [ ] \n",
    "print(word)\n"
   ]
  },
  {
   "cell_type": "code",
   "execution_count": 26,
   "id": "c5d468f7",
   "metadata": {},
   "outputs": [
    {
     "name": "stdout",
     "output_type": "stream",
     "text": [
      "2\n",
      "2\n"
     ]
    }
   ],
   "source": [
    "import ast,sys\n",
    "input_list = ['ast.literal_eval(input_str)', 'str', 'ss', 'dd']\n",
    "\n",
    "\n",
    "#Write your code here\n",
    "cube = list(filter(lambda y: y, list(map(lambda x: x[0].lower() == 's', input_list))))\n",
    "print(len(cube))\n",
    "b\n",
    "print(sum(map(lambda x: x[0].lower() == 's', input_list)))"
   ]
  },
  {
   "cell_type": "code",
   "execution_count": 3,
   "id": "ab832821",
   "metadata": {},
   "outputs": [
    {
     "name": "stdout",
     "output_type": "stream",
     "text": [
      "hk\n",
      "sp\n",
      "salsap\n",
      "sa\n"
     ]
    }
   ],
   "source": [
    "l =  ['hdjk', 'salsap', 'sherpa']\n",
    "for x in l:\n",
    "    print(x[0] + x[-1])\n",
    "    if (x[0].lower() == 's' and x[-1].lower() == 'p'):\n",
    "        print(x)"
   ]
  },
  {
   "cell_type": "code",
   "execution_count": 5,
   "id": "ad8b0906",
   "metadata": {},
   "outputs": [
    {
     "name": "stdout",
     "output_type": "stream",
     "text": [
      "1\n",
      "2\n",
      "3\n"
     ]
    }
   ],
   "source": [
    "D = {1:['Raj', 22], 2:['Simran', 21], 3:['Rahul', 40]}\n",
    "for val in D:\n",
    "     print(val)"
   ]
  },
  {
   "cell_type": "code",
   "execution_count": 6,
   "id": "b0c8a181",
   "metadata": {},
   "outputs": [
    {
     "name": "stdout",
     "output_type": "stream",
     "text": [
      "[1, 4, 9, 16, 25]\n"
     ]
    }
   ],
   "source": [
    "l = [1,2,3,4,5]\n",
    "\n",
    "print(list(map(lambda x: x**2, l)))"
   ]
  },
  {
   "cell_type": "code",
   "execution_count": 10,
   "id": "e779b7b5",
   "metadata": {},
   "outputs": [
    {
     "name": "stdout",
     "output_type": "stream",
     "text": [
      "120\n"
     ]
    }
   ],
   "source": [
    "# Import the reduce() function\n",
    "from functools import reduce\n",
    "\n",
    "# Write your code here\n",
    "output = reduce(lambda x, y: 1 if x == 0 else x*y, range(6))\n",
    "print(output)"
   ]
  }
 ],
 "metadata": {
  "kernelspec": {
   "display_name": "Python 3",
   "language": "python",
   "name": "python3"
  },
  "language_info": {
   "codemirror_mode": {
    "name": "ipython",
    "version": 3
   },
   "file_extension": ".py",
   "mimetype": "text/x-python",
   "name": "python",
   "nbconvert_exporter": "python",
   "pygments_lexer": "ipython3",
   "version": "3.8.5"
  }
 },
 "nbformat": 4,
 "nbformat_minor": 5
}
