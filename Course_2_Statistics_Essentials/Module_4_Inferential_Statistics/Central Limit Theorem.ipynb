{
 "cells": [
  {
   "cell_type": "code",
   "execution_count": 1,
   "id": "adc821c3",
   "metadata": {},
   "outputs": [],
   "source": [
    "import numpy as np\n",
    "import pandas as pd"
   ]
  },
  {
   "cell_type": "code",
   "execution_count": 2,
   "id": "eb4e29e2",
   "metadata": {},
   "outputs": [],
   "source": [
    "rent = pd.read_csv('data/Inferential Statistics - Powai Flats Rent.csv')"
   ]
  },
  {
   "cell_type": "code",
   "execution_count": 3,
   "id": "d66869f6",
   "metadata": {},
   "outputs": [
    {
     "data": {
      "text/html": [
       "<div>\n",
       "<style scoped>\n",
       "    .dataframe tbody tr th:only-of-type {\n",
       "        vertical-align: middle;\n",
       "    }\n",
       "\n",
       "    .dataframe tbody tr th {\n",
       "        vertical-align: top;\n",
       "    }\n",
       "\n",
       "    .dataframe thead th {\n",
       "        text-align: right;\n",
       "    }\n",
       "</style>\n",
       "<table border=\"1\" class=\"dataframe\">\n",
       "  <thead>\n",
       "    <tr style=\"text-align: right;\">\n",
       "      <th></th>\n",
       "      <th>S. No.</th>\n",
       "      <th>Monthly Rent</th>\n",
       "    </tr>\n",
       "  </thead>\n",
       "  <tbody>\n",
       "    <tr>\n",
       "      <th>count</th>\n",
       "      <td>200.000000</td>\n",
       "      <td>200.000000</td>\n",
       "    </tr>\n",
       "    <tr>\n",
       "      <th>mean</th>\n",
       "      <td>100.500000</td>\n",
       "      <td>45571.000000</td>\n",
       "    </tr>\n",
       "    <tr>\n",
       "      <th>std</th>\n",
       "      <td>57.879185</td>\n",
       "      <td>7457.521851</td>\n",
       "    </tr>\n",
       "    <tr>\n",
       "      <th>min</th>\n",
       "      <td>1.000000</td>\n",
       "      <td>30100.000000</td>\n",
       "    </tr>\n",
       "    <tr>\n",
       "      <th>25%</th>\n",
       "      <td>50.750000</td>\n",
       "      <td>41250.000000</td>\n",
       "    </tr>\n",
       "    <tr>\n",
       "      <th>50%</th>\n",
       "      <td>100.500000</td>\n",
       "      <td>44950.000000</td>\n",
       "    </tr>\n",
       "    <tr>\n",
       "      <th>75%</th>\n",
       "      <td>150.250000</td>\n",
       "      <td>49825.000000</td>\n",
       "    </tr>\n",
       "    <tr>\n",
       "      <th>max</th>\n",
       "      <td>200.000000</td>\n",
       "      <td>59800.000000</td>\n",
       "    </tr>\n",
       "  </tbody>\n",
       "</table>\n",
       "</div>"
      ],
      "text/plain": [
       "           S. No.  Monthly Rent\n",
       "count  200.000000    200.000000\n",
       "mean   100.500000  45571.000000\n",
       "std     57.879185   7457.521851\n",
       "min      1.000000  30100.000000\n",
       "25%     50.750000  41250.000000\n",
       "50%    100.500000  44950.000000\n",
       "75%    150.250000  49825.000000\n",
       "max    200.000000  59800.000000"
      ]
     },
     "execution_count": 3,
     "metadata": {},
     "output_type": "execute_result"
    }
   ],
   "source": [
    "rent.describe()"
   ]
  },
  {
   "cell_type": "markdown",
   "id": "4d8728f6",
   "metadata": {},
   "source": [
    "90% confidence level"
   ]
  },
  {
   "cell_type": "code",
   "execution_count": 4,
   "id": "378daf41",
   "metadata": {},
   "outputs": [
    {
     "data": {
      "text/plain": [
       "870.0886048286774"
      ]
     },
     "execution_count": 4,
     "metadata": {},
     "output_type": "execute_result"
    }
   ],
   "source": [
    "1.65*(7457.521851/np.sqrt(200))"
   ]
  },
  {
   "cell_type": "code",
   "execution_count": 6,
   "id": "f4313553",
   "metadata": {},
   "outputs": [
    {
     "name": "stdout",
     "output_type": "stream",
     "text": [
      "44701\n",
      "46441\n"
     ]
    }
   ],
   "source": [
    "print(45571 - 870)\n",
    "print(45571 + 870)"
   ]
  },
  {
   "cell_type": "markdown",
   "id": "fb712adb",
   "metadata": {},
   "source": [
    "99% confidence level"
   ]
  },
  {
   "cell_type": "code",
   "execution_count": 7,
   "id": "e598f434",
   "metadata": {},
   "outputs": [
    {
     "name": "stdout",
     "output_type": "stream",
     "text": [
      "1360.5021820957502\n",
      "44210.49781790425\n",
      "46931.50218209575\n"
     ]
    }
   ],
   "source": [
    "err_margin = 2.58*(7457.521851/np.sqrt(200))\n",
    "print(err_margin)\n",
    "print(45571 - err_margin)\n",
    "print(45571 + err_margin)"
   ]
  },
  {
   "cell_type": "markdown",
   "id": "5bf532b9",
   "metadata": {},
   "source": [
    "99% confidence level"
   ]
  },
  {
   "cell_type": "code",
   "execution_count": 8,
   "id": "ef2365ae",
   "metadata": {},
   "outputs": [
    {
     "name": "stdout",
     "output_type": "stream",
     "text": [
      "1033.559797251035\n",
      "44537.44020274896\n",
      "46604.55979725104\n"
     ]
    }
   ],
   "source": [
    "err_margin = 1.96*(7457.521851/np.sqrt(200))\n",
    "print(err_margin)\n",
    "print(45571 - err_margin)\n",
    "print(45571 + err_margin)"
   ]
  },
  {
   "cell_type": "code",
   "execution_count": 57,
   "id": "c01c51e0",
   "metadata": {},
   "outputs": [
    {
     "name": "stdout",
     "output_type": "stream",
     "text": [
      "[50000000123289 50000002776117 49999999065652 49999996569525\n",
      " 49999986841475 49999998093435 50000000075681 49999991155707\n",
      " 49999998137501 49999994695014]\n"
     ]
    }
   ],
   "source": [
    "import numpy as np \n",
    "seed=int(0)\n",
    "n=int(100000000000000)\n",
    "p=float(0.5)\n",
    "#write your code here\n",
    "if (p >=0 and p<=1):\n",
    "    np.random.seed(seed)\n",
    "    s = np.random.binomial(n, p, 10)\n",
    "    print(s)"
   ]
  },
  {
   "cell_type": "code",
   "execution_count": 56,
   "id": "66fe890e",
   "metadata": {
    "scrolled": true
   },
   "outputs": [
    {
     "name": "stdout",
     "output_type": "stream",
     "text": [
      "0.8571\n"
     ]
    }
   ],
   "source": [
    "import math\n",
    "n=15\n",
    "print(round((12 * np.math.factorial(n-2))/np.math.factorial(n-1), 4))"
   ]
  },
  {
   "cell_type": "code",
   "execution_count": 1,
   "id": "8d3b1b1e",
   "metadata": {},
   "outputs": [
    {
     "name": "stdout",
     "output_type": "stream",
     "text": [
      "invalid\n"
     ]
    }
   ],
   "source": [
    "import re\n",
    "def checkmail(email):\n",
    "    temp = re.split('@|\\\\.', email)\n",
    "    if (len(temp) != 3):\n",
    "        return 'invalid'\n",
    "    if ((temp[0].isalnum()) == False):\n",
    "        return 'invalid'\n",
    "    if ((temp[1].isalpha()) == False):\n",
    "        return 'invalid' \n",
    "    if ((len(temp[2]) > 3 or len(temp[2]) < 2 or temp[2].isalpha() == False)):\n",
    "        return 'invalid'\n",
    "    return 'valid'\n",
    "email='rbadgujar@gmail.com'\n",
    "print(checkmail(email))"
   ]
  },
  {
   "cell_type": "code",
   "execution_count": 1,
   "id": "1f25e9d5",
   "metadata": {},
   "outputs": [
    {
     "name": "stdout",
     "output_type": "stream",
     "text": [
      "CPU times: user 3 µs, sys: 0 ns, total: 3 µs\n",
      "Wall time: 4.77 µs\n",
      "[1, 2, 3, 4, 5, 6, 7, 8, 9]\n"
     ]
    }
   ],
   "source": [
    "import ast,sys\n",
    "import time\n",
    "input_str = '[[1,2,3],[4,5],[6,7,8,9]]'\n",
    "input_list = ast.literal_eval(input_str)\n",
    "output = []\n",
    "for i in input_list:\n",
    "    if isinstance(i, list):\n",
    "        output.extend(i)\n",
    "%time\n",
    "print(output)"
   ]
  },
  {
   "cell_type": "code",
   "execution_count": 34,
   "id": "d0d47f18",
   "metadata": {
    "scrolled": true
   },
   "outputs": [
    {
     "name": "stdout",
     "output_type": "stream",
     "text": [
      "[1, 2, 9, 4, 5, 36, 7, 8, 81]\n"
     ]
    }
   ],
   "source": [
    "import ast,sys\n",
    "import time\n",
    "input_list = [1,2,3,4,5,6,7,8,9]\n",
    "for i in range(len(input_list)):\n",
    "    if (input_list[i]%3 == 0):\n",
    "        input_list[i] = input_list[i] * input_list[i]\n",
    "print(input_list)        "
   ]
  },
  {
   "cell_type": "code",
   "execution_count": 2,
   "id": "9a6f51d2",
   "metadata": {},
   "outputs": [
    {
     "name": "stdout",
     "output_type": "stream",
     "text": [
      "1234567\n",
      "1523455678.0\n"
     ]
    }
   ],
   "source": [
    "import math\n",
    "n=input()\n",
    "n = int(n)\n",
    "def sum_of_n(i, p):\n",
    "    if p == 0:\n",
    "        return i;\n",
    "    else:\n",
    "        return i * math.pow(10, p) + sum_of_n(i, p-1)\n",
    "\n",
    "output = 0\n",
    "for i in range(4):\n",
    "    output = output + sum_of_n(n, i)\n",
    "print(output)\n"
   ]
  },
  {
   "cell_type": "code",
   "execution_count": 3,
   "id": "0dc64406",
   "metadata": {},
   "outputs": [
    {
     "name": "stdout",
     "output_type": "stream",
     "text": [
      "{1: ['b', 'g'], 5: ['a', 'z'], 3: ['c', 'd', 'f', 'h']}\n",
      "[5, 3, 1]\n",
      "['a', 'z', 'c', 'd']\n"
     ]
    }
   ],
   "source": [
    "string = 'cccaaaaabdddffgfhhhzzzzz'\n",
    "#string = 'ddddaacccb'\n",
    "n = 4\n",
    "frequency = {}\n",
    "output = []\n",
    "for i in set(string):\n",
    "    count = string.count(i)\n",
    "    if (count in frequency):\n",
    "        l = frequency[count]\n",
    "        l.append(i)\n",
    "        l.sort()\n",
    "    else:\n",
    "        frequency[count] = [i]\n",
    "\n",
    "print(frequency)\n",
    "print(sorted(frequency, reverse=True))\n",
    "\n",
    "i = n\n",
    "ind = 0\n",
    "while i > 0:\n",
    "    l = frequency[sorted(frequency, reverse=True)[ind]]\n",
    "    ind = ind+1\n",
    "    if (len(l) == 1):\n",
    "        output.extend(l)\n",
    "        output.sort()\n",
    "        i = i-1;\n",
    "    else:\n",
    "        index = 0\n",
    "        if ((len(l) > i) == True):\n",
    "            index = i\n",
    "        else:\n",
    "            index = len(l)\n",
    "        output.extend(l[0:index])\n",
    "        i = i-len(l);\n",
    "\n",
    "print(output)"
   ]
  },
  {
   "cell_type": "code",
   "execution_count": 10,
   "id": "56f2652d",
   "metadata": {},
   "outputs": [
    {
     "name": "stdout",
     "output_type": "stream",
     "text": [
      "{1: ['b', 'g'], 5: ['z'], 4: ['a'], 2: ['d'], 3: ['c', 'f', 'h']}\n",
      "[5, 4, 3, 2, 1]\n",
      "['a', 'c', 'f', 'z']\n"
     ]
    }
   ],
   "source": [
    "input_str = 'cccaaaabddffgfhhhzzzzz'\n",
    "n = 4\n",
    "frequency = {}\n",
    "output = []\n",
    "for i in set(input_str):\n",
    "    count = input_str.count(i)\n",
    "    if (count in frequency):\n",
    "        l = frequency[count]\n",
    "        l.append(i)\n",
    "        l.sort()\n",
    "    else:\n",
    "        frequency[count] = [i]\n",
    "\n",
    "print(frequency)\n",
    "print(sorted(frequency, reverse=True))\n",
    "for i in sorted(frequency, reverse=True):\n",
    "    l = frequency[i]\n",
    "    output.extend(l)\n",
    "    \n",
    "print(sorted(output[0:n]))"
   ]
  },
  {
   "cell_type": "code",
   "execution_count": 4,
   "id": "984bb934",
   "metadata": {},
   "outputs": [
    {
     "name": "stdout",
     "output_type": "stream",
     "text": [
      "['a', 'c', 'f', 'z']\n"
     ]
    }
   ],
   "source": [
    "string='cccaaaabddffgfhhhzzzzz'\n",
    "n=4\n",
    "import collections\n",
    "out=[collections.Counter(string).most_common(i+1)[i][0] for i in range(n)]\n",
    "out.sort()\n",
    "print(out)"
   ]
  },
  {
   "cell_type": "code",
   "execution_count": 3,
   "id": "f496afd4",
   "metadata": {},
   "outputs": [
    {
     "name": "stdout",
     "output_type": "stream",
     "text": [
      "[[0.  0.5 1.  1.5]\n",
      " [1.  1.5 2.  2.5]\n",
      " [2.  2.5 3.  3.5]]\n"
     ]
    }
   ],
   "source": [
    "import numpy as np\n",
    "x = 3\n",
    "y = 4\n",
    "l = [i+j/2 for i in range(x) for j in range(y)]\n",
    "arr = np.array(l)\n",
    "print(np.reshape(arr, (x,y), order='C'))"
   ]
  }
 ],
 "metadata": {
  "kernelspec": {
   "display_name": "Python 3",
   "language": "python",
   "name": "python3"
  },
  "language_info": {
   "codemirror_mode": {
    "name": "ipython",
    "version": 3
   },
   "file_extension": ".py",
   "mimetype": "text/x-python",
   "name": "python",
   "nbconvert_exporter": "python",
   "pygments_lexer": "ipython3",
   "version": "3.8.10"
  }
 },
 "nbformat": 4,
 "nbformat_minor": 5
}
