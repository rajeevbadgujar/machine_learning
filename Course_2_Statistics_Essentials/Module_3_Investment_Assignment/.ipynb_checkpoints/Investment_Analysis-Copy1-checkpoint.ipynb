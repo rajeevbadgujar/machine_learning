{
 "cells": [
  {
   "cell_type": "markdown",
   "id": "6a1600a5",
   "metadata": {},
   "source": [
    "## Import the required libraries"
   ]
  },
  {
   "cell_type": "code",
   "execution_count": 1,
   "id": "85e80d8f",
   "metadata": {},
   "outputs": [],
   "source": [
    "import numpy as np\n",
    "import pandas as pd\n",
    "import seaborn as sns\n",
    "import matplotlib.pyplot as plt"
   ]
  },
  {
   "cell_type": "markdown",
   "id": "b6385002",
   "metadata": {},
   "source": [
    "## Read the data\n",
    "\n",
    "**companies** - the dataframe containing information of the startups \\\n",
    "**rounds2** - the dataframe containing the information about each round of investments done in the companies \\\n",
    "**mapping** - maping of industry and the categories \\\n",
    "\n",
    "There seems to be difference in the encoding of companies and round2 files. The default encoding used by read_csv method of pandas resulted in character differences in companies and round2 dataframes. After trying \"mac_roman\" and \"Latin-1/iso-8859-1\", the later seems to work better."
   ]
  },
  {
   "cell_type": "code",
   "execution_count": 2,
   "id": "8cddc2ac",
   "metadata": {},
   "outputs": [],
   "source": [
    "companies = pd.read_csv('companies.csv', encoding='iso-8859-1')\n",
    "rounds2 = pd.read_csv('rounds2.csv', encoding='iso-8859-1')\n",
    "mapping = pd.read_csv('mapping.csv', encoding='iso-8859-1')"
   ]
  },
  {
   "cell_type": "markdown",
   "id": "2ad2a214",
   "metadata": {},
   "source": [
    "## Describe the datasets"
   ]
  },
  {
   "cell_type": "code",
   "execution_count": 3,
   "id": "b6459003",
   "metadata": {},
   "outputs": [
    {
     "name": "stdout",
     "output_type": "stream",
     "text": [
      "<class 'pandas.core.frame.DataFrame'>\n",
      "RangeIndex: 66368 entries, 0 to 66367\n",
      "Data columns (total 10 columns):\n",
      " #   Column         Non-Null Count  Dtype \n",
      "---  ------         --------------  ----- \n",
      " 0   permalink      66368 non-null  object\n",
      " 1   name           66367 non-null  object\n",
      " 2   homepage_url   61310 non-null  object\n",
      " 3   category_list  63220 non-null  object\n",
      " 4   status         66368 non-null  object\n",
      " 5   country_code   59410 non-null  object\n",
      " 6   state_code     57821 non-null  object\n",
      " 7   region         58338 non-null  object\n",
      " 8   city           58340 non-null  object\n",
      " 9   founded_at     51147 non-null  object\n",
      "dtypes: object(10)\n",
      "memory usage: 5.1+ MB\n"
     ]
    }
   ],
   "source": [
    "companies.info()"
   ]
  },
  {
   "cell_type": "code",
   "execution_count": 4,
   "id": "00988beb",
   "metadata": {},
   "outputs": [
    {
     "name": "stdout",
     "output_type": "stream",
     "text": [
      "<class 'pandas.core.frame.DataFrame'>\n",
      "RangeIndex: 114949 entries, 0 to 114948\n",
      "Data columns (total 6 columns):\n",
      " #   Column                   Non-Null Count   Dtype  \n",
      "---  ------                   --------------   -----  \n",
      " 0   company_permalink        114949 non-null  object \n",
      " 1   funding_round_permalink  114949 non-null  object \n",
      " 2   funding_round_type       114949 non-null  object \n",
      " 3   funding_round_code       31140 non-null   object \n",
      " 4   funded_at                114949 non-null  object \n",
      " 5   raised_amount_usd        94959 non-null   float64\n",
      "dtypes: float64(1), object(5)\n",
      "memory usage: 5.3+ MB\n"
     ]
    }
   ],
   "source": [
    "rounds2.info()"
   ]
  },
  {
   "cell_type": "code",
   "execution_count": 5,
   "id": "9aab7633",
   "metadata": {},
   "outputs": [
    {
     "name": "stdout",
     "output_type": "stream",
     "text": [
      "companies dataframe shape - (66368, 10)\n",
      "rounds2 dataframe shape - (114949, 6)\n"
     ]
    }
   ],
   "source": [
    "print('companies dataframe shape -',companies.shape)\n",
    "print('rounds2 dataframe shape -', rounds2.shape)"
   ]
  },
  {
   "cell_type": "markdown",
   "id": "f14fd031",
   "metadata": {},
   "source": [
    "## Checkpoint 1: Data Cleaning 1\n",
    "Check for null, missing values in each dataframe.\n",
    "### companies \n",
    "The dataframe has maximum number of null values in column founded_at followed by state_code, region, city, country_code, homepage_url and category_list."
   ]
  },
  {
   "cell_type": "code",
   "execution_count": 6,
   "id": "9a449be5",
   "metadata": {},
   "outputs": [
    {
     "data": {
      "text/plain": [
       "permalink            0\n",
       "name                 1\n",
       "homepage_url      5058\n",
       "category_list     3148\n",
       "status               0\n",
       "country_code      6958\n",
       "state_code        8547\n",
       "region            8030\n",
       "city              8028\n",
       "founded_at       15221\n",
       "dtype: int64"
      ]
     },
     "execution_count": 6,
     "metadata": {},
     "output_type": "execute_result"
    }
   ],
   "source": [
    "companies.isnull().sum(axis=0)"
   ]
  },
  {
   "cell_type": "markdown",
   "id": "de24bcff",
   "metadata": {},
   "source": [
    "Lets calculate the percentage of null values in companies dataframe"
   ]
  },
  {
   "cell_type": "code",
   "execution_count": 7,
   "id": "4045d317",
   "metadata": {},
   "outputs": [
    {
     "data": {
      "text/plain": [
       "permalink         0.000000\n",
       "name              0.001507\n",
       "homepage_url      7.621143\n",
       "category_list     4.743250\n",
       "status            0.000000\n",
       "country_code     10.483968\n",
       "state_code       12.878194\n",
       "region           12.099204\n",
       "city             12.096191\n",
       "founded_at       22.934245\n",
       "dtype: float64"
      ]
     },
     "execution_count": 7,
     "metadata": {},
     "output_type": "execute_result"
    }
   ],
   "source": [
    "100*companies.isnull().sum()/len(companies.index)"
   ]
  },
  {
   "cell_type": "markdown",
   "id": "eb69b668",
   "metadata": {},
   "source": [
    "From the columns with high null values country_code and category_list are important for our analysis. We can drop after merging the two datasets. We will drop after merging the datasets because we want to keep the original data in tact. \\\n",
    "### rounds2\n",
    "Now lets calculate the same for rounds2 dataset."
   ]
  },
  {
   "cell_type": "code",
   "execution_count": 8,
   "id": "d8dc1835",
   "metadata": {},
   "outputs": [
    {
     "data": {
      "text/plain": [
       "company_permalink           0.000000\n",
       "funding_round_permalink     0.000000\n",
       "funding_round_type          0.000000\n",
       "funding_round_code         72.909725\n",
       "funded_at                   0.000000\n",
       "raised_amount_usd          17.390321\n",
       "dtype: float64"
      ]
     },
     "execution_count": 8,
     "metadata": {},
     "output_type": "execute_result"
    }
   ],
   "source": [
    "100*rounds2.isnull().sum(axis=0)/len(rounds2.index)"
   ]
  },
  {
   "cell_type": "markdown",
   "id": "34191714",
   "metadata": {},
   "source": [
    "In rounds2 dataset two cloumns - funding_round_code and raised_amount_usd have high percentage of null values. Out of these two columns only raised_amount_usd is important for our analysis so we can drop funding_round_code column and remove all rows with raised_amount_usd value as null. We will do this after merging the datasets."
   ]
  },
  {
   "cell_type": "markdown",
   "id": "78627351",
   "metadata": {},
   "source": [
    "The permalink column in companies dataframe and company_permalink in rounds2 dataframe have case discripency. We will convert everything in lower case. Also rename the company_permalink to permalink because later the merge is performed on this column."
   ]
  },
  {
   "cell_type": "code",
   "execution_count": 9,
   "id": "5be6508e",
   "metadata": {},
   "outputs": [],
   "source": [
    "rounds2.rename(columns={'company_permalink':'permalink'}, inplace=True)"
   ]
  },
  {
   "cell_type": "code",
   "execution_count": 10,
   "id": "66930a60",
   "metadata": {},
   "outputs": [],
   "source": [
    "to_lower_case = lambda x: x.lower()\n",
    "\n",
    "companies['permalink'] = companies.permalink.apply(to_lower_case)\n",
    "rounds2['permalink'] = rounds2.permalink.apply(to_lower_case)"
   ]
  },
  {
   "cell_type": "code",
   "execution_count": 11,
   "id": "a698451a",
   "metadata": {},
   "outputs": [
    {
     "data": {
      "text/plain": [
       "count                         66368\n",
       "unique                        66368\n",
       "top       /organization/greenpocket\n",
       "freq                              1\n",
       "Name: permalink, dtype: object"
      ]
     },
     "execution_count": 11,
     "metadata": {},
     "output_type": "execute_result"
    }
   ],
   "source": [
    "companies.permalink.describe()"
   ]
  },
  {
   "cell_type": "code",
   "execution_count": 12,
   "id": "1d19754c",
   "metadata": {},
   "outputs": [
    {
     "data": {
      "text/plain": [
       "count                       114949\n",
       "unique                       66370\n",
       "top       /organization/solarflare\n",
       "freq                            19\n",
       "Name: permalink, dtype: object"
      ]
     },
     "execution_count": 12,
     "metadata": {},
     "output_type": "execute_result"
    }
   ],
   "source": [
    "rounds2.permalink.describe()"
   ]
  },
  {
   "cell_type": "markdown",
   "id": "4c1f5ec9",
   "metadata": {},
   "source": [
    "Create index on permalink columns of companies and round2 dataframes."
   ]
  },
  {
   "cell_type": "code",
   "execution_count": 13,
   "id": "65b08e48",
   "metadata": {},
   "outputs": [],
   "source": [
    "companies.set_index('permalink', inplace=True)\n",
    "rounds2.set_index('permalink', inplace=True)"
   ]
  },
  {
   "cell_type": "markdown",
   "id": "c95de6ed",
   "metadata": {},
   "source": [
    "We can take set difference between the columns of two dataframes to figure out the companies which are present in rounds2 dataframe but not in companies."
   ]
  },
  {
   "cell_type": "code",
   "execution_count": 14,
   "id": "c2e11ab6",
   "metadata": {
    "scrolled": true
   },
   "outputs": [
    {
     "data": {
      "text/plain": [
       "{'/organization/e-cã\\x8abica',\n",
       " '/organization/energystone-games-ç\\x81µç\\x9f³æ¸¸æ\\x88\\x8f',\n",
       " '/organization/huizuche-com-æ\\x83\\xa0ç§ÿè½¦',\n",
       " '/organization/magnet-tech-ç£\\x81ç\\x9f³ç§\\x91æ\\x8a\\x80',\n",
       " '/organization/tipcat-interactive-æ²\\x99è\\x88ÿä¿¡æ\\x81¯ç§\\x91æ\\x9a\\x80',\n",
       " '/organization/weiche-tech-å\\x96\\x82è½¦ç§\\x91æ\\x8a\\x80',\n",
       " '/organization/zengame-ç¦\\x85æ¸¸ç§\\x91æ\\x8a\\x80'}"
      ]
     },
     "execution_count": 14,
     "metadata": {},
     "output_type": "execute_result"
    }
   ],
   "source": [
    "set(rounds2.index) - set(companies.index)"
   ]
  },
  {
   "cell_type": "markdown",
   "id": "63cab55d",
   "metadata": {},
   "source": [
    "So there are 7 companies in rounds2 dataframe which are not present in companies dataframe."
   ]
  },
  {
   "cell_type": "code",
   "execution_count": 15,
   "id": "c1620989",
   "metadata": {},
   "outputs": [],
   "source": [
    "master_frame = pd.merge(companies, rounds2, how='inner', on='permalink')"
   ]
  },
  {
   "cell_type": "code",
   "execution_count": 16,
   "id": "3efe428d",
   "metadata": {},
   "outputs": [
    {
     "name": "stdout",
     "output_type": "stream",
     "text": [
      "master_frame shape - (114942, 14)\n"
     ]
    }
   ],
   "source": [
    "print('master_frame shape -', master_frame.shape)"
   ]
  },
  {
   "cell_type": "markdown",
   "id": "34085616",
   "metadata": {},
   "source": [
    "### Drop the columns with null values\n",
    "As discssed earlier lets drop the columns\n",
    "- homepage_url\n",
    "- state_code\n",
    "- region\n",
    "- city\n",
    "- founded_at\n",
    "- funding_round_code"
   ]
  },
  {
   "cell_type": "code",
   "execution_count": 17,
   "id": "550ade9b",
   "metadata": {},
   "outputs": [],
   "source": [
    "master_frame = master_frame.drop(['homepage_url', 'state_code', 'region', 'city', 'founded_at', 'funding_round_code'], axis=1)"
   ]
  },
  {
   "cell_type": "code",
   "execution_count": 151,
   "id": "c19a40ca",
   "metadata": {},
   "outputs": [
    {
     "data": {
      "text/plain": [
       "permalink                  0\n",
       "name                       1\n",
       "category_list              0\n",
       "status                     0\n",
       "country_code               0\n",
       "funding_round_permalink    0\n",
       "funding_round_type         0\n",
       "funded_at                  0\n",
       "raised_amount_usd          0\n",
       "primary_sector             0\n",
       "main_sector                0\n",
       "dtype: int64"
      ]
     },
     "execution_count": 151,
     "metadata": {},
     "output_type": "execute_result"
    }
   ],
   "source": [
    "master_frame.isnull().sum()"
   ]
  },
  {
   "cell_type": "code",
   "execution_count": 18,
   "id": "62f012c5",
   "metadata": {},
   "outputs": [
    {
     "data": {
      "text/plain": [
       "name                        0.000870\n",
       "category_list               2.964104\n",
       "status                      0.000000\n",
       "country_code                7.543805\n",
       "funding_round_permalink     0.000000\n",
       "funding_round_type          0.000000\n",
       "funded_at                   0.000000\n",
       "raised_amount_usd          17.386160\n",
       "dtype: float64"
      ]
     },
     "execution_count": 18,
     "metadata": {},
     "output_type": "execute_result"
    }
   ],
   "source": [
    "100*master_frame.isnull().sum()/len(master_frame.index)"
   ]
  },
  {
   "cell_type": "markdown",
   "id": "c2475ed8",
   "metadata": {},
   "source": [
    "### Drop rows with null data\n",
    "Now lets remove the rows containing raised_funding_usd as null. "
   ]
  },
  {
   "cell_type": "code",
   "execution_count": 20,
   "id": "358f0a74",
   "metadata": {},
   "outputs": [],
   "source": [
    "master_frame = master_frame[~master_frame.raised_amount_usd.isnull()]"
   ]
  },
  {
   "cell_type": "code",
   "execution_count": 21,
   "id": "443fec24",
   "metadata": {},
   "outputs": [
    {
     "data": {
      "text/plain": [
       "name                       0.001053\n",
       "category_list              1.099433\n",
       "status                     0.000000\n",
       "country_code               6.160618\n",
       "funding_round_permalink    0.000000\n",
       "funding_round_type         0.000000\n",
       "funded_at                  0.000000\n",
       "raised_amount_usd          0.000000\n",
       "dtype: float64"
      ]
     },
     "execution_count": 21,
     "metadata": {},
     "output_type": "execute_result"
    }
   ],
   "source": [
    "100*master_frame.isnull().sum()/len(master_frame.index)"
   ]
  },
  {
   "cell_type": "code",
   "execution_count": 22,
   "id": "189eb849",
   "metadata": {},
   "outputs": [
    {
     "name": "stdout",
     "output_type": "stream",
     "text": [
      "master_frame shape after removing rows with null raised_funding_usd - (94958, 8)\n"
     ]
    }
   ],
   "source": [
    "print('master_frame shape after removing rows with null raised_funding_usd -', master_frame.shape)"
   ]
  },
  {
   "cell_type": "markdown",
   "id": "a8e40de4",
   "metadata": {},
   "source": [
    "Now lets analyse the country_code as its important column for our analysis."
   ]
  },
  {
   "cell_type": "code",
   "execution_count": 23,
   "id": "b1d28d5e",
   "metadata": {},
   "outputs": [
    {
     "data": {
      "text/plain": [
       "count     89108\n",
       "unique      134\n",
       "top         USA\n",
       "freq      62049\n",
       "Name: country_code, dtype: object"
      ]
     },
     "execution_count": 23,
     "metadata": {},
     "output_type": "execute_result"
    }
   ],
   "source": [
    "master_frame.country_code.describe()"
   ]
  },
  {
   "cell_type": "markdown",
   "id": "7a1dc2b5",
   "metadata": {},
   "source": [
    "USA is the highest occuring country and there are 134 unique contry codes. Now lets calculate the percentage to understand the distribution properly."
   ]
  },
  {
   "cell_type": "code",
   "execution_count": 24,
   "id": "d604aafd",
   "metadata": {},
   "outputs": [
    {
     "data": {
      "text/plain": [
       "USA    65.343626\n",
       "GBR     5.285495\n",
       "CAN     2.754902\n",
       "CHN     2.029318\n",
       "IND     1.736557\n",
       "         ...    \n",
       "GRD     0.001053\n",
       "IRN     0.001053\n",
       "LAO     0.001053\n",
       "TGO     0.001053\n",
       "GGY     0.001053\n",
       "Name: country_code, Length: 134, dtype: float64"
      ]
     },
     "execution_count": 24,
     "metadata": {},
     "output_type": "execute_result"
    }
   ],
   "source": [
    "100*master_frame.country_code.value_counts()/len(master_frame.index)"
   ]
  },
  {
   "cell_type": "code",
   "execution_count": 25,
   "id": "1e8112d0",
   "metadata": {},
   "outputs": [
    {
     "data": {
      "text/plain": [
       "5850"
      ]
     },
     "execution_count": 25,
     "metadata": {},
     "output_type": "execute_result"
    }
   ],
   "source": [
    "master_frame.country_code.isnull().sum()"
   ]
  },
  {
   "cell_type": "markdown",
   "id": "baf2c2e0",
   "metadata": {},
   "source": [
    "One thing we can do is to check if city column is available for records with country_code as null and use it to infer the country code. However as we have already dropped city column and the number of rows with country_code as null is about 6% of total data, we can drop the rows."
   ]
  },
  {
   "cell_type": "code",
   "execution_count": 26,
   "id": "c28855e7",
   "metadata": {},
   "outputs": [],
   "source": [
    "master_frame = master_frame[~master_frame.country_code.isna()]"
   ]
  },
  {
   "cell_type": "code",
   "execution_count": 27,
   "id": "891b9d77",
   "metadata": {},
   "outputs": [
    {
     "data": {
      "text/plain": [
       "name                       0.001122\n",
       "category_list              0.649773\n",
       "status                     0.000000\n",
       "country_code               0.000000\n",
       "funding_round_permalink    0.000000\n",
       "funding_round_type         0.000000\n",
       "funded_at                  0.000000\n",
       "raised_amount_usd          0.000000\n",
       "dtype: float64"
      ]
     },
     "execution_count": 27,
     "metadata": {},
     "output_type": "execute_result"
    }
   ],
   "source": [
    "100*master_frame.isnull().sum()/len(master_frame.index)"
   ]
  },
  {
   "cell_type": "markdown",
   "id": "0c31f053",
   "metadata": {},
   "source": [
    "We can drop the records with category_list as null as its just 0.65% of total data. There are also very small number of records with name as null but we can live with it. "
   ]
  },
  {
   "cell_type": "code",
   "execution_count": 28,
   "id": "446642a9",
   "metadata": {},
   "outputs": [],
   "source": [
    "master_frame = master_frame[~master_frame.category_list.isnull()]"
   ]
  },
  {
   "cell_type": "code",
   "execution_count": 29,
   "id": "4c07350b",
   "metadata": {
    "scrolled": true
   },
   "outputs": [
    {
     "data": {
      "text/plain": [
       "name                       0.00113\n",
       "category_list              0.00000\n",
       "status                     0.00000\n",
       "country_code               0.00000\n",
       "funding_round_permalink    0.00000\n",
       "funding_round_type         0.00000\n",
       "funded_at                  0.00000\n",
       "raised_amount_usd          0.00000\n",
       "dtype: float64"
      ]
     },
     "execution_count": 29,
     "metadata": {},
     "output_type": "execute_result"
    }
   ],
   "source": [
    "100*master_frame.isnull().sum()/len(master_frame.index)"
   ]
  },
  {
   "cell_type": "code",
   "execution_count": 32,
   "id": "fa0c2f69",
   "metadata": {
    "scrolled": true
   },
   "outputs": [],
   "source": [
    "master_frame.reset_index(inplace=True)"
   ]
  },
  {
   "cell_type": "code",
   "execution_count": 33,
   "id": "3c3542d7",
   "metadata": {},
   "outputs": [
    {
     "data": {
      "text/plain": [
       "(88529, 9)"
      ]
     },
     "execution_count": 33,
     "metadata": {},
     "output_type": "execute_result"
    }
   ],
   "source": [
    "master_frame.shape"
   ]
  },
  {
   "cell_type": "markdown",
   "id": "ab237b22",
   "metadata": {},
   "source": [
    "**End of Checkpoint 1: Data Cleaning 1**"
   ]
  },
  {
   "cell_type": "markdown",
   "id": "adc35fbf",
   "metadata": {},
   "source": [
    "------------------------------------------------------------"
   ]
  },
  {
   "cell_type": "markdown",
   "id": "40cbab72",
   "metadata": {},
   "source": [
    "## Checkpoint 2: Funding Type Analysis"
   ]
  },
  {
   "cell_type": "markdown",
   "id": "e68bb15c",
   "metadata": {},
   "source": [
    "Now lets focus on the funding type analysis. The Spark Funds wants to \n",
    "- choose one of the 4 investment types \n",
    "  - venture\n",
    "  - angel\n",
    "  - seed\n",
    "  - private equity\n",
    "- invest between 5 to 15 million USD per investment round\n",
    "\n",
    "Lets start by describing the raised_amount_usd column"
   ]
  },
  {
   "cell_type": "code",
   "execution_count": 34,
   "id": "861e3b2a",
   "metadata": {},
   "outputs": [
    {
     "data": {
      "text/plain": [
       "count    8.852900e+04\n",
       "mean     1.047385e+07\n",
       "std      1.118118e+08\n",
       "min      0.000000e+00\n",
       "25%      3.705180e+05\n",
       "50%      1.800000e+06\n",
       "75%      7.100000e+06\n",
       "max      2.127194e+10\n",
       "Name: raised_amount_usd, dtype: float64"
      ]
     },
     "execution_count": 34,
     "metadata": {},
     "output_type": "execute_result"
    }
   ],
   "source": [
    "master_frame.raised_amount_usd.describe()"
   ]
  },
  {
   "cell_type": "markdown",
   "id": "2410bad1",
   "metadata": {},
   "source": [
    "There is huge difference between the min and max values. The mean is at about ~10 million which is more than the 75th quartile which is at about ~7 million.\n",
    "Lets try to focus on the data pertaining to the four types of investment types and compare the mean, median numbers."
   ]
  },
  {
   "cell_type": "code",
   "execution_count": 35,
   "id": "29b818fb",
   "metadata": {},
   "outputs": [],
   "source": [
    "inv_types = [tuple(i) for i in ['angel', 'venture', 'seed', 'private_equity']]\n",
    "master_frame = master_frame[master_frame['funding_round_type'].apply(tuple).isin(inv_types)]"
   ]
  },
  {
   "cell_type": "code",
   "execution_count": 36,
   "id": "a5b58bf3",
   "metadata": {},
   "outputs": [
    {
     "data": {
      "text/plain": [
       "venture           47809\n",
       "seed              21095\n",
       "angel              4400\n",
       "private_equity     1820\n",
       "Name: funding_round_type, dtype: int64"
      ]
     },
     "execution_count": 36,
     "metadata": {},
     "output_type": "execute_result"
    }
   ],
   "source": [
    "master_frame.funding_round_type.value_counts()"
   ]
  },
  {
   "cell_type": "code",
   "execution_count": 37,
   "id": "251e1290",
   "metadata": {},
   "outputs": [
    {
     "data": {
      "text/plain": [
       "count    7.512400e+04\n",
       "mean     9.519475e+06\n",
       "std      7.792778e+07\n",
       "min      0.000000e+00\n",
       "25%      4.705852e+05\n",
       "50%      2.000000e+06\n",
       "75%      8.000000e+06\n",
       "max      1.760000e+10\n",
       "Name: raised_amount_usd, dtype: float64"
      ]
     },
     "execution_count": 37,
     "metadata": {},
     "output_type": "execute_result"
    }
   ],
   "source": [
    "master_frame.raised_amount_usd.describe()"
   ]
  },
  {
   "cell_type": "code",
   "execution_count": 38,
   "id": "8378fdab",
   "metadata": {},
   "outputs": [
    {
     "data": {
      "image/png": "[encoded data removed]",
      "text/plain": [
       "<Figure size 432x288 with 1 Axes>"
      ]
     },
     "metadata": {
      "needs_background": "light"
     },
     "output_type": "display_data"
    }
   ],
   "source": [
    "sns.boxplot(y=master_frame['raised_amount_usd'], x=master_frame['funding_round_type'])\n",
    "plt.yscale('log')\n",
    "plt.show()"
   ]
  },
  {
   "cell_type": "markdown",
   "id": "7c248b3c",
   "metadata": {},
   "source": [
    "Create a pivote table of funding type and the median amount invested. We choose median amount to ignore the outliers."
   ]
  },
  {
   "cell_type": "code",
   "execution_count": 39,
   "id": "bfec6934",
   "metadata": {
    "scrolled": true
   },
   "outputs": [
    {
     "data": {
      "text/html": [
       "<div>\n",
       "<style scoped>\n",
       "    .dataframe tbody tr th:only-of-type {\n",
       "        vertical-align: middle;\n",
       "    }\n",
       "\n",
       "    .dataframe tbody tr th {\n",
       "        vertical-align: top;\n",
       "    }\n",
       "\n",
       "    .dataframe thead tr th {\n",
       "        text-align: left;\n",
       "    }\n",
       "</style>\n",
       "<table border=\"1\" class=\"dataframe\">\n",
       "  <thead>\n",
       "    <tr>\n",
       "      <th></th>\n",
       "      <th colspan=\"4\" halign=\"left\">median</th>\n",
       "      <th colspan=\"4\" halign=\"left\">mean</th>\n",
       "    </tr>\n",
       "    <tr>\n",
       "      <th>funding_round_type</th>\n",
       "      <th>angel</th>\n",
       "      <th>private_equity</th>\n",
       "      <th>seed</th>\n",
       "      <th>venture</th>\n",
       "      <th>angel</th>\n",
       "      <th>private_equity</th>\n",
       "      <th>seed</th>\n",
       "      <th>venture</th>\n",
       "    </tr>\n",
       "  </thead>\n",
       "  <tbody>\n",
       "    <tr>\n",
       "      <th>raised_amount_usd</th>\n",
       "      <td>414906.0</td>\n",
       "      <td>20000000.0</td>\n",
       "      <td>300000.0</td>\n",
       "      <td>5000000.0</td>\n",
       "      <td>971573.891136</td>\n",
       "      <td>7.393849e+07</td>\n",
       "      <td>747793.682484</td>\n",
       "      <td>1.172422e+07</td>\n",
       "    </tr>\n",
       "  </tbody>\n",
       "</table>\n",
       "</div>"
      ],
      "text/plain": [
       "                      median                                      \\\n",
       "funding_round_type     angel private_equity      seed    venture   \n",
       "raised_amount_usd   414906.0     20000000.0  300000.0  5000000.0   \n",
       "\n",
       "                             mean                                              \n",
       "funding_round_type          angel private_equity           seed       venture  \n",
       "raised_amount_usd   971573.891136   7.393849e+07  747793.682484  1.172422e+07  "
      ]
     },
     "execution_count": 39,
     "metadata": {},
     "output_type": "execute_result"
    }
   ],
   "source": [
    "pd.pivot_table(data=master_frame, columns='funding_round_type', values='raised_amount_usd', aggfunc=[np.median, np.mean])"
   ]
  },
  {
   "cell_type": "markdown",
   "id": "505de79d",
   "metadata": {},
   "source": [
    "As we can see that there is big difference between mean and median for each type of funding and from the boxplot we can see that there are outliers for each funding type we should consider median as representative value for funding types. "
   ]
  },
  {
   "cell_type": "markdown",
   "id": "5a437afc",
   "metadata": {},
   "source": [
    "From the boxplot \n",
    "- the median of venture funding is 5 million and the mean is ~11.7 million. Both these numbers are within the targeted investment amount of Spark Funds.\n",
    "- the median of seed funding is 300000 and the mean is ~747793. Both these numbers are way below the desired investment amount of Spark Funds\n",
    "- the median of angel funding is 414906 and the mean is ~971573. Again both these numbers are less than the Spark Funds targeted investment amount\n",
    "- the median of private equity is 20 million and the mean is ~73.93 million. Both these amounts are more than the Spark Funds investment targets\n",
    "\n",
    "**The venture investment type should be considered by Spark Funds.**"
   ]
  },
  {
   "cell_type": "markdown",
   "id": "568b8bc6",
   "metadata": {},
   "source": [
    "## End of Checkpoint 2: Funding Type Analysis"
   ]
  },
  {
   "cell_type": "markdown",
   "id": "3acc2a10",
   "metadata": {},
   "source": [
    "------------------------------------------------------------------------------------"
   ]
  },
  {
   "cell_type": "markdown",
   "id": "95937f64",
   "metadata": {},
   "source": [
    "## Checkpoint 3: Country Analysis"
   ]
  },
  {
   "cell_type": "markdown",
   "id": "1765eca7",
   "metadata": {},
   "source": [
    "Spark Funds wants to invest in \n",
    "- countries with highest funding received in venture type\n",
    "- English speaking countries"
   ]
  },
  {
   "cell_type": "markdown",
   "id": "741e98cc",
   "metadata": {},
   "source": [
    "Lets group the data for venture type investment by country. Aggregating the funding values across all these countries and sorting it in descending order will give us top9 counties. "
   ]
  },
  {
   "cell_type": "code",
   "execution_count": 40,
   "id": "876781ba",
   "metadata": {},
   "outputs": [],
   "source": [
    "groupby_country = master_frame[master_frame.funding_round_type == 'venture'].groupby(by='country_code')"
   ]
  },
  {
   "cell_type": "markdown",
   "id": "09383c91",
   "metadata": {},
   "source": [
    "Lets capture the top9 country codes in a variable which we will use later to filter the data."
   ]
  },
  {
   "cell_type": "code",
   "execution_count": 41,
   "id": "eaf37234",
   "metadata": {},
   "outputs": [],
   "source": [
    "top9_country_codes = groupby_country.raised_amount_usd.sum().sort_values(ascending=False).head(9).index"
   ]
  },
  {
   "cell_type": "markdown",
   "id": "a4627a05",
   "metadata": {},
   "source": [
    "Filter the data using top9 country codes. "
   ]
  },
  {
   "cell_type": "code",
   "execution_count": 42,
   "id": "b2a64a62",
   "metadata": {},
   "outputs": [],
   "source": [
    "top9_country_codes = [tuple(i) for i in top9_country_codes.values]\n",
    "top9 = master_frame[master_frame['country_code'].apply(tuple).isin(top9_country_codes)]"
   ]
  },
  {
   "cell_type": "markdown",
   "id": "2d2a7b9d",
   "metadata": {},
   "source": [
    "As we are interested in venture investment type data, filter it by funding_round_type"
   ]
  },
  {
   "cell_type": "code",
   "execution_count": 43,
   "id": "83e0fc0b",
   "metadata": {},
   "outputs": [],
   "source": [
    "top9 = top9[top9.funding_round_type == 'venture']"
   ]
  },
  {
   "cell_type": "code",
   "execution_count": 44,
   "id": "364897be",
   "metadata": {},
   "outputs": [
    {
     "data": {
      "text/plain": [
       "USA    35943\n",
       "GBR     2041\n",
       "CHN     1548\n",
       "CAN     1246\n",
       "FRA      912\n",
       "IND      819\n",
       "ISR      786\n",
       "DEU      554\n",
       "JPN      269\n",
       "Name: country_code, dtype: int64"
      ]
     },
     "execution_count": 44,
     "metadata": {},
     "output_type": "execute_result"
    }
   ],
   "source": [
    "top9.country_code.value_counts()"
   ]
  },
  {
   "cell_type": "markdown",
   "id": "3b146d74",
   "metadata": {},
   "source": [
    "The USA tops with 35943 funding rounds followed by Great Britain with 2041 and China with 1548 number of funding deals. \\\n",
    "Now lets aggregate the funding raised grouped by country. "
   ]
  },
  {
   "cell_type": "code",
   "execution_count": 45,
   "id": "f13cd954",
   "metadata": {},
   "outputs": [
    {
     "data": {
      "text/plain": [
       "country_code\n",
       "USA    4.200680e+11\n",
       "CHN    3.933892e+10\n",
       "GBR    2.007281e+10\n",
       "IND    1.426151e+10\n",
       "CAN    9.482218e+09\n",
       "FRA    7.226851e+09\n",
       "ISR    6.854350e+09\n",
       "DEU    6.306922e+09\n",
       "JPN    3.167647e+09\n",
       "Name: raised_amount_usd, dtype: float64"
      ]
     },
     "execution_count": 45,
     "metadata": {},
     "output_type": "execute_result"
    }
   ],
   "source": [
    "top9.groupby('country_code').raised_amount_usd.sum().sort_values(ascending=False)"
   ]
  },
  {
   "cell_type": "markdown",
   "id": "09880ea3",
   "metadata": {},
   "source": [
    "In terms of total funding amount also USA tops the list with ~420 billion USD followed by China with ~39 billion USD and Great Britain with ~20 billion. \\\n",
    "But as China is not English speaking country, Spark Funds should consder below top 3 investment friendly countries for venture funding \n",
    "1. **USA : ~420 billion USD**\n",
    "2. **Great Britan : ~39 billion USD**\n",
    "3. **India : ~20 billion USD**"
   ]
  },
  {
   "cell_type": "markdown",
   "id": "7b2cebff",
   "metadata": {},
   "source": [
    "## End of Checkpoint 3: Country Analysis"
   ]
  },
  {
   "cell_type": "markdown",
   "id": "1ed16b38",
   "metadata": {},
   "source": [
    "------------------------------------------------------------------------------------------------------------"
   ]
  },
  {
   "cell_type": "markdown",
   "id": "0c82aa24",
   "metadata": {},
   "source": [
    "## Checkpoint 4: Sector Analysis 1"
   ]
  },
  {
   "cell_type": "markdown",
   "id": "30cd0c79",
   "metadata": {},
   "source": [
    "Extract primary sector from category list."
   ]
  },
  {
   "cell_type": "code",
   "execution_count": 47,
   "id": "1d0952d8",
   "metadata": {},
   "outputs": [
    {
     "name": "stderr",
     "output_type": "stream",
     "text": [
      "<ipython-input-47-bec34e95bcd9>:1: SettingWithCopyWarning: \n",
      "A value is trying to be set on a copy of a slice from a DataFrame.\n",
      "Try using .loc[row_indexer,col_indexer] = value instead\n",
      "\n",
      "See the caveats in the documentation: https://pandas.pydata.org/pandas-docs/stable/user_guide/indexing.html#returning-a-view-versus-a-copy\n",
      "  master_frame['primary_sector'] = master_frame.category_list.apply(lambda x: x.split('|')[0])\n"
     ]
    }
   ],
   "source": [
    "master_frame['primary_sector'] = master_frame.category_list.apply(lambda x: x.split('|')[0])"
   ]
  },
  {
   "cell_type": "markdown",
   "id": "2df776d4",
   "metadata": {},
   "source": [
    "Lets analyse the mapping data."
   ]
  },
  {
   "cell_type": "code",
   "execution_count": 48,
   "id": "f28fae27",
   "metadata": {
    "scrolled": true
   },
   "outputs": [
    {
     "data": {
      "text/plain": [
       "1"
      ]
     },
     "execution_count": 48,
     "metadata": {},
     "output_type": "execute_result"
    }
   ],
   "source": [
    "mapping.category_list.isna().sum()"
   ]
  },
  {
   "cell_type": "code",
   "execution_count": 49,
   "id": "7ff7c515",
   "metadata": {},
   "outputs": [
    {
     "data": {
      "text/plain": [
       "0"
      ]
     },
     "execution_count": 49,
     "metadata": {},
     "output_type": "execute_result"
    }
   ],
   "source": [
    "master_frame.primary_sector.isna().sum()"
   ]
  },
  {
   "cell_type": "markdown",
   "id": "4d69ec7d",
   "metadata": {},
   "source": [
    "The category list in mapping data contains one NaN value bur the master frame does not contain any NaN for primary sector so we will drop the row from mapping with NaN category."
   ]
  },
  {
   "cell_type": "code",
   "execution_count": 50,
   "id": "499291a4",
   "metadata": {},
   "outputs": [],
   "source": [
    "mapping = mapping[~mapping.category_list.isna()]"
   ]
  },
  {
   "cell_type": "code",
   "execution_count": 51,
   "id": "2fcfa282",
   "metadata": {},
   "outputs": [
    {
     "data": {
      "text/plain": [
       "0"
      ]
     },
     "execution_count": 51,
     "metadata": {},
     "output_type": "execute_result"
    }
   ],
   "source": [
    "mapping.category_list.isna().sum()"
   ]
  },
  {
   "cell_type": "code",
   "execution_count": 52,
   "id": "6cc9cb81",
   "metadata": {},
   "outputs": [
    {
     "data": {
      "text/plain": [
       "count        687\n",
       "unique       687\n",
       "top       Advice\n",
       "freq           1\n",
       "Name: category_list, dtype: object"
      ]
     },
     "execution_count": 52,
     "metadata": {},
     "output_type": "execute_result"
    }
   ],
   "source": [
    "mapping.category_list.describe()"
   ]
  },
  {
   "cell_type": "markdown",
   "id": "de4ecf91",
   "metadata": {},
   "source": [
    "The category_list has all unique values so lets set index on category_list"
   ]
  },
  {
   "cell_type": "code",
   "execution_count": 53,
   "id": "42b88732",
   "metadata": {},
   "outputs": [],
   "source": [
    "mapping.set_index('category_list', inplace=True)"
   ]
  },
  {
   "cell_type": "markdown",
   "id": "b8d2a8b8",
   "metadata": {},
   "source": [
    "The mapping dataframe contians has category as row and main sector as columns. The category to sector relationship is denited with an integer value of 1 in sector column. The format of mapping dataframe is difficult to work with so we will add an extra column in the mapping dataframe with name of the sector. \\\n",
    "First iterate the rows and capture the main sector a category belongs to. Then we will convert this to a dataframe and join with mapping dataframe."
   ]
  },
  {
   "cell_type": "code",
   "execution_count": 54,
   "id": "f7ffb1d9",
   "metadata": {},
   "outputs": [],
   "source": [
    "sector_list = {}\n",
    "for index, row in mapping.iterrows():\n",
    "    sector_list[index] = row.idxmax()"
   ]
  },
  {
   "cell_type": "code",
   "execution_count": 55,
   "id": "c0ad33ab",
   "metadata": {},
   "outputs": [],
   "source": [
    "sector_list = pd.DataFrame.from_dict(sector_list, orient='index', columns=['main_sector'])"
   ]
  },
  {
   "cell_type": "code",
   "execution_count": 56,
   "id": "405f52f7",
   "metadata": {},
   "outputs": [],
   "source": [
    "mapping = mapping.join(sector_list)"
   ]
  },
  {
   "cell_type": "code",
   "execution_count": 57,
   "id": "29c9babf",
   "metadata": {},
   "outputs": [
    {
     "data": {
      "text/plain": [
       "count             75124\n",
       "unique              695\n",
       "top       Biotechnology\n",
       "freq               7630\n",
       "Name: primary_sector, dtype: object"
      ]
     },
     "execution_count": 57,
     "metadata": {},
     "output_type": "execute_result"
    }
   ],
   "source": [
    "master_frame.primary_sector.describe()"
   ]
  },
  {
   "cell_type": "markdown",
   "id": "c9b4c72b",
   "metadata": {},
   "source": [
    "The master_frame contains 695 unique values of primary_sector whereas mapping contains 687 categories. So lets figure put what is missing."
   ]
  },
  {
   "cell_type": "code",
   "execution_count": 58,
   "id": "b50f61f8",
   "metadata": {},
   "outputs": [
    {
     "data": {
      "text/plain": [
       "{'0notechnology',\n",
       " '0tural Language Processing',\n",
       " '0tural Resources',\n",
       " '0vigation',\n",
       " 'A0lytics',\n",
       " 'Alter0tive Medicine',\n",
       " 'Big Data A0lytics',\n",
       " 'Business A0lytics',\n",
       " 'Can0bis',\n",
       " 'Career Ma0gement',\n",
       " 'Chi0 Internet',\n",
       " 'Cloud Ma0gement',\n",
       " 'Contact Ma0gement',\n",
       " 'Digital Rights Ma0gement',\n",
       " 'Digital Sig0ge',\n",
       " 'Document Ma0gement',\n",
       " 'Educatio0l Games',\n",
       " 'Energy Ma0gement',\n",
       " 'Energy Storage',\n",
       " 'Event Ma0gement',\n",
       " 'Fi0nce',\n",
       " 'Fi0nce Technology',\n",
       " 'Fi0ncial Exchanges',\n",
       " 'Fi0ncial Services',\n",
       " 'Film Distribution',\n",
       " 'Fleet Ma0gement',\n",
       " 'Flowers',\n",
       " 'Fmcg',\n",
       " 'Gover0nce',\n",
       " 'IT Ma0gement',\n",
       " 'Identity Ma0gement',\n",
       " 'Innovation Ma0gement',\n",
       " 'Intellectual Asset Ma0gement',\n",
       " 'Investment Ma0gement',\n",
       " 'Jour0lism',\n",
       " 'Knowledge Ma0gement',\n",
       " 'Lead Ma0gement',\n",
       " 'Lotteries',\n",
       " 'Low Bid Auctions',\n",
       " 'Medical Professio0ls',\n",
       " 'Mobile A0lytics',\n",
       " 'Multi-level Marketing',\n",
       " 'Performance Marketing',\n",
       " 'Perso0l Branding',\n",
       " 'Perso0l Data',\n",
       " 'Perso0l Fi0nce',\n",
       " 'Perso0l Health',\n",
       " 'Perso0lization',\n",
       " 'Pervasive Computing',\n",
       " 'Plumbers',\n",
       " 'Predictive A0lytics',\n",
       " 'Professio0l Networking',\n",
       " 'Professio0l Services',\n",
       " 'Project Ma0gement',\n",
       " 'Promotio0l',\n",
       " 'Property Ma0gement',\n",
       " 'Renewable Tech',\n",
       " 'Risk Ma0gement',\n",
       " 'Smart Grid',\n",
       " 'Social Business',\n",
       " 'Social Media Ma0gement',\n",
       " 'Social Recruiting',\n",
       " 'Supply Chain Ma0gement',\n",
       " 'Task Ma0gement',\n",
       " 'Taxis',\n",
       " 'Veteri0ry',\n",
       " 'Virtual Workforces',\n",
       " 'Waste Ma0gement',\n",
       " 'Women'}"
      ]
     },
     "execution_count": 58,
     "metadata": {},
     "output_type": "execute_result"
    }
   ],
   "source": [
    "set(mapping.index).difference(master_frame.primary_sector)"
   ]
  },
  {
   "cell_type": "code",
   "execution_count": 53,
   "id": "a1412eaf",
   "metadata": {},
   "outputs": [
    {
     "data": {
      "text/plain": [
       "{'Adaptive Equipment',\n",
       " 'Alternative Medicine',\n",
       " 'Analytics',\n",
       " 'Big Data Analytics',\n",
       " 'Biotechnology and Semiconductor',\n",
       " 'Business Analytics',\n",
       " 'Cannabis',\n",
       " 'Career Management',\n",
       " 'Cause Marketing',\n",
       " 'China Internet',\n",
       " 'Cloud Management',\n",
       " 'Contact Management',\n",
       " 'Deep Information Technology',\n",
       " 'Digital Rights Management',\n",
       " 'Digital Signage',\n",
       " 'Document Management',\n",
       " 'Educational Games',\n",
       " 'Energy Management',\n",
       " 'English-Speaking',\n",
       " 'Enterprise Hardware',\n",
       " 'Event Management',\n",
       " 'Finance',\n",
       " 'Finance Technology',\n",
       " 'Financial Exchanges',\n",
       " 'Financial Services',\n",
       " 'Fleet Management',\n",
       " 'Generation Y-Z',\n",
       " 'Golf Equipment',\n",
       " 'Governance',\n",
       " 'GreenTech',\n",
       " 'IT Management',\n",
       " 'Identity Management',\n",
       " 'Innovation Management',\n",
       " 'Intellectual Asset Management',\n",
       " 'Internet TV',\n",
       " 'Internet Technology',\n",
       " 'Investment Management',\n",
       " 'Journalism',\n",
       " 'Kinect',\n",
       " 'Knowledge Management',\n",
       " 'Lead Management',\n",
       " 'Medical Professionals',\n",
       " 'Mobile Analytics',\n",
       " 'Nanotechnology',\n",
       " 'Natural Gas Uses',\n",
       " 'Natural Language Processing',\n",
       " 'Natural Resources',\n",
       " 'Navigation',\n",
       " 'Nightlife',\n",
       " 'Personal Branding',\n",
       " 'Personal Data',\n",
       " 'Personal Finance',\n",
       " 'Personal Health',\n",
       " 'Personalization',\n",
       " 'Predictive Analytics',\n",
       " 'Product Search',\n",
       " 'Professional Networking',\n",
       " 'Professional Services',\n",
       " 'Project Management',\n",
       " 'Promotional',\n",
       " 'Property Management',\n",
       " 'Racing',\n",
       " 'Rapidly Expanding',\n",
       " 'Registrars',\n",
       " 'Retirement',\n",
       " 'Risk Management',\n",
       " 'Skill Gaming',\n",
       " 'Social Media Advertising',\n",
       " 'Social Media Management',\n",
       " 'Specialty Retail',\n",
       " 'Sponsorship',\n",
       " 'Subscription Businesses',\n",
       " 'Supply Chain Management',\n",
       " 'Task Management',\n",
       " 'Toys',\n",
       " 'Vacation Rentals',\n",
       " 'Waste Management'}"
      ]
     },
     "execution_count": 53,
     "metadata": {},
     "output_type": "execute_result"
    }
   ],
   "source": [
    "set(master_frame.primary_sector).difference(set(mapping.index))"
   ]
  },
  {
   "cell_type": "markdown",
   "id": "f42c6217",
   "metadata": {},
   "source": [
    "It looks like the mapping dataframe has Na/na in category_list replaced with 0. Lets correct this. "
   ]
  },
  {
   "cell_type": "code",
   "execution_count": 59,
   "id": "ebb794e2",
   "metadata": {},
   "outputs": [],
   "source": [
    "mapping.reset_index(inplace=True)"
   ]
  },
  {
   "cell_type": "markdown",
   "id": "54811616",
   "metadata": {},
   "source": [
    "Below method replaces 0 with either Na or na based on index position of 0."
   ]
  },
  {
   "cell_type": "code",
   "execution_count": 60,
   "id": "c0b3dbb8",
   "metadata": {},
   "outputs": [],
   "source": [
    "def replace_0_with_n(x):\n",
    "    if x[0] == '0':\n",
    "        x = x.replace('0', 'Na')\n",
    "    elif x.find('.0') == -1:\n",
    "        x = x.replace('0', 'na')\n",
    "    return x"
   ]
  },
  {
   "cell_type": "code",
   "execution_count": 61,
   "id": "6fef3b18",
   "metadata": {
    "scrolled": true
   },
   "outputs": [],
   "source": [
    "mapping['category_list'] = mapping.category_list.apply(replace_0_with_n)"
   ]
  },
  {
   "cell_type": "code",
   "execution_count": 62,
   "id": "bc258f39",
   "metadata": {
    "scrolled": true
   },
   "outputs": [
    {
     "data": {
      "text/plain": [
       "{'Energy Storage',\n",
       " 'Film Distribution',\n",
       " 'Flowers',\n",
       " 'Fmcg',\n",
       " 'Lotteries',\n",
       " 'Low Bid Auctions',\n",
       " 'Multi-level Marketing',\n",
       " 'Performance Marketing',\n",
       " 'Pervasive Computing',\n",
       " 'Plumbers',\n",
       " 'Renewable Tech',\n",
       " 'Smart Grid',\n",
       " 'Social Business',\n",
       " 'Social Recruiting',\n",
       " 'Taxis',\n",
       " 'Veterinary',\n",
       " 'Virtual Workforces',\n",
       " 'Women'}"
      ]
     },
     "execution_count": 62,
     "metadata": {},
     "output_type": "execute_result"
    }
   ],
   "source": [
    "set(mapping.category_list).difference(master_frame.primary_sector)"
   ]
  },
  {
   "cell_type": "code",
   "execution_count": 58,
   "id": "70fd006f",
   "metadata": {},
   "outputs": [
    {
     "data": {
      "text/plain": [
       "{'Adaptive Equipment',\n",
       " 'Biotechnology and Semiconductor',\n",
       " 'Cause Marketing',\n",
       " 'Deep Information Technology',\n",
       " 'English-Speaking',\n",
       " 'Enterprise Hardware',\n",
       " 'Generation Y-Z',\n",
       " 'Golf Equipment',\n",
       " 'GreenTech',\n",
       " 'Internet TV',\n",
       " 'Internet Technology',\n",
       " 'Kinect',\n",
       " 'Natural Gas Uses',\n",
       " 'Nightlife',\n",
       " 'Product Search',\n",
       " 'Racing',\n",
       " 'Rapidly Expanding',\n",
       " 'Registrars',\n",
       " 'Retirement',\n",
       " 'Skill Gaming',\n",
       " 'Social Media Advertising',\n",
       " 'Specialty Retail',\n",
       " 'Sponsorship',\n",
       " 'Subscription Businesses',\n",
       " 'Toys',\n",
       " 'Vacation Rentals'}"
      ]
     },
     "execution_count": 58,
     "metadata": {},
     "output_type": "execute_result"
    }
   ],
   "source": [
    "set(master_frame.primary_sector).difference(set(mapping.category_list))"
   ]
  },
  {
   "cell_type": "code",
   "execution_count": 63,
   "id": "8b22eea3",
   "metadata": {},
   "outputs": [],
   "source": [
    "master_frame = master_frame.merge(mapping[['category_list', 'main_sector']], how='inner', on='category_list')"
   ]
  },
  {
   "cell_type": "code",
   "execution_count": 64,
   "id": "e8e2fede",
   "metadata": {},
   "outputs": [
    {
     "data": {
      "text/html": [
       "<div>\n",
       "<style scoped>\n",
       "    .dataframe tbody tr th:only-of-type {\n",
       "        vertical-align: middle;\n",
       "    }\n",
       "\n",
       "    .dataframe tbody tr th {\n",
       "        vertical-align: top;\n",
       "    }\n",
       "\n",
       "    .dataframe thead th {\n",
       "        text-align: right;\n",
       "    }\n",
       "</style>\n",
       "<table border=\"1\" class=\"dataframe\">\n",
       "  <thead>\n",
       "    <tr style=\"text-align: right;\">\n",
       "      <th></th>\n",
       "      <th>permalink</th>\n",
       "      <th>name</th>\n",
       "      <th>category_list</th>\n",
       "      <th>status</th>\n",
       "      <th>country_code</th>\n",
       "      <th>funding_round_permalink</th>\n",
       "      <th>funding_round_type</th>\n",
       "      <th>funded_at</th>\n",
       "      <th>raised_amount_usd</th>\n",
       "      <th>primary_sector</th>\n",
       "      <th>main_sector</th>\n",
       "    </tr>\n",
       "  </thead>\n",
       "  <tbody>\n",
       "    <tr>\n",
       "      <th>0</th>\n",
       "      <td>/organization/-fame</td>\n",
       "      <td>#fame</td>\n",
       "      <td>Media</td>\n",
       "      <td>operating</td>\n",
       "      <td>IND</td>\n",
       "      <td>/funding-round/9a01d05418af9f794eebff7ace91f638</td>\n",
       "      <td>venture</td>\n",
       "      <td>05-01-2015</td>\n",
       "      <td>10000000.0</td>\n",
       "      <td>Media</td>\n",
       "      <td>Entertainment</td>\n",
       "    </tr>\n",
       "    <tr>\n",
       "      <th>1</th>\n",
       "      <td>/organization/all-def-digital</td>\n",
       "      <td>All Def Digital</td>\n",
       "      <td>Media</td>\n",
       "      <td>operating</td>\n",
       "      <td>USA</td>\n",
       "      <td>/funding-round/452a2342fe720285c3b92e9bd927d9ba</td>\n",
       "      <td>venture</td>\n",
       "      <td>06-08-2014</td>\n",
       "      <td>5000000.0</td>\n",
       "      <td>Media</td>\n",
       "      <td>Entertainment</td>\n",
       "    </tr>\n",
       "    <tr>\n",
       "      <th>2</th>\n",
       "      <td>/organization/anthill-magazine</td>\n",
       "      <td>Anthill Magazine</td>\n",
       "      <td>Media</td>\n",
       "      <td>operating</td>\n",
       "      <td>AUS</td>\n",
       "      <td>/funding-round/52128cd405b88f36a85d6cded8359f1c</td>\n",
       "      <td>seed</td>\n",
       "      <td>09-04-2015</td>\n",
       "      <td>600000.0</td>\n",
       "      <td>Media</td>\n",
       "      <td>Entertainment</td>\n",
       "    </tr>\n",
       "    <tr>\n",
       "      <th>3</th>\n",
       "      <td>/organization/basel-switzerland</td>\n",
       "      <td>The Speedel Group</td>\n",
       "      <td>Media</td>\n",
       "      <td>closed</td>\n",
       "      <td>CHE</td>\n",
       "      <td>/funding-round/ae3c2e82851d1fd6f4ba59ee6d3f0eb2</td>\n",
       "      <td>venture</td>\n",
       "      <td>07-01-2002</td>\n",
       "      <td>13439178.0</td>\n",
       "      <td>Media</td>\n",
       "      <td>Entertainment</td>\n",
       "    </tr>\n",
       "    <tr>\n",
       "      <th>4</th>\n",
       "      <td>/organization/basel-switzerland</td>\n",
       "      <td>The Speedel Group</td>\n",
       "      <td>Media</td>\n",
       "      <td>closed</td>\n",
       "      <td>CHE</td>\n",
       "      <td>/funding-round/b6403185d64ae92299ad625c9d99b05d</td>\n",
       "      <td>venture</td>\n",
       "      <td>05-08-2005</td>\n",
       "      <td>55464142.0</td>\n",
       "      <td>Media</td>\n",
       "      <td>Entertainment</td>\n",
       "    </tr>\n",
       "  </tbody>\n",
       "</table>\n",
       "</div>"
      ],
      "text/plain": [
       "                         permalink               name category_list  \\\n",
       "0              /organization/-fame              #fame         Media   \n",
       "1    /organization/all-def-digital    All Def Digital         Media   \n",
       "2   /organization/anthill-magazine   Anthill Magazine         Media   \n",
       "3  /organization/basel-switzerland  The Speedel Group         Media   \n",
       "4  /organization/basel-switzerland  The Speedel Group         Media   \n",
       "\n",
       "      status country_code                          funding_round_permalink  \\\n",
       "0  operating          IND  /funding-round/9a01d05418af9f794eebff7ace91f638   \n",
       "1  operating          USA  /funding-round/452a2342fe720285c3b92e9bd927d9ba   \n",
       "2  operating          AUS  /funding-round/52128cd405b88f36a85d6cded8359f1c   \n",
       "3     closed          CHE  /funding-round/ae3c2e82851d1fd6f4ba59ee6d3f0eb2   \n",
       "4     closed          CHE  /funding-round/b6403185d64ae92299ad625c9d99b05d   \n",
       "\n",
       "  funding_round_type   funded_at  raised_amount_usd primary_sector  \\\n",
       "0            venture  05-01-2015         10000000.0          Media   \n",
       "1            venture  06-08-2014          5000000.0          Media   \n",
       "2               seed  09-04-2015           600000.0          Media   \n",
       "3            venture  07-01-2002         13439178.0          Media   \n",
       "4            venture  05-08-2005         55464142.0          Media   \n",
       "\n",
       "     main_sector  \n",
       "0  Entertainment  \n",
       "1  Entertainment  \n",
       "2  Entertainment  \n",
       "3  Entertainment  \n",
       "4  Entertainment  "
      ]
     },
     "execution_count": 64,
     "metadata": {},
     "output_type": "execute_result"
    }
   ],
   "source": [
    "master_frame.head()"
   ]
  },
  {
   "cell_type": "markdown",
   "id": "0c4b73c0",
   "metadata": {},
   "source": [
    "## End of Checkpoint 4: Sector Analysis 1"
   ]
  },
  {
   "cell_type": "markdown",
   "id": "da96921e",
   "metadata": {},
   "source": [
    "-------------------------------------------------------------------------------------------------------------"
   ]
  },
  {
   "cell_type": "markdown",
   "id": "6032a9be",
   "metadata": {},
   "source": [
    "## Checkpoint 5: Sector Analysis 2"
   ]
  },
  {
   "cell_type": "markdown",
   "id": "22661ccf",
   "metadata": {},
   "source": [
    "We are interested in venture type funding in the range of 5 to 15 million for top 3 investment friendly countries i.e USA, Great Britain and India. So lets first filter the data based on investment type venture and raised amount range of 5 million to 15 million."
   ]
  },
  {
   "cell_type": "code",
   "execution_count": 65,
   "id": "ed5b41b8",
   "metadata": {},
   "outputs": [],
   "source": [
    "venture_funding_5to15_million = master_frame[(master_frame.funding_round_type == 'venture') \n",
    "                                             & (master_frame.raised_amount_usd >= 5000000) \n",
    "                                             & (master_frame.raised_amount_usd <= 15000000)]"
   ]
  },
  {
   "cell_type": "code",
   "execution_count": 66,
   "id": "140d274d",
   "metadata": {},
   "outputs": [],
   "source": [
    "USA = venture_funding_5to15_million[venture_funding_5to15_million.country_code == 'USA']"
   ]
  },
  {
   "cell_type": "code",
   "execution_count": 67,
   "id": "13a34941",
   "metadata": {},
   "outputs": [
    {
     "data": {
      "text/plain": [
       "count    6.180000e+03\n",
       "mean     8.945548e+06\n",
       "std      3.048945e+06\n",
       "min      5.000000e+06\n",
       "25%      6.100000e+06\n",
       "50%      8.400000e+06\n",
       "75%      1.100000e+07\n",
       "max      1.500000e+07\n",
       "Name: raised_amount_usd, dtype: float64"
      ]
     },
     "execution_count": 67,
     "metadata": {},
     "output_type": "execute_result"
    }
   ],
   "source": [
    "USA.raised_amount_usd.describe()"
   ]
  },
  {
   "cell_type": "code",
   "execution_count": 68,
   "id": "a6d16216",
   "metadata": {},
   "outputs": [
    {
     "data": {
      "text/plain": [
       "55283488267.0"
      ]
     },
     "execution_count": 68,
     "metadata": {},
     "output_type": "execute_result"
    }
   ],
   "source": [
    "USA.raised_amount_usd.sum()"
   ]
  },
  {
   "cell_type": "markdown",
   "id": "77440542",
   "metadata": {},
   "source": [
    "USA has seen **6180** investments and total sum of money raised is USD 55283488267 i.e. **~55.28 billion USD.**"
   ]
  },
  {
   "cell_type": "code",
   "execution_count": 69,
   "id": "8d44aa72",
   "metadata": {},
   "outputs": [],
   "source": [
    "GBR = venture_funding_5to15_million[venture_funding_5to15_million.country_code == 'GBR']"
   ]
  },
  {
   "cell_type": "code",
   "execution_count": 70,
   "id": "22d869a0",
   "metadata": {},
   "outputs": [
    {
     "data": {
      "text/plain": [
       "count    3.430000e+02\n",
       "mean     8.803931e+06\n",
       "std      2.760384e+06\n",
       "min      5.000000e+06\n",
       "25%      6.300000e+06\n",
       "50%      8.260000e+06\n",
       "75%      1.060676e+07\n",
       "max      1.500000e+07\n",
       "Name: raised_amount_usd, dtype: float64"
      ]
     },
     "execution_count": 70,
     "metadata": {},
     "output_type": "execute_result"
    }
   ],
   "source": [
    "GBR.raised_amount_usd.describe()"
   ]
  },
  {
   "cell_type": "code",
   "execution_count": 71,
   "id": "77eb9d68",
   "metadata": {},
   "outputs": [
    {
     "data": {
      "text/plain": [
       "3019748480.0"
      ]
     },
     "execution_count": 71,
     "metadata": {},
     "output_type": "execute_result"
    }
   ],
   "source": [
    "GBR.raised_amount_usd.sum()"
   ]
  },
  {
   "cell_type": "markdown",
   "id": "439b324f",
   "metadata": {},
   "source": [
    "Great Britain has received **343** number of investments and total money raised is USD 3019748480 i.e. **~3.01 billion.**"
   ]
  },
  {
   "cell_type": "code",
   "execution_count": 72,
   "id": "7d9e291f",
   "metadata": {},
   "outputs": [],
   "source": [
    "IND = master_frame[master_frame.country_code == 'IND']"
   ]
  },
  {
   "cell_type": "code",
   "execution_count": 73,
   "id": "ae728856",
   "metadata": {},
   "outputs": [
    {
     "data": {
      "text/plain": [
       "count    7.710000e+02\n",
       "mean     1.330078e+07\n",
       "std      4.473249e+07\n",
       "min      0.000000e+00\n",
       "25%      4.930000e+05\n",
       "50%      2.600000e+06\n",
       "75%      1.000000e+07\n",
       "max      6.270000e+08\n",
       "Name: raised_amount_usd, dtype: float64"
      ]
     },
     "execution_count": 73,
     "metadata": {},
     "output_type": "execute_result"
    }
   ],
   "source": [
    "IND.raised_amount_usd.describe()"
   ]
  },
  {
   "cell_type": "code",
   "execution_count": 74,
   "id": "b74a99c7",
   "metadata": {},
   "outputs": [
    {
     "data": {
      "text/plain": [
       "10254898437.0"
      ]
     },
     "execution_count": 74,
     "metadata": {},
     "output_type": "execute_result"
    }
   ],
   "source": [
    "IND.raised_amount_usd.sum()"
   ]
  },
  {
   "cell_type": "markdown",
   "id": "7c3a073b",
   "metadata": {},
   "source": [
    "India has seen **771** number of investments and total money raised is USD 10254898437 i.e. **~10.25 billion.**\n",
    "\n",
    "According to the sum of money raised and the number of investments, the ranking of investment friendly countries changes as follows \n",
    "- **USA ranks first** with **~55.28 billion USD** funding in **6180** investments \n",
    "- **India ranks second** with **~10.25 billion USD** funding in **771** investments \n",
    "- **Great Britain ranks third** with **~3.01 billion USD** funding in **343** investments "
   ]
  },
  {
   "cell_type": "markdown",
   "id": "aa9c6842",
   "metadata": {},
   "source": [
    "### Top 3 Sector Analysis"
   ]
  },
  {
   "cell_type": "markdown",
   "id": "aee3997c",
   "metadata": {},
   "source": [
    "#### Top 3 Sectors for each investment friendly country"
   ]
  },
  {
   "cell_type": "code",
   "execution_count": 77,
   "id": "a1a40b3b",
   "metadata": {
    "scrolled": true
   },
   "outputs": [
    {
     "data": {
      "text/plain": [
       "main_sector\n",
       "Others                                     2071\n",
       "Cleantech / Semiconductors                 1779\n",
       "Health                                      601\n",
       "News, Search and Messaging                  552\n",
       "Social, Finance, Analytics, Advertising     528\n",
       "Manufacturing                               411\n",
       "Entertainment                               198\n",
       "Automotive & Sports                          40\n",
       "Name: raised_amount_usd, dtype: int64"
      ]
     },
     "execution_count": 77,
     "metadata": {},
     "output_type": "execute_result"
    }
   ],
   "source": [
    "usa_sector_group_by = USA.groupby(by='main_sector')\n",
    "\n",
    "usa_sector_group_by.raised_amount_usd.count().sort_values(ascending=False)"
   ]
  },
  {
   "cell_type": "markdown",
   "id": "b72e4c62",
   "metadata": {},
   "source": [
    "Top 3 sectors in USA\n",
    "1. **Others : 2071 investments**\n",
    "2. **Cleantech / Semiconductors : 1779 investments**\n",
    "3. **Health : 601 investments**"
   ]
  },
  {
   "cell_type": "code",
   "execution_count": 78,
   "id": "aca8e34c",
   "metadata": {},
   "outputs": [
    {
     "data": {
      "text/plain": [
       "main_sector\n",
       "Others                                     299\n",
       "News, Search and Messaging                 141\n",
       "Social, Finance, Analytics, Advertising    104\n",
       "Entertainment                               72\n",
       "Cleantech / Semiconductors                  52\n",
       "Health                                      43\n",
       "Manufacturing                               43\n",
       "Automotive & Sports                         17\n",
       "Name: raised_amount_usd, dtype: int64"
      ]
     },
     "execution_count": 78,
     "metadata": {},
     "output_type": "execute_result"
    }
   ],
   "source": [
    "ind_sector_group_by = IND.groupby(by='main_sector')\n",
    "\n",
    "ind_sector_group_by.raised_amount_usd.count().sort_values(ascending=False)"
   ]
  },
  {
   "cell_type": "markdown",
   "id": "2cf51105",
   "metadata": {},
   "source": [
    "Top 3 sectors in India\n",
    "1. **Others : 299 investments**\n",
    "2. **News, Search and Messaging : 141 investments**\n",
    "3. **Social, Finance, Analytics, Advertising : 104 investments**"
   ]
  },
  {
   "cell_type": "code",
   "execution_count": 80,
   "id": "552623ca",
   "metadata": {
    "scrolled": true
   },
   "outputs": [
    {
     "data": {
      "text/plain": [
       "main_sector\n",
       "Cleantech / Semiconductors                 108\n",
       "Others                                     106\n",
       "News, Search and Messaging                  31\n",
       "Entertainment                               29\n",
       "Manufacturing                               29\n",
       "Social, Finance, Analytics, Advertising     24\n",
       "Health                                      13\n",
       "Automotive & Sports                          3\n",
       "Name: raised_amount_usd, dtype: int64"
      ]
     },
     "execution_count": 80,
     "metadata": {},
     "output_type": "execute_result"
    }
   ],
   "source": [
    "gbr_sector_group_by = GBR.groupby(by='main_sector')\n",
    "\n",
    "gbr_sector_group_by.raised_amount_usd.count().sort_values(ascending=False)"
   ]
  },
  {
   "cell_type": "markdown",
   "id": "502dbbc2",
   "metadata": {},
   "source": [
    "Top 3 sectors in Britain \n",
    "1. **Cleantech / Semiconductors : 108 investments**\n",
    "2. **Others : 106 investments**\n",
    "3. **News, Search and Messaging : 31 investments**"
   ]
  },
  {
   "cell_type": "markdown",
   "id": "0c980179",
   "metadata": {},
   "source": [
    "#### Top companies for top two sectors for each country\n",
    "\n",
    "For USA top sector is **Others** followed by **Cleantech / Semiconductors**. Lets count the values of names for each top two sectors in USA data."
   ]
  },
  {
   "cell_type": "code",
   "execution_count": 78,
   "id": "914b3149",
   "metadata": {},
   "outputs": [
    {
     "data": {
      "text/plain": [
       "Capella Photonics                    6\n",
       "Virtustream                          6\n",
       "Integrien                            5\n",
       "Delivery Agent                       5\n",
       "Approva                              5\n",
       "                                    ..\n",
       "BravoSolution                        1\n",
       "Integrated Development Enterprise    1\n",
       "Vuze                                 1\n",
       "HelloSoft                            1\n",
       "Pangea3                              1\n",
       "Name: name, Length: 1450, dtype: int64"
      ]
     },
     "execution_count": 78,
     "metadata": {},
     "output_type": "execute_result"
    }
   ],
   "source": [
    "USA[USA.main_sector == 'Others'].name.value_counts()"
   ]
  },
  {
   "cell_type": "code",
   "execution_count": 82,
   "id": "a5b938a7",
   "metadata": {},
   "outputs": [
    {
     "data": {
      "text/plain": [
       "Tigo Energy                 8\n",
       "ForSight Labs               7\n",
       "SCIenergy                   6\n",
       "Cambrios Technologies       6\n",
       "eASIC                       5\n",
       "                           ..\n",
       "EKR Therapeutics            1\n",
       "CoaLogix                    1\n",
       "Vensun Pharmaceuticals      1\n",
       "Rapid Pathogen Screening    1\n",
       "Greenlight Planet           1\n",
       "Name: name, Length: 1225, dtype: int64"
      ]
     },
     "execution_count": 82,
     "metadata": {},
     "output_type": "execute_result"
    }
   ],
   "source": [
    "USA[(USA.main_sector == 'Cleantech / Semiconductors')].name.value_counts()"
   ]
  },
  {
   "cell_type": "markdown",
   "id": "bcc915c8",
   "metadata": {},
   "source": [
    "For India top sector is **Others** followed by **News, Search and Messaging**. Lets count the values of names for each top two sectors in India data."
   ]
  },
  {
   "cell_type": "code",
   "execution_count": 83,
   "id": "389c1ce8",
   "metadata": {
    "scrolled": false
   },
   "outputs": [
    {
     "data": {
      "text/plain": [
       "Myntra                          8\n",
       "Snapdeal                        8\n",
       "Canvera Digital Technologies    5\n",
       "TutorVista.com                  5\n",
       "Pepperfry.com                   4\n",
       "                               ..\n",
       "IndiaMLS                        1\n",
       "Gini & Jony                     1\n",
       "Liases Foras                    1\n",
       "Infogile Technologies           1\n",
       "Frilp                           1\n",
       "Name: name, Length: 215, dtype: int64"
      ]
     },
     "execution_count": 83,
     "metadata": {},
     "output_type": "execute_result"
    }
   ],
   "source": [
    "IND[IND.main_sector == 'Others'].name.value_counts()"
   ]
  },
  {
   "cell_type": "code",
   "execution_count": 86,
   "id": "34ede074",
   "metadata": {
    "scrolled": true
   },
   "outputs": [
    {
     "data": {
      "text/plain": [
       "Quikr                    6\n",
       "One97 Communications     3\n",
       "IndiaHomes               3\n",
       "Thrillophilia.com        3\n",
       "Ezetap                   3\n",
       "                        ..\n",
       "Ramco Systems            1\n",
       "Tower Vision             1\n",
       "Printvenue               1\n",
       "SureWaves                1\n",
       "Teritree Technologies    1\n",
       "Name: name, Length: 100, dtype: int64"
      ]
     },
     "execution_count": 86,
     "metadata": {},
     "output_type": "execute_result"
    }
   ],
   "source": [
    "IND[IND.main_sector == 'News, Search and Messaging'].name.value_counts()"
   ]
  },
  {
   "cell_type": "markdown",
   "id": "392c3811",
   "metadata": {},
   "source": [
    "For Great Britain top sector is **Cleantech / Semiconductors** followed by **Others**. Lets count the values of names for each top two sectors in Great Britain data."
   ]
  },
  {
   "cell_type": "code",
   "execution_count": 89,
   "id": "6943baa5",
   "metadata": {
    "scrolled": true
   },
   "outputs": [
    {
     "data": {
      "text/plain": [
       "EUSA Pharma                 3\n",
       "Aquapharm Biodiscovery      2\n",
       "CamSemi                     2\n",
       "Nanotech Semiconductor      2\n",
       "Immune Targeting Systems    2\n",
       "                           ..\n",
       "Cell Medica                 1\n",
       "Marine Current Turbines     1\n",
       "Watson Brown                1\n",
       "Eight19                     1\n",
       "Novacta Biosystems          1\n",
       "Name: name, Length: 92, dtype: int64"
      ]
     },
     "execution_count": 89,
     "metadata": {},
     "output_type": "execute_result"
    }
   ],
   "source": [
    "GBR[GBR.main_sector == 'Cleantech / Semiconductors'].name.value_counts()"
   ]
  },
  {
   "cell_type": "markdown",
   "id": "490c6249",
   "metadata": {},
   "source": [
    "The company name ESUA Pharma seems to be not fitting in the Cleantech / Semiconductors sector. Lets cross verify from mapping data the category and sector it belongs to."
   ]
  },
  {
   "cell_type": "code",
   "execution_count": 94,
   "id": "80896848",
   "metadata": {
    "scrolled": true
   },
   "outputs": [
    {
     "data": {
      "text/html": [
       "<div>\n",
       "<style scoped>\n",
       "    .dataframe tbody tr th:only-of-type {\n",
       "        vertical-align: middle;\n",
       "    }\n",
       "\n",
       "    .dataframe tbody tr th {\n",
       "        vertical-align: top;\n",
       "    }\n",
       "\n",
       "    .dataframe thead th {\n",
       "        text-align: right;\n",
       "    }\n",
       "</style>\n",
       "<table border=\"1\" class=\"dataframe\">\n",
       "  <thead>\n",
       "    <tr style=\"text-align: right;\">\n",
       "      <th></th>\n",
       "      <th>permalink</th>\n",
       "      <th>name</th>\n",
       "      <th>category_list</th>\n",
       "      <th>status</th>\n",
       "      <th>country_code</th>\n",
       "      <th>funding_round_permalink</th>\n",
       "      <th>funding_round_type</th>\n",
       "      <th>funded_at</th>\n",
       "      <th>raised_amount_usd</th>\n",
       "      <th>primary_sector</th>\n",
       "      <th>main_sector</th>\n",
       "    </tr>\n",
       "  </thead>\n",
       "  <tbody>\n",
       "    <tr>\n",
       "      <th>3290</th>\n",
       "      <td>/organization/eusa-pharma</td>\n",
       "      <td>EUSA Pharma</td>\n",
       "      <td>Biotechnology</td>\n",
       "      <td>acquired</td>\n",
       "      <td>GBR</td>\n",
       "      <td>/funding-round/09af5eff34608eac27040925565f57e6</td>\n",
       "      <td>venture</td>\n",
       "      <td>19-07-2005</td>\n",
       "      <td>13970000.0</td>\n",
       "      <td>Biotechnology</td>\n",
       "      <td>Cleantech / Semiconductors</td>\n",
       "    </tr>\n",
       "    <tr>\n",
       "      <th>3291</th>\n",
       "      <td>/organization/eusa-pharma</td>\n",
       "      <td>EUSA Pharma</td>\n",
       "      <td>Biotechnology</td>\n",
       "      <td>acquired</td>\n",
       "      <td>GBR</td>\n",
       "      <td>/funding-round/1a680e99bceab2d32fc6dc4c9406010a</td>\n",
       "      <td>venture</td>\n",
       "      <td>28-06-2007</td>\n",
       "      <td>9100000.0</td>\n",
       "      <td>Biotechnology</td>\n",
       "      <td>Cleantech / Semiconductors</td>\n",
       "    </tr>\n",
       "    <tr>\n",
       "      <th>3293</th>\n",
       "      <td>/organization/eusa-pharma</td>\n",
       "      <td>EUSA Pharma</td>\n",
       "      <td>Biotechnology</td>\n",
       "      <td>acquired</td>\n",
       "      <td>GBR</td>\n",
       "      <td>/funding-round/f2a769a1468c2d4a8585e8abf31ef2ed</td>\n",
       "      <td>venture</td>\n",
       "      <td>13-12-2005</td>\n",
       "      <td>12530000.0</td>\n",
       "      <td>Biotechnology</td>\n",
       "      <td>Cleantech / Semiconductors</td>\n",
       "    </tr>\n",
       "  </tbody>\n",
       "</table>\n",
       "</div>"
      ],
      "text/plain": [
       "                      permalink         name  category_list    status  \\\n",
       "3290  /organization/eusa-pharma  EUSA Pharma  Biotechnology  acquired   \n",
       "3291  /organization/eusa-pharma  EUSA Pharma  Biotechnology  acquired   \n",
       "3293  /organization/eusa-pharma  EUSA Pharma  Biotechnology  acquired   \n",
       "\n",
       "     country_code                          funding_round_permalink  \\\n",
       "3290          GBR  /funding-round/09af5eff34608eac27040925565f57e6   \n",
       "3291          GBR  /funding-round/1a680e99bceab2d32fc6dc4c9406010a   \n",
       "3293          GBR  /funding-round/f2a769a1468c2d4a8585e8abf31ef2ed   \n",
       "\n",
       "     funding_round_type   funded_at  raised_amount_usd primary_sector  \\\n",
       "3290            venture  19-07-2005         13970000.0  Biotechnology   \n",
       "3291            venture  28-06-2007          9100000.0  Biotechnology   \n",
       "3293            venture  13-12-2005         12530000.0  Biotechnology   \n",
       "\n",
       "                     main_sector  \n",
       "3290  Cleantech / Semiconductors  \n",
       "3291  Cleantech / Semiconductors  \n",
       "3293  Cleantech / Semiconductors  "
      ]
     },
     "execution_count": 94,
     "metadata": {},
     "output_type": "execute_result"
    }
   ],
   "source": [
    "GBR[GBR.name == 'EUSA Pharma']"
   ]
  },
  {
   "cell_type": "code",
   "execution_count": 95,
   "id": "b86ae359",
   "metadata": {},
   "outputs": [
    {
     "data": {
      "text/html": [
       "<div>\n",
       "<style scoped>\n",
       "    .dataframe tbody tr th:only-of-type {\n",
       "        vertical-align: middle;\n",
       "    }\n",
       "\n",
       "    .dataframe tbody tr th {\n",
       "        vertical-align: top;\n",
       "    }\n",
       "\n",
       "    .dataframe thead th {\n",
       "        text-align: right;\n",
       "    }\n",
       "</style>\n",
       "<table border=\"1\" class=\"dataframe\">\n",
       "  <thead>\n",
       "    <tr style=\"text-align: right;\">\n",
       "      <th></th>\n",
       "      <th>category_list</th>\n",
       "      <th>Automotive &amp; Sports</th>\n",
       "      <th>Blanks</th>\n",
       "      <th>Cleantech / Semiconductors</th>\n",
       "      <th>Entertainment</th>\n",
       "      <th>Health</th>\n",
       "      <th>Manufacturing</th>\n",
       "      <th>News, Search and Messaging</th>\n",
       "      <th>Others</th>\n",
       "      <th>Social, Finance, Analytics, Advertising</th>\n",
       "      <th>main_sector</th>\n",
       "    </tr>\n",
       "  </thead>\n",
       "  <tbody>\n",
       "    <tr>\n",
       "      <th>65</th>\n",
       "      <td>Biotechnology</td>\n",
       "      <td>0</td>\n",
       "      <td>0</td>\n",
       "      <td>1</td>\n",
       "      <td>0</td>\n",
       "      <td>0</td>\n",
       "      <td>0</td>\n",
       "      <td>0</td>\n",
       "      <td>0</td>\n",
       "      <td>0</td>\n",
       "      <td>Cleantech / Semiconductors</td>\n",
       "    </tr>\n",
       "  </tbody>\n",
       "</table>\n",
       "</div>"
      ],
      "text/plain": [
       "    category_list  Automotive & Sports  Blanks  Cleantech / Semiconductors  \\\n",
       "65  Biotechnology                    0       0                           1   \n",
       "\n",
       "    Entertainment  Health  Manufacturing  News, Search and Messaging  Others  \\\n",
       "65              0       0              0                           0       0   \n",
       "\n",
       "    Social, Finance, Analytics, Advertising                 main_sector  \n",
       "65                                        0  Cleantech / Semiconductors  "
      ]
     },
     "execution_count": 95,
     "metadata": {},
     "output_type": "execute_result"
    }
   ],
   "source": [
    "mapping[mapping.category_list == 'Biotechnology']"
   ]
  },
  {
   "cell_type": "markdown",
   "id": "6ba1b904",
   "metadata": {},
   "source": [
    "The category Biotechnology is indeed falls under Cleantech and Semiconductors sector, so we are good here. \\\n",
    "Lets move to the next category for Great Britain."
   ]
  },
  {
   "cell_type": "code",
   "execution_count": 90,
   "id": "b2252daf",
   "metadata": {
    "scrolled": true
   },
   "outputs": [
    {
     "data": {
      "text/plain": [
       "SenSage                        4\n",
       "Electric Cloud                 4\n",
       "Enigmatec                      3\n",
       "OpenCloud                      3\n",
       "Eglue Business Technologies    2\n",
       "                              ..\n",
       "picoChip                       1\n",
       "Xplornet                       1\n",
       "Almondy                        1\n",
       "Rhetorical Systems             1\n",
       "Kelway                         1\n",
       "Name: name, Length: 85, dtype: int64"
      ]
     },
     "execution_count": 90,
     "metadata": {},
     "output_type": "execute_result"
    }
   ],
   "source": [
    "GBR[GBR.main_sector == 'Others'].name.value_counts()"
   ]
  },
  {
   "cell_type": "markdown",
   "id": "9a38dc28",
   "metadata": {},
   "source": [
    "## End of Checkpoint 5: Sector Analysis 2"
   ]
  },
  {
   "cell_type": "markdown",
   "id": "16b8cb09",
   "metadata": {},
   "source": [
    "---------------------------------------------------------------------------------------------------------------"
   ]
  },
  {
   "cell_type": "markdown",
   "id": "5232eef1",
   "metadata": {},
   "source": [
    "## Checkpoint 6: Plots"
   ]
  },
  {
   "cell_type": "markdown",
   "id": "b9b408a5",
   "metadata": {},
   "source": [
    "### Plot showing the representative amount of investment in each funding type"
   ]
  },
  {
   "cell_type": "code",
   "execution_count": 145,
   "id": "606f2f0b",
   "metadata": {},
   "outputs": [
    {
     "data": {
      "image/png": "[encoded data removed]",
      "text/plain": [
       "<Figure size 432x288 with 1 Axes>"
      ]
     },
     "metadata": {},
     "output_type": "display_data"
    }
   ],
   "source": [
    "sns.set_style(\"whitegrid\")\n",
    "sns.boxplot(y=master_frame['raised_amount_usd'], x=master_frame['funding_round_type'])\n",
    "plt.yscale('log')\n",
    "plt.show()"
   ]
  },
  {
   "cell_type": "markdown",
   "id": "b71eaf18",
   "metadata": {},
   "source": [
    "### Plot showing the top 9 countries against the total amount of investments of funding type venture"
   ]
  },
  {
   "cell_type": "code",
   "execution_count": 146,
   "id": "6f7d4013",
   "metadata": {},
   "outputs": [],
   "source": [
    "top9['preferrred_country'] = top9.country_code.isin(['USA', 'GBR', 'IND'])"
   ]
  },
  {
   "cell_type": "code",
   "execution_count": 150,
   "id": "1328e2e3",
   "metadata": {
    "scrolled": true
   },
   "outputs": [
    {
     "data": {
      "image/png": "[encoded data removed]",
      "text/plain": [
       "<Figure size 432x288 with 1 Axes>"
      ]
     },
     "metadata": {},
     "output_type": "display_data"
    }
   ],
   "source": [
    "sns.barplot(data=top9, x=top9.country_code, y=top9.raised_amount_usd, estimator=np.sum, hue='preferrred_country')\n",
    "plt.ylim(10000000, 1000000000000)\n",
    "plt.yscale('log')\n",
    "plt.show()"
   ]
  },
  {
   "cell_type": "code",
   "execution_count": 142,
   "id": "456dc4e5",
   "metadata": {},
   "outputs": [
    {
     "data": {
      "text/plain": [
       "country_code\n",
       "USA    4.200680e+11\n",
       "CHN    3.933892e+10\n",
       "GBR    2.007281e+10\n",
       "IND    1.426151e+10\n",
       "CAN    9.482218e+09\n",
       "FRA    7.226851e+09\n",
       "ISR    6.854350e+09\n",
       "DEU    6.306922e+09\n",
       "JPN    3.167647e+09\n",
       "Name: raised_amount_usd, dtype: float64"
      ]
     },
     "execution_count": 142,
     "metadata": {},
     "output_type": "execute_result"
    }
   ],
   "source": [
    "top9.groupby('country_code').raised_amount_usd.sum().sort_values(ascending=False)"
   ]
  },
  {
   "cell_type": "markdown",
   "id": "4fa6af3f",
   "metadata": {},
   "source": [
    " "
   ]
  }
 ],
 "metadata": {
  "kernelspec": {
   "display_name": "Python 3",
   "language": "python",
   "name": "python3"
  },
  "language_info": {
   "codemirror_mode": {
    "name": "ipython",
    "version": 3
   },
   "file_extension": ".py",
   "mimetype": "text/x-python",
   "name": "python",
   "nbconvert_exporter": "python",
   "pygments_lexer": "ipython3",
   "version": "3.8.5"
  }
 },
 "nbformat": 4,
 "nbformat_minor": 5
}
